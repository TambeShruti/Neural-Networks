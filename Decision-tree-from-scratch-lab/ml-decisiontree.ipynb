{
 "cells": [
  {
   "cell_type": "markdown",
   "metadata": {},
   "source": [
    "<div style=\"text-align: right\">INFO 6106 Neural Modeling, Lecture 1</div>\n",
    "<div style=\"text-align: right\">Dino Konstantopoulos, 13 September 2023, with material by Andy Giese</div>"
   ]
  },
  {
   "cell_type": "markdown",
   "metadata": {},
   "source": [
    "*Explain how to show images in notebook.*\n",
    "\n",
    "# Textbook\n",
    "\n",
    "<br />\n",
    "<center>\n",
    "<img src = ipynb.images/iddo-drori.webp width = 200 />\n",
    "</center>\n",
    "\n",
    "[Iddo Drori, The Science of Deep Learning](https://www.amazon.com/s?k=iddo+drori&i=stripbooks&crid=3P1EO487R0NYO&sprefix=iddo+drori%2Cstripbooks%2C132&ref=nb_sb_ss_fb_1_10).\n",
    "\n",
    "# Office hours (by appointment)\n",
    "- Monday 5:30 - 6P at Tatte's\n",
    "- Tuesday 3-3:30P at MGEN 505\n",
    "\n",
    "# Decision trees and regression trees\n",
    "\n",
    "To understand computational statistics, we needed to understand the **Metropolis algorithm**.\n",
    "\n",
    "To understand ML, we need to understand 4 different algorithms: **decision trees**, **support vector machines**, **naive Bayes**, and **neural networks**.\n",
    "\n",
    "We start with decision trees because decision trees have the best **explicability factor**: Build a decision tree ML algorithm, and no Elon Musk will ever say that machine is diabolical and is planning to take over my Tesla factories!\n",
    "\n",
    "Today, we focus on the decision tree algorithm. It is the first ML algorithm ever invented. To understand it, the challenge for me is to teach you a new concept without you having to read [Claude Shannon](https://en.wikipedia.org/wiki/Claude_Shannon)'s book [A Mathematical Theory of Communication](https://people.math.harvard.edu/~ctm/home/text/others/shannon/entropy/entropy.pdf).\n",
    "\n",
    "## 1. The `e` function\n",
    "\n",
    "If you remember your data science class, it all started with the famous `p` function. We started by counting probabilities as a fraction of number of favorable events over number of total events. I spent a lot of time with you convicing you that you need to write down all possibilities by spelling them out with python strings, even when the story appears counterintuitive. Then, we used dictionaries to tally up non-equiprobable events. Then, we moved from dictionaries to functions and your life changed: You know how to write linear functions as matrix transformations and you know how to use Bayes theorem as en estimator to evaluate posteriors from priors using simulation algorithms like Metropolis and useful libraries like `pymc3`. You are a *computational data scientist*!\n",
    "\n",
    "But now, you also want to be a *ML engineer* too, so we need to introduce another little function called `e`.\n",
    "\n",
    "Let me start with this question: What do you think would be more ***entertaining***: Watching professor leap from this cliff that only two people have ever leaped from *and one has died*:\n",
    "\n",
    "<br />\n",
    "<center>\n",
    "<img src = ipynb.images/cliff-diving.webp width = 1000 />\n",
    "</center>\n",
    "\n",
    "...or watching professor cross Forsyth street on his way to Behrakis?\n",
    "\n",
    "I think we can all agree that the crossing of the street is a bit boring, and professor cliff diving maybe too exciting. This is partially because we pretty much know what will happen when I cross the street, but we don’t really know if professor is going to survive the cliff dive...\n",
    "\n",
    ">**Note**: I know half of you are asking themselves do we need to do the homework if he does not?\n",
    "\n",
    "<br />\n",
    "<center>\n",
    "<img src = ipynb.images/talk-die.gif width = 600 />\n",
    "</center>\n",
    "\n",
    " [Claude Shannon](https://en.wikipedia.org/wiki/Claude_Shannon) had the insight that the more *predictable* some information is, the less space is required to store it. Crossing the street is more predictable than cliff diving, therefore you would need to store more information about cliff diving.\n",
    "\n",
    "And we know that the metric for information storage is **bits**.\n",
    "\n",
    "Let's write one possible implementation of our `e` function as a function of those odds, expressed as a **distribution**:"
   ]
  },
  {
   "cell_type": "code",
   "execution_count": 12,
   "metadata": {},
   "outputs": [],
   "source": [
    "import numpy as np\n",
    "def e(dist):\n",
    "    su=0\n",
    "    for p in dist:\n",
    "        r= p/sum(dist)\n",
    "        if r==0:\n",
    "            su+=0\n",
    "        else:\n",
    "            su+= -r*(np.log(r))\n",
    "    return su/np.log(2)"
   ]
  },
  {
   "cell_type": "markdown",
   "metadata": {},
   "source": [
    "If we were to quantify the crossing the street example as having a 1 in a billion chance of death, and cliff diving as 1 in 2, we’d get $\\text{e}([1, 999,999,999]) ≈ 3.1*10^{-8}$ bits , and $\\text{e}([50,50])=1$ bit, respectively. "
   ]
  },
  {
   "cell_type": "code",
   "execution_count": 13,
   "metadata": {},
   "outputs": [
    {
     "data": {
      "text/plain": [
       "3.1340047853351674e-08"
      ]
     },
     "execution_count": 13,
     "metadata": {},
     "output_type": "execute_result"
    }
   ],
   "source": [
    "# professor crossing Forsyth street (boring)\n",
    "e([1, 999999999])"
   ]
  },
  {
   "cell_type": "code",
   "execution_count": 14,
   "metadata": {},
   "outputs": [
    {
     "data": {
      "text/plain": [
       "1.0"
      ]
     },
     "execution_count": 14,
     "metadata": {},
     "output_type": "execute_result"
    }
   ],
   "source": [
    "e([50, 50])"
   ]
  },
  {
   "cell_type": "markdown",
   "metadata": {},
   "source": [
    "Wow, we can think of our `e` function as `e` for `e`ntertainment! Just like `p`, it goes from 0 to 1.\n",
    "\n",
    "### Language entertainment\n",
    "The English language has 26 letters, if you assume each letter has a probability of 1/26 of being next, the language has an `e` of:"
   ]
  },
  {
   "cell_type": "code",
   "execution_count": 15,
   "metadata": {},
   "outputs": [
    {
     "data": {
      "text/plain": [
       "4.643856189774722"
      ]
     },
     "execution_count": 15,
     "metadata": {},
     "output_type": "execute_result"
    }
   ],
   "source": [
    "e([1, 1, 1, 1, 1, 1, 1, 1, 1, 1, 1, 1, 1, 1, 1, 1, 1, 1, 1, 1, 1, 1, 1, 1, 1])"
   ]
  },
  {
   "cell_type": "markdown",
   "metadata": {},
   "source": [
    "...bits.\n",
    "\n",
    "However, some letters are more *common* than other letters, and some letters appear often *together*, so through clever ‘guessing’ (i.e. not assigning probabilities of 1/26), we can be much more efficient.\n",
    "\n",
    "Random guessing on average takes us 13.5 guesses to get the correct letter. Let us say we are given the first letter of every word in this sentence:\n",
    "```\n",
    "D _ _ _  s _ _ _ _ _ _ _  t _ _  c _ _ _ _  d _ _ _ \n",
    "```\n",
    "\n",
    "It would be very bad if it took us $13.5 * 19 = 256$ guesses to fill in the 19 blanks. \n",
    "\n",
    "It would likely take us less than an average of two guesses per blank to figure out the sentence is:"
   ]
  },
  {
   "cell_type": "markdown",
   "metadata": {},
   "source": [
    "<div hidden>\n",
    "Dino survived the cliff dive"
   ]
  },
  {
   "cell_type": "markdown",
   "metadata": {},
   "source": [
    "So even if we exhaustively guessed the first letter and it took us 13.5 guesses, it would take us less and less guesses/letter to fill in all the blanks.\n",
    "\n",
    "Experiments by Shannon showed that English has an `e` between 0.6 and 1.3 bits. To put that into perspective, a 3 sided die has an `e` of 1.58 bits, and takes on average 2 guesses to predict. Also, note that the encoding system on your keyboard uses 8 bits per letter. So it could theoretically make all files in only the English language at least 6 times smaller!"
   ]
  },
  {
   "cell_type": "markdown",
   "metadata": {},
   "source": [
    "### `e` is for entropy!\n",
    "Drumroll.. `e` stands for `e`ntertainment, but also for **entropy**.\n",
    "\n",
    "You can think of **entropy** of a system as the amount of *surprise* in a system (or, the opposite, how *boring* it may be).\n",
    "\n",
    "The lower the probability of some event occurring, the higher the surprise.\n",
    "\n",
    "For example, [ChatGPT](https://en.wikipedia.org/wiki/ChatGPT) has high entropy because it produce some very surprising answers, ones that one would think were highly inprobable."
   ]
  },
  {
   "cell_type": "markdown",
   "metadata": {},
   "source": [
    "### Relation to binary search\n",
    "I we were to analyze the performance of the binary search algorithm for any possible outcome, one way of doing that is to find out *what's the expected number of questions to be asked for any value of* $x$, in order to locate $x$. \n",
    "\n",
    "The expected number of questions is the same as the entropy of an ensemble. Entropy, in fact, quantifies the expected (or average) number of questions one need to ask in order to guess an outcome, which is the computational complexity of the binary search algorithm.\n",
    "\n",
    "And... predicting an outcome with a **decision tree** is very similar to a binary search!\n",
    "\n",
    "So, you can think of a **decision tree** as all possible paths along its branches, leading to a leaf that reveals the answer.\n",
    "\n",
    "Suppose that I rolled a 6-faced fair dice and you were to predict its outcome. The space of possibilities is 6, right?\n",
    "\n",
    "You could ask me questions like this binary one \"*is the outcome 1?*\" (answer is either `yes` or `no`, i.e. n=2) and my answer could be \"no!\". Then the space of possibilities reduces by just 1. So this question is not a very clever question to ask, if, let's say you only have a limited number of questions to ask.\n",
    "\n",
    "Alternatively, you could ask a better question, such as this one: \"*is it greater than 3.5?*\", and my answer would be \"yes!\". Then ***boom***, the space of possibilities is reduced down by *half*! I.e. there are just 6/2=3 candidates left (out of the originally 6).\n",
    "\n",
    "Now suppose that you keep recursively asking more of these *good* questions (ones with the highest entropy gain) until you reach the case when the space of possibilities has only 1 possibility, by which -by definition- there is no ambiguity left (you know the answer).\n",
    "\n",
    "That is what a **decision tree** is all about, and it is built with **entropy** in mind because entropy is the best metric to measure how good a branching question may be."
   ]
  },
  {
   "cell_type": "markdown",
   "metadata": {},
   "source": [
    "### Information Entropy\n",
    "A decision tree is built most often top-down from a root node and involves partitioning the data into subsets that contain instances with similar values (homogeneous). \n",
    "\n",
    "The `ID3` algorithm (one of the decision tree algorithms) uses **entropy** to calculate the [homogeneity](https://en.wikipedia.org/wiki/Homogeneity_and_heterogeneity) of a sample. If the sample is completely homogeneous the entropy is zero and if the sample is an equally divided one, it has entropy of one.  \n",
    "\n",
    "**Information** is analogous to *signal*, and **entropy** is analogous to *noise*. In a sense, information is *boring* because it reduces the unknown, whereas noise is exciting because there many possibiities. Entropy can be roughly thought of as *how much variance the data has*. Lots of noise, lots of variance.\n",
    "\n",
    "[Information Entropy](https://en.wikipedia.org/wiki/Entropy_(information_theory)) of a random variable is the average level of  \"*surprise*\", or \"*uncertainty*\" inherent to the variable's possible outcomes. Information Entropy can be thought of as how **unpredictable** a dataset is. You can also think of it as a measure of **disorder in a dataset**\n",
    "\n",
    "The leftmost figure below is very impure and has high entropy corresponding to higher disorder and lower information value. As we go to the right, the entropy decreases, and the information value increases.\n",
    "\n",
    "<br />\n",
    "<center>\n",
    "<img src = ipynb.images/entropy-diagram.png width = 500 />\n",
    "</center>"
   ]
  },
  {
   "cell_type": "markdown",
   "metadata": {},
   "source": [
    "The concept of information entropy was introduced by Claude Shannon in his 1948 paper [A Mathematical Theory of Communication](https://people.math.harvard.edu/~ctm/home/text/others/shannon/entropy/entropy.pdf) and is also referred to as *Shannon entropy*.\n",
    "\n",
    "For a 2-class (binary) classification task:\n",
    "\n",
    "$\\text{entropy}(S) = - p_1 log_2 (p_1) - p_2 log_2 (p_2)$\n",
    "\n",
    "where $p_i$ is proportion (relative frequency) of class $i$ within the set $S$.\n",
    "\n",
    "You can think of the difference as the average of $log(p)$ for the 2-valued distribution. \n",
    "\n",
    "To tell which of the two events occurred, we need to use $log(p)$ **bits** (each bit doubles the number of events we can tell apart). \n",
    "\n",
    "This is easily generalizes to $n$ events:\n",
    "\n",
    "$$\\text{entropy}(S) = \\sum_i p_i log_2(p_i)$$\n",
    "\n",
    "Shannon's [source coding theorem](https://en.wikipedia.org/wiki/Shannon's_source_coding_theorem) says that a string with uncorrelated letters with probabilities ${p_i}$ of length $n$ cannot be compressed (on average) to binary string shorter than $nH$ where $H$ is the entropy of the string. And in fact, we can use [Huffman coding](https://en.wikipedia.org/wiki/Huffman_coding) to compress the string and get very close to $nH$.\n",
    "\n",
    "Ok, so why $p\\;log(p)$? You can think of the leading $p$ as a proportion (how much of `A`, how much of `B`). So really, $p\\;log(p)$ represents the $log$ of an ensemble. Think of it as the *average* information or surprise over all possible outcomes.\n",
    "\n",
    "The reason for the $log$ function is because entropy is a type of **information**, and the easiest way to measure information is in **bits** and **bytes**, rather than by the total number of possible states they can represent.\n",
    "\n",
    "The basic unit of information is the **bit**, which represents 2 possible **states**. If you have $n$ bits, then that information represents $2^n$ possible states. For example, a byte is 8 bits, therefore the number of states it represents is $2^8=256$. That means that a byte can store any number between 0 and 255. If you are given the total number of states, then you just take the log of that number to get the amount of information, measured in bits: "
   ]
  },
  {
   "cell_type": "code",
   "execution_count": 16,
   "metadata": {},
   "outputs": [
    {
     "data": {
      "text/plain": [
       "8.0"
      ]
     },
     "execution_count": 16,
     "metadata": {},
     "output_type": "execute_result"
    }
   ],
   "source": [
    "import math\n",
    "math.log(256) / math.log(2)"
   ]
  },
  {
   "cell_type": "code",
   "execution_count": 17,
   "metadata": {},
   "outputs": [
    {
     "data": {
      "text/plain": [
       "8.0"
      ]
     },
     "execution_count": 17,
     "metadata": {},
     "output_type": "execute_result"
    }
   ],
   "source": [
    "math.log2(256)"
   ]
  },
  {
   "cell_type": "markdown",
   "metadata": {},
   "source": [
    "Here's another example: Toss a coin 4 times. How many possible outcomes are there? 16, right? From HHHH through HHHT, HHTT, HTHT, etc, all the way to TTTT. But you only need 4 bits of information to describe each outcome. For example, HTHH could be represented by the binary number 0100. \n",
    "\n",
    "I described entropy as *surprise*, but surprise is closely associated with uncertainty over outcomes, just like probabilities. But entropy is uncertainty linked to **information content**, whereas probabilities are uncertainties associated with **predictions of the outcome**.\n",
    "\n",
    "Then, you might ask: Why is information measured with **logarithms** instead of just by the total number of **states** (outcomes)? We know from data science that the total number of states is simply the size of our (square) transfer matrix.\n",
    "\n",
    "Mostly because it makes information entropy *additive*. It's true that if you really wanted to, you could choose to measure entropy by the total number of states (usually called the **multiplicity**) instead of by the log of the multiplicity. But then it would be *multiplicative* instead of *additive*. \n",
    "\n",
    "With logarithms, if you have 10 bits and then you obtain another 10 bits of information, then you have 20 bits. \n",
    "\n",
    "Saying the same thing in terms of multiplicity: if you have $2^{10} = 1024$ states and then you add another $1024$ independent states then you have:"
   ]
  },
  {
   "cell_type": "code",
   "execution_count": 18,
   "metadata": {},
   "outputs": [
    {
     "data": {
      "text/plain": [
       "1048576"
      ]
     },
     "execution_count": 18,
     "metadata": {},
     "output_type": "execute_result"
    }
   ],
   "source": [
    "1024*1024l"
   ]
  },
  {
   "cell_type": "code",
   "execution_count": 19,
   "metadata": {},
   "outputs": [
    {
     "data": {
      "text/plain": [
       "1048576"
      ]
     },
     "execution_count": 19,
     "metadata": {},
     "output_type": "execute_result"
    }
   ],
   "source": [
    "2**20"
   ]
  },
  {
   "cell_type": "markdown",
   "metadata": {},
   "source": [
    "... states when they are combined. **Multiplicity** is *multiplicative* instead of *additive*, which means that the numbers you need in order to keep track of it get very large very quickly! This is really inconvenient, hence why we usually stick with using information/entropy as the unit instead of multiplicity.\n",
    "\n",
    ">**Note** In computer science, information is usually measured in units defined by the log base 2 of the number of states, whereas in physics entropy is usually measured in units defined by the natural log (log base e). This is purely a difference of convention. Physicists like to use natural logs because they're used to using them for many other things and they have nice mathematical properties. But there's a good case to be made that bits (log base 2) is the more natural unit to measure entropy in. In some areas of physics, such as quantum computing and quantum information, this new convention has already started being adopted.)"
   ]
  },
  {
   "cell_type": "markdown",
   "metadata": {},
   "source": [
    "Now that we know that we compute entropy by multiplying the proportion of instances of each class label by the $log$ of that proportion, and then take the negative sum of those terms. We can see how entropy decreases to zero for our figure above:"
   ]
  },
  {
   "cell_type": "code",
   "execution_count": 20,
   "metadata": {},
   "outputs": [
    {
     "data": {
      "text/plain": [
       "0.6108643020548935"
      ]
     },
     "execution_count": 20,
     "metadata": {},
     "output_type": "execute_result"
    }
   ],
   "source": [
    "import math\n",
    "- .7 * math.log(0.7) - .3 * math.log(.3)"
   ]
  },
  {
   "cell_type": "code",
   "execution_count": 21,
   "metadata": {},
   "outputs": [
    {
     "data": {
      "text/plain": [
       "0.0"
      ]
     },
     "execution_count": 21,
     "metadata": {},
     "output_type": "execute_result"
    }
   ],
   "source": [
    "1 * math.log(1)"
   ]
  },
  {
   "cell_type": "code",
   "execution_count": null,
   "metadata": {},
   "outputs": [],
   "source": []
  },
  {
   "cell_type": "markdown",
   "metadata": {},
   "source": [
    "#### Example\n",
    "\n",
    "Consider a dataset with 1 blue ball, 2 green balls, and 3 red balls. Compute the entropy of that dataset in the cell below:\n",
    "\n",
    "$$E = -p_b log(p_b) -p_g log(p_g) -p_r log(p_r)$$\n",
    "\n",
    "Here, I do it with our `e` function:"
   ]
  },
  {
   "cell_type": "code",
   "execution_count": 22,
   "metadata": {},
   "outputs": [
    {
     "data": {
      "text/plain": [
       "1.459147917027245"
      ]
     },
     "execution_count": 22,
     "metadata": {},
     "output_type": "execute_result"
    }
   ],
   "source": [
    "entropy = e\n",
    "entropy([1,2,3])"
   ]
  },
  {
   "cell_type": "markdown",
   "metadata": {},
   "source": [
    "Now, *you* do it with `math.log`:"
   ]
  },
  {
   "cell_type": "code",
   "execution_count": null,
   "metadata": {},
   "outputs": [],
   "source": []
  },
  {
   "cell_type": "markdown",
   "metadata": {},
   "source": [
    "<div hidden>\n",
    "import math\n",
    "e123 = \\\n",
    "    - (1 / 6) * math.log(1 / 6, 2) \\\n",
    "    - (2 / 6) * math.log(2 / 6, 2) \\\n",
    "    - (3 / 6) * math.log(3 / 6, 2)\n",
    "e123"
   ]
  },
  {
   "cell_type": "markdown",
   "metadata": {},
   "source": [
    "Now compute the entropy of a dataset with 10 blue balls:"
   ]
  },
  {
   "cell_type": "code",
   "execution_count": 23,
   "metadata": {},
   "outputs": [
    {
     "data": {
      "text/plain": [
       "Ellipsis"
      ]
     },
     "execution_count": 23,
     "metadata": {},
     "output_type": "execute_result"
    }
   ],
   "source": [
    "e10 = ...\n",
    "e10"
   ]
  },
  {
   "cell_type": "markdown",
   "metadata": {},
   "source": [
    "<div hidden>\n",
    "e10 = - (10 / 10) * math.log(10 / 10, 2)\n",
    "e10"
   ]
  },
  {
   "cell_type": "markdown",
   "metadata": {},
   "source": [
    "Now compute the entropy of a dataset with 10 balls of *different* color:"
   ]
  },
  {
   "cell_type": "code",
   "execution_count": 24,
   "metadata": {},
   "outputs": [
    {
     "ename": "SyntaxError",
     "evalue": "cannot assign to function call (1371633540.py, line 1)",
     "output_type": "error",
     "traceback": [
      "\u001b[0;36m  Cell \u001b[0;32mIn[24], line 1\u001b[0;36m\u001b[0m\n\u001b[0;31m    entropy(...) =\u001b[0m\n\u001b[0m    ^\u001b[0m\n\u001b[0;31mSyntaxError\u001b[0m\u001b[0;31m:\u001b[0m cannot assign to function call\n"
     ]
    }
   ],
   "source": [
    "entropy(...) = "
   ]
  },
  {
   "cell_type": "markdown",
   "metadata": {},
   "source": [
    "<div hidden>\n",
    "entropy([1,1,1,1,1,1,1,1,1,1])"
   ]
  },
  {
   "cell_type": "markdown",
   "metadata": {},
   "source": [
    "Now, order the datasets in terms of information entropy!"
   ]
  },
  {
   "cell_type": "markdown",
   "metadata": {},
   "source": [
    "## 2. Decisions in decision trees\n",
    "A decision tree is a **flowchart** to help you make decisions. \n",
    "\n",
    "Here's one from the 2016 presidential election in the US:\n",
    "\n",
    "<br />\n",
    "<center>\n",
    "<img src = images/election.png width = 1000 />\n",
    "</center>\n",
    "\n",
    "A decision tree structure consists of a **root node**, **test nodes**, and **decision nodes** (leaves with the checkmark above). \n",
    "\n",
    "The root node is the main node in a decision tree.\n",
    "\n",
    "After the root node, each test node splits the data into further parts according to some set criteria.\n",
    "\n",
    "The final nodes are the leaf nodes. In the decision tree diagram, the nodes along with the probability value indicating the probability of the target attribute are the leaf nodes. \n",
    "\n",
    "A decision tree is constructed by a **decision tree inducer** (also called as classifier). There are various [decision tree inducers](https://saiconference.com/Downloads/SpecialIssueNo10/Paper_3-A_comparative_study_of_decision_tree_ID3_and_C4.5.pdf) such as ID3, C4.5, CART, CHAID, QUEST, CRUISE, etc. A decision tree inducer is an algorithm that automatically constructs a decision tree from a given (training) dataset. \n",
    "\n",
    "The goal of a decision tree inducer is to construct an optimal decision tree based on a specified target function. An example of a target function can be a minimization of the number of nodes of the decision tree. Another example can be minimizing the generalization error (or get more accurate results).\n",
    "\n",
    "A decision tree inducer follows a certain **method**. There are two prevalent methods used by the decision tree inducers in general. These include the widely used top-down method and the less popular, bottom-up method.\n",
    "\n",
    "Under the top-down method, an inducer creates the decision tree in a top-down, recursive manner. \n",
    "\n",
    "In each iteration, the inducer algorithm *partitions* the training dataset using the outcome of a discrete function of the input attribute. After the selection of an appropriate split, each node further subdivides the training set into smaller subsets, until no further splitting is possible or when a stopping criterion is fulfilled. After the complete creation of the tree, it is pruned using certain pruning rules to reduce classiﬁcation errors.\n",
    "\n",
    "Here's a simple example: \n",
    "\n",
    "<br />\n",
    "<center>\n",
    "<img src = ipynb.images/dectree.png width = 400 />\n",
    "</center>\n",
    "\n",
    "**Splitting** is the process of partitioning the data set into subsets. Splits are formed on a particular variable. For example, gender, or another Class variable.\n",
    "\n",
    "<br />\n",
    "<center>\n",
    "<img src = ipynb.images/splitting.png width = 600 />\n",
    "</center>\n",
    "<br />\n",
    "\n",
    "The decision tree inducer identifies the preferred sequence of attributes (at each level of the tree) to investigate to most rapidly narrow down the state (the dependent variable column) of an observation. There are different attributes selection **measures** to identify the attribute which can be considered at each level.\n",
    "\n",
    "2 popular attribute selection measures are:\n",
    "\n",
    "- **Information gain**: A synonym for [Kullback–Leibler divergence](https://en.wikipedia.org/wiki/Information_gain_(decision_tree)), the amount of information gained about a random variable or signal from observing another random variable, also called **mutual information** $I(X, A)$: The reduction in the entropy of $X$ achieved by learning the state of the random variable $A$. The higher the entropy of a system\n",
    ", the less you know about the hidden information of a system. As an example, one of the objects having the highest entropy in the current universe are **black holes**, as their macrostate are only defined from their mass, charge, and spin, but because we only have access to these variables, there is a very high number of possible ways the matter could be aranged inside it.\n",
    "\n",
    "- **Gini index**: The [Gini coefficient](https://en.wikipedia.org/wiki/Gini_coefficient) was developed by the Italian statistician Corrado Gini in 1912. Building on the work of American economist Max Lorenz, Gini proposed that the difference between the hypothetical straight line depicting perfect equality, and the actual line depicting people's incomes, be used as a measure of inequality. A Gini coefficient of 0 reflects perfect equality, where all income or wealth values are the same, while a Gini coefficient of 1 (or 100%) reflects maximal inequality among values, a situation where a single individual has all the income while all others have none. You can see the Gini indeces of various countries [here](https://worldpopulationreview.com/country-rankings/gini-coefficient-by-country).\n",
    "\n",
    "Usually, while using *Information gain* as a criterion, we assume attributes to be *categorical* and for *Gini index*, attributes are assumed to be *continuous*.\n",
    "\n",
    "Some techniques, often called **ensemble methods**, construct *more than one* decision tree, and thus talk about **decision forests** (a.k.a **random forests**) rather than *trees*. For example:\n",
    "\n",
    "- **Boosted trees** incrementally build an ensemble by training each new instance to emphasize the training instances previously mis-modeled. A typical example is [AdaBoost](https://en.wikipedia.org/wiki/AdaBoost#LogitBoost)\n",
    "- **Bootstrap aggregated** (or **bagged**) decision trees, an early ensemble method, build multiple decision trees by repeatedly resampling training data *with replacement*, and voting the trees for a consensus prediction\n",
    "- A **random forest classifier** is a specific type of bootstrap aggregating rotation forest in which every decision tree is trained by first applying principal component analysis (PCA) on a random subset of the input features. Regression Forests are an **ensemble** of different regression trees. These models work on the principle of the **wisdom of the crowd**. In short, it is better to consider the opinions of 1000 different people with not much knowledge than to consider the opinion of only one expert (provided each of the 1000 people have accuracy better than random guessing, i.e more than 50% - There is actually a mathematical proof about this)."
   ]
  },
  {
   "cell_type": "markdown",
   "metadata": {},
   "source": [
    "### Basic Idea\n",
    "The idea is to split a dataset based on **homogeneity of data**. \n",
    "\n",
    "A **decision tree** involves partitioning the data into subsets that contain instances with similar **values** (homogenous), and use *if-then-else* considerations to build a **model**. This model *may* or *may not* be possible, based on the dataset.\n",
    "\n",
    "All of us actually use decision trees in our daily life! To illustrate the concept, let's use an everyday example: predicting tomorrow’s maximum temperature for Boston.\n",
    "\n",
    "In order to answer the single max temperature question, we need to work through an entire series of queries. We start by forming an initial reasonable range given our domain knowledge, which for Boston is very little.. Let's say that it's 30–60 degrees Fahrenheit. Gradually, through a set of questions and answers we will reduce this range until we are confident enough to make a single prediction.\n",
    "\n",
    "What makes a good question to start with? What kind of independent variable should we split the data by? Well, if we want to limit the range **as much as possible** initially, let's think of the most relevant question to ask. Since temperature is highly dependent on time of year, a decent place to start would be: What season are we in? Winter *close to spring*, right? So we can limit the prediction range to 30–50 degrees because we have an idea of what the general max temperatures are in Boston winter-close-to-spring-time. This first question already cuts our range by a lot. We use that independent variable as our first node variable. But, this question isn’t quite enough to narrow down our estimate so we need to find out more information for our second node.\n",
    "\n",
    "A good follow-up question is: what is the historical average max temperature on this day? For Boston, the answer is 36 degrees. This allows us to further restrict our range of consideration to, let's say, 30–40 degrees. \n",
    "\n",
    "Two questions (two nodes)  are still not quite enough to make a prediction because this year might be warmer or colder than average. Therefore, we also would want to look at the max temperature today to get an idea if the year has been unusually warm or cold. Our question is simple: what is the maximum temperature today? If the max temperature today was 40 degrees, it might be colder this year and our estimate for tomorrow should be a little lower than the historical average. At this point, we can feel pretty confident in making a prediction of 35 degrees for the max temperature tomorrow. \n",
    "\n",
    "So, to arrive at an estimate, we used a series of questions, with each question narrowing our possible values until we were confident enough to make a single prediction. So, following one path (the most probable one) down the tree, we used 3 nodes to make a decision. \n",
    "\n",
    "We also need to complete all paths and add nodes to all split points so we have a decision for each leaf of the tree (we did not do this in our questioning above)."
   ]
  },
  {
   "cell_type": "markdown",
   "metadata": {},
   "source": [
    "## 3. *Trees* in Computer Science \n",
    "\n",
    "In computer science, a **tree** is a widely used abstract data type (ADT) that simulates a hierarchical tree structure, with a root value and subtrees of children with a parent node, represented as a set of linked nodes. A tree ends in leaf nodes and is represented upside node with the root at the top.\n",
    "\n",
    "Much like a [graph](https:/en.wikipedia.org/wiki/Graph_theory) is a way to display transitions of state machines, a \n",
    "[tree](https://en.wikipedia.org/wiki/Tree_(graph_theory)) is a specialization of a graph that displays conditional control statements.\n",
    "\n",
    "Decision trees are commonly used in operations research and [Machine Learning](https://en.wikipedia.org/wiki/Decision_tree_learning).\n",
    "\n",
    "Decision Trees are simple to understand, maybe the simplest, albeit powerful, ML method there is, since trees can also be displayed graphically in a way that is easy for non-experts to understand. Trees are able to handle both numerical and categorical data. For example, relation rules can be used with nominal variables while neural networks can be used with numerical variables or categoricals converted to 0-1 values.\n",
    "\n",
    "Decision trees use a **white box model**: If a given situation is observable in a model, the explanation for the condition is easily explained by boolean logic. By contrast, in a **black box model**, the explanation for the results is typically difficult to understand, as for example with artificial neural networks (unless they're Bayesian).\n",
    "\n",
    "Decision Trees perform well with large datasets. Large amounts of data can be analysed using standard computing resources in reasonable time and mirror human decision making pretty closely.\n",
    "\n",
    "Finally, Decision trees can be sampled using **MCMC**: By constructing a Markov chain that has the desired distribution as its equilibrium distribution, we can obtain a sample of the desired distribution by observing the chain after a number of steps. For example, [here](https://www2.stat.duke.edu/courses/Fall05/sta395/casper1.pdf)."
   ]
  },
  {
   "cell_type": "code",
   "execution_count": 25,
   "metadata": {},
   "outputs": [],
   "source": [
    "from IPython.display import display, Image, HTML"
   ]
  },
  {
   "cell_type": "markdown",
   "metadata": {},
   "source": [
    "## 4. The Algorithm type: Supervised Classification\n",
    "\n",
    "[Supervised learning](https://en.wikipedia.org/wiki/Supervised_learning), or *classification*, is the machine learning task of learning a **function** that maps input columns (independent variables) to output columns (dependent variables) based on example input-output observations. \n",
    "\n",
    "It infers a function from *labeled* training data consisting of a set of training observations. A supervised learning algorithm analyzes the training data and produces an inferred function, which can be used for mapping new examples. \n",
    "\n",
    "An optimal scenario will allow for the algorithm to correctly determine the class labels for unseen (*test*) instances. In *unsupervised learning*, you are essentially missing that output label.\n",
    "\n",
    "<br />\n",
    "<center>\n",
    "<img src = ipynb.images/supervised-classification.png width = 600 />\n",
    "</center>\n",
    "\n",
    "During *training*, a **feature extractor** is used to convert each **input value** to a **feature set**. Feature sets capture the basic information about each input that should be used to classify it/\n",
    "\n",
    "Pairs of feature sets and **labels** are fed into the **machine learning algorithm** to generate a **model**.\n",
    "\n",
    "During *prediction*, the same feature extractor is used to convert **unseen inputs** (*test* inputs) to feature sets. These feature sets are then fed into the model, which generates **predicted labels**."
   ]
  },
  {
   "cell_type": "markdown",
   "metadata": {},
   "source": [
    "## 5. The data: Mushroom stew!\n",
    "\n",
    "<br />\n",
    "<center>\n",
    "<img src = ipynb.images/swedish-chef.png width = 400 />\n",
    "</center>\n",
    "\n",
    "Who likes to eat mushrooms? I do. But it *is* a bit scary to eat them...\n",
    "\n",
    "The [Center for Machine Learning and Intelligent Systems](http://cml.ics.uci.edu/) at the University of California, Irvine (UCI), hosts a  [Machine Learning Repository](https://archive.ics.uci.edu/ml/datasets.html) containing over 200 publicly available data sets. It is your's truly most loved (and used) dataset archive.\n",
    "\n",
    "<img src=\"ipynb.images/mushrooms.jpg\" alt=\"mushroom\" width = 400/>\n",
    "\n",
    "<a href=\"https://archive.ics.uci.edu/ml/datasets/Mushroom\"><img src=\"https://archive.ics.uci.edu/ml/assets/MLimages/Large73.jpg\"  style=\"margin: 0px 0px 5px 20px; width: 125px; float: right;\" title=\"Mushrooms from Agaricus and Lepiota Family\" alt=\"mushroom\"/></a>\n",
    "For our decision tree data, will use the [mushroom](https://archive.ics.uci.edu/ml/datasets/Mushroom) data set, used in Chapter 3 of Provost & Fawcett's [data science book](https://www.amazon.com/Data-Science-Business-Data-Analytic-Thinking/dp/1449361323).\n",
    "\n",
    "The following description of the dataset is provided at the UCI repository:\n",
    "\n",
    ">This data set includes descriptions of hypothetical samples corresponding to 23 species of gilled mushrooms in the Agaricus and Lepiota Family (pp. 500-525 [The Audubon Society Field Guide to North American Mushrooms, 1981]). Each species is identified as:\n",
    "- definitely edible\n",
    "- definitely poisonous\n",
    "- of unknown edibility and not recommended. \n",
    "\n",
    ">This latter class is usually combined with the poisonous one. The Guide clearly states that there is no simple rule for determining the edibility of a mushroom..\n",
    "> \n",
    "> **Number of Instances**: 8124\n",
    "> \n",
    "> **Number of Attributes**: 22 (all nominally valued)\n",
    "> \n",
    "> **Attribute Information**: (*classes*: edible=e, poisonous=p)\n",
    "> \n",
    "> 1. *cap-shape*: bell=b, conical=c, convex=x, flat=f, knobbed=k, sunken=s\n",
    "> 2. *cap-surface*: fibrous=f, grooves=g, scaly=y, smooth=s\n",
    "> 3. *cap-color*: brown=n ,buff=b, cinnamon=c, gray=g, green=r, pink=p, purple=u, red=e, white=w, yellow=y\n",
    "> 4. *bruises?*: bruises=t, no=f\n",
    "> 5. *odor*: almond=a, anise=l, creosote=c, fishy=y, foul=f, musty=m, none=n, pungent=p, spicy=s\n",
    "> 6. *gill-attachment*: attached=a, descending=d, free=f, notched=n\n",
    "> 7. *gill-spacing*: close=c, crowded=w, distant=d\n",
    "> 8. *gill-size*: broad=b, narrow=n\n",
    "> 9. *gill-color*: black=k, brown=n, buff=b, chocolate=h, gray=g, green=r, orange=o, pink=p, purple=u, red=e, white=w, yellow=y\n",
    "> 10. *stalk-shape*: enlarging=e, tapering=t\n",
    "> 11. *stalk-root*: bulbous=b, club=c, cup=u, equal=e, rhizomorphs=z, rooted=r, missing=?\n",
    "> 12. *stalk-surface-above-ring*: fibrous=f, scaly=y, silky=k, smooth=s\n",
    "> 13. *stalk-surface-below-ring*: fibrous=f, scaly=y, silky=k, smooth=s\n",
    "> 14. *stalk-color-above-ring*: brown=n, buff=b, cinnamon=c, gray=g, orange=o, pink=p, red=e, white=w, yellow=y\n",
    "> 15. *stalk-color-below-ring*: brown=n, buff=b, cinnamon=c, gray=g, orange=o, pink=p, red=e, white=w, yellow=y\n",
    "> 16. *veil-type*: partial=p, universal=u\n",
    "> 17. *veil-color*: brown=n, orange=o, white=w, yellow=y\n",
    "> 18. *ring-number*: none=n, one=o, two=t\n",
    "> 19. *ring-type*: cobwebby=c, evanescent=e, flaring=f, large=l, none=n, pendant=p, sheathing=s, zone=z\n",
    "> 20. *spore-print-color*: black=k, brown=n, buff=b, chocolate=h, green=r, orange=o, purple=u, white=w, yellow=y\n",
    "> 21. *population*: abundant=a, clustered=c, numerous=n, scattered=s, several=v, solitary=y\n",
    "> 22. *habitat*: grasses=g, leaves=l, meadows=m, paths=p, urban=u, waste=w, woods=d\n",
    "> \n",
    "> **Missing Attribute Values**: 2480 of them (denoted by \"?\"), all for attribute #11 (starting from 0 indeex).\n",
    "> \n",
    "> **Class Distribution**: -- edible: 4208 (51.8%) -- poisonous: 3916 (48.2%) -- total: 8124 instances\n",
    "\n",
    "The [data file](https://archive.ics.uci.edu/ml/machine-learning-databases/mushroom/agaricus-lepiota.data) associated with this dataset, up on canvas, has one instance of a hypothetical mushroom per line, with abbreviations for the values of the class and each of the other 22 attributes separated by commas.\n",
    "\n",
    "Here is a sample line from the data file:\n",
    "\n",
    "p,k,f,n,f,n,f,c,n,w,e,?,k,y,w,n,p,w,o,e,w,v,d\n",
    "\n",
    "This instance represents a mushroom with the following attribute values (highlighted in **bold**):\n",
    "\n",
    "*class*: edible=e, **poisonous=p**\n",
    "\n",
    "1. *cap-shape*: bell=b, conical=c, convex=x, flat=f, **knobbed=k**, sunken=s\n",
    "2. *cap-surface*: **fibrous=f**, grooves=g, scaly=y, smooth=s\n",
    "3. *cap-color*: **brown=n** ,buff=b, cinnamon=c, gray=g, green=r, pink=p, purple=u, red=e, white=w, yellow=y\n",
    "4. *bruises?*: bruises=t, **no=f**\n",
    "5. *odor*: almond=a, anise=l, creosote=c, fishy=y, foul=f, musty=m, **none=n**, pungent=p, spicy=s\n",
    "6. *gill-attachment*: attached=a, descending=d, **free=f**, notched=n\n",
    "7. *gill-spacing*: **close=c**, crowded=w, distant=d\n",
    "8. *gill-size*: broad=b, **narrow=n**\n",
    "9. *gill-color*: black=k, brown=n, buff=b, chocolate=h, gray=g, green=r, orange=o, pink=p, purple=u, red=e, **white=w**, yellow=y\n",
    "10. *stalk-shape*: **enlarging=e**, tapering=t\n",
    "11. *stalk-root*: bulbous=b, club=c, cup=u, equal=e, rhizomorphs=z, rooted=r, **missing=?**\n",
    "12. *stalk-surface-above-ring*: fibrous=f, scaly=y, **silky=k**, smooth=s\n",
    "13. *stalk-surface-below-ring*: fibrous=f, **scaly=y**, silky=k, smooth=s\n",
    "14. *stalk-color-above-ring*: brown=n, buff=b, cinnamon=c, gray=g, orange=o, pink=p, red=e, **white=w**, yellow=y\n",
    "15. *stalk-color-below-ring*: **brown=n**, buff=b, cinnamon=c, gray=g, orange=o, pink=p, red=e, white=w, yellow=y\n",
    "16. *veil-type*: **partial=p**, universal=u\n",
    "17. *veil-color*: brown=n, orange=o, **white=w**, yellow=y\n",
    "18. *ring-number*: none=n, **one=o**, two=t\n",
    "19. *ring-type*: cobwebby=c, **evanescent=e**, flaring=f, large=l, none=n, pendant=p, sheathing=s, zone=z\n",
    "20. *spore-print-color*: black=k, brown=n, buff=b, chocolate=h, green=r, orange=o, purple=u, **white=w**, yellow=y\n",
    "21. *population*: abundant=a, clustered=c, numerous=n, scattered=s, **several=v**, solitary=y\n",
    "22. *habitat*: grasses=g, leaves=l, meadows=m, paths=p, urban=u, waste=w, **woods=d**\n",
    "\n"
   ]
  },
  {
   "cell_type": "code",
   "execution_count": 26,
   "metadata": {},
   "outputs": [
    {
     "name": "stdout",
     "output_type": "stream",
     "text": [
      "['class', 'cap-shape', 'cap-surface', 'cap-color', 'bruises?', 'odor', 'gill-attachment', 'gill-spacing', 'gill-size', 'gill-color', 'stalk-shape', 'stalk-root', 'stalk-surface-above-ring', 'stalk-surface-below-ring', 'stalk-color-above-ring', 'stalk-color-below-ring', 'veil-type', 'veil-color', 'ring-number', 'ring-type', 'spore-print-color', 'population', 'habitat']\n"
     ]
    }
   ],
   "source": [
    "attribute_names = ['class', \n",
    "                   'cap-shape', 'cap-surface', 'cap-color', \n",
    "                   'bruises?', \n",
    "                   'odor', \n",
    "                   'gill-attachment', 'gill-spacing', 'gill-size', 'gill-color', \n",
    "                   'stalk-shape', 'stalk-root', \n",
    "                   'stalk-surface-above-ring', 'stalk-surface-below-ring', \n",
    "                   'stalk-color-above-ring', 'stalk-color-below-ring',\n",
    "                   'veil-type', 'veil-color', \n",
    "                   'ring-number', 'ring-type', \n",
    "                   'spore-print-color', \n",
    "                   'population', \n",
    "                   'habitat']\n",
    "print(attribute_names)"
   ]
  },
  {
   "cell_type": "markdown",
   "metadata": {},
   "source": [
    "We read in our data file (up on canvas): agaricus-lepiota.data. [Lepiota](https://en.wikipedia.org/wiki/Lepiota) is a genus of gilled mushrooms in the family [Agaricaceae](https://en.wikipedia.org/wiki/Agaricaceae). All Lepiota species are ground-dwelling [saprotrophs](https://en.wikipedia.org/wiki/Saprotrophic_nutrition) with a preference for rich, calcareous soils. We build a list of instances, where each instance is a list of attribute values."
   ]
  },
  {
   "cell_type": "markdown",
   "metadata": {},
   "source": [
    "The following code creates a list of instances, where each instance is a list of attribute values (like `instance_1_str` above). "
   ]
  },
  {
   "cell_type": "code",
   "execution_count": 27,
   "metadata": {},
   "outputs": [
    {
     "name": "stdout",
     "output_type": "stream",
     "text": [
      "/Users/shrutitambe/Downloads/Neural Networks/L1D2\r\n"
     ]
    }
   ],
   "source": [
    "!pwd"
   ]
  },
  {
   "cell_type": "code",
   "execution_count": 28,
   "metadata": {},
   "outputs": [
    {
     "name": "stdout",
     "output_type": "stream",
     "text": [
      "Read 8124 instances from data/agaricus-lepiota.data\n",
      "First instance: ['p', 'x', 's', 'n', 't', 'p', 'f', 'c', 'n', 'k', 'e', 'e', 's', 's', 'w', 'w', 'p', 'w', 'o', 'p', 'k', 's', 'u']\n"
     ]
    }
   ],
   "source": [
    "all_instances = []  # initialize instances to an empty list\n",
    "data_filename = 'data/agaricus-lepiota.data'\n",
    "\n",
    "with open(data_filename, 'r') as f:\n",
    "    for line in f:  # 'line' will be bound to the next line in f in each for loop iteration\n",
    "        all_instances.append(line.strip().split(','))\n",
    "        \n",
    "print('Read', len(all_instances), 'instances from', data_filename)\n",
    "# we don't want to print all the instances, so we'll just print the first one to verify\n",
    "print('First instance:', all_instances[0]) "
   ]
  },
  {
   "cell_type": "markdown",
   "metadata": {},
   "source": [
    "All this code is also good for us to get refreshed about data science python!"
   ]
  },
  {
   "cell_type": "markdown",
   "metadata": {},
   "source": [
    "### 5.1 Missing values & \"clean\" instances"
   ]
  },
  {
   "cell_type": "markdown",
   "metadata": {},
   "source": [
    "As noted in the initial description of the UCI mushroom set above, 2480 of the 8124 instances have *missing* attribute values (denoted by `'?'`). We will simply ignore any such instances and restrict our focus to only *clean* instances (with no missing values).\n"
   ]
  },
  {
   "cell_type": "code",
   "execution_count": 29,
   "metadata": {},
   "outputs": [
    {
     "name": "stdout",
     "output_type": "stream",
     "text": [
      "5644 clean instances\n"
     ]
    }
   ],
   "source": [
    "UNKNOWN_VALUE = '?'\n",
    "clean_instances = [instance\n",
    "                   for instance in all_instances\n",
    "                   if UNKNOWN_VALUE not in instance]\n",
    "\n",
    "print(len(clean_instances), 'clean instances')"
   ]
  },
  {
   "cell_type": "code",
   "execution_count": 30,
   "metadata": {},
   "outputs": [
    {
     "name": "stdout",
     "output_type": "stream",
     "text": [
      "['p', 'x', 's', 'n', 't', 'p', 'f', 'c', 'n', 'k', 'e', 'e', 's', 's', 'w', 'w', 'p', 'w', 'o', 'p', 'k', 's', 'u']\n",
      "['e', 'x', 's', 'y', 't', 'a', 'f', 'c', 'b', 'k', 'e', 'c', 's', 's', 'w', 'w', 'p', 'w', 'o', 'p', 'n', 'n', 'g']\n",
      "['e', 'b', 's', 'w', 't', 'l', 'f', 'c', 'b', 'n', 'e', 'c', 's', 's', 'w', 'w', 'p', 'w', 'o', 'p', 'n', 'n', 'm']\n",
      "['p', 'x', 'y', 'w', 't', 'p', 'f', 'c', 'n', 'n', 'e', 'e', 's', 's', 'w', 'w', 'p', 'w', 'o', 'p', 'k', 's', 'u']\n",
      "['e', 'x', 's', 'g', 'f', 'n', 'f', 'w', 'b', 'k', 't', 'e', 's', 's', 'w', 'w', 'p', 'w', 'o', 'e', 'n', 'a', 'g']\n",
      "['e', 'x', 'y', 'y', 't', 'a', 'f', 'c', 'b', 'n', 'e', 'c', 's', 's', 'w', 'w', 'p', 'w', 'o', 'p', 'k', 'n', 'g']\n"
     ]
    },
    {
     "data": {
      "text/plain": [
       "[None, None, None, None, None, None]"
      ]
     },
     "execution_count": 30,
     "metadata": {},
     "output_type": "execute_result"
    }
   ],
   "source": [
    "[print(ci) for i,ci in enumerate(clean_instances) if i <= 5]"
   ]
  },
  {
   "cell_type": "code",
   "execution_count": 31,
   "metadata": {},
   "outputs": [
    {
     "name": "stdout",
     "output_type": "stream",
     "text": [
      "b = bell\n",
      "c = conical\n",
      "x = convex\n",
      "f = flat\n",
      "k = knobbed\n",
      "s = sunken\n"
     ]
    }
   ],
   "source": [
    "attribute_values_cap_type = {'b': 'bell', \n",
    "                             'c': 'conical', \n",
    "                             'x': 'convex', \n",
    "                             'f': 'flat', \n",
    "                             'k': 'knobbed', \n",
    "                             's': 'sunken'}\n",
    "\n",
    "for attribute_value_abbrev in attribute_values_cap_type:\n",
    "    print(attribute_value_abbrev, '=', attribute_values_cap_type[attribute_value_abbrev])"
   ]
  },
  {
   "cell_type": "markdown",
   "metadata": {},
   "source": [
    "If we want to count the numbers of **edible** and **poisonous** mushrooms in the *clean_instances* list we created earlier:"
   ]
  },
  {
   "cell_type": "code",
   "execution_count": 32,
   "metadata": {},
   "outputs": [
    {
     "name": "stdout",
     "output_type": "stream",
     "text": [
      "There are 3488 edible mushrooms among the 5644 clean instances\n"
     ]
    }
   ],
   "source": [
    "edible_count = 0\n",
    "for instance in clean_instances:\n",
    "    if instance[0] == 'e':\n",
    "        edible_count += 1  # this is shorthand for edible_count = edible_count + 1\n",
    "\n",
    "print('There are', edible_count, 'edible mushrooms among the', \n",
    "      len(clean_instances), 'clean instances')"
   ]
  },
  {
   "cell_type": "markdown",
   "metadata": {},
   "source": [
    "If we want to count the number of occurrences (**frequencies**) of each possible value for an attribute, we can create a dictionary where each dictionary key is an attribute value and each dictionary value is the count of instances with that attribute value.\n",
    "\n",
    "Using an ordinary dictionary, we must be careful to create a new dictionary entry the first time we see a new attribute value (that is not already contained in the dictionary).\n",
    "\n",
    "Here's the dictionary for physical appearance:"
   ]
  },
  {
   "cell_type": "code",
   "execution_count": 33,
   "metadata": {},
   "outputs": [
    {
     "name": "stdout",
     "output_type": "stream",
     "text": [
      "Counts for each value of cap-state:\n",
      "x : 2840\n",
      "b : 300\n",
      "s : 32\n",
      "f : 2432\n",
      "k : 36\n",
      "c : 4\n"
     ]
    }
   ],
   "source": [
    "cap_state_value_counts = {}\n",
    "for instance in clean_instances:\n",
    "    cap_state_value = instance[1]  # cap-state is the 2nd attribute\n",
    "    if cap_state_value not in cap_state_value_counts:\n",
    "        # first occurrence, must explicitly initialize counter for this cap_state_value\n",
    "        cap_state_value_counts[cap_state_value] = 0\n",
    "    cap_state_value_counts[cap_state_value] += 1\n",
    "\n",
    "print('Counts for each value of cap-state:')\n",
    "for value in cap_state_value_counts:\n",
    "    print(value, ':', cap_state_value_counts[value])"
   ]
  },
  {
   "cell_type": "markdown",
   "metadata": {},
   "source": [
    "You could also had used a `Counter` object, which when instantiated with a list of items, returns a dictionary-like container in which the *keys* are the unique items in the list, and the *values* are the counts of each unique item in that list. "
   ]
  },
  {
   "cell_type": "code",
   "execution_count": 34,
   "metadata": {},
   "outputs": [
    {
     "name": "stdout",
     "output_type": "stream",
     "text": [
      "Counter({'a': 3, 'b': 2, 'c': 1})\n",
      "[('a', 3), ('b', 2), ('c', 1)]\n"
     ]
    }
   ],
   "source": [
    "from collections import Counter\n",
    "cap_state_value_counts = Counter()\n",
    "\n",
    "counts = Counter(['a', 'b', 'c', 'a', 'b', 'a'])\n",
    "print(counts)\n",
    "print(counts.most_common())"
   ]
  },
  {
   "cell_type": "markdown",
   "metadata": {},
   "source": [
    "## 6. The Classifier: A Decision Tree\n",
    "\n",
    "The image below depicts a decision tree created from the UCI mushroom dataset.\n",
    "\n",
    "* a white box represents an **internal node** (and the label represents the *attribute* being tested)\n",
    "* a blue box represents a **test node** representing an attribute value (an *outcome* of the *test* of that attribute)\n",
    "* a green box represents a **leaf node** with a *class label* of *edible*\n",
    "* a red box represents a **leaf node** with a *class label* of *poisonous*\n",
    "\n",
    "<br />\n",
    "<center>\n",
    "<img src = images/mushroomdecisiontree.png width = 800 />\n",
    "</center>\n",
    "\n",
    "The UCI mushroom dataset consists entirely of [categorical variables](https://en.wikipedia.org/wiki/Categorical_variable), i.e., every variable (or *attribute*) has an **enumerated set of possible values**. \n",
    "\n",
    "Our decision tree will only accommodate *categorical variables*. It is based on [this](https://github.com/chrisspen/dtree) codebase, which itself is based on an article (since deleted) by Chris Roach.\n",
    "\n",
    "This algorithm will be our introduction to the 3 basic steps of Machine Learning:\n",
    "* ***Create*** a decision tree using a set of *training* instances\n",
    "* ***Classify*** (predict class labels) for a set of *test* instances (!= *training* instances) using a simple decision tree\n",
    "* ***Evaluate*** the performance of a simple decision tree on classifying a set of test instances\n",
    "\n"
   ]
  },
  {
   "cell_type": "markdown",
   "metadata": {},
   "source": [
    "### 6.1 Statistical mechanics Entropy\n",
    "\n",
    "[Statistical Mechanics Entropy](https://en.wikipedia.org/wiki/Entropy) is a logarithmic measure of the number of system states with significant probability of being occupied. $p_{i}$ is the probability that the system is in $i$th state, usually given by the [Boltzmann distribution](). That is a distribution we have not studied in INFO 6105. \n",
    "\n",
    ">**Definition**: A Boltzmann distribution (a.k.a Gibbs distribution) is a probability distribution or probability measure that gives the probability that a system will be in a certain state as a function of that state's energy $\\epsilon$ and the temperature $T$ of the system in this form:\n",
    "\n",
    ">$$p_i \\propto e^{- \\epsilon_i / (kT)}$$\n",
    "\n",
    "The Boltzmann distribution is named after [Ludwig Boltzmann](https://en.wikipedia.org/wiki/Ludwig_Boltzmann) who first formulated it in 1868 during his studies of the statistical mechanics of gases in thermal equilibrium. Boltzmann's statistical work is borne out in his paper \"*On the Relationship between the Second Fundamental Theorem of the Mechanical Theory of Heat and Probability Calculations Regarding the Conditions for Thermal Equilibrium*\". The distribution was later investigated extensively, in its modern generic form, by [Josiah Willard Gibbs](https://en.wikipedia.org/wiki/Josiah_Willard_Gibbs) in 1902.\n",
    "\n",
    ">**Definition**: Entropy is the amount of information contained in the microscopic state of a system which is missing in the approximate representation of that system using macroscopic thermodynamics.\n",
    "\n",
    "**Entropy** is the log of the number of total microscopic states corresponding to a particular macro state of thermodynamics. \n",
    "\n",
    ">**Definition**: Entropy is *the additional information you'd need to know in order to completely specify the microstate, given knowledge of the macrostate*.\n",
    "\n",
    "For an example of the relationship between microscopic and macroscopic formulations, it is well known that the Navier-Stokes equations can be derived from the Boltzmann Equation, which governs the kinetic theory of gases, upon (i) assuming the Bhatnagar-Gross-Krook collision formulation, (ii) assuming the Maxwell-Boltzmann form of an equilibrium distribution, and (iii) performing the so-called [Chapman-Enskog perturbation expansion](https://en.wikipedia.org/wiki/Chapman%E2%80%93Enskog_theory) under the assumption of a short relaxation time."
   ]
  },
  {
   "cell_type": "markdown",
   "metadata": {},
   "source": [
    "### 6.2 Information Entropy\n",
    "... is exactly what we talked about at the very top of this notebook.\n",
    "\n",
    "[Information Entropy](https://en.wikipedia.org/wiki/Entropy_(information_theory)) of a random variable is the average level of  \"*surprise*\", or \"*uncertainty*\" inherent to the variable's possible outcomes. Information Entropy can be thought of as how **unpredictable** a dataset is. You can also think of it as a measure of **disorder in a dataset**"
   ]
  },
  {
   "cell_type": "markdown",
   "metadata": {},
   "source": [
    "The concept of information entropy was introduced by Claude Shannon in his 1948 paper \"*A Mathematical Theory of Communication*\" and is also referred to as *Shannon entropy*.\n",
    "\n",
    "For a 2-class (binary) classification task:\n",
    "\n",
    "$\\text{entropy}(S) = - p_1 log_2 (p_1) - p_2 log_2 (p_2)$\n",
    "\n",
    "where $p_i$ is proportion (relative frequency) of class $i$ within the set $S$."
   ]
  },
  {
   "cell_type": "markdown",
   "metadata": {},
   "source": [
    "Now, we know that the proportion of `clean_instances` that are labeled `'e'` (class `edible`) in the UCI dataset is $3488 \\div 5644 = 0.618$, and the proportion labeled `'p'` (class `poisonous`) is $2156 \\div 5644 = 0.382$. \n",
    "\n",
    "Thus the entropy of our mushroom dataset, which is always from the perspective of the assumed **label**. For us, it is whether we *live* or *die*:"
   ]
  },
  {
   "cell_type": "code",
   "execution_count": 19,
   "metadata": {},
   "outputs": [
    {
     "name": "stdout",
     "output_type": "stream",
     "text": [
      "0.9594413373534086\n"
     ]
    }
   ],
   "source": [
    "import math\n",
    "\n",
    "entropy = \\\n",
    "    - (3488 / 5644) * math.log2(3488 / 5644) \\\n",
    "    - (2156 / 5644) * math.log(2156 / 5644, 2)\n",
    "print(entropy)"
   ]
  },
  {
   "cell_type": "code",
   "execution_count": 1,
   "metadata": {},
   "outputs": [
    {
     "name": "stdout",
     "output_type": "stream",
     "text": [
      "/Users/shrutitambe/Downloads/Neural Networks/L1D2\r\n"
     ]
    }
   ],
   "source": [
    "!pwd"
   ]
  },
  {
   "cell_type": "markdown",
   "metadata": {},
   "source": [
    "Now download `simple_ml.py`, a python helper module for decision trees from canvas, create a folder called `pythoncode` in your `C:/Users/<Username>` folder, and copy the file to that folder. Therein, a function `entropy(instances)` computes the entropy of `instances`. You may assume the class label is in position 0.\n",
    "\n",
    ">**Note**: The class label in most datasets is the **last** rather than the **first** item on each row."
   ]
  },
  {
   "cell_type": "code",
   "execution_count": 6,
   "metadata": {},
   "outputs": [],
   "source": [
    "import sys\n",
    "sys.path.append('/Users/shrutitambe/pythoncode')\n",
    "\n",
    "# import simple_ml\n",
    "\n",
    "# delete 'simple_ml.' in the function call below to test your function\n",
    "# print(simple_ml.entropy(clean_instances))"
   ]
  },
  {
   "cell_type": "code",
   "execution_count": 7,
   "metadata": {},
   "outputs": [
    {
     "data": {
      "text/plain": [
       "['/Users/shrutitambe/Downloads/Neural Networks/L1D2',\n",
       " '/Users/shrutitambe/opt/anaconda3/lib/python39.zip',\n",
       " '/Users/shrutitambe/opt/anaconda3/lib/python3.9',\n",
       " '/Users/shrutitambe/opt/anaconda3/lib/python3.9/lib-dynload',\n",
       " '',\n",
       " '/Users/shrutitambe/opt/anaconda3/lib/python3.9/site-packages',\n",
       " '/Users/shrutitambe/opt/anaconda3/lib/python3.9/site-packages/aeosa',\n",
       " '/Users/shrutitambe/Downloads/Neural Networks/L1D2/data/pythoncode/',\n",
       " '/Users/shrutitambe/pythoncode/',\n",
       " '/Users/shrutitambe/pythoncode',\n",
       " '/Users/shrutitambe/pythoncode']"
      ]
     },
     "execution_count": 7,
     "metadata": {},
     "output_type": "execute_result"
    }
   ],
   "source": [
    "sys.path"
   ]
  },
  {
   "cell_type": "code",
   "execution_count": 11,
   "metadata": {},
   "outputs": [],
   "source": [
    "import simple_ml"
   ]
  },
  {
   "cell_type": "markdown",
   "metadata": {},
   "source": [
    "### 6.3 Information Gain"
   ]
  },
  {
   "cell_type": "markdown",
   "metadata": {},
   "source": [
    "**Information gain** is based on the decrease in entropy after a dataset is split on an attribute. Constructing a decision tree **branch** is all about finding an attribute that returns the highest information gain (i.e., the most homogeneous branches).\n",
    "\n",
    "Since our entropy decreased from 0.61 to 0 in our figure above, the information gain was +0.61.\n",
    "\n",
    "When building a supervised classification model, the frequency distribution (histogram) of *attribute values* (a.k.a. *column values* or *feature values*) is potentially a factor in determining the relative importance of each attribute in the model building process.\n",
    "\n",
    "A decision tree is constructed from a set of instances using a recursive algorithm that: \n",
    "\n",
    "* Selects the *best* attribute \n",
    "* Splits the set into subsets based on the values of that attribute (each subset is composed of instances from the original set that have the same value for that attribute)\n",
    "* Repeats the process on each of these subsets until a stopping condition is met (e.g., a subset has no instances or has instances which all have the same class label)\n",
    "\n",
    "[Entropy](https://en.wikipedia.org/wiki/Entropy) is used in selecting the best attribute for each split: the best attribute is the one resulting in the *largest decrease in entropy* or *largest information gain* for a set of instances.\n",
    "\n",
    "[Information gain](https://www.unine.ch/files/live/sites/imi/files/shared/documents/papers/Gini_index_fulltext.pdf) measures the decrease in entropy that results from splitting a set $S$ of instances based on an attribute $a$:\n",
    "\n",
    "$IG(S, a) = \\text{entropy}(S) - [p(s_1) * \\text{entropy}(s_1) + p(s_2) * \\text{entropy}(s_2) ... + p(s_n) * \\text{entropy}(s_n)]$\n",
    "\n",
    "where \n",
    "* $n$ is the number of distinct values of attribute $a$\n",
    "* $s_i$ is the subset of $S$ where all instances have the $i$th value of $a$\n",
    "* $p(s_i)$ is the proportion of instances in $S$ that have the $i$th value of $a$"
   ]
  },
  {
   "cell_type": "markdown",
   "metadata": {},
   "source": [
    "Now consider a dataset of balls in plane where all balls have 3 attributes (3 columns): color, $x$ coordinate, and $y$ coordinate:\n",
    "\n",
    "<br />\n",
    "<center>\n",
    "<img src = ipynb.images/ig-example-dataset.svg width = 400 />\n",
    "</center>"
   ]
  },
  {
   "cell_type": "markdown",
   "metadata": {},
   "source": [
    "What if we make a split of our tree at $x=1.5$?\n",
    "\n",
    "<br />\n",
    "<center>\n",
    "<img src = ipynb.images/ig-example-split.svg width = 400 />\n",
    "</center>\n",
    "\n",
    "Well, I'm sure you could have done better (like, maybe $x=2$?). This imperfect split breaks our dataset into two branches:\n",
    "- Left branch, with 4 blues.    \n",
    "- Right branch, with 1 blue and 5 greens.    \n",
    "\n",
    "It’s clear this split isn’t optimal, but how can we quantify the **quality** of this split?\n",
    "\n",
    "Before the split, we had 5 blues and 5 greens, so the **prior** entropy was:\n",
    "\n",
    "$$E_{prior} = -0.5 *log(0.5) -0.5 *log(0.5)$$"
   ]
  },
  {
   "cell_type": "code",
   "execution_count": 132,
   "metadata": {},
   "outputs": [
    {
     "data": {
      "text/plain": [
       "0.6931471805599453"
      ]
     },
     "execution_count": 132,
     "metadata": {},
     "output_type": "execute_result"
    }
   ],
   "source": [
    "Eprior = -0.5 *math.log(0.5) -0.5 *math.log(0.5)\n",
    "Eprior"
   ]
  },
  {
   "cell_type": "markdown",
   "metadata": {},
   "source": [
    "After the split, we have two branches and one **posterior** entropy that results in the addition of two sub-entropies.\n",
    "\n",
    "Left Branch has 4 blues, so $E_{left} = 0$ because it’s a dataset of all one color.\n",
    "\n",
    "Right Branch has 1 blue and 5 greens, so $E_{right} = -1/6*log(1/6) -5/6*log(5/6)$."
   ]
  },
  {
   "cell_type": "code",
   "execution_count": 136,
   "metadata": {},
   "outputs": [
    {
     "data": {
      "text/plain": [
       "0.45056120886630463"
      ]
     },
     "execution_count": 136,
     "metadata": {},
     "output_type": "execute_result"
    }
   ],
   "source": [
    "Eleft = 0\n",
    "Eright = -1/6*math.log(1/6) -5/6*math.log(5/6)\n",
    "Eright"
   ]
  },
  {
   "cell_type": "markdown",
   "metadata": {},
   "source": [
    "Now that we have the entropies for both branches, we can determine the quality of the split by *weighing* the entropy of each branch by how many elements it has. \n",
    "\n",
    "Since Left Branch has 4 elements and Right Branch has 6, we weight them by 0.4 and 0.6, respectively:\n",
    "\n",
    "$$E_{split} = 0.4 * 0 + 0.6 * 0.45$$"
   ]
  },
  {
   "cell_type": "code",
   "execution_count": 137,
   "metadata": {},
   "outputs": [
    {
     "data": {
      "text/plain": [
       "0.27"
      ]
     },
     "execution_count": 137,
     "metadata": {},
     "output_type": "execute_result"
    }
   ],
   "source": [
    "Esplit = 0.4*0.0 + 0.6*0.45\n",
    "Esplit"
   ]
  },
  {
   "cell_type": "code",
   "execution_count": 138,
   "metadata": {},
   "outputs": [
    {
     "data": {
      "text/plain": [
       "0.41999999999999993"
      ]
     },
     "execution_count": 138,
     "metadata": {},
     "output_type": "execute_result"
    }
   ],
   "source": [
    " .69 - 0.27"
   ]
  },
  {
   "cell_type": "markdown",
   "metadata": {},
   "source": [
    "We started with $E_{before} = 0.69$ entropy before the split and now are down to 0.27! \n",
    "\n",
    "Information Gain = how much Entropy we removed, so\n",
    "\n",
    "$$\\text{Gain} = .69 - 0.27 = \\boxed{0.42}$$\n",
    "\n",
    ">**Idea**: The goal of a decision tree is to find the split that yields the highest information gain at each level of the tree."
   ]
  },
  {
   "cell_type": "markdown",
   "metadata": {},
   "source": [
    "#### Back to our mushroom stew\n",
    "\n",
    "We'll use `information_gain()` in `simple_ml` to print the information gain for each of the attributes in the mushroom dataset."
   ]
  },
  {
   "cell_type": "code",
   "execution_count": 139,
   "metadata": {},
   "outputs": [
    {
     "name": "stdout",
     "output_type": "stream",
     "text": [
      "Information gain for the different mushroom attributes:\n",
      "\n",
      "0.017   1 cap-shape\n",
      "0.005   2 cap-surface\n",
      "0.195   3 cap-color\n",
      "0.140   4 bruises?\n",
      "0.860   5 odor\n",
      "0.004   6 gill-attachment\n",
      "0.058   7 gill-spacing\n",
      "0.032   8 gill-size\n",
      "0.213   9 gill-color\n",
      "0.275  10 stalk-shape\n",
      "0.097  11 stalk-root\n",
      "0.425  12 stalk-surface-above-ring\n",
      "0.409  13 stalk-surface-below-ring\n",
      "0.306  14 stalk-color-above-ring\n",
      "0.279  15 stalk-color-below-ring\n",
      "0.000  16 veil-type\n",
      "0.002  17 veil-color\n",
      "0.012  18 ring-number\n",
      "0.463  19 ring-type\n",
      "0.583  20 spore-print-color\n",
      "0.110  21 population\n",
      "0.101  22 habitat\n"
     ]
    }
   ],
   "source": [
    "print('Information gain for the different mushroom attributes:', end='\\n\\n')\n",
    "for i in range(1, len(attribute_names)):\n",
    "    print('{:5.3f}  {:2} {}'.format(\n",
    "        simple_ml.information_gain(clean_instances, i), i, attribute_names[i]))"
   ]
  },
  {
   "cell_type": "markdown",
   "metadata": {},
   "source": [
    "We can sort the attributes based in decreasing order of information gain:"
   ]
  },
  {
   "cell_type": "code",
   "execution_count": 140,
   "metadata": {},
   "outputs": [
    {
     "name": "stdout",
     "output_type": "stream",
     "text": [
      "Information gain for different attributes:\n",
      "\n",
      "0.860   5 odor\n",
      "0.583  20 spore-print-color\n",
      "0.463  19 ring-type\n",
      "0.425  12 stalk-surface-above-ring\n",
      "0.409  13 stalk-surface-below-ring\n",
      "0.306  14 stalk-color-above-ring\n",
      "0.279  15 stalk-color-below-ring\n",
      "0.275  10 stalk-shape\n",
      "0.213   9 gill-color\n",
      "0.195   3 cap-color\n",
      "0.140   4 bruises?\n",
      "0.110  21 population\n",
      "0.101  22 habitat\n",
      "0.097  11 stalk-root\n",
      "0.058   7 gill-spacing\n",
      "0.032   8 gill-size\n",
      "0.017   1 cap-shape\n",
      "0.012  18 ring-number\n",
      "0.005   2 cap-surface\n",
      "0.004   6 gill-attachment\n",
      "0.002  17 veil-color\n",
      "0.000  16 veil-type\n"
     ]
    }
   ],
   "source": [
    "print('Information gain for different attributes:', end='\\n\\n')\n",
    "sorted_information_gain_indexes = sorted([(simple_ml.information_gain(clean_instances, i), i)\n",
    "                                          for i in range(1, len(attribute_names))], \n",
    "                                         reverse=True)\n",
    "for gain, i in sorted_information_gain_indexes:\n",
    "    print('{:5.3f}  {:2} {}'.format(gain, i, attribute_names[i]))"
   ]
  },
  {
   "cell_type": "markdown",
   "metadata": {},
   "source": [
    "This indicates that `odor` is the best attribute for the first split in a decision tree that models the instances in this dataset!"
   ]
  },
  {
   "cell_type": "markdown",
   "metadata": {},
   "source": [
    "### 6.4 ID3"
   ]
  },
  {
   "cell_type": "markdown",
   "metadata": {},
   "source": [
    "We will implement a modified version of the [ID3](https://en.wikipedia.org/wiki/ID3_algorithm) algorithm for building a  decision tree.\n",
    "\n",
    "- Calculate the Information Gain of each feature.\n",
    "- Considering that all rows don’t belong to the same class, split the dataset S into subsets using the feature for which the Information Gain is maximum.\n",
    "- Make a decision tree node using the feature with the maximum Information gain.\n",
    "- If all rows belong to the same class, make the current node as a leaf node with the class as its label.\n",
    "- Repeat for the remaining features until we run out of all features, or the decision tree has all leaf nodes.\n",
    "\n",
    "    ID3 (Examples, Target_Attribute, Candidate_Attributes)\n",
    "        Create a Root node for the tree\n",
    "        If all examples have the same value of the Target_Attribute, \n",
    "            Return the single-node tree Root with label = that value \n",
    "        If the list of Candidate_Attributes is empty,\n",
    "            Return the single node tree Root,\n",
    "                with label = most common value of Target_Attribute in the examples.\n",
    "        Otherwise Begin\n",
    "            A ← The Attribute that best classifies examples (most information gain)\n",
    "            Decision Tree attribute for Root = A.\n",
    "            For each possible value, v_i, of A,\n",
    "                Add a new tree branch below Root, corresponding to the test A = v_i.\n",
    "                Let Examples(v_i) be the subset of examples that have the value v_i for A\n",
    "                If Examples - Examples(v_i) is empty,\n",
    "                    Below this new branch add a leaf node \n",
    "                        with label = most common target value in the examples\n",
    "                Else \n",
    "                    Below this new branch add the subtree \n",
    "                        ID3 (Examples(v_i), Target_Attribute, Attributes – {A})\n",
    "        End\n",
    "        Return Root"
   ]
  },
  {
   "cell_type": "markdown",
   "metadata": {},
   "source": [
    "In building a decision tree, we will need to split the instances based on the index of the *best* attribute, i.e., the attribute that offers the *highest information gain*. We will use separate utility functions to handle these subtasks. To simplify, we rely exclusively on attribute *indexes* rather than attribute *names*.\n",
    "\n",
    "First, define a function, `split_instances(instances, attribute_index)`, to split a set of instances based on any attribute. This function will return a dictionary where each *key* is a distinct value of the specified `attribute_index`, and the *value* of each key is a list representing the subset of `instances` that have that `attribute_index` value.\n",
    "\n",
    "Use a [`defaultdict`](http://docs.python.org/2/library/collections.html#defaultdict-objects), a specialized dictionary class in the [`collections`](http://docs.python.org/2/library/collections.html) module that automatically creates an appropriate default value for a new key. For example, a `defaultdict(int)` automatically initializes a new dictionary entry to 0 (zero). A `defaultdict(list)` automatically initializes a new dictionary entry to the empty list (`[]`)."
   ]
  },
  {
   "cell_type": "code",
   "execution_count": 141,
   "metadata": {},
   "outputs": [],
   "source": [
    "from collections import defaultdict\n",
    "\n",
    "def split_instances(instances, attribute_index):\n",
    "    '''Returns a list of dictionaries, splitting a list of instances \n",
    "        according to their values of a specified attribute index\n",
    "    \n",
    "    The key of each dictionary is a distinct value of attribute_index,\n",
    "    and the value of each dictionary is a list representing \n",
    "       the subset of instances that have that value for the attribute\n",
    "    '''\n",
    "    partitions = defaultdict(list)\n",
    "    for instance in instances:\n",
    "        partitions[instance[attribute_index]].append(instance)\n",
    "    return partitions"
   ]
  },
  {
   "cell_type": "markdown",
   "metadata": {},
   "source": [
    "To test the function, we will partition `clean_instances` based on the `odor` attribute (index position 5) and print out the size (number of instances) in each partition rather than the lists of instances in each partition. These are all the possible odor categories:"
   ]
  },
  {
   "cell_type": "code",
   "execution_count": 142,
   "metadata": {},
   "outputs": [
    {
     "name": "stdout",
     "output_type": "stream",
     "text": [
      "[('p', 256), ('a', 400), ('l', 400), ('n', 2776), ('f', 1584), ('c', 192), ('m', 36)]\n"
     ]
    }
   ],
   "source": [
    "partitions = split_instances(clean_instances, 5)\n",
    "print([(partition, len(partitions[partition])) for partition in partitions])"
   ]
  },
  {
   "cell_type": "markdown",
   "metadata": {},
   "source": [
    "Now we we have our first split and we know we can split instances based on a particular attribute. We want to be able to choose the next *best* attribute with which to split the instances at every node, where *best* is defined as the attribute that, once again, provides the *greatest information gain* if instances were split based on that attribute. \n",
    "\n",
    "We restrict candidate attributes so that we don't try to split on an attribute that was used higher up in the decision tree (or use the target attribute as a candidate)."
   ]
  },
  {
   "cell_type": "markdown",
   "metadata": {},
   "source": [
    "### 6.5 Helper Functions"
   ]
  },
  {
   "cell_type": "markdown",
   "metadata": {},
   "source": [
    "`choose_best_attribute_index(instances, candidate_attribute_indexes)` returns the index in the list of `candidate_attribute_indexes` that provides the highest information gain if `instances` are split based on that attribute index."
   ]
  },
  {
   "cell_type": "code",
   "execution_count": 143,
   "metadata": {},
   "outputs": [
    {
     "name": "stdout",
     "output_type": "stream",
     "text": [
      "Best attribute index: 5\n"
     ]
    }
   ],
   "source": [
    "print('Best attribute index:', \n",
    "      simple_ml.choose_best_attribute_index(clean_instances, range(1, len(attribute_names))))"
   ]
  },
  {
   "cell_type": "markdown",
   "metadata": {},
   "source": [
    "Well, how about that: It looks like *smell* is the best attribute to determine if mushrooms are edible! \n",
    "\n",
    "<br />\n",
    "<center>\n",
    "<img src = ipynb.images/nose.jfif width = 200 />\n",
    "</center>\n",
    "\n",
    "A **leaf node** in a decision tree represents the most frequently occurring - or majority - class value for that path through the tree (it's still a probabilistic algorithm). So, we will need a function that determines the majority value for the class index among a set of instances. One way to do this is to use the [`Counter`](https://docs.python.org/2/library/collections.html#counter-objects) class."
   ]
  },
  {
   "cell_type": "code",
   "execution_count": 144,
   "metadata": {},
   "outputs": [
    {
     "name": "stdout",
     "output_type": "stream",
     "text": [
      "class_counts: Counter({'e': 3488, 'p': 2156})\n",
      "  most_common(1): [('e', 3488)]\n",
      "  most_common(1)[0][0]: e\n"
     ]
    }
   ],
   "source": [
    "from collections import Counter\n",
    "class_counts = Counter([instance[0] for instance in clean_instances])\n",
    "print('class_counts: {}\\n  most_common(1): {}\\n  most_common(1)[0][0]: {}'.format(\n",
    "    class_counts,  # the Counter object\n",
    "    class_counts.most_common(1),  # returns a list in which the 1st element is a tuple with the most common value and its count\n",
    "    class_counts.most_common(1)[0][0]))  # the most common value (1st element in that tuple)"
   ]
  },
  {
   "cell_type": "markdown",
   "metadata": {},
   "source": [
    "It is often useful to compute the number of unique values and/or the total number of values in a `Counter`.\n",
    "\n",
    "The number of unique values is simply the number of dictionary entries.\n",
    "\n",
    "The total number of values can be computed by taking the [**`sum()`**](https://docs.python.org/2/library/functions.html#sum) of all the counts (the *value* of each *key: value* pair ... or *key, value* tuple, if we use `Counter().most_common()`)."
   ]
  },
  {
   "cell_type": "code",
   "execution_count": 145,
   "metadata": {},
   "outputs": [
    {
     "name": "stdout",
     "output_type": "stream",
     "text": [
      "Number of unique values: 2\n",
      "Total number of values:  5644\n"
     ]
    }
   ],
   "source": [
    "print('Number of unique values: {}'.format(len(class_counts)))\n",
    "print('Total number of values:  {}'.format(sum([v \n",
    "                                                for k, v in class_counts.most_common()])))"
   ]
  },
  {
   "cell_type": "markdown",
   "metadata": {},
   "source": [
    "Note that Python has a flexible mechanism for the testing truth values: In an **if** condition, any null object, zero-valued numerical expression or empty container (string, list, dictionary or tuple) is interpreted as *False* (i.e., *not True*):"
   ]
  },
  {
   "cell_type": "code",
   "execution_count": 146,
   "metadata": {},
   "outputs": [
    {
     "name": "stdout",
     "output_type": "stream",
     "text": [
      "\"False\" is False\n",
      "\"None\" is False\n",
      "\"0\" is False\n",
      "\"0.0\" is False\n",
      "\"\" is False\n",
      "\"[]\" is False\n",
      "\"{}\" is False\n",
      "\"()\" is False\n"
     ]
    }
   ],
   "source": [
    "for x in [False, None, 0, 0.0, \"\", [], {}, ()]:\n",
    "    print('\"{}\" is'.format(x), end=' ')\n",
    "    if x:\n",
    "        print(True)\n",
    "    else:\n",
    "        print(False)"
   ]
  },
  {
   "cell_type": "markdown",
   "metadata": {},
   "source": [
    "Sometimes, particularly with function parameters, it is helpful to differentiate `None` from empty lists and other data structures with a `False` truth value (one common use case is illustrated in `create_decision_tree()` below)."
   ]
  },
  {
   "cell_type": "code",
   "execution_count": 147,
   "metadata": {},
   "outputs": [
    {
     "name": "stdout",
     "output_type": "stream",
     "text": [
      "\"False is None\" is False\n",
      "\"None is None\" is True\n",
      "\"0 is None\" is False\n",
      "\"0.0 is None\" is False\n",
      "\" is None\" is False\n",
      "\"[] is None\" is False\n",
      "\"{} is None\" is False\n",
      "\"() is None\" is False\n"
     ]
    }
   ],
   "source": [
    "for x in [False, None, 0, 0.0, \"\", [], {}, ()]:\n",
    "    print('\"{} is None\" is'.format(x), end=' ')\n",
    "    if x is None:\n",
    "        print(True)\n",
    "    else:\n",
    "        print(False)"
   ]
  },
  {
   "cell_type": "code",
   "execution_count": 148,
   "metadata": {},
   "outputs": [
    {
     "name": "stdout",
     "output_type": "stream",
     "text": [
      "\"False\" is False\n",
      "\"None\" is False\n",
      "\"0\" is False\n",
      "\"0.0\" is False\n",
      "\"\" is False\n",
      "\"[]\" is False\n",
      "\"{}\" is False\n",
      "\"()\" is False\n"
     ]
    }
   ],
   "source": [
    "for x in [False, None, 0, 0.0, \"\", [], {}, ()]:\n",
    "    print('\"{}\" is {}'.format(x, True if x else False)) "
   ]
  },
  {
   "cell_type": "markdown",
   "metadata": {},
   "source": [
    "Ok, this was a little break in python fundamentals. Always good to refresh on fundamentals to avoid bugs :-)\n",
    "\n",
    "`majority_value(instances, class_index)` returns the most frequently occurring value of `class_index` in `instances`. The `class_index` parameter should be optional, and have a default value of `0` (zero).\n"
   ]
  },
  {
   "cell_type": "code",
   "execution_count": 149,
   "metadata": {},
   "outputs": [
    {
     "name": "stdout",
     "output_type": "stream",
     "text": [
      "Majority value of index 0: e\n",
      "Majority value of index 1: x\n",
      "Majority value of index 2: y\n"
     ]
    }
   ],
   "source": [
    "print('Majority value of index {}: {}'.format(\n",
    "    0, simple_ml.majority_value(clean_instances))) \n",
    "\n",
    "# although there is only one class_index for the dataset, \n",
    "# we'll test the function by specifying other indexes using optional / keyword arguments\n",
    "print('Majority value of index {}: {}'.format(\n",
    "    1, simple_ml.majority_value(clean_instances, 1)))  # using argument order\n",
    "print('Majority value of index {}: {}'.format(\n",
    "    2, simple_ml.majority_value(clean_instances, class_index=2)))  # using keyword argument"
   ]
  },
  {
   "cell_type": "markdown",
   "metadata": {},
   "source": [
    "### 6.6 Design time: Decision Tree algorithm"
   ]
  },
  {
   "cell_type": "markdown",
   "metadata": {},
   "source": [
    "The recursive `create_decision_tree()` function below uses an optional parameter, `class_index`, which defaults to `0`. This is to accommodate other datasets in which the class label is the ***last*** element on each line (which would be most easily specified by using a `-1` index). Most data files in the [UCI Machine Learning Repository](https://archive.ics.uci.edu/ml/datasets.html) have class labels as either the first element or the last element.\n",
    "\n",
    "To show how the decision tree is being built, an optional `trace` parameter, when non-zero, will generate trace information as the tree is constructed. The indentation level is incremented with each recursive call via the use of the conditional expression (ternary operator), `trace + 1 if trace else 0`.\n",
    "\n",
    "Just like **Metropolis**, we write our very own decision tree algorithm. It's *that* important to understand! Please study it and be able to explain how it works. What kind of algorihtm is it? Is it *iterative*? Is it *recursive*?\n",
    "\n",
    ">**Careful Code (CC)**: Let's go over the decision tree algorithm below step by step:"
   ]
  },
  {
   "cell_type": "code",
   "execution_count": 151,
   "metadata": {},
   "outputs": [
    {
     "name": "stdout",
     "output_type": "stream",
     "text": [
      "> Creating tree node for attribute index 5\n",
      "> Creating subtree for value p (256, 21, 0, e)\n",
      "< < All 256 instances have label p\n",
      "> Creating subtree for value a (400, 21, 0, e)\n",
      "< < All 400 instances have label e\n",
      "> Creating subtree for value l (400, 21, 0, e)\n",
      "< < All 400 instances have label e\n",
      "> Creating subtree for value n (2764, 21, 0, e)\n",
      "> > Creating tree node for attribute index 20\n",
      "> > Creating subtree for value n (1296, 20, 0, e)\n",
      "< < < All 1296 instances have label e\n",
      "> > Creating subtree for value k (1296, 20, 0, e)\n",
      "< < < All 1296 instances have label e\n",
      "> > Creating subtree for value r (72, 20, 0, e)\n",
      "< < < All 72 instances have label p\n",
      "> > Creating subtree for value w (100, 20, 0, e)\n",
      "> > > Creating tree node for attribute index 21\n",
      "> > > Creating subtree for value v (60, 19, 0, e)\n",
      "< < < < All 60 instances have label e\n",
      "> > > Creating subtree for value c (16, 19, 0, e)\n",
      "< < < < All 16 instances have label p\n",
      "> > > Creating subtree for value y (24, 19, 0, e)\n",
      "< < < < All 24 instances have label e\n",
      "> Creating subtree for value f (1584, 21, 0, e)\n",
      "< < All 1584 instances have label p\n",
      "> Creating subtree for value c (192, 21, 0, e)\n",
      "< < All 192 instances have label p\n",
      "> Creating subtree for value m (28, 21, 0, e)\n",
      "< < All 28 instances have label p\n",
      "{5: {'p': 'p', 'a': 'e', 'l': 'e', 'n': {20: {'n': 'e', 'k': 'e', 'r': 'p', 'w': {21: {'v': 'e', 'c': 'p', 'y': 'e'}}}}, 'f': 'p', 'c': 'p', 'm': 'p'}}\n"
     ]
    }
   ],
   "source": [
    "def create_decision_tree(instances, \n",
    "                         candidate_attribute_indexes=None, \n",
    "                         class_index=0, \n",
    "                         default_class=None, \n",
    "                         trace=0):\n",
    "    '''Returns a new decision tree trained on a list of instances.\n",
    "    \n",
    "    The tree is constructed by recursively selecting and splitting instances based on \n",
    "    the highest information_gain of the candidate_attribute_indexes.\n",
    "    \n",
    "    The class label is found in position class_index.\n",
    "    \n",
    "    The default_class is the majority value for the current node's parent in the tree.\n",
    "    \n",
    "    A positive (int) trace value will generate trace information \n",
    "        with increasing levels of indentation.\n",
    "    \n",
    "    Derived from the simplified ID3 algorithm presented in Building Decision Trees in Python \n",
    "        by Christopher Roach,\n",
    "    http://www.onlamp.com/pub/a/python/2006/02/09/ai_decision_trees.html?page=3\n",
    "    '''\n",
    "    \n",
    "    # if no candidate_attribute_indexes are provided, \n",
    "    # assume that we will use all but the target_attribute_index\n",
    "    # Note that None != [], \n",
    "    # as an empty candidate_attribute_indexes list is a recursion stopping condition\n",
    "    if candidate_attribute_indexes is None:\n",
    "        candidate_attribute_indexes = [i \n",
    "                                       for i in range(len(instances[0])) \n",
    "                                       if i != class_index]\n",
    "        # Note: do not use candidate_attribute_indexes.remove(class_index)\n",
    "        # as this would destructively modify the argument,\n",
    "        # causing problems during recursive calls\n",
    "        \n",
    "    class_labels_and_counts = Counter([instance[class_index] for instance in instances])\n",
    "\n",
    "    # If the dataset is empty or the candidate attributes list is empty, \n",
    "    # return the default value\n",
    "    if not instances or not candidate_attribute_indexes:\n",
    "        if trace:\n",
    "            print('{}Using default class {}'.format('< ' * trace, default_class))\n",
    "        return default_class\n",
    "    \n",
    "    # If all the instances have the same class label, return that class label\n",
    "    elif len(class_labels_and_counts) == 1:\n",
    "        class_label = class_labels_and_counts.most_common(1)[0][0]\n",
    "        if trace:\n",
    "            print('{}All {} instances have label {}'.format(\n",
    "                '< ' * trace, len(instances), class_label))\n",
    "        return class_label\n",
    "    else:\n",
    "        default_class = simple_ml.majority_value(instances, class_index)\n",
    "\n",
    "        # Choose the next best attribute index to best classify the instances\n",
    "        best_index = simple_ml.choose_best_attribute_index(\n",
    "            instances, candidate_attribute_indexes, class_index)        \n",
    "        if trace:\n",
    "            print('{}Creating tree node for attribute index {}'.format(\n",
    "                    '> ' * trace, best_index))\n",
    "\n",
    "        # Create a new decision tree node with the best attribute index \n",
    "        # and an empty dictionary object (for now)\n",
    "        tree = {best_index:{}}\n",
    "\n",
    "        # Create a new decision tree sub-node (branch) for each of the values \n",
    "        # in the best attribute field\n",
    "        partitions = simple_ml.split_instances(instances, best_index)\n",
    "\n",
    "        # Remove that attribute from the set of candidates for further splits\n",
    "        remaining_candidate_attribute_indexes = [i \n",
    "                                                 for i in candidate_attribute_indexes \n",
    "                                                 if i != best_index]\n",
    "        for attribute_value in partitions:\n",
    "            if trace:\n",
    "                print('{}Creating subtree for value {} ({}, {}, {}, {})'.format(\n",
    "                    '> ' * trace,\n",
    "                    attribute_value, \n",
    "                    len(partitions[attribute_value]), \n",
    "                    len(remaining_candidate_attribute_indexes), \n",
    "                    class_index, \n",
    "                    default_class))\n",
    "                \n",
    "            # Create a subtree for each value of the the best attribute\n",
    "            subtree = create_decision_tree(\n",
    "                partitions[attribute_value],\n",
    "                remaining_candidate_attribute_indexes,\n",
    "                class_index,\n",
    "                default_class,\n",
    "                trace + 1 if trace else 0)\n",
    "\n",
    "            # Add the new subtree to the empty dictionary object \n",
    "            # in the new tree/node we just created\n",
    "            tree[best_index][attribute_value] = subtree\n",
    "\n",
    "    return tree\n",
    "\n",
    "# split instances into separate training and testing sets\n",
    "training_instances = clean_instances[:-20]\n",
    "test_instances = clean_instances[-20:]\n",
    "tree = create_decision_tree(training_instances, trace=1)  # remove trace=1 to turn off tracing\n",
    "print(tree)"
   ]
  },
  {
   "cell_type": "markdown",
   "metadata": {},
   "source": [
    "The structure of the tree shown above is difficult to discern from the normal printed representation of a dictionary.\n",
    "\n",
    "Python's [`pprint`](http://docs.python.org/2/library/pprint.html) module has a number of useful methods for pretty-printing or formatting objects in a more human readable way.\n",
    "\n",
    "The [`pprint.pprint(object, stream=None, indent=1, width=80, depth=None)`](http://docs.python.org/2/library/pprint.html#pprint.pprint) method will print `object` to a `stream` (a default value of `None` will dictate the use of [sys.stdout](http://docs.python.org/2/library/sys.html#sys.stdout), the same destination as `print` function output), using `indent` spaces to differentiate nesting levels, using up to a maximum `width` columns and up to to a maximum nesting level `depth` (`None` indicating no maximum)."
   ]
  },
  {
   "cell_type": "code",
   "execution_count": 32,
   "metadata": {},
   "outputs": [
    {
     "name": "stdout",
     "output_type": "stream",
     "text": [
      "{5: {'a': 'e',\n",
      "     'c': 'p',\n",
      "     'f': 'p',\n",
      "     'l': 'e',\n",
      "     'm': 'p',\n",
      "     'n': {20: {'k': 'e',\n",
      "                'n': 'e',\n",
      "                'r': 'p',\n",
      "                'w': {21: {'c': 'p', 'v': 'e', 'y': 'e'}}}},\n",
      "     'p': 'p'}}\n"
     ]
    }
   ],
   "source": [
    "from pprint import pprint\n",
    "\n",
    "pprint(tree)"
   ]
  },
  {
   "cell_type": "markdown",
   "metadata": {},
   "source": [
    "### 6.7 Run-time: Classifying Instances and evaluating accuracy"
   ]
  },
  {
   "cell_type": "markdown",
   "metadata": {},
   "source": [
    "Usually, when we construct a decision tree based on a set of *training* instances, we do so with the intent of using that tree to classify a set of one or more *test* instances.\n",
    "\n",
    "We define a function, **`classify(tree, instance, default_class=None)`**, to use a decision tree to classify a single `instance`, where an optional `default_class` can be specified as the return value if the instance represents a set of attribute values that don't have a representation in the decision tree.\n",
    "\n",
    "We will use a design pattern in which we will use a series of `if` statements, each of which returns a value if the condition is true, rather than a nested series of `if`, `elif` and/or `else` clauses, as it helps limit indentation levels in the function."
   ]
  },
  {
   "cell_type": "code",
   "execution_count": 152,
   "metadata": {},
   "outputs": [
    {
     "name": "stdout",
     "output_type": "stream",
     "text": [
      "predicted: p; actual: p\n",
      "predicted: p; actual: p\n",
      "predicted: p; actual: p\n",
      "predicted: e; actual: e\n",
      "predicted: e; actual: e\n",
      "predicted: p; actual: p\n",
      "predicted: e; actual: e\n",
      "predicted: e; actual: e\n",
      "predicted: e; actual: e\n",
      "predicted: p; actual: p\n",
      "predicted: e; actual: e\n",
      "predicted: e; actual: e\n",
      "predicted: e; actual: e\n",
      "predicted: p; actual: p\n",
      "predicted: e; actual: e\n",
      "predicted: e; actual: e\n",
      "predicted: e; actual: e\n",
      "predicted: e; actual: e\n",
      "predicted: p; actual: p\n",
      "predicted: p; actual: p\n"
     ]
    }
   ],
   "source": [
    "def classify(tree, instance, default_class=None):\n",
    "    '''Returns a classification label for instance, given a decision tree'''\n",
    "    if not tree:  # if the node is empty, return the default class\n",
    "        return default_class\n",
    "    if not isinstance(tree, dict):  # if the node is a leaf, return its class label\n",
    "        return tree\n",
    "    attribute_index = list(tree.keys())[0]  # using list(dict.keys()) for Python 3 compatibility\n",
    "    attribute_values = list(tree.values())[0]\n",
    "    instance_attribute_value = instance[attribute_index]\n",
    "    if instance_attribute_value not in attribute_values:  # this value was not in training data\n",
    "        return default_class\n",
    "    # recursively traverse the subtree (branch) associated with instance_attribute_value\n",
    "    return classify(attribute_values[instance_attribute_value], instance, default_class)\n",
    "\n",
    "for instance in test_instances:\n",
    "    predicted_label = classify(tree, instance)\n",
    "    actual_label = instance[0]\n",
    "    print('predicted: {}; actual: {}'.format(predicted_label, actual_label))"
   ]
  },
  {
   "cell_type": "markdown",
   "metadata": {},
   "source": [
    "Pretty good, no? 20/20"
   ]
  },
  {
   "cell_type": "markdown",
   "metadata": {},
   "source": [
    "### 6.8 Evaluating the Accuracy of our Decision Tree"
   ]
  },
  {
   "cell_type": "markdown",
   "metadata": {},
   "source": [
    "It is often helpful to evaluate the performance of a model using a dataset not used in the training of that model. In the simple example shown above, we used all but the last 20 instances to train a simple decision tree, then classified those last 20 instances using the tree.\n",
    "\n",
    "The advantage of this training/test split is that visual inspection of the classifications (sometimes called *predictions*) is relatively straightforward, revealing that all 20 instances were correctly classified.\n",
    "\n",
    "There are a variety of metrics that can be used to evaluate the performance of a model. Scikit Learn's [Model Evaluation](http://scikit-learn.org/stable/modules/model_evaluation.html) library provides an overview and implementation of several possible metrics. For now, we simply measure the *accuracy* of a model, i.e., the percentage of test instances that are correctly classified (*true positives* and *true negatives*).\n",
    "\n",
    "The accuracy of the model above, given the set of 20 test instances, is 100% (20/20).\n",
    "\n",
    "The function below is *our very own function* that calculates the classification accuracy of a `tree` over a set of `test_instances` (with an optional `class_index` parameter indicating the position of the class label in each instance)."
   ]
  },
  {
   "cell_type": "code",
   "execution_count": 153,
   "metadata": {},
   "outputs": [
    {
     "name": "stdout",
     "output_type": "stream",
     "text": [
      "1.0\n"
     ]
    }
   ],
   "source": [
    "def classification_accuracy(tree, test_instances, class_index=0, default_class=None):\n",
    "    '''Returns the accuracy of classifying test_instances with tree, \n",
    "    where the class label is in position class_index'''\n",
    "    num_correct = 0\n",
    "    for i in range(len(test_instances)):\n",
    "        prediction = classify(tree, test_instances[i], default_class)\n",
    "        actual_value = test_instances[i][class_index]\n",
    "        if prediction == actual_value:\n",
    "            num_correct += 1\n",
    "    return num_correct / len(test_instances)\n",
    "\n",
    "print(classification_accuracy(tree, test_instances))"
   ]
  },
  {
   "cell_type": "markdown",
   "metadata": {},
   "source": [
    "In addition to showing the percentage of correctly classified instances, it may be helpful to return the actual counts of correctly and incorrectly classified instances, for example if we want to compile a total count of correctly and incorrectly classified instances over a collection of test instances.\n",
    "\n",
    "We use my beloved [`zip([iterable, ...])`](http://docs.python.org/2.7/library/functions.html#zip) function, which combines 2 or more sequences or iterables; the function returns a list of tuples, where the $i$th tuple contains the $i$th element from each of the argument sequences or iterables."
   ]
  },
  {
   "cell_type": "code",
   "execution_count": 35,
   "metadata": {},
   "outputs": [
    {
     "data": {
      "text/plain": [
       "[(0, 'a'), (1, 'b'), (2, 'c')]"
      ]
     },
     "execution_count": 35,
     "metadata": {},
     "output_type": "execute_result"
    }
   ],
   "source": [
    "list(zip([0, 1, 2], ['a', 'b', 'c']))"
   ]
  },
  {
   "cell_type": "markdown",
   "metadata": {},
   "source": [
    "We use Dua Lipa list comprehensions, the `Counter` class and the `zip()` function to modify `classification_accuracy()` so that it returns a packed tuple with: \n",
    "\n",
    "* the percentage of instances correctly classified\n",
    "* the number of correctly classified instances (true positives `e` or true negatives `p`)\n",
    "* the number of incorrectly classified instances (false positives `e` or false negatives `p`)\n",
    "\n",
    "We also modify the function to use `instances` rather than `test_instances`, as we sometimes want to be able to evaluate the accuracy of a model when tested on the training instances used to create it."
   ]
  },
  {
   "cell_type": "code",
   "execution_count": 154,
   "metadata": {},
   "outputs": [
    {
     "name": "stdout",
     "output_type": "stream",
     "text": [
      "(1.0, 20, 0)\n"
     ]
    }
   ],
   "source": [
    "def classification_accuracy(tree, instances, class_index=0, default_class=None):\n",
    "    '''Returns the accuracy of classifying test_instances with tree, \n",
    "    where the class label is in position class_index'''\n",
    "    predicted_labels = [classify(tree, instance, default_class) \n",
    "                        for instance in instances]\n",
    "    actual_labels = [x[class_index] \n",
    "                     for x in instances]\n",
    "    counts = Counter([x == y \n",
    "                      for x, y in zip(predicted_labels, actual_labels)])\n",
    "    return counts[True] / len(instances), counts[True], counts[False]\n",
    "\n",
    "print(classification_accuracy(tree, test_instances))"
   ]
  },
  {
   "cell_type": "markdown",
   "metadata": {},
   "source": [
    "We sometimes want to partition instances into subsets of equal size to measure performance. One metric this partitioning allows us to compute is a [learning curve](https://en.wikipedia.org/wiki/Learning_curve), a graphical representation of the relationship between how proficient people are at a task and the amount of experience they have. In our case, we want to be able to assess how well the model performs based on the size of its training set (more training data = more experienced model!). \n",
    "\n",
    "Another use of these partitions (aka *folds*) would be to conduct an [*n-fold cross validation*](https://en.wikipedia.org/wiki/Cross-validation_(statistics)) evaluation. We'll explore this specific partitioning further below.\n",
    "\n",
    "The following function, **`partition_instances(instances, num_partitions)`**, partitions a set of `instances` into `num_partitions` relatively equal-sized subsets. It's our own version of sklearn's `train_test_split()`."
   ]
  },
  {
   "cell_type": "code",
   "execution_count": 155,
   "metadata": {},
   "outputs": [],
   "source": [
    "def partition_instances(instances, num_partitions):\n",
    "    '''Returns a list of relatively equally sized disjoint sublists (partitions) \n",
    "    of the list of instances'''\n",
    "    return [[instances[j] \n",
    "             for j in range(i, len(instances), num_partitions)]\n",
    "            for i in range(num_partitions)]"
   ]
  },
  {
   "cell_type": "markdown",
   "metadata": {},
   "source": [
    "Before testing this function on the 5644 `clean_instances` from the UCI mushroom dataset, we create a small number of simplified instances to verify that the function has the desired behavior.\n",
    "\n",
    ">**Why?**: \n",
    "<br />\n",
    "<center>\n",
    "<img src = ipynb.images/baby-steps.png width = 400 />\n",
    "</center>\n",
    "\n",
    "We will use 5 instances of length 4:"
   ]
  },
  {
   "cell_type": "code",
   "execution_count": 156,
   "metadata": {},
   "outputs": [
    {
     "name": "stdout",
     "output_type": "stream",
     "text": [
      "Instances: [[0, 1, 2, 3], [1, 2, 3, 4], [2, 3, 4, 5], [3, 4, 5, 6], [4, 5, 6, 7]]\n",
      "Partitions: [[[0, 1, 2, 3], [2, 3, 4, 5], [4, 5, 6, 7]], [[1, 2, 3, 4], [3, 4, 5, 6]]]\n"
     ]
    }
   ],
   "source": [
    "instance_length = 4\n",
    "num_instances = 5\n",
    "\n",
    "simplified_instances = [[j \n",
    "                         for j in range(i, instance_length + i)] \n",
    "                        for i in range(num_instances)]\n",
    "\n",
    "print('Instances:', simplified_instances)\n",
    "partitions = partition_instances(simplified_instances, 2)\n",
    "print('Partitions:', partitions)"
   ]
  },
  {
   "cell_type": "markdown",
   "metadata": {},
   "source": [
    "[`enumerate(sequence, start=0)`](http://docs.python.org/2.7/library/functions.html#enumerate) function creates an iterator that successively returns the index and value of each element in a `sequence`, beginning at the `start` index."
   ]
  },
  {
   "cell_type": "code",
   "execution_count": 38,
   "metadata": {},
   "outputs": [
    {
     "name": "stdout",
     "output_type": "stream",
     "text": [
      "0 a\n",
      "1 b\n",
      "2 c\n"
     ]
    }
   ],
   "source": [
    "for i, x in enumerate(['a', 'b', 'c']):\n",
    "    print(i, x)"
   ]
  },
  {
   "cell_type": "markdown",
   "metadata": {},
   "source": [
    "We can use `enumerate()` to facilitate slightly more rigorous testing of our `partition_instances` function on our `simplified_instances`. `enumerate()` is an important tool in my Dua Lipa arsenal of data science programming!\n",
    "\n",
    "Note that since we are printing values rather than accumulating values, we will not use nested list comprehensions for this task."
   ]
  },
  {
   "cell_type": "code",
   "execution_count": 158,
   "metadata": {},
   "outputs": [
    {
     "name": "stdout",
     "output_type": "stream",
     "text": [
      "\n",
      "# partitions: 0\n",
      "\n",
      "# partitions: 1\n",
      "partition 0: [[0, 1, 2, 3], [1, 2, 3, 4], [2, 3, 4, 5], [3, 4, 5, 6], [4, 5, 6, 7]]\n",
      "\n",
      "# partitions: 2\n",
      "partition 0: [[0, 1, 2, 3], [2, 3, 4, 5], [4, 5, 6, 7]]\n",
      "partition 1: [[1, 2, 3, 4], [3, 4, 5, 6]]\n",
      "\n",
      "# partitions: 3\n",
      "partition 0: [[0, 1, 2, 3], [3, 4, 5, 6]]\n",
      "partition 1: [[1, 2, 3, 4], [4, 5, 6, 7]]\n",
      "partition 2: [[2, 3, 4, 5]]\n",
      "\n",
      "# partitions: 4\n",
      "partition 0: [[0, 1, 2, 3], [4, 5, 6, 7]]\n",
      "partition 1: [[1, 2, 3, 4]]\n",
      "partition 2: [[2, 3, 4, 5]]\n",
      "partition 3: [[3, 4, 5, 6]]\n"
     ]
    }
   ],
   "source": [
    "for i in range(num_instances):\n",
    "    print('\\n# partitions:', i)\n",
    "    for j, partition in enumerate(partition_instances(simplified_instances, i)):\n",
    "        print('partition {}: {}'.format(j, partition))"
   ]
  },
  {
   "cell_type": "markdown",
   "metadata": {},
   "source": [
    "Returning our attention to the UCI mushroom dataset, the following will partition our `clean_instances` into 10 relatively equally sized disjoint subsets. We will use a list comprehension to print out the length of each partition"
   ]
  },
  {
   "cell_type": "code",
   "execution_count": 159,
   "metadata": {},
   "outputs": [
    {
     "name": "stdout",
     "output_type": "stream",
     "text": [
      "[565, 565, 565, 565, 564, 564, 564, 564, 564, 564]\n"
     ]
    }
   ],
   "source": [
    "partitions = partition_instances(clean_instances, 10)\n",
    "print([len(partition) for partition in partitions])"
   ]
  },
  {
   "cell_type": "markdown",
   "metadata": {},
   "source": [
    "The following shows the different trees that are constructed based on partition 0 (first 10th) of `clean_instances`, partitions 0 and 1 (first 2/10ths) of `clean_instances` and all `clean_instances`."
   ]
  },
  {
   "cell_type": "code",
   "execution_count": 160,
   "metadata": {
    "scrolled": true
   },
   "outputs": [
    {
     "name": "stdout",
     "output_type": "stream",
     "text": [
      "Tree trained with 565 instances:\n",
      "{5: {'a': 'e',\n",
      "     'c': 'p',\n",
      "     'f': 'p',\n",
      "     'l': 'e',\n",
      "     'm': 'p',\n",
      "     'n': {20: {'k': 'e', 'n': 'e', 'r': 'p', 'w': 'e'}},\n",
      "     'p': 'p'}}\n",
      "\n",
      "Tree trained with 1130 instances:\n",
      "{5: {'a': 'e',\n",
      "     'c': 'p',\n",
      "     'f': 'p',\n",
      "     'l': 'e',\n",
      "     'm': 'p',\n",
      "     'n': {20: {'k': 'e',\n",
      "                'n': 'e',\n",
      "                'r': 'p',\n",
      "                'w': {21: {'c': 'p', 'v': 'e', 'y': 'e'}}}},\n",
      "     'p': 'p'}}\n",
      "\n",
      "Tree trained with 5644 instances:\n",
      "{5: {'a': 'e',\n",
      "     'c': 'p',\n",
      "     'f': 'p',\n",
      "     'l': 'e',\n",
      "     'm': 'p',\n",
      "     'n': {20: {'k': 'e',\n",
      "                'n': 'e',\n",
      "                'r': 'p',\n",
      "                'w': {21: {'c': 'p', 'v': 'e', 'y': 'e'}}}},\n",
      "     'p': 'p'}}\n"
     ]
    }
   ],
   "source": [
    "tree0 = create_decision_tree(partitions[0])\n",
    "print('Tree trained with {} instances:'.format(len(partitions[0])))\n",
    "pprint(tree0)\n",
    "print()\n",
    "\n",
    "tree1 = create_decision_tree(partitions[0] + partitions[1])\n",
    "print('Tree trained with {} instances:'.format(len(partitions[0] + partitions[1])))\n",
    "pprint(tree1)\n",
    "print()\n",
    "\n",
    "tree = create_decision_tree(clean_instances)\n",
    "print('Tree trained with {} instances:'.format(len(clean_instances)))\n",
    "pprint(tree)"
   ]
  },
  {
   "cell_type": "markdown",
   "metadata": {},
   "source": [
    "The only difference between the first two trees - *tree0* and *tree1* - is that in the first tree, instances with no `odor` (attribute index `5` is `'n'`) and a `spore-print-color` of white (attribute `20` = `'w'`) are classified as `edible` (`'e'`). With additional training data in the 2nd partition, an additional distinction is made such that instances with no `odor`, a white `spore-print-color` and a clustered `population` (attribute `21` = `'c'`) are classified as `poisonous` (`'p'`), while all other instances with no `odor` and a white `spore-print-color` (and any other value for the `population` attribute) are classified as `edible` (`'e'`).\n",
    "\n",
    "Note that there is no difference between `tree1` and `tree` (the tree trained with all instances). This early convergence on an optimal model is uncommon on most datasets (outside the UCI repository). In other words, it appears like it's an *easy* task to predict how edible mushrooms are based on their physical attributes."
   ]
  },
  {
   "cell_type": "markdown",
   "metadata": {},
   "source": [
    "### 6.9 Learning curves"
   ]
  },
  {
   "cell_type": "markdown",
   "metadata": {},
   "source": [
    "Now that we can partition our instances into subsets, we can use these subsets to construct different-sized training sets in the process of computing a learning curve (analogous to *k-fold cross-validation*, which we'll talk about a bit further down).\n",
    "\n",
    ">**Definition**: A learning curve shows the validation and training score of an estimator for varying numbers of training samples. It is a tool to find out how much we benefit from adding more training data and whether the estimator suffers more from a **variance error** or a **bias error**. It is useful for many purposes including comparing different algorithms, choosing model parameters during design, adjusting optimization to improve convergence, and determining the amount of data to use for training."
   ]
  },
  {
   "cell_type": "markdown",
   "metadata": {},
   "source": [
    "### Bias and Variance in a Model\n",
    "\n",
    "There are various ways to evaluate a machine-learning model. We can use MSE (Mean Squared Error) for Regression, Precision, Recall, and ROC (Receiver of Characteristics) for a Classification Problem. In a similar way, Bias and Variance help us in parameter tuning and picking better-fitting models.\n",
    "\n",
    "**Bias** is one type of error that occurs due to wrong assumptions about data such as assuming data is linear when in reality, data follows a complex function. It is a *weakness* in the model because there is difference between the model’s predicted value and the actual value. A high bias model means more assumptions are taken to build the target function. For example, a linear regression model may have a high bias if the data has a non-linear relationship. A high-bias model often **underfits**.\n",
    "\n",
    "**Variance** is the measure of spread in data from its mean position. Variance gets introduced in ML with high sensitivity to variations in training data. In ML, Variance is the amount by which the performance of a predictive model changes when it is trained on different subsets of the training data. A high-variance model probably **overfits**.\n",
    "\n",
    "And so a good model is one that is in-between a high-bias model and a high-variance model.\n",
    "\n",
    "There are *two* types of error in machine learning. **Reducible error** and **irreducible error**. Bias and Variance come under the reducible error category: We *can* do something about and find the sweet port between high bias and high variance.\n",
    "\n",
    "#### Ways to reduce high bias in Machine Learning:\n",
    "- Use a more complex model: One of the main reasons for high bias is the very simplified model. it will not be able to capture the complexity of the data. In such cases, we can make our mode more complex by increasing the number of hidden layers in the case of a deep neural network. \n",
    "- Increase the number of features: By adding more features to train the dataset will increase the complexity of the model and improve its ability to capture underlying patterns in the data.\n",
    "- Reduce Regularization of the model: Regularization techniques such as L1 or L2 regularization can help to prevent overfitting and improve the generalization ability of the model. if the model has a high bias, reducing the strength of regularization or removing it altogether can help to improve its performance.\n",
    "- Increase the size of the training data\n",
    "\n",
    "#### Ways to Reduce the reduce Variance in Machine Learning:\n",
    "- Cross-validation: By splitting the data into training and testing sets multiple times, cross-validation can help identify if a model is overfitting and can be used to tune hyperparameters to reduce variance.\n",
    "- Feature selection: By choosing only relevant feature and decreasing model complexity, we can reduce variance error.\n",
    "- Regularization: We can use L1 or L2 regularization to reduce variance in machine learning models\n",
    "- Ensemble methods: Combining multiple models to improve generalization performance. Bagging, boosting, and stacking are common ensemble methods that can help reduce variance and improve generalization performance.\n",
    "- Simplifying the model: Reducing the complexity of the model, such as decreasing the number of parameters or layers in a neural network, can also help reduce variance and improve generalization performance.\n",
    "- Early stopping: Early stopping is a technique used to prevent overfitting by stopping training of the deep learning model when the performance on the validation set stops improving."
   ]
  },
  {
   "cell_type": "markdown",
   "metadata": {},
   "source": [
    "We will start off with an initial training set consisting only of the first partition, and then progressively extend that training set by adding a new partition during each iteration of computing the learning curve.\n",
    "\n",
    "[**`list.extend(L)`**](http://docs.python.org/2/tutorial/datastructures.html#more-on-lists) enables us to extend `list` by appending all the items in another list, `L`, to the end of `list`."
   ]
  },
  {
   "cell_type": "code",
   "execution_count": 36,
   "metadata": {},
   "outputs": [
    {
     "name": "stdout",
     "output_type": "stream",
     "text": [
      "[1, 2, 3, 4, 5]\n"
     ]
    }
   ],
   "source": [
    "x = [1, 2, 3]\n",
    "x.extend([4, 5])\n",
    "print(x)"
   ]
  },
  {
   "cell_type": "markdown",
   "metadata": {},
   "source": [
    "We now define the function, `compute_learning_curve(instances, num_partitions=10)`, which will take a list of `instances`, partition it into `num_partitions` relatively equally sized disjoint partitions, and then iteratively evaluate the accuracy of models trained with an incrementally increasing combination of instances. In other words, a model trained with the first partition will be constructed (and tested), then a model trained with the first 2 partitions will be constructed (and tested), and so on. \n",
    "\n",
    "The function will return a list of `num_partitions - 1` tuples representing the size of the training set and the accuracy of a tree trained with that set (and tested on the `num_partitions - 1` set). This will provide some indication of the relative impact of the size of the training set on model performance."
   ]
  },
  {
   "cell_type": "code",
   "execution_count": 161,
   "metadata": {},
   "outputs": [
    {
     "name": "stdout",
     "output_type": "stream",
     "text": [
      "[(565, (0.9964539007092199, 562, 2)), (1130, (1.0, 564, 0)), (1695, (1.0, 564, 0)), (2260, (1.0, 564, 0)), (2824, (1.0, 564, 0)), (3388, (1.0, 564, 0)), (3952, (1.0, 564, 0)), (4516, (1.0, 564, 0)), (5080, (1.0, 564, 0))]\n"
     ]
    }
   ],
   "source": [
    "def compute_learning_curve(instances, num_partitions=10):\n",
    "    '''Returns a list of training sizes and scores for incrementally increasing partitions.\n",
    "\n",
    "    The list contains 2-element tuples, each representing a training size and score.\n",
    "    The i-th training size is the number of instances in partitions 0 through num_partitions - 2.\n",
    "    The i-th score is the accuracy of a tree trained with instances \n",
    "    from partitions 0 through num_partitions - 2\n",
    "    and tested on instances from num_partitions - 1 (the last partition).'''\n",
    "    \n",
    "    partitions = partition_instances(instances, num_partitions)\n",
    "    test_instances = partitions[-1][:]\n",
    "    training_instances = []\n",
    "    accuracy_list = []\n",
    "    for i in range(0, num_partitions - 1):\n",
    "        # for each iteration, the training set is composed of partitions 0 through i - 1\n",
    "        training_instances.extend(partitions[i][:])\n",
    "        tree = create_decision_tree(training_instances)\n",
    "        partition_accuracy = classification_accuracy(tree, test_instances)\n",
    "        accuracy_list.append((len(training_instances), partition_accuracy))\n",
    "    return accuracy_list\n",
    "\n",
    "accuracy_list = compute_learning_curve(clean_instances)\n",
    "print(accuracy_list)"
   ]
  },
  {
   "cell_type": "markdown",
   "metadata": {},
   "source": [
    "As we can see, the UCI mushroom dataset is a particularly clean and simple data set, enabling quick convergence on an optimal decision tree for classifying new instances using relatively few training instances. \n",
    "\n",
    "Maybe we can use a larger number of smaller partitions to see a little more variation in accuracy performance?"
   ]
  },
  {
   "cell_type": "code",
   "execution_count": 51,
   "metadata": {},
   "outputs": [
    {
     "name": "stdout",
     "output_type": "stream",
     "text": [
      "[(57, 0.9821428571428571), (114, 1.0), (171, 0.9821428571428571), (228, 1.0), (285, 1.0), (342, 1.0), (399, 1.0), (456, 1.0), (513, 1.0), (570, 1.0)]\n"
     ]
    }
   ],
   "source": [
    "accuracy_list = compute_learning_curve(clean_instances, 100)\n",
    "print(accuracy_list[:10])"
   ]
  },
  {
   "cell_type": "markdown",
   "metadata": {},
   "source": [
    "Nope. We converge very fast. Both our bias and variance errors are low.\n",
    "\n",
    ">**Lesson learned**: Learning curves are a good tool to use when we are not sure we have yet converged to optimal accuracy: How far away do we think we are?"
   ]
  },
  {
   "cell_type": "markdown",
   "metadata": {},
   "source": [
    "### 6.10 Python Class to Encapsulate a Simple Decision Tree"
   ]
  },
  {
   "cell_type": "markdown",
   "metadata": {},
   "source": [
    "The simple decision tree defined above uses a Python dictionary for its representation. One can imagine using other data structures, and/or extending the decision tree to support confidence estimates, numeric features and other capabilities that are often included in more fully functional implementations. To support future extensibility, and hide the details of the representation from the user, it would be helpful to have a user-defined class for simple decision trees.\n",
    "\n",
    "Note that other machine learning libraries may use different terminology for some of the functions defined above. For example, in the [`sklearn.tree.DecisionTreeClassifier`](http://scikit-learn.org/stable/modules/generated/sklearn.tree.DecisionTreeClassifier.html) class (and in most `sklearn` classifier classes), the method for constructing a classifier is named [`fit()`](http://scikit-learn.org/stable/modules/generated/sklearn.tree.DecisionTreeClassifier.html#sklearn.tree.DecisionTreeClassifier.fit) - since it \"fits\" the data to a model - and the method for classifying test instances is named [`predict()`](http://scikit-learn.org/stable/modules/generated/sklearn.tree.DecisionTreeClassifier.html#sklearn.tree.DecisionTreeClassifier.predict) - since it is predicting the class label for an instance.\n",
    "\n",
    "In keeping with this common terminology, the code below defines a class, **`SimpleDecisionTree`**, with a single pseudo-protected member variable `_tree`, three public methods - `fit()`, `predict()` and `pprint()` - and two auxilary methods - `_create_tree()` and `_predict()` - to augment the `fit()` and `predict()` methods, respectively. \n",
    "\n",
    "The `fit()` method is identical to the `create_decision_tree()` function above, with the inclusion of the `self` parameter (as it is now a class method rather than a function). The `predict()` method is a similarly modified version of the `classify()` function, with the added capability to predict the label of either a single instance or a list of instances. The `classification_accuracy()` method is similar to the function of the same name (with the addition of the `self` parameter). The `pprint()` method prints the tree in a human-readable format.\n",
    "\n"
   ]
  },
  {
   "cell_type": "code",
   "execution_count": 162,
   "metadata": {},
   "outputs": [],
   "source": [
    "class SimpleDecisionTree:\n",
    "\n",
    "    _tree = {}  # this instance variable becomes accessible to class methods via self._tree\n",
    "\n",
    "    def __init__(self):\n",
    "        # this is where we would initialize any parameters to the SimpleDecisionTree\n",
    "        pass\n",
    "            \n",
    "    def fit(self, \n",
    "            instances, \n",
    "            candidate_attribute_indexes=None,\n",
    "            target_attribute_index=0,\n",
    "            default_class=None):\n",
    "        if not candidate_attribute_indexes:\n",
    "            candidate_attribute_indexes = [i \n",
    "                                           for i in range(len(instances[0]))\n",
    "                                           if i != target_attribute_index]\n",
    "        self._tree = self._create_tree(instances,\n",
    "                                       candidate_attribute_indexes,\n",
    "                                       target_attribute_index,\n",
    "                                       default_class)\n",
    "        \n",
    "    def _create_tree(self,\n",
    "                     instances,\n",
    "                     candidate_attribute_indexes,\n",
    "                     target_attribute_index=0,\n",
    "                     default_class=None):\n",
    "        class_labels_and_counts = Counter([instance[target_attribute_index] \n",
    "                                           for instance in instances])\n",
    "        if not instances or not candidate_attribute_indexes:\n",
    "            return default_class\n",
    "        elif len(class_labels_and_counts) == 1:\n",
    "            class_label = class_labels_and_counts.most_common(1)[0][0]\n",
    "            return class_label\n",
    "        else:\n",
    "            default_class = simple_ml.majority_value(instances, target_attribute_index)\n",
    "            best_index = simple_ml.choose_best_attribute_index(instances, \n",
    "                                                               candidate_attribute_indexes, \n",
    "                                                               target_attribute_index)\n",
    "            tree = {best_index:{}}\n",
    "            partitions = simple_ml.split_instances(instances, best_index)\n",
    "            remaining_candidate_attribute_indexes = [i \n",
    "                                                     for i in candidate_attribute_indexes \n",
    "                                                     if i != best_index]\n",
    "            for attribute_value in partitions:\n",
    "                subtree = self._create_tree(\n",
    "                    partitions[attribute_value],\n",
    "                    remaining_candidate_attribute_indexes,\n",
    "                    target_attribute_index,\n",
    "                    default_class)\n",
    "                tree[best_index][attribute_value] = subtree\n",
    "            return tree\n",
    "    \n",
    "    def predict(self, instances, default_class=None):\n",
    "        if not isinstance(instances, list):\n",
    "            return self._predict(self._tree, instance, default_class)\n",
    "        else:\n",
    "            return [self._predict(self._tree, instance, default_class) \n",
    "                    for instance in instances]\n",
    "    \n",
    "    def _predict(self, tree, instance, default_class=None):\n",
    "        if not tree:\n",
    "            return default_class\n",
    "        if not isinstance(tree, dict):\n",
    "            return tree\n",
    "        attribute_index = list(tree.keys())[0]  # using list(dict.keys()) for Py3 compatibiity\n",
    "        attribute_values = list(tree.values())[0]\n",
    "        instance_attribute_value = instance[attribute_index]\n",
    "        if instance_attribute_value not in attribute_values:\n",
    "            return default_class\n",
    "        return self._predict(attribute_values[instance_attribute_value],\n",
    "                             instance,\n",
    "                             default_class)\n",
    "    \n",
    "    def classification_accuracy(self, instances, default_class=None):\n",
    "        predicted_labels = self.predict(instances, default_class)\n",
    "        actual_labels = [x[0] for x in instances]\n",
    "        counts = Counter([x == y for x, y in zip(predicted_labels, actual_labels)])\n",
    "        return counts[True] / len(instances), counts[True], counts[False]\n",
    "    \n",
    "    def pprint(self):\n",
    "        pprint(self._tree)"
   ]
  },
  {
   "cell_type": "markdown",
   "metadata": {},
   "source": [
    "The code below instantiates a `SimpleDecisionTree`, using all but the last 20 `clean_instances` (`training_instances`), prints out the tree using its `pprint()` method, and then uses the `classify()` method to print the classification of the last 20 `clean_instances`."
   ]
  },
  {
   "cell_type": "code",
   "execution_count": 163,
   "metadata": {},
   "outputs": [
    {
     "name": "stdout",
     "output_type": "stream",
     "text": [
      "{5: {'a': 'e',\n",
      "     'c': 'p',\n",
      "     'f': 'p',\n",
      "     'l': 'e',\n",
      "     'm': 'p',\n",
      "     'n': {20: {'k': 'e',\n",
      "                'n': 'e',\n",
      "                'r': 'p',\n",
      "                'w': {21: {'c': 'p', 'v': 'e', 'y': 'e'}}}},\n",
      "     'p': 'p'}}\n",
      "\n",
      "Model: p; truth: p\n",
      "Model: p; truth: p\n",
      "Model: p; truth: p\n",
      "Model: e; truth: e\n",
      "Model: e; truth: e\n",
      "Model: p; truth: p\n",
      "Model: e; truth: e\n",
      "Model: e; truth: e\n",
      "Model: e; truth: e\n",
      "Model: p; truth: p\n",
      "Model: e; truth: e\n",
      "Model: e; truth: e\n",
      "Model: e; truth: e\n",
      "Model: p; truth: p\n",
      "Model: e; truth: e\n",
      "Model: e; truth: e\n",
      "Model: e; truth: e\n",
      "Model: e; truth: e\n",
      "Model: p; truth: p\n",
      "Model: p; truth: p\n",
      "\n",
      "Classification accuracy: (1.0, 20, 0)\n"
     ]
    }
   ],
   "source": [
    "simple_decision_tree = SimpleDecisionTree()\n",
    "simple_decision_tree.fit(training_instances)\n",
    "simple_decision_tree.pprint()\n",
    "print()\n",
    "\n",
    "predicted_labels = simple_decision_tree.predict(test_instances)\n",
    "actual_labels = [instance[0] for instance in test_instances]\n",
    "for predicted_label, actual_label in zip(predicted_labels, actual_labels):\n",
    "    print('Model: {}; truth: {}'.format(predicted_label, actual_label))\n",
    "print()\n",
    "print('Classification accuracy:', simple_decision_tree.classification_accuracy(test_instances))"
   ]
  },
  {
   "cell_type": "markdown",
   "metadata": {},
   "source": [
    "## 7 Classifying continuous attributes with skLearn\n",
    "Ok, now we know how a decision tree algorithm works because *we built our very own*!\n",
    "\n",
    "Our mushroom dataset was **categorical**, so we used **information gain** as our decision tree inducer metric.\n",
    "\n",
    "What happens when we have columns of *continuous* rather than categorical data. Can we still use a decision tree?\n",
    "\n",
    "Yes we can! Instead of *categorical equality branching questions*, we use *continuous inequality branching questions* as our splitter predicate, and maybe even use **Gini impurity** rather than **information gain** as our inducer.\n",
    "\n",
    "Let's define Gini impurity, and then let's use skLearn's implementation of the decision tree algorithm to see how it works.\n",
    "\n",
    "### 7.1 Gini impurity\n",
    "Sklearn works with Gini impurity rather than information gain. Let's define Gini impurity.\n",
    "\n",
    "Suppose we have a dataset of 5 blue balls and 5 green balls.\n",
    "\n",
    "Suppose we\n",
    "\n",
    "- Randomly pick a datapoint in our dataset, then\n",
    "- Randomly classify it according to the class distribution in the dataset. For our dataset, we’d classify it as blue $\\frac{5}{10}$ of the time and as green $\\frac{5}{10}$ of the time, since we have 5 balls of each color.\n",
    "\n",
    "What’s the probability we classify the datapoint *incorrectly*? The answer to that question is the **Gini Impurity**.\n",
    "\n",
    "Let’s calculate the Gini Impurity of our entire dataset. If we randomly pick a ball, it’s either blue (50%) or green (50%).\n",
    "\n",
    "Now, we randomly classify our datapoint according to the class distribution. Since we have 5 of each color, we classify it as blue 50% of the time and as green 50% of the time.\n",
    "\n",
    "What’s the probability we classify our ball ***incorrectly***?\n",
    "\n",
    "If there is one thing we learned in Info6105, it's that in order to evaluate probabilities, we enumerate every single possibility in the universe of possibilities in order to not allow our own *biases* to influence our predictions. This is actually a very important issue in ML because we need to ensure our algorithms are culled from the biases that are ingrained in the observations machines learn from. \n",
    "\n",
    "|Event\t|Probability|\n",
    "|-|-|\n",
    "|Pick Blue| Classify Blue ✓\t25%|\n",
    "|Pick Blue| Classify Green ❌\t25%|\n",
    "|Pick Green| Classify Blue ❌\t25%|\n",
    "|Pick Green| Classify Green ✓\t25%|\n",
    "\n",
    "We only classify it incorrectly in 2 of the events above. Thus, our total probability of misclassification is 25% + 25% = 50%, so the Gini Impurity is $\\boxed{0.5}$.\n",
    "\n",
    "In a general case, if we have $C$ total classes and $p(i)$ is the probability of picking a datapoint with class $i$, then the Gini Impurity is calculated as\n",
    "\n",
    "$$G = \\sum_{i=1}^C p(i) * (1 - p(i))$$\n",
    "\n",
    "which is almost but not exactly like **entropy** (I like to call it *negative entropy*).\n",
    "\n",
    "For our example, we have $C = 2$ and $p(1) = p(2) = 0.5$, so\n",
    "\n",
    "$$G=p(1)∗(1−p(1))+p(2)∗(1−p(2))$$"
   ]
  },
  {
   "cell_type": "code",
   "execution_count": 165,
   "metadata": {},
   "outputs": [
    {
     "data": {
      "text/plain": [
       "0.5"
      ]
     },
     "execution_count": 165,
     "metadata": {},
     "output_type": "execute_result"
    }
   ],
   "source": [
    "0.5*(1 - 0.5) + 0.5*(1 - 0.5)"
   ]
  },
  {
   "cell_type": "markdown",
   "metadata": {},
   "source": [
    "Let’s return to our imperfect split in **Section 6.3 Information gain** of 5 blue balls and 5 green balls.\n",
    "\n",
    "Left Branch has only blues, so we know that $G_{left} = 0$\n",
    "\n",
    "Right Branch has 1 blue and 5 greens, so $G_{right} = \\frac{1}{6} * ( 1 - \\frac{1}{6} ) + \\frac{5}{6} * ( 1 - \\frac{5}{6} )$"
   ]
  },
  {
   "cell_type": "code",
   "execution_count": 166,
   "metadata": {},
   "outputs": [
    {
     "data": {
      "text/plain": [
       "0.2777777777777778"
      ]
     },
     "execution_count": 166,
     "metadata": {},
     "output_type": "execute_result"
    }
   ],
   "source": [
    "1/6 * (1 - 1/6) + 5/6 * (1 - 5/6)"
   ]
  },
  {
   "cell_type": "markdown",
   "metadata": {},
   "source": [
    "We’ll determine the **quality** of the split by weighting the impurity of each branch by how many elements it has. Since Left Branch has 4 elements and Right Branch has 6, we get:"
   ]
  },
  {
   "cell_type": "code",
   "execution_count": 167,
   "metadata": {},
   "outputs": [
    {
     "data": {
      "text/plain": [
       "0.1668"
      ]
     },
     "execution_count": 167,
     "metadata": {},
     "output_type": "execute_result"
    }
   ],
   "source": [
    "(0.4 * 0) + (0.6 * 0.278)"
   ]
  },
  {
   "cell_type": "markdown",
   "metadata": {},
   "source": [
    "Thus, the amount of impurity we’ve “removed” with this split is"
   ]
  },
  {
   "cell_type": "code",
   "execution_count": 168,
   "metadata": {},
   "outputs": [
    {
     "data": {
      "text/plain": [
       "0.33299999999999996"
      ]
     },
     "execution_count": 168,
     "metadata": {},
     "output_type": "execute_result"
    }
   ],
   "source": [
    "0.5 - 0.167"
   ]
  },
  {
   "cell_type": "markdown",
   "metadata": {},
   "source": [
    "This value is the **Gini gain**. We can use this to pick the best split in a decision tree, just like **information gain**. Higher Gini gain = better split. \n",
    "\n",
    "When training a decision tree, the best split is chosen by maximizing the Gini gain, which is calculated by subtracting the weighted impurities of the branches from the original impurity."
   ]
  },
  {
   "cell_type": "markdown",
   "metadata": {},
   "source": [
    "### 7.2 A simple example\n",
    "\n",
    "Suppose we have a more complicated dataset consisting of a categorical column with 3 colors, an $x$ column of continuous values, and a $y$ column of continuous values:\n",
    "\n",
    "<br />\n",
    "<center>\n",
    "<img src = ipynb.images/ig-example2-dataset.svg width = 300 />\n",
    "</center>\n",
    "\n",
    "Suppose the color columns is the dependent (target) variable, and the $X$ and $y$ columns are the independent variables.\n",
    "\n",
    "Our first task is to determine the **root** decision node in our tree. Which feature ($x$ or $y$) will it test on, and what will the test threshold be?\n",
    "\n",
    "Trying every split means trying\n",
    "\n",
    "- Every feature ($x$ or $y$)\n",
    "- All *unique* thresholds: We only need to try thresholds that produce different splits.\n",
    "\n",
    "For example, here are the thresholds we might select if we wanted to use the $x$ coordinate:\n",
    "\n",
    "<br />\n",
    "<center>\n",
    "<img src = ipynb.images/dataset2-thresholds-x.svg width = 300 />\n",
    "</center>\n",
    "\n",
    "But what we actually need to consider is *all features* and thus:\n",
    "\n",
    "<br />\n",
    "<center>\n",
    "<img src = ipynb.images/dataset2-thresholds.svg width = 300 />\n",
    "</center>\n",
    "\n",
    "After trying ***all*** thresholds for both $x$ and $y$, we find that the $x = 2$ split has the highest Gini Gain, so we’ll make our root decision node use the $x$ feature with a threshold of 2.\n",
    "\n",
    "<br />\n",
    "<center>\n",
    "<img src = ipynb.images/decision-tree2-build1.svg width = 300 />\n",
    "</center>\n",
    "\n",
    "Time to make our second decision node! Let’s (arbitrarily) go to the left branch. We’re now only using the datapoints that would take the left branch (i.e. the datapoints satisfying $x < 2$), specifically the 3 blues and 3 reds.      \n",
    "\n",
    "To build our second decision node, we just do the same thing! We try every possible split for the 6 datapoints we have and realize that $y = 2$ is the best split. We make that into a decision node and now have this:\n",
    "\n",
    "<br />\n",
    "<center>\n",
    "<img src = ipynb.images/decision-tree2-build2.svg width = 450 />\n",
    "</center>\n",
    "\n",
    "It doesn’t makes sense to add a decision node on the rightmost node because doing so wouldn’t improve our decision tree. Thus, we’ll make this node a leaf node and slap the Green label on it. This means that we’ll classify any datapoint that reaches this node as Green.\n",
    "\n",
    "If we continue to the 2 remaining bottommost nodes, the same thing will happen: we’ll make the bottom left node our Blue leaf node, and we’ll make the bottom right node our Red leaf node. \n",
    "\n",
    "That brings us to the final result:\n",
    "<br />\n",
    "<center>\n",
    "<img src = ipynb.images/decision-tree2.svg width = 450 />\n",
    "</center>"
   ]
  },
  {
   "cell_type": "markdown",
   "metadata": {},
   "source": [
    "Let's examine this technique with sklearn, using a classic dataset.\n",
    "\n",
    "###  7.3 `iris` dataset"
   ]
  },
  {
   "cell_type": "code",
   "execution_count": 164,
   "metadata": {},
   "outputs": [],
   "source": [
    "import pandas as pd\n",
    "import numpy as np\n",
    "from sklearn import datasets\n",
    "FEATURE_NAMES = ['Sepal Length', 'Sepal Width', 'Petal Length', 'Petal Width']"
   ]
  },
  {
   "cell_type": "code",
   "execution_count": 165,
   "metadata": {},
   "outputs": [],
   "source": [
    "iris = datasets.load_iris()\n",
    "X = pd.DataFrame(iris.data, columns = FEATURE_NAMES)\n",
    "y = iris.target"
   ]
  },
  {
   "cell_type": "code",
   "execution_count": 166,
   "metadata": {},
   "outputs": [
    {
     "data": {
      "text/html": [
       "<div>\n",
       "<style scoped>\n",
       "    .dataframe tbody tr th:only-of-type {\n",
       "        vertical-align: middle;\n",
       "    }\n",
       "\n",
       "    .dataframe tbody tr th {\n",
       "        vertical-align: top;\n",
       "    }\n",
       "\n",
       "    .dataframe thead th {\n",
       "        text-align: right;\n",
       "    }\n",
       "</style>\n",
       "<table border=\"1\" class=\"dataframe\">\n",
       "  <thead>\n",
       "    <tr style=\"text-align: right;\">\n",
       "      <th></th>\n",
       "      <th>Sepal Length</th>\n",
       "      <th>Sepal Width</th>\n",
       "      <th>Petal Length</th>\n",
       "      <th>Petal Width</th>\n",
       "    </tr>\n",
       "  </thead>\n",
       "  <tbody>\n",
       "    <tr>\n",
       "      <th>0</th>\n",
       "      <td>5.1</td>\n",
       "      <td>3.5</td>\n",
       "      <td>1.4</td>\n",
       "      <td>0.2</td>\n",
       "    </tr>\n",
       "    <tr>\n",
       "      <th>1</th>\n",
       "      <td>4.9</td>\n",
       "      <td>3.0</td>\n",
       "      <td>1.4</td>\n",
       "      <td>0.2</td>\n",
       "    </tr>\n",
       "    <tr>\n",
       "      <th>2</th>\n",
       "      <td>4.7</td>\n",
       "      <td>3.2</td>\n",
       "      <td>1.3</td>\n",
       "      <td>0.2</td>\n",
       "    </tr>\n",
       "    <tr>\n",
       "      <th>3</th>\n",
       "      <td>4.6</td>\n",
       "      <td>3.1</td>\n",
       "      <td>1.5</td>\n",
       "      <td>0.2</td>\n",
       "    </tr>\n",
       "    <tr>\n",
       "      <th>4</th>\n",
       "      <td>5.0</td>\n",
       "      <td>3.6</td>\n",
       "      <td>1.4</td>\n",
       "      <td>0.2</td>\n",
       "    </tr>\n",
       "    <tr>\n",
       "      <th>...</th>\n",
       "      <td>...</td>\n",
       "      <td>...</td>\n",
       "      <td>...</td>\n",
       "      <td>...</td>\n",
       "    </tr>\n",
       "    <tr>\n",
       "      <th>145</th>\n",
       "      <td>6.7</td>\n",
       "      <td>3.0</td>\n",
       "      <td>5.2</td>\n",
       "      <td>2.3</td>\n",
       "    </tr>\n",
       "    <tr>\n",
       "      <th>146</th>\n",
       "      <td>6.3</td>\n",
       "      <td>2.5</td>\n",
       "      <td>5.0</td>\n",
       "      <td>1.9</td>\n",
       "    </tr>\n",
       "    <tr>\n",
       "      <th>147</th>\n",
       "      <td>6.5</td>\n",
       "      <td>3.0</td>\n",
       "      <td>5.2</td>\n",
       "      <td>2.0</td>\n",
       "    </tr>\n",
       "    <tr>\n",
       "      <th>148</th>\n",
       "      <td>6.2</td>\n",
       "      <td>3.4</td>\n",
       "      <td>5.4</td>\n",
       "      <td>2.3</td>\n",
       "    </tr>\n",
       "    <tr>\n",
       "      <th>149</th>\n",
       "      <td>5.9</td>\n",
       "      <td>3.0</td>\n",
       "      <td>5.1</td>\n",
       "      <td>1.8</td>\n",
       "    </tr>\n",
       "  </tbody>\n",
       "</table>\n",
       "<p>150 rows × 4 columns</p>\n",
       "</div>"
      ],
      "text/plain": [
       "     Sepal Length  Sepal Width  Petal Length  Petal Width\n",
       "0             5.1          3.5           1.4          0.2\n",
       "1             4.9          3.0           1.4          0.2\n",
       "2             4.7          3.2           1.3          0.2\n",
       "3             4.6          3.1           1.5          0.2\n",
       "4             5.0          3.6           1.4          0.2\n",
       "..            ...          ...           ...          ...\n",
       "145           6.7          3.0           5.2          2.3\n",
       "146           6.3          2.5           5.0          1.9\n",
       "147           6.5          3.0           5.2          2.0\n",
       "148           6.2          3.4           5.4          2.3\n",
       "149           5.9          3.0           5.1          1.8\n",
       "\n",
       "[150 rows x 4 columns]"
      ]
     },
     "execution_count": 166,
     "metadata": {},
     "output_type": "execute_result"
    }
   ],
   "source": [
    "X"
   ]
  },
  {
   "cell_type": "code",
   "execution_count": 167,
   "metadata": {},
   "outputs": [
    {
     "data": {
      "text/plain": [
       "array([0, 0, 0, 0, 0, 0, 0, 0, 0, 0, 0, 0, 0, 0, 0, 0, 0, 0, 0, 0, 0, 0,\n",
       "       0, 0, 0, 0, 0, 0, 0, 0, 0, 0, 0, 0, 0, 0, 0, 0, 0, 0, 0, 0, 0, 0,\n",
       "       0, 0, 0, 0, 0, 0, 1, 1, 1, 1, 1, 1, 1, 1, 1, 1, 1, 1, 1, 1, 1, 1,\n",
       "       1, 1, 1, 1, 1, 1, 1, 1, 1, 1, 1, 1, 1, 1, 1, 1, 1, 1, 1, 1, 1, 1,\n",
       "       1, 1, 1, 1, 1, 1, 1, 1, 1, 1, 1, 1, 2, 2, 2, 2, 2, 2, 2, 2, 2, 2,\n",
       "       2, 2, 2, 2, 2, 2, 2, 2, 2, 2, 2, 2, 2, 2, 2, 2, 2, 2, 2, 2, 2, 2,\n",
       "       2, 2, 2, 2, 2, 2, 2, 2, 2, 2, 2, 2, 2, 2, 2, 2, 2, 2])"
      ]
     },
     "execution_count": 167,
     "metadata": {},
     "output_type": "execute_result"
    }
   ],
   "source": [
    "y"
   ]
  },
  {
   "cell_type": "code",
   "execution_count": 168,
   "metadata": {},
   "outputs": [],
   "source": [
    "from sklearn.preprocessing import LabelEncoder\n",
    "\n",
    "def transform_categorical(data):\n",
    "    categories = (data.dtypes ==\"object\")\n",
    "    cat_cols = list(categories[categories].index)\n",
    "    label_encoder = LabelEncoder()\n",
    "    for col in cat_cols:\n",
    "        data[col] = label_encoder.fit_transform(data[col])"
   ]
  },
  {
   "cell_type": "code",
   "execution_count": 169,
   "metadata": {},
   "outputs": [],
   "source": [
    "from sklearn.preprocessing import MinMaxScaler\n",
    "\n",
    "def scale_numerical(data):\n",
    "    scaler = MinMaxScaler()\n",
    "    data[data.columns] = scaler.fit_transform(data[data.columns])"
   ]
  },
  {
   "cell_type": "code",
   "execution_count": 161,
   "metadata": {},
   "outputs": [],
   "source": [
    "# Unneeded!\n",
    "#transform_categorical(X)\n",
    "#scale_numerical(X)"
   ]
  },
  {
   "cell_type": "code",
   "execution_count": 174,
   "metadata": {},
   "outputs": [],
   "source": [
    "from sklearn.model_selection import train_test_split\n",
    "\n",
    "X_train, X_test, y_train, y_test = train_test_split(X, y, test_size=0.20, random_state=42)"
   ]
  },
  {
   "cell_type": "code",
   "execution_count": 175,
   "metadata": {},
   "outputs": [
    {
     "data": {
      "text/plain": [
       "DecisionTreeClassifier()"
      ]
     },
     "execution_count": 175,
     "metadata": {},
     "output_type": "execute_result"
    }
   ],
   "source": [
    "from sklearn.tree import DecisionTreeClassifier\n",
    "model = DecisionTreeClassifier()\n",
    "model.fit(X_train, y_train)"
   ]
  },
  {
   "cell_type": "markdown",
   "metadata": {},
   "source": [
    "**R-squared** is a statistical measure that represents the goodness of fit of a regression model. \n",
    "\n",
    "The value of R-square lies between 0 to 1. Where we get R-square equals 1 when the model perfectly fits the data and there is no difference between the predicted value and actual value.\n",
    "\n",
    "R-squared measures the variability in the dependent variable Y that is being explained by the independent variables Xi in the regression model. \n",
    "\n",
    "This is how we compute R-squared:\n",
    "- First, calculate the mean of the target/dependent variable $y$ and we denote it by $\\bar{y}$.\n",
    "- Calculate the total sum of squares by subtracting each observation $y_i$ from $\\bar{y}$̅, then squaring it and summing these square differences across all the values: \n",
    "\n",
    "$$\\text{SS}_{\\text{tot}} = \\sum_{i=1}^{n} (y_i - \\bar{y})^2$$\n",
    "\n",
    "- Calculate the Sum of squares $\\text{SSR}_{\\text{res}}$. It explains unaccounted variability in the dependent $y$ after predicting these values from an independent variable in the model. This is calculated by subtracting each predicted value of $y$ denoted by $y^{pred}_i$ from $y_i$ squaring these differences and then summing all the n terms: \n",
    "\n",
    "$$\\text{SSR}_{\\text{res}} = \\sum_{i=1}^{n} (y^{pred}_i – y_i)^2$$  \n",
    "\n",
    "- Then\n",
    "\n",
    "$$ R^2 = 1 - \\frac{\\text{SSR}_{\\text{res}}}{\\text{SS}_{\\text{tot}}}$$"
   ]
  },
  {
   "cell_type": "code",
   "execution_count": 176,
   "metadata": {},
   "outputs": [
    {
     "name": "stdout",
     "output_type": "stream",
     "text": [
      "R^2 :  1.0\n",
      "MAE : 0.0\n",
      "RMSE: 0.0\n"
     ]
    }
   ],
   "source": [
    "from sklearn.metrics import mean_absolute_error,r2_score,mean_squared_error\n",
    "\n",
    "y_pred = model.predict(X_test)\n",
    "print(\"R^2 : \", r2_score(y_test, y_pred))\n",
    "print(\"MAE :\", mean_absolute_error(y_test,y_pred))\n",
    "print(\"RMSE:\", np.sqrt(mean_squared_error(y_test, y_pred)))"
   ]
  },
  {
   "cell_type": "markdown",
   "metadata": {},
   "source": [
    "Please open an anaconda prompt (terminal on the MAC) and `conda install pydot` (or `conda install pydot-ng`). Read [here](https://pypi.org/project/pydot/) about pydot. \n",
    "\n",
    "If you have problems with installing in your terminal (e.g. default python engine defaults to non-anaconda python when you run `python --version`.. happens a lot on the MAC, Windows people have less problems here because they can open an Anaconda prompt), you may also do this inside your notebook by opening a new cell and running `!conda install pydot`. \n",
    "\n",
    "However, note that you can also run a python notebook with a different python engine than anaconda python by opening a terminal where the default engine is, say, stock python 2.7 or 3.7, installing `ipython`, and then typing `ipython notebook`. In *that* case, even though you have a notebook in front of you, it is *not* an anaconda notebook, and `conda` *anything* will be an unrecognized command.\n",
    "\n",
    "### Don't do this now, do this at home\n",
    "\n",
    "In class, just follow *without* running the code cells below.\n",
    "\n",
    "At home, go [here](http://www.graphviz.org/download/) and download the binaries for `graphviz`, an open source graph visualization software. Look [here](https://graphviz.gitlab.io/gallery/) for examples graph layouts."
   ]
  },
  {
   "cell_type": "code",
   "execution_count": 177,
   "metadata": {},
   "outputs": [],
   "source": [
    "from sklearn.tree import export_graphviz\n",
    "export_graphviz(model, 'tree.dot', feature_names = FEATURE_NAMES)"
   ]
  },
  {
   "cell_type": "code",
   "execution_count": 178,
   "metadata": {},
   "outputs": [],
   "source": [
    "!dot -Tpng tree.dot -o tree.png"
   ]
  },
  {
   "cell_type": "code",
   "execution_count": 179,
   "metadata": {},
   "outputs": [
    {
     "data": {
      "text/plain": [
       "<matplotlib.image.AxesImage at 0x1eadebd4358>"
      ]
     },
     "execution_count": 179,
     "metadata": {},
     "output_type": "execute_result"
    },
    {
     "data": {
      "image/png": "[encoded data removed]",
      "text/plain": [
       "<Figure size 1440x1440 with 1 Axes>"
      ]
     },
     "metadata": {
      "needs_background": "light"
     },
     "output_type": "display_data"
    }
   ],
   "source": [
    "import matplotlib.pyplot as plt\n",
    "import cv2\n",
    "%matplotlib inline\n",
    "\n",
    "img = cv2.imread('tree.png')\n",
    "#img = cv2.rotate(img, cv2.cv2.ROTATE_90_CLOCKWISE)\n",
    "img = cv2.flip(img, 0)\n",
    "plt.figure(figsize = (20, 20))\n",
    "plt.imshow(img)"
   ]
  },
  {
   "cell_type": "markdown",
   "metadata": {},
   "source": [
    "A better version:"
   ]
  },
  {
   "cell_type": "code",
   "execution_count": 180,
   "metadata": {},
   "outputs": [
    {
     "data": {
      "image/svg+xml": [
       "<?xml version=\"1.0\" encoding=\"UTF-8\" standalone=\"no\"?>\r\n",
       "<!DOCTYPE svg PUBLIC \"-//W3C//DTD SVG 1.1//EN\"\r\n",
       " \"http://www.w3.org/Graphics/SVG/1.1/DTD/svg11.dtd\">\r\n",
       "<!-- Generated by graphviz version 2.50.0 (0)\r\n",
       " -->\r\n",
       "<!-- Title: Tree Pages: 1 -->\r\n",
       "<svg width=\"703pt\" height=\"790pt\"\r\n",
       " viewBox=\"0.00 0.00 703.00 790.00\" xmlns=\"http://www.w3.org/2000/svg\" xmlns:xlink=\"http://www.w3.org/1999/xlink\">\r\n",
       "<g id=\"graph0\" class=\"graph\" transform=\"scale(1 1) rotate(0) translate(4 786)\">\r\n",
       "<title>Tree</title>\r\n",
       "<polygon fill=\"white\" stroke=\"transparent\" points=\"-4,4 -4,-786 699,-786 699,4 -4,4\"/>\r\n",
       "<!-- 0 -->\r\n",
       "<g id=\"node1\" class=\"node\">\r\n",
       "<title>0</title>\r\n",
       "<path fill=\"#fdfffd\" stroke=\"black\" d=\"M250.5,-782C250.5,-782 140.5,-782 140.5,-782 134.5,-782 128.5,-776 128.5,-770 128.5,-770 128.5,-711 128.5,-711 128.5,-705 134.5,-699 140.5,-699 140.5,-699 250.5,-699 250.5,-699 256.5,-699 262.5,-705 262.5,-711 262.5,-711 262.5,-770 262.5,-770 262.5,-776 256.5,-782 250.5,-782\"/>\r\n",
       "<text text-anchor=\"start\" x=\"136.5\" y=\"-766.8\" font-family=\"Helvetica,sans-Serif\" font-size=\"14.00\">Petal Length ≤ 2.45</text>\r\n",
       "<text text-anchor=\"start\" x=\"160\" y=\"-751.8\" font-family=\"Helvetica,sans-Serif\" font-size=\"14.00\">gini = 0.667</text>\r\n",
       "<text text-anchor=\"start\" x=\"150.5\" y=\"-736.8\" font-family=\"Helvetica,sans-Serif\" font-size=\"14.00\">samples = 120</text>\r\n",
       "<text text-anchor=\"start\" x=\"137.5\" y=\"-721.8\" font-family=\"Helvetica,sans-Serif\" font-size=\"14.00\">value = [40, 41, 39]</text>\r\n",
       "<text text-anchor=\"start\" x=\"143\" y=\"-706.8\" font-family=\"Helvetica,sans-Serif\" font-size=\"14.00\">class = versicolor</text>\r\n",
       "</g>\r\n",
       "<!-- 1 -->\r\n",
       "<g id=\"node2\" class=\"node\">\r\n",
       "<title>1</title>\r\n",
       "<path fill=\"#e58139\" stroke=\"black\" d=\"M170,-655.5C170,-655.5 77,-655.5 77,-655.5 71,-655.5 65,-649.5 65,-643.5 65,-643.5 65,-599.5 65,-599.5 65,-593.5 71,-587.5 77,-587.5 77,-587.5 170,-587.5 170,-587.5 176,-587.5 182,-593.5 182,-599.5 182,-599.5 182,-643.5 182,-643.5 182,-649.5 176,-655.5 170,-655.5\"/>\r\n",
       "<text text-anchor=\"start\" x=\"95.5\" y=\"-640.3\" font-family=\"Helvetica,sans-Serif\" font-size=\"14.00\">gini = 0.0</text>\r\n",
       "<text text-anchor=\"start\" x=\"82.5\" y=\"-625.3\" font-family=\"Helvetica,sans-Serif\" font-size=\"14.00\">samples = 40</text>\r\n",
       "<text text-anchor=\"start\" x=\"73\" y=\"-610.3\" font-family=\"Helvetica,sans-Serif\" font-size=\"14.00\">value = [40, 0, 0]</text>\r\n",
       "<text text-anchor=\"start\" x=\"80\" y=\"-595.3\" font-family=\"Helvetica,sans-Serif\" font-size=\"14.00\">class = setosa</text>\r\n",
       "</g>\r\n",
       "<!-- 0&#45;&gt;1 -->\r\n",
       "<g id=\"edge1\" class=\"edge\">\r\n",
       "<title>0&#45;&gt;1</title>\r\n",
       "<path fill=\"none\" stroke=\"black\" d=\"M170.52,-698.91C163.66,-687.76 156.21,-675.66 149.31,-664.44\"/>\r\n",
       "<polygon fill=\"black\" stroke=\"black\" points=\"152.13,-662.35 143.91,-655.67 146.17,-666.02 152.13,-662.35\"/>\r\n",
       "<text text-anchor=\"middle\" x=\"138.12\" y=\"-676.29\" font-family=\"Helvetica,sans-Serif\" font-size=\"14.00\">True</text>\r\n",
       "</g>\r\n",
       "<!-- 2 -->\r\n",
       "<g id=\"node3\" class=\"node\">\r\n",
       "<title>2</title>\r\n",
       "<path fill=\"#f5fef9\" stroke=\"black\" d=\"M322.5,-663C322.5,-663 212.5,-663 212.5,-663 206.5,-663 200.5,-657 200.5,-651 200.5,-651 200.5,-592 200.5,-592 200.5,-586 206.5,-580 212.5,-580 212.5,-580 322.5,-580 322.5,-580 328.5,-580 334.5,-586 334.5,-592 334.5,-592 334.5,-651 334.5,-651 334.5,-657 328.5,-663 322.5,-663\"/>\r\n",
       "<text text-anchor=\"start\" x=\"208.5\" y=\"-647.8\" font-family=\"Helvetica,sans-Serif\" font-size=\"14.00\">Petal Length ≤ 4.75</text>\r\n",
       "<text text-anchor=\"start\" x=\"239.5\" y=\"-632.8\" font-family=\"Helvetica,sans-Serif\" font-size=\"14.00\">gini = 0.5</text>\r\n",
       "<text text-anchor=\"start\" x=\"226.5\" y=\"-617.8\" font-family=\"Helvetica,sans-Serif\" font-size=\"14.00\">samples = 80</text>\r\n",
       "<text text-anchor=\"start\" x=\"213\" y=\"-602.8\" font-family=\"Helvetica,sans-Serif\" font-size=\"14.00\">value = [0, 41, 39]</text>\r\n",
       "<text text-anchor=\"start\" x=\"215\" y=\"-587.8\" font-family=\"Helvetica,sans-Serif\" font-size=\"14.00\">class = versicolor</text>\r\n",
       "</g>\r\n",
       "<!-- 0&#45;&gt;2 -->\r\n",
       "<g id=\"edge2\" class=\"edge\">\r\n",
       "<title>0&#45;&gt;2</title>\r\n",
       "<path fill=\"none\" stroke=\"black\" d=\"M220.48,-698.91C225.9,-690.1 231.68,-680.7 237.28,-671.61\"/>\r\n",
       "<polygon fill=\"black\" stroke=\"black\" points=\"240.3,-673.37 242.56,-663.02 234.34,-669.7 240.3,-673.37\"/>\r\n",
       "<text text-anchor=\"middle\" x=\"248.35\" y=\"-683.64\" font-family=\"Helvetica,sans-Serif\" font-size=\"14.00\">False</text>\r\n",
       "</g>\r\n",
       "<!-- 3 -->\r\n",
       "<g id=\"node4\" class=\"node\">\r\n",
       "<title>3</title>\r\n",
       "<path fill=\"#3ee684\" stroke=\"black\" d=\"M246.5,-544C246.5,-544 142.5,-544 142.5,-544 136.5,-544 130.5,-538 130.5,-532 130.5,-532 130.5,-473 130.5,-473 130.5,-467 136.5,-461 142.5,-461 142.5,-461 246.5,-461 246.5,-461 252.5,-461 258.5,-467 258.5,-473 258.5,-473 258.5,-532 258.5,-532 258.5,-538 252.5,-544 246.5,-544\"/>\r\n",
       "<text text-anchor=\"start\" x=\"138.5\" y=\"-528.8\" font-family=\"Helvetica,sans-Serif\" font-size=\"14.00\">Petal Width ≤ 1.65</text>\r\n",
       "<text text-anchor=\"start\" x=\"159\" y=\"-513.8\" font-family=\"Helvetica,sans-Serif\" font-size=\"14.00\">gini = 0.053</text>\r\n",
       "<text text-anchor=\"start\" x=\"153.5\" y=\"-498.8\" font-family=\"Helvetica,sans-Serif\" font-size=\"14.00\">samples = 37</text>\r\n",
       "<text text-anchor=\"start\" x=\"144\" y=\"-483.8\" font-family=\"Helvetica,sans-Serif\" font-size=\"14.00\">value = [0, 36, 1]</text>\r\n",
       "<text text-anchor=\"start\" x=\"142\" y=\"-468.8\" font-family=\"Helvetica,sans-Serif\" font-size=\"14.00\">class = versicolor</text>\r\n",
       "</g>\r\n",
       "<!-- 2&#45;&gt;3 -->\r\n",
       "<g id=\"edge3\" class=\"edge\">\r\n",
       "<title>2&#45;&gt;3</title>\r\n",
       "<path fill=\"none\" stroke=\"black\" d=\"M242.17,-579.91C236.68,-571.1 230.81,-561.7 225.14,-552.61\"/>\r\n",
       "<polygon fill=\"black\" stroke=\"black\" points=\"228.05,-550.65 219.78,-544.02 222.11,-554.36 228.05,-550.65\"/>\r\n",
       "</g>\r\n",
       "<!-- 6 -->\r\n",
       "<g id=\"node7\" class=\"node\">\r\n",
       "<title>6</title>\r\n",
       "<path fill=\"#9253e8\" stroke=\"black\" d=\"M392.5,-544C392.5,-544 288.5,-544 288.5,-544 282.5,-544 276.5,-538 276.5,-532 276.5,-532 276.5,-473 276.5,-473 276.5,-467 282.5,-461 288.5,-461 288.5,-461 392.5,-461 392.5,-461 398.5,-461 404.5,-467 404.5,-473 404.5,-473 404.5,-532 404.5,-532 404.5,-538 398.5,-544 392.5,-544\"/>\r\n",
       "<text text-anchor=\"start\" x=\"284.5\" y=\"-528.8\" font-family=\"Helvetica,sans-Serif\" font-size=\"14.00\">Petal Width ≤ 1.75</text>\r\n",
       "<text text-anchor=\"start\" x=\"305\" y=\"-513.8\" font-family=\"Helvetica,sans-Serif\" font-size=\"14.00\">gini = 0.206</text>\r\n",
       "<text text-anchor=\"start\" x=\"299.5\" y=\"-498.8\" font-family=\"Helvetica,sans-Serif\" font-size=\"14.00\">samples = 43</text>\r\n",
       "<text text-anchor=\"start\" x=\"290\" y=\"-483.8\" font-family=\"Helvetica,sans-Serif\" font-size=\"14.00\">value = [0, 5, 38]</text>\r\n",
       "<text text-anchor=\"start\" x=\"292\" y=\"-468.8\" font-family=\"Helvetica,sans-Serif\" font-size=\"14.00\">class = virginica</text>\r\n",
       "</g>\r\n",
       "<!-- 2&#45;&gt;6 -->\r\n",
       "<g id=\"edge6\" class=\"edge\">\r\n",
       "<title>2&#45;&gt;6</title>\r\n",
       "<path fill=\"none\" stroke=\"black\" d=\"M292.83,-579.91C298.32,-571.1 304.19,-561.7 309.86,-552.61\"/>\r\n",
       "<polygon fill=\"black\" stroke=\"black\" points=\"312.89,-554.36 315.22,-544.02 306.95,-550.65 312.89,-554.36\"/>\r\n",
       "</g>\r\n",
       "<!-- 4 -->\r\n",
       "<g id=\"node5\" class=\"node\">\r\n",
       "<title>4</title>\r\n",
       "<path fill=\"#39e581\" stroke=\"black\" d=\"M109,-417.5C109,-417.5 12,-417.5 12,-417.5 6,-417.5 0,-411.5 0,-405.5 0,-405.5 0,-361.5 0,-361.5 0,-355.5 6,-349.5 12,-349.5 12,-349.5 109,-349.5 109,-349.5 115,-349.5 121,-355.5 121,-361.5 121,-361.5 121,-405.5 121,-405.5 121,-411.5 115,-417.5 109,-417.5\"/>\r\n",
       "<text text-anchor=\"start\" x=\"32.5\" y=\"-402.3\" font-family=\"Helvetica,sans-Serif\" font-size=\"14.00\">gini = 0.0</text>\r\n",
       "<text text-anchor=\"start\" x=\"19.5\" y=\"-387.3\" font-family=\"Helvetica,sans-Serif\" font-size=\"14.00\">samples = 36</text>\r\n",
       "<text text-anchor=\"start\" x=\"10\" y=\"-372.3\" font-family=\"Helvetica,sans-Serif\" font-size=\"14.00\">value = [0, 36, 0]</text>\r\n",
       "<text text-anchor=\"start\" x=\"8\" y=\"-357.3\" font-family=\"Helvetica,sans-Serif\" font-size=\"14.00\">class = versicolor</text>\r\n",
       "</g>\r\n",
       "<!-- 3&#45;&gt;4 -->\r\n",
       "<g id=\"edge4\" class=\"edge\">\r\n",
       "<title>3&#45;&gt;4</title>\r\n",
       "<path fill=\"none\" stroke=\"black\" d=\"M148.01,-460.91C134.49,-449.1 119.73,-436.22 106.25,-424.45\"/>\r\n",
       "<polygon fill=\"black\" stroke=\"black\" points=\"108.32,-421.61 98.49,-417.67 103.72,-426.88 108.32,-421.61\"/>\r\n",
       "</g>\r\n",
       "<!-- 5 -->\r\n",
       "<g id=\"node6\" class=\"node\">\r\n",
       "<title>5</title>\r\n",
       "<path fill=\"#8139e5\" stroke=\"black\" d=\"M240,-417.5C240,-417.5 151,-417.5 151,-417.5 145,-417.5 139,-411.5 139,-405.5 139,-405.5 139,-361.5 139,-361.5 139,-355.5 145,-349.5 151,-349.5 151,-349.5 240,-349.5 240,-349.5 246,-349.5 252,-355.5 252,-361.5 252,-361.5 252,-405.5 252,-405.5 252,-411.5 246,-417.5 240,-417.5\"/>\r\n",
       "<text text-anchor=\"start\" x=\"167.5\" y=\"-402.3\" font-family=\"Helvetica,sans-Serif\" font-size=\"14.00\">gini = 0.0</text>\r\n",
       "<text text-anchor=\"start\" x=\"158\" y=\"-387.3\" font-family=\"Helvetica,sans-Serif\" font-size=\"14.00\">samples = 1</text>\r\n",
       "<text text-anchor=\"start\" x=\"148.5\" y=\"-372.3\" font-family=\"Helvetica,sans-Serif\" font-size=\"14.00\">value = [0, 0, 1]</text>\r\n",
       "<text text-anchor=\"start\" x=\"147\" y=\"-357.3\" font-family=\"Helvetica,sans-Serif\" font-size=\"14.00\">class = virginica</text>\r\n",
       "</g>\r\n",
       "<!-- 3&#45;&gt;5 -->\r\n",
       "<g id=\"edge5\" class=\"edge\">\r\n",
       "<title>3&#45;&gt;5</title>\r\n",
       "<path fill=\"none\" stroke=\"black\" d=\"M194.85,-460.91C194.94,-450.2 195.04,-438.62 195.13,-427.78\"/>\r\n",
       "<polygon fill=\"black\" stroke=\"black\" points=\"198.63,-427.7 195.22,-417.67 191.63,-427.64 198.63,-427.7\"/>\r\n",
       "</g>\r\n",
       "<!-- 7 -->\r\n",
       "<g id=\"node8\" class=\"node\">\r\n",
       "<title>7</title>\r\n",
       "<path fill=\"#ffffff\" stroke=\"black\" d=\"M394.5,-425C394.5,-425 284.5,-425 284.5,-425 278.5,-425 272.5,-419 272.5,-413 272.5,-413 272.5,-354 272.5,-354 272.5,-348 278.5,-342 284.5,-342 284.5,-342 394.5,-342 394.5,-342 400.5,-342 406.5,-348 406.5,-354 406.5,-354 406.5,-413 406.5,-413 406.5,-419 400.5,-425 394.5,-425\"/>\r\n",
       "<text text-anchor=\"start\" x=\"280.5\" y=\"-409.8\" font-family=\"Helvetica,sans-Serif\" font-size=\"14.00\">Petal Length ≤ 4.95</text>\r\n",
       "<text text-anchor=\"start\" x=\"311.5\" y=\"-394.8\" font-family=\"Helvetica,sans-Serif\" font-size=\"14.00\">gini = 0.5</text>\r\n",
       "<text text-anchor=\"start\" x=\"302\" y=\"-379.8\" font-family=\"Helvetica,sans-Serif\" font-size=\"14.00\">samples = 8</text>\r\n",
       "<text text-anchor=\"start\" x=\"292.5\" y=\"-364.8\" font-family=\"Helvetica,sans-Serif\" font-size=\"14.00\">value = [0, 4, 4]</text>\r\n",
       "<text text-anchor=\"start\" x=\"287\" y=\"-349.8\" font-family=\"Helvetica,sans-Serif\" font-size=\"14.00\">class = versicolor</text>\r\n",
       "</g>\r\n",
       "<!-- 6&#45;&gt;7 -->\r\n",
       "<g id=\"edge7\" class=\"edge\">\r\n",
       "<title>6&#45;&gt;7</title>\r\n",
       "<path fill=\"none\" stroke=\"black\" d=\"M340.15,-460.91C340.08,-452.65 340.01,-443.86 339.93,-435.3\"/>\r\n",
       "<polygon fill=\"black\" stroke=\"black\" points=\"343.43,-434.99 339.85,-425.02 336.43,-435.05 343.43,-434.99\"/>\r\n",
       "</g>\r\n",
       "<!-- 14 -->\r\n",
       "<g id=\"node15\" class=\"node\">\r\n",
       "<title>14</title>\r\n",
       "<path fill=\"#853fe6\" stroke=\"black\" d=\"M546.5,-425C546.5,-425 436.5,-425 436.5,-425 430.5,-425 424.5,-419 424.5,-413 424.5,-413 424.5,-354 424.5,-354 424.5,-348 430.5,-342 436.5,-342 436.5,-342 546.5,-342 546.5,-342 552.5,-342 558.5,-348 558.5,-354 558.5,-354 558.5,-413 558.5,-413 558.5,-419 552.5,-425 546.5,-425\"/>\r\n",
       "<text text-anchor=\"start\" x=\"432.5\" y=\"-409.8\" font-family=\"Helvetica,sans-Serif\" font-size=\"14.00\">Petal Length ≤ 4.85</text>\r\n",
       "<text text-anchor=\"start\" x=\"456\" y=\"-394.8\" font-family=\"Helvetica,sans-Serif\" font-size=\"14.00\">gini = 0.056</text>\r\n",
       "<text text-anchor=\"start\" x=\"450.5\" y=\"-379.8\" font-family=\"Helvetica,sans-Serif\" font-size=\"14.00\">samples = 35</text>\r\n",
       "<text text-anchor=\"start\" x=\"441\" y=\"-364.8\" font-family=\"Helvetica,sans-Serif\" font-size=\"14.00\">value = [0, 1, 34]</text>\r\n",
       "<text text-anchor=\"start\" x=\"443\" y=\"-349.8\" font-family=\"Helvetica,sans-Serif\" font-size=\"14.00\">class = virginica</text>\r\n",
       "</g>\r\n",
       "<!-- 6&#45;&gt;14 -->\r\n",
       "<g id=\"edge14\" class=\"edge\">\r\n",
       "<title>6&#45;&gt;14</title>\r\n",
       "<path fill=\"none\" stroke=\"black\" d=\"M392.89,-460.91C405.19,-451.38 418.39,-441.15 431.01,-431.37\"/>\r\n",
       "<polygon fill=\"black\" stroke=\"black\" points=\"433.44,-433.91 439.2,-425.02 429.16,-428.38 433.44,-433.91\"/>\r\n",
       "</g>\r\n",
       "<!-- 8 -->\r\n",
       "<g id=\"node9\" class=\"node\">\r\n",
       "<title>8</title>\r\n",
       "<path fill=\"#39e581\" stroke=\"black\" d=\"M245,-298.5C245,-298.5 148,-298.5 148,-298.5 142,-298.5 136,-292.5 136,-286.5 136,-286.5 136,-242.5 136,-242.5 136,-236.5 142,-230.5 148,-230.5 148,-230.5 245,-230.5 245,-230.5 251,-230.5 257,-236.5 257,-242.5 257,-242.5 257,-286.5 257,-286.5 257,-292.5 251,-298.5 245,-298.5\"/>\r\n",
       "<text text-anchor=\"start\" x=\"168.5\" y=\"-283.3\" font-family=\"Helvetica,sans-Serif\" font-size=\"14.00\">gini = 0.0</text>\r\n",
       "<text text-anchor=\"start\" x=\"159\" y=\"-268.3\" font-family=\"Helvetica,sans-Serif\" font-size=\"14.00\">samples = 2</text>\r\n",
       "<text text-anchor=\"start\" x=\"149.5\" y=\"-253.3\" font-family=\"Helvetica,sans-Serif\" font-size=\"14.00\">value = [0, 2, 0]</text>\r\n",
       "<text text-anchor=\"start\" x=\"144\" y=\"-238.3\" font-family=\"Helvetica,sans-Serif\" font-size=\"14.00\">class = versicolor</text>\r\n",
       "</g>\r\n",
       "<!-- 7&#45;&gt;8 -->\r\n",
       "<g id=\"edge8\" class=\"edge\">\r\n",
       "<title>7&#45;&gt;8</title>\r\n",
       "<path fill=\"none\" stroke=\"black\" d=\"M289.89,-341.91C275.32,-329.99 259.41,-316.98 244.92,-305.12\"/>\r\n",
       "<polygon fill=\"black\" stroke=\"black\" points=\"246.99,-302.29 237.04,-298.67 242.56,-307.71 246.99,-302.29\"/>\r\n",
       "</g>\r\n",
       "<!-- 9 -->\r\n",
       "<g id=\"node10\" class=\"node\">\r\n",
       "<title>9</title>\r\n",
       "<path fill=\"#c09cf2\" stroke=\"black\" d=\"M391.5,-306C391.5,-306 287.5,-306 287.5,-306 281.5,-306 275.5,-300 275.5,-294 275.5,-294 275.5,-235 275.5,-235 275.5,-229 281.5,-223 287.5,-223 287.5,-223 391.5,-223 391.5,-223 397.5,-223 403.5,-229 403.5,-235 403.5,-235 403.5,-294 403.5,-294 403.5,-300 397.5,-306 391.5,-306\"/>\r\n",
       "<text text-anchor=\"start\" x=\"283.5\" y=\"-290.8\" font-family=\"Helvetica,sans-Serif\" font-size=\"14.00\">Petal Width ≤ 1.55</text>\r\n",
       "<text text-anchor=\"start\" x=\"304\" y=\"-275.8\" font-family=\"Helvetica,sans-Serif\" font-size=\"14.00\">gini = 0.444</text>\r\n",
       "<text text-anchor=\"start\" x=\"302\" y=\"-260.8\" font-family=\"Helvetica,sans-Serif\" font-size=\"14.00\">samples = 6</text>\r\n",
       "<text text-anchor=\"start\" x=\"292.5\" y=\"-245.8\" font-family=\"Helvetica,sans-Serif\" font-size=\"14.00\">value = [0, 2, 4]</text>\r\n",
       "<text text-anchor=\"start\" x=\"291\" y=\"-230.8\" font-family=\"Helvetica,sans-Serif\" font-size=\"14.00\">class = virginica</text>\r\n",
       "</g>\r\n",
       "<!-- 7&#45;&gt;9 -->\r\n",
       "<g id=\"edge9\" class=\"edge\">\r\n",
       "<title>7&#45;&gt;9</title>\r\n",
       "<path fill=\"none\" stroke=\"black\" d=\"M339.5,-341.91C339.5,-333.65 339.5,-324.86 339.5,-316.3\"/>\r\n",
       "<polygon fill=\"black\" stroke=\"black\" points=\"343,-316.02 339.5,-306.02 336,-316.02 343,-316.02\"/>\r\n",
       "</g>\r\n",
       "<!-- 10 -->\r\n",
       "<g id=\"node11\" class=\"node\">\r\n",
       "<title>10</title>\r\n",
       "<path fill=\"#8139e5\" stroke=\"black\" d=\"M242,-179.5C242,-179.5 153,-179.5 153,-179.5 147,-179.5 141,-173.5 141,-167.5 141,-167.5 141,-123.5 141,-123.5 141,-117.5 147,-111.5 153,-111.5 153,-111.5 242,-111.5 242,-111.5 248,-111.5 254,-117.5 254,-123.5 254,-123.5 254,-167.5 254,-167.5 254,-173.5 248,-179.5 242,-179.5\"/>\r\n",
       "<text text-anchor=\"start\" x=\"169.5\" y=\"-164.3\" font-family=\"Helvetica,sans-Serif\" font-size=\"14.00\">gini = 0.0</text>\r\n",
       "<text text-anchor=\"start\" x=\"160\" y=\"-149.3\" font-family=\"Helvetica,sans-Serif\" font-size=\"14.00\">samples = 3</text>\r\n",
       "<text text-anchor=\"start\" x=\"150.5\" y=\"-134.3\" font-family=\"Helvetica,sans-Serif\" font-size=\"14.00\">value = [0, 0, 3]</text>\r\n",
       "<text text-anchor=\"start\" x=\"149\" y=\"-119.3\" font-family=\"Helvetica,sans-Serif\" font-size=\"14.00\">class = virginica</text>\r\n",
       "</g>\r\n",
       "<!-- 9&#45;&gt;10 -->\r\n",
       "<g id=\"edge10\" class=\"edge\">\r\n",
       "<title>9&#45;&gt;10</title>\r\n",
       "<path fill=\"none\" stroke=\"black\" d=\"M290.23,-222.91C275.77,-210.99 259.97,-197.98 245.59,-186.12\"/>\r\n",
       "<polygon fill=\"black\" stroke=\"black\" points=\"247.7,-183.32 237.75,-179.67 243.25,-188.73 247.7,-183.32\"/>\r\n",
       "</g>\r\n",
       "<!-- 11 -->\r\n",
       "<g id=\"node12\" class=\"node\">\r\n",
       "<title>11</title>\r\n",
       "<path fill=\"#9cf2c0\" stroke=\"black\" d=\"M397,-187C397,-187 284,-187 284,-187 278,-187 272,-181 272,-175 272,-175 272,-116 272,-116 272,-110 278,-104 284,-104 284,-104 397,-104 397,-104 403,-104 409,-110 409,-116 409,-116 409,-175 409,-175 409,-181 403,-187 397,-187\"/>\r\n",
       "<text text-anchor=\"start\" x=\"280\" y=\"-171.8\" font-family=\"Helvetica,sans-Serif\" font-size=\"14.00\">Sepal Length ≤ 6.95</text>\r\n",
       "<text text-anchor=\"start\" x=\"305\" y=\"-156.8\" font-family=\"Helvetica,sans-Serif\" font-size=\"14.00\">gini = 0.444</text>\r\n",
       "<text text-anchor=\"start\" x=\"303\" y=\"-141.8\" font-family=\"Helvetica,sans-Serif\" font-size=\"14.00\">samples = 3</text>\r\n",
       "<text text-anchor=\"start\" x=\"293.5\" y=\"-126.8\" font-family=\"Helvetica,sans-Serif\" font-size=\"14.00\">value = [0, 2, 1]</text>\r\n",
       "<text text-anchor=\"start\" x=\"288\" y=\"-111.8\" font-family=\"Helvetica,sans-Serif\" font-size=\"14.00\">class = versicolor</text>\r\n",
       "</g>\r\n",
       "<!-- 9&#45;&gt;11 -->\r\n",
       "<g id=\"edge11\" class=\"edge\">\r\n",
       "<title>9&#45;&gt;11</title>\r\n",
       "<path fill=\"none\" stroke=\"black\" d=\"M339.85,-222.91C339.92,-214.65 339.99,-205.86 340.07,-197.3\"/>\r\n",
       "<polygon fill=\"black\" stroke=\"black\" points=\"343.57,-197.05 340.15,-187.02 336.57,-196.99 343.57,-197.05\"/>\r\n",
       "</g>\r\n",
       "<!-- 12 -->\r\n",
       "<g id=\"node13\" class=\"node\">\r\n",
       "<title>12</title>\r\n",
       "<path fill=\"#39e581\" stroke=\"black\" d=\"M322,-68C322,-68 225,-68 225,-68 219,-68 213,-62 213,-56 213,-56 213,-12 213,-12 213,-6 219,0 225,0 225,0 322,0 322,0 328,0 334,-6 334,-12 334,-12 334,-56 334,-56 334,-62 328,-68 322,-68\"/>\r\n",
       "<text text-anchor=\"start\" x=\"245.5\" y=\"-52.8\" font-family=\"Helvetica,sans-Serif\" font-size=\"14.00\">gini = 0.0</text>\r\n",
       "<text text-anchor=\"start\" x=\"236\" y=\"-37.8\" font-family=\"Helvetica,sans-Serif\" font-size=\"14.00\">samples = 2</text>\r\n",
       "<text text-anchor=\"start\" x=\"226.5\" y=\"-22.8\" font-family=\"Helvetica,sans-Serif\" font-size=\"14.00\">value = [0, 2, 0]</text>\r\n",
       "<text text-anchor=\"start\" x=\"221\" y=\"-7.8\" font-family=\"Helvetica,sans-Serif\" font-size=\"14.00\">class = versicolor</text>\r\n",
       "</g>\r\n",
       "<!-- 11&#45;&gt;12 -->\r\n",
       "<g id=\"edge12\" class=\"edge\">\r\n",
       "<title>11&#45;&gt;12</title>\r\n",
       "<path fill=\"none\" stroke=\"black\" d=\"M315.55,-103.73C310.19,-94.97 304.52,-85.7 299.14,-76.91\"/>\r\n",
       "<polygon fill=\"black\" stroke=\"black\" points=\"302.08,-75 293.88,-68.3 296.11,-78.66 302.08,-75\"/>\r\n",
       "</g>\r\n",
       "<!-- 13 -->\r\n",
       "<g id=\"node14\" class=\"node\">\r\n",
       "<title>13</title>\r\n",
       "<path fill=\"#8139e5\" stroke=\"black\" d=\"M453,-68C453,-68 364,-68 364,-68 358,-68 352,-62 352,-56 352,-56 352,-12 352,-12 352,-6 358,0 364,0 364,0 453,0 453,0 459,0 465,-6 465,-12 465,-12 465,-56 465,-56 465,-62 459,-68 453,-68\"/>\r\n",
       "<text text-anchor=\"start\" x=\"380.5\" y=\"-52.8\" font-family=\"Helvetica,sans-Serif\" font-size=\"14.00\">gini = 0.0</text>\r\n",
       "<text text-anchor=\"start\" x=\"371\" y=\"-37.8\" font-family=\"Helvetica,sans-Serif\" font-size=\"14.00\">samples = 1</text>\r\n",
       "<text text-anchor=\"start\" x=\"361.5\" y=\"-22.8\" font-family=\"Helvetica,sans-Serif\" font-size=\"14.00\">value = [0, 0, 1]</text>\r\n",
       "<text text-anchor=\"start\" x=\"360\" y=\"-7.8\" font-family=\"Helvetica,sans-Serif\" font-size=\"14.00\">class = virginica</text>\r\n",
       "</g>\r\n",
       "<!-- 11&#45;&gt;13 -->\r\n",
       "<g id=\"edge13\" class=\"edge\">\r\n",
       "<title>11&#45;&gt;13</title>\r\n",
       "<path fill=\"none\" stroke=\"black\" d=\"M365.82,-103.73C371.26,-94.97 377.01,-85.7 382.48,-76.91\"/>\r\n",
       "<polygon fill=\"black\" stroke=\"black\" points=\"385.52,-78.64 387.82,-68.3 379.57,-74.95 385.52,-78.64\"/>\r\n",
       "</g>\r\n",
       "<!-- 15 -->\r\n",
       "<g id=\"node16\" class=\"node\">\r\n",
       "<title>15</title>\r\n",
       "<path fill=\"#c09cf2\" stroke=\"black\" d=\"M548,-306C548,-306 435,-306 435,-306 429,-306 423,-300 423,-294 423,-294 423,-235 423,-235 423,-229 429,-223 435,-223 435,-223 548,-223 548,-223 554,-223 560,-229 560,-235 560,-235 560,-294 560,-294 560,-300 554,-306 548,-306\"/>\r\n",
       "<text text-anchor=\"start\" x=\"431\" y=\"-290.8\" font-family=\"Helvetica,sans-Serif\" font-size=\"14.00\">Sepal Length ≤ 5.95</text>\r\n",
       "<text text-anchor=\"start\" x=\"456\" y=\"-275.8\" font-family=\"Helvetica,sans-Serif\" font-size=\"14.00\">gini = 0.444</text>\r\n",
       "<text text-anchor=\"start\" x=\"454\" y=\"-260.8\" font-family=\"Helvetica,sans-Serif\" font-size=\"14.00\">samples = 3</text>\r\n",
       "<text text-anchor=\"start\" x=\"444.5\" y=\"-245.8\" font-family=\"Helvetica,sans-Serif\" font-size=\"14.00\">value = [0, 1, 2]</text>\r\n",
       "<text text-anchor=\"start\" x=\"443\" y=\"-230.8\" font-family=\"Helvetica,sans-Serif\" font-size=\"14.00\">class = virginica</text>\r\n",
       "</g>\r\n",
       "<!-- 14&#45;&gt;15 -->\r\n",
       "<g id=\"edge15\" class=\"edge\">\r\n",
       "<title>14&#45;&gt;15</title>\r\n",
       "<path fill=\"none\" stroke=\"black\" d=\"M491.5,-341.91C491.5,-333.65 491.5,-324.86 491.5,-316.3\"/>\r\n",
       "<polygon fill=\"black\" stroke=\"black\" points=\"495,-316.02 491.5,-306.02 488,-316.02 495,-316.02\"/>\r\n",
       "</g>\r\n",
       "<!-- 18 -->\r\n",
       "<g id=\"node19\" class=\"node\">\r\n",
       "<title>18</title>\r\n",
       "<path fill=\"#8139e5\" stroke=\"black\" d=\"M683,-298.5C683,-298.5 590,-298.5 590,-298.5 584,-298.5 578,-292.5 578,-286.5 578,-286.5 578,-242.5 578,-242.5 578,-236.5 584,-230.5 590,-230.5 590,-230.5 683,-230.5 683,-230.5 689,-230.5 695,-236.5 695,-242.5 695,-242.5 695,-286.5 695,-286.5 695,-292.5 689,-298.5 683,-298.5\"/>\r\n",
       "<text text-anchor=\"start\" x=\"608.5\" y=\"-283.3\" font-family=\"Helvetica,sans-Serif\" font-size=\"14.00\">gini = 0.0</text>\r\n",
       "<text text-anchor=\"start\" x=\"595.5\" y=\"-268.3\" font-family=\"Helvetica,sans-Serif\" font-size=\"14.00\">samples = 32</text>\r\n",
       "<text text-anchor=\"start\" x=\"586\" y=\"-253.3\" font-family=\"Helvetica,sans-Serif\" font-size=\"14.00\">value = [0, 0, 32]</text>\r\n",
       "<text text-anchor=\"start\" x=\"588\" y=\"-238.3\" font-family=\"Helvetica,sans-Serif\" font-size=\"14.00\">class = virginica</text>\r\n",
       "</g>\r\n",
       "<!-- 14&#45;&gt;18 -->\r\n",
       "<g id=\"edge18\" class=\"edge\">\r\n",
       "<title>14&#45;&gt;18</title>\r\n",
       "<path fill=\"none\" stroke=\"black\" d=\"M541.81,-341.91C556.58,-329.99 572.71,-316.98 587.4,-305.12\"/>\r\n",
       "<polygon fill=\"black\" stroke=\"black\" points=\"589.81,-307.67 595.4,-298.67 585.42,-302.22 589.81,-307.67\"/>\r\n",
       "</g>\r\n",
       "<!-- 16 -->\r\n",
       "<g id=\"node17\" class=\"node\">\r\n",
       "<title>16</title>\r\n",
       "<path fill=\"#39e581\" stroke=\"black\" d=\"M538,-179.5C538,-179.5 441,-179.5 441,-179.5 435,-179.5 429,-173.5 429,-167.5 429,-167.5 429,-123.5 429,-123.5 429,-117.5 435,-111.5 441,-111.5 441,-111.5 538,-111.5 538,-111.5 544,-111.5 550,-117.5 550,-123.5 550,-123.5 550,-167.5 550,-167.5 550,-173.5 544,-179.5 538,-179.5\"/>\r\n",
       "<text text-anchor=\"start\" x=\"461.5\" y=\"-164.3\" font-family=\"Helvetica,sans-Serif\" font-size=\"14.00\">gini = 0.0</text>\r\n",
       "<text text-anchor=\"start\" x=\"452\" y=\"-149.3\" font-family=\"Helvetica,sans-Serif\" font-size=\"14.00\">samples = 1</text>\r\n",
       "<text text-anchor=\"start\" x=\"442.5\" y=\"-134.3\" font-family=\"Helvetica,sans-Serif\" font-size=\"14.00\">value = [0, 1, 0]</text>\r\n",
       "<text text-anchor=\"start\" x=\"437\" y=\"-119.3\" font-family=\"Helvetica,sans-Serif\" font-size=\"14.00\">class = versicolor</text>\r\n",
       "</g>\r\n",
       "<!-- 15&#45;&gt;16 -->\r\n",
       "<g id=\"edge16\" class=\"edge\">\r\n",
       "<title>15&#45;&gt;16</title>\r\n",
       "<path fill=\"none\" stroke=\"black\" d=\"M490.81,-222.91C490.62,-212.2 490.43,-200.62 490.24,-189.78\"/>\r\n",
       "<polygon fill=\"black\" stroke=\"black\" points=\"493.74,-189.61 490.07,-179.67 486.74,-189.73 493.74,-189.61\"/>\r\n",
       "</g>\r\n",
       "<!-- 17 -->\r\n",
       "<g id=\"node18\" class=\"node\">\r\n",
       "<title>17</title>\r\n",
       "<path fill=\"#8139e5\" stroke=\"black\" d=\"M669,-179.5C669,-179.5 580,-179.5 580,-179.5 574,-179.5 568,-173.5 568,-167.5 568,-167.5 568,-123.5 568,-123.5 568,-117.5 574,-111.5 580,-111.5 580,-111.5 669,-111.5 669,-111.5 675,-111.5 681,-117.5 681,-123.5 681,-123.5 681,-167.5 681,-167.5 681,-173.5 675,-179.5 669,-179.5\"/>\r\n",
       "<text text-anchor=\"start\" x=\"596.5\" y=\"-164.3\" font-family=\"Helvetica,sans-Serif\" font-size=\"14.00\">gini = 0.0</text>\r\n",
       "<text text-anchor=\"start\" x=\"587\" y=\"-149.3\" font-family=\"Helvetica,sans-Serif\" font-size=\"14.00\">samples = 2</text>\r\n",
       "<text text-anchor=\"start\" x=\"577.5\" y=\"-134.3\" font-family=\"Helvetica,sans-Serif\" font-size=\"14.00\">value = [0, 0, 2]</text>\r\n",
       "<text text-anchor=\"start\" x=\"576\" y=\"-119.3\" font-family=\"Helvetica,sans-Serif\" font-size=\"14.00\">class = virginica</text>\r\n",
       "</g>\r\n",
       "<!-- 15&#45;&gt;17 -->\r\n",
       "<g id=\"edge17\" class=\"edge\">\r\n",
       "<title>15&#45;&gt;17</title>\r\n",
       "<path fill=\"none\" stroke=\"black\" d=\"M537.64,-222.91C551.07,-211.1 565.71,-198.22 579.09,-186.45\"/>\r\n",
       "<polygon fill=\"black\" stroke=\"black\" points=\"581.6,-188.9 586.8,-179.67 576.98,-183.64 581.6,-188.9\"/>\r\n",
       "</g>\r\n",
       "</g>\r\n",
       "</svg>\r\n"
      ],
      "text/plain": [
       "<graphviz.files.Source at 0x1eadecb0908>"
      ]
     },
     "execution_count": 180,
     "metadata": {},
     "output_type": "execute_result"
    }
   ],
   "source": [
    "from sklearn import tree\n",
    "import graphviz\n",
    "\n",
    "dot_data = tree.export_graphviz(model, out_file=None, \n",
    "                      feature_names=FEATURE_NAMES,  \n",
    "                      class_names=['setosa', 'versicolor', 'virginica'],  \n",
    "                      filled=True, rounded=True,  \n",
    "                      special_characters=True)  \n",
    "graph = graphviz.Source(dot_data)  \n",
    "graph "
   ]
  },
  {
   "cell_type": "markdown",
   "metadata": {},
   "source": [
    "### 7.4 Mushroom dataset\n",
    "Back to our mushroom stew, with **Gini gains** (yes, you may actually use Information gain *or* Gini gain for either categorical or continuous datasets)!\n",
    "\n",
    "Can we still use the same algorithm even if our columns values are categorical?\n",
    "\n",
    "Sure, all we have to is to convert the categories to integers. We don't even have to use sklearn's dummy variables API that creates as many new columns as there are categories: We can directly map categories to integer indexes! The column remains *categorical*, but the categories are now numbers instead of letters.\n",
    "\n",
    ">**Note**: This is not always the case with ML algorithms. Very often, *more* binary columns is better than *one* column of integers."
   ]
  },
  {
   "cell_type": "code",
   "execution_count": 187,
   "metadata": {},
   "outputs": [
    {
     "data": {
      "text/html": [
       "<div>\n",
       "<style scoped>\n",
       "    .dataframe tbody tr th:only-of-type {\n",
       "        vertical-align: middle;\n",
       "    }\n",
       "\n",
       "    .dataframe tbody tr th {\n",
       "        vertical-align: top;\n",
       "    }\n",
       "\n",
       "    .dataframe thead th {\n",
       "        text-align: right;\n",
       "    }\n",
       "</style>\n",
       "<table border=\"1\" class=\"dataframe\">\n",
       "  <thead>\n",
       "    <tr style=\"text-align: right;\">\n",
       "      <th></th>\n",
       "      <th>cap-shape</th>\n",
       "      <th>cap-surface</th>\n",
       "      <th>cap-color</th>\n",
       "      <th>bruises?</th>\n",
       "      <th>odor</th>\n",
       "      <th>gill-attachment</th>\n",
       "      <th>gill-spacing</th>\n",
       "      <th>gill-size</th>\n",
       "      <th>gill-color</th>\n",
       "      <th>stalk-shape</th>\n",
       "      <th>...</th>\n",
       "      <th>stalk-surface-below-ring</th>\n",
       "      <th>stalk-color-above-ring</th>\n",
       "      <th>stalk-color-below-ring</th>\n",
       "      <th>veil-type</th>\n",
       "      <th>veil-color</th>\n",
       "      <th>ring-number</th>\n",
       "      <th>ring-type</th>\n",
       "      <th>spore-print-color</th>\n",
       "      <th>population</th>\n",
       "      <th>habitat</th>\n",
       "    </tr>\n",
       "  </thead>\n",
       "  <tbody>\n",
       "    <tr>\n",
       "      <th>0</th>\n",
       "      <td>x</td>\n",
       "      <td>s</td>\n",
       "      <td>n</td>\n",
       "      <td>t</td>\n",
       "      <td>p</td>\n",
       "      <td>f</td>\n",
       "      <td>c</td>\n",
       "      <td>n</td>\n",
       "      <td>k</td>\n",
       "      <td>e</td>\n",
       "      <td>...</td>\n",
       "      <td>s</td>\n",
       "      <td>w</td>\n",
       "      <td>w</td>\n",
       "      <td>p</td>\n",
       "      <td>w</td>\n",
       "      <td>o</td>\n",
       "      <td>p</td>\n",
       "      <td>k</td>\n",
       "      <td>s</td>\n",
       "      <td>u</td>\n",
       "    </tr>\n",
       "    <tr>\n",
       "      <th>1</th>\n",
       "      <td>x</td>\n",
       "      <td>s</td>\n",
       "      <td>y</td>\n",
       "      <td>t</td>\n",
       "      <td>a</td>\n",
       "      <td>f</td>\n",
       "      <td>c</td>\n",
       "      <td>b</td>\n",
       "      <td>k</td>\n",
       "      <td>e</td>\n",
       "      <td>...</td>\n",
       "      <td>s</td>\n",
       "      <td>w</td>\n",
       "      <td>w</td>\n",
       "      <td>p</td>\n",
       "      <td>w</td>\n",
       "      <td>o</td>\n",
       "      <td>p</td>\n",
       "      <td>n</td>\n",
       "      <td>n</td>\n",
       "      <td>g</td>\n",
       "    </tr>\n",
       "    <tr>\n",
       "      <th>2</th>\n",
       "      <td>b</td>\n",
       "      <td>s</td>\n",
       "      <td>w</td>\n",
       "      <td>t</td>\n",
       "      <td>l</td>\n",
       "      <td>f</td>\n",
       "      <td>c</td>\n",
       "      <td>b</td>\n",
       "      <td>n</td>\n",
       "      <td>e</td>\n",
       "      <td>...</td>\n",
       "      <td>s</td>\n",
       "      <td>w</td>\n",
       "      <td>w</td>\n",
       "      <td>p</td>\n",
       "      <td>w</td>\n",
       "      <td>o</td>\n",
       "      <td>p</td>\n",
       "      <td>n</td>\n",
       "      <td>n</td>\n",
       "      <td>m</td>\n",
       "    </tr>\n",
       "    <tr>\n",
       "      <th>3</th>\n",
       "      <td>x</td>\n",
       "      <td>y</td>\n",
       "      <td>w</td>\n",
       "      <td>t</td>\n",
       "      <td>p</td>\n",
       "      <td>f</td>\n",
       "      <td>c</td>\n",
       "      <td>n</td>\n",
       "      <td>n</td>\n",
       "      <td>e</td>\n",
       "      <td>...</td>\n",
       "      <td>s</td>\n",
       "      <td>w</td>\n",
       "      <td>w</td>\n",
       "      <td>p</td>\n",
       "      <td>w</td>\n",
       "      <td>o</td>\n",
       "      <td>p</td>\n",
       "      <td>k</td>\n",
       "      <td>s</td>\n",
       "      <td>u</td>\n",
       "    </tr>\n",
       "    <tr>\n",
       "      <th>4</th>\n",
       "      <td>x</td>\n",
       "      <td>s</td>\n",
       "      <td>g</td>\n",
       "      <td>f</td>\n",
       "      <td>n</td>\n",
       "      <td>f</td>\n",
       "      <td>w</td>\n",
       "      <td>b</td>\n",
       "      <td>k</td>\n",
       "      <td>t</td>\n",
       "      <td>...</td>\n",
       "      <td>s</td>\n",
       "      <td>w</td>\n",
       "      <td>w</td>\n",
       "      <td>p</td>\n",
       "      <td>w</td>\n",
       "      <td>o</td>\n",
       "      <td>e</td>\n",
       "      <td>n</td>\n",
       "      <td>a</td>\n",
       "      <td>g</td>\n",
       "    </tr>\n",
       "    <tr>\n",
       "      <th>...</th>\n",
       "      <td>...</td>\n",
       "      <td>...</td>\n",
       "      <td>...</td>\n",
       "      <td>...</td>\n",
       "      <td>...</td>\n",
       "      <td>...</td>\n",
       "      <td>...</td>\n",
       "      <td>...</td>\n",
       "      <td>...</td>\n",
       "      <td>...</td>\n",
       "      <td>...</td>\n",
       "      <td>...</td>\n",
       "      <td>...</td>\n",
       "      <td>...</td>\n",
       "      <td>...</td>\n",
       "      <td>...</td>\n",
       "      <td>...</td>\n",
       "      <td>...</td>\n",
       "      <td>...</td>\n",
       "      <td>...</td>\n",
       "      <td>...</td>\n",
       "    </tr>\n",
       "    <tr>\n",
       "      <th>5639</th>\n",
       "      <td>b</td>\n",
       "      <td>y</td>\n",
       "      <td>n</td>\n",
       "      <td>f</td>\n",
       "      <td>n</td>\n",
       "      <td>f</td>\n",
       "      <td>c</td>\n",
       "      <td>b</td>\n",
       "      <td>w</td>\n",
       "      <td>e</td>\n",
       "      <td>...</td>\n",
       "      <td>y</td>\n",
       "      <td>n</td>\n",
       "      <td>n</td>\n",
       "      <td>p</td>\n",
       "      <td>w</td>\n",
       "      <td>t</td>\n",
       "      <td>p</td>\n",
       "      <td>w</td>\n",
       "      <td>y</td>\n",
       "      <td>p</td>\n",
       "    </tr>\n",
       "    <tr>\n",
       "      <th>5640</th>\n",
       "      <td>x</td>\n",
       "      <td>y</td>\n",
       "      <td>n</td>\n",
       "      <td>f</td>\n",
       "      <td>n</td>\n",
       "      <td>f</td>\n",
       "      <td>c</td>\n",
       "      <td>b</td>\n",
       "      <td>w</td>\n",
       "      <td>e</td>\n",
       "      <td>...</td>\n",
       "      <td>y</td>\n",
       "      <td>n</td>\n",
       "      <td>n</td>\n",
       "      <td>p</td>\n",
       "      <td>w</td>\n",
       "      <td>t</td>\n",
       "      <td>p</td>\n",
       "      <td>w</td>\n",
       "      <td>y</td>\n",
       "      <td>p</td>\n",
       "    </tr>\n",
       "    <tr>\n",
       "      <th>5641</th>\n",
       "      <td>x</td>\n",
       "      <td>y</td>\n",
       "      <td>g</td>\n",
       "      <td>t</td>\n",
       "      <td>n</td>\n",
       "      <td>f</td>\n",
       "      <td>c</td>\n",
       "      <td>b</td>\n",
       "      <td>w</td>\n",
       "      <td>e</td>\n",
       "      <td>...</td>\n",
       "      <td>s</td>\n",
       "      <td>w</td>\n",
       "      <td>w</td>\n",
       "      <td>p</td>\n",
       "      <td>w</td>\n",
       "      <td>t</td>\n",
       "      <td>p</td>\n",
       "      <td>w</td>\n",
       "      <td>y</td>\n",
       "      <td>p</td>\n",
       "    </tr>\n",
       "    <tr>\n",
       "      <th>5642</th>\n",
       "      <td>x</td>\n",
       "      <td>y</td>\n",
       "      <td>c</td>\n",
       "      <td>f</td>\n",
       "      <td>m</td>\n",
       "      <td>f</td>\n",
       "      <td>c</td>\n",
       "      <td>b</td>\n",
       "      <td>y</td>\n",
       "      <td>e</td>\n",
       "      <td>...</td>\n",
       "      <td>y</td>\n",
       "      <td>c</td>\n",
       "      <td>c</td>\n",
       "      <td>p</td>\n",
       "      <td>w</td>\n",
       "      <td>n</td>\n",
       "      <td>n</td>\n",
       "      <td>w</td>\n",
       "      <td>c</td>\n",
       "      <td>d</td>\n",
       "    </tr>\n",
       "    <tr>\n",
       "      <th>5643</th>\n",
       "      <td>f</td>\n",
       "      <td>y</td>\n",
       "      <td>c</td>\n",
       "      <td>f</td>\n",
       "      <td>m</td>\n",
       "      <td>a</td>\n",
       "      <td>c</td>\n",
       "      <td>b</td>\n",
       "      <td>y</td>\n",
       "      <td>e</td>\n",
       "      <td>...</td>\n",
       "      <td>y</td>\n",
       "      <td>c</td>\n",
       "      <td>c</td>\n",
       "      <td>p</td>\n",
       "      <td>w</td>\n",
       "      <td>n</td>\n",
       "      <td>n</td>\n",
       "      <td>w</td>\n",
       "      <td>c</td>\n",
       "      <td>d</td>\n",
       "    </tr>\n",
       "  </tbody>\n",
       "</table>\n",
       "<p>5644 rows × 22 columns</p>\n",
       "</div>"
      ],
      "text/plain": [
       "     cap-shape cap-surface cap-color bruises? odor gill-attachment  \\\n",
       "0            x           s         n        t    p               f   \n",
       "1            x           s         y        t    a               f   \n",
       "2            b           s         w        t    l               f   \n",
       "3            x           y         w        t    p               f   \n",
       "4            x           s         g        f    n               f   \n",
       "...        ...         ...       ...      ...  ...             ...   \n",
       "5639         b           y         n        f    n               f   \n",
       "5640         x           y         n        f    n               f   \n",
       "5641         x           y         g        t    n               f   \n",
       "5642         x           y         c        f    m               f   \n",
       "5643         f           y         c        f    m               a   \n",
       "\n",
       "     gill-spacing gill-size gill-color stalk-shape  ...  \\\n",
       "0               c         n          k           e  ...   \n",
       "1               c         b          k           e  ...   \n",
       "2               c         b          n           e  ...   \n",
       "3               c         n          n           e  ...   \n",
       "4               w         b          k           t  ...   \n",
       "...           ...       ...        ...         ...  ...   \n",
       "5639            c         b          w           e  ...   \n",
       "5640            c         b          w           e  ...   \n",
       "5641            c         b          w           e  ...   \n",
       "5642            c         b          y           e  ...   \n",
       "5643            c         b          y           e  ...   \n",
       "\n",
       "     stalk-surface-below-ring stalk-color-above-ring stalk-color-below-ring  \\\n",
       "0                           s                      w                      w   \n",
       "1                           s                      w                      w   \n",
       "2                           s                      w                      w   \n",
       "3                           s                      w                      w   \n",
       "4                           s                      w                      w   \n",
       "...                       ...                    ...                    ...   \n",
       "5639                        y                      n                      n   \n",
       "5640                        y                      n                      n   \n",
       "5641                        s                      w                      w   \n",
       "5642                        y                      c                      c   \n",
       "5643                        y                      c                      c   \n",
       "\n",
       "     veil-type veil-color ring-number ring-type spore-print-color population  \\\n",
       "0            p          w           o         p                 k          s   \n",
       "1            p          w           o         p                 n          n   \n",
       "2            p          w           o         p                 n          n   \n",
       "3            p          w           o         p                 k          s   \n",
       "4            p          w           o         e                 n          a   \n",
       "...        ...        ...         ...       ...               ...        ...   \n",
       "5639         p          w           t         p                 w          y   \n",
       "5640         p          w           t         p                 w          y   \n",
       "5641         p          w           t         p                 w          y   \n",
       "5642         p          w           n         n                 w          c   \n",
       "5643         p          w           n         n                 w          c   \n",
       "\n",
       "     habitat  \n",
       "0          u  \n",
       "1          g  \n",
       "2          m  \n",
       "3          u  \n",
       "4          g  \n",
       "...      ...  \n",
       "5639       p  \n",
       "5640       p  \n",
       "5641       p  \n",
       "5642       d  \n",
       "5643       d  \n",
       "\n",
       "[5644 rows x 22 columns]"
      ]
     },
     "execution_count": 187,
     "metadata": {},
     "output_type": "execute_result"
    }
   ],
   "source": [
    "X2 = pd.DataFrame([t[1:] for t in clean_instances], columns = attribute_names[1:])\n",
    "X2"
   ]
  },
  {
   "cell_type": "code",
   "execution_count": 188,
   "metadata": {
    "scrolled": true
   },
   "outputs": [
    {
     "name": "stdout",
     "output_type": "stream",
     "text": [
      "5644 ['p', 'e', 'e', 'p', 'e']\n"
     ]
    }
   ],
   "source": [
    "y2 = [t[0] for t in clean_instances]\n",
    "print(len(y2), y2[0:5])"
   ]
  },
  {
   "cell_type": "code",
   "execution_count": 189,
   "metadata": {},
   "outputs": [
    {
     "data": {
      "text/html": [
       "<div>\n",
       "<style scoped>\n",
       "    .dataframe tbody tr th:only-of-type {\n",
       "        vertical-align: middle;\n",
       "    }\n",
       "\n",
       "    .dataframe tbody tr th {\n",
       "        vertical-align: top;\n",
       "    }\n",
       "\n",
       "    .dataframe thead th {\n",
       "        text-align: right;\n",
       "    }\n",
       "</style>\n",
       "<table border=\"1\" class=\"dataframe\">\n",
       "  <thead>\n",
       "    <tr style=\"text-align: right;\">\n",
       "      <th></th>\n",
       "      <th>cap-shape</th>\n",
       "      <th>cap-surface</th>\n",
       "      <th>cap-color</th>\n",
       "      <th>bruises?</th>\n",
       "      <th>odor</th>\n",
       "      <th>gill-attachment</th>\n",
       "      <th>gill-spacing</th>\n",
       "      <th>gill-size</th>\n",
       "      <th>gill-color</th>\n",
       "      <th>stalk-shape</th>\n",
       "      <th>...</th>\n",
       "      <th>stalk-surface-below-ring</th>\n",
       "      <th>stalk-color-above-ring</th>\n",
       "      <th>stalk-color-below-ring</th>\n",
       "      <th>veil-type</th>\n",
       "      <th>veil-color</th>\n",
       "      <th>ring-number</th>\n",
       "      <th>ring-type</th>\n",
       "      <th>spore-print-color</th>\n",
       "      <th>population</th>\n",
       "      <th>habitat</th>\n",
       "    </tr>\n",
       "  </thead>\n",
       "  <tbody>\n",
       "    <tr>\n",
       "      <th>0</th>\n",
       "      <td>5</td>\n",
       "      <td>2</td>\n",
       "      <td>4</td>\n",
       "      <td>1</td>\n",
       "      <td>6</td>\n",
       "      <td>1</td>\n",
       "      <td>0</td>\n",
       "      <td>1</td>\n",
       "      <td>2</td>\n",
       "      <td>0</td>\n",
       "      <td>...</td>\n",
       "      <td>2</td>\n",
       "      <td>5</td>\n",
       "      <td>5</td>\n",
       "      <td>0</td>\n",
       "      <td>0</td>\n",
       "      <td>1</td>\n",
       "      <td>3</td>\n",
       "      <td>1</td>\n",
       "      <td>3</td>\n",
       "      <td>5</td>\n",
       "    </tr>\n",
       "    <tr>\n",
       "      <th>1</th>\n",
       "      <td>5</td>\n",
       "      <td>2</td>\n",
       "      <td>7</td>\n",
       "      <td>1</td>\n",
       "      <td>0</td>\n",
       "      <td>1</td>\n",
       "      <td>0</td>\n",
       "      <td>0</td>\n",
       "      <td>2</td>\n",
       "      <td>0</td>\n",
       "      <td>...</td>\n",
       "      <td>2</td>\n",
       "      <td>5</td>\n",
       "      <td>5</td>\n",
       "      <td>0</td>\n",
       "      <td>0</td>\n",
       "      <td>1</td>\n",
       "      <td>3</td>\n",
       "      <td>2</td>\n",
       "      <td>2</td>\n",
       "      <td>1</td>\n",
       "    </tr>\n",
       "    <tr>\n",
       "      <th>2</th>\n",
       "      <td>0</td>\n",
       "      <td>2</td>\n",
       "      <td>6</td>\n",
       "      <td>1</td>\n",
       "      <td>3</td>\n",
       "      <td>1</td>\n",
       "      <td>0</td>\n",
       "      <td>0</td>\n",
       "      <td>3</td>\n",
       "      <td>0</td>\n",
       "      <td>...</td>\n",
       "      <td>2</td>\n",
       "      <td>5</td>\n",
       "      <td>5</td>\n",
       "      <td>0</td>\n",
       "      <td>0</td>\n",
       "      <td>1</td>\n",
       "      <td>3</td>\n",
       "      <td>2</td>\n",
       "      <td>2</td>\n",
       "      <td>3</td>\n",
       "    </tr>\n",
       "    <tr>\n",
       "      <th>3</th>\n",
       "      <td>5</td>\n",
       "      <td>3</td>\n",
       "      <td>6</td>\n",
       "      <td>1</td>\n",
       "      <td>6</td>\n",
       "      <td>1</td>\n",
       "      <td>0</td>\n",
       "      <td>1</td>\n",
       "      <td>3</td>\n",
       "      <td>0</td>\n",
       "      <td>...</td>\n",
       "      <td>2</td>\n",
       "      <td>5</td>\n",
       "      <td>5</td>\n",
       "      <td>0</td>\n",
       "      <td>0</td>\n",
       "      <td>1</td>\n",
       "      <td>3</td>\n",
       "      <td>1</td>\n",
       "      <td>3</td>\n",
       "      <td>5</td>\n",
       "    </tr>\n",
       "    <tr>\n",
       "      <th>4</th>\n",
       "      <td>5</td>\n",
       "      <td>2</td>\n",
       "      <td>3</td>\n",
       "      <td>0</td>\n",
       "      <td>5</td>\n",
       "      <td>1</td>\n",
       "      <td>1</td>\n",
       "      <td>0</td>\n",
       "      <td>2</td>\n",
       "      <td>1</td>\n",
       "      <td>...</td>\n",
       "      <td>2</td>\n",
       "      <td>5</td>\n",
       "      <td>5</td>\n",
       "      <td>0</td>\n",
       "      <td>0</td>\n",
       "      <td>1</td>\n",
       "      <td>0</td>\n",
       "      <td>2</td>\n",
       "      <td>0</td>\n",
       "      <td>1</td>\n",
       "    </tr>\n",
       "    <tr>\n",
       "      <th>...</th>\n",
       "      <td>...</td>\n",
       "      <td>...</td>\n",
       "      <td>...</td>\n",
       "      <td>...</td>\n",
       "      <td>...</td>\n",
       "      <td>...</td>\n",
       "      <td>...</td>\n",
       "      <td>...</td>\n",
       "      <td>...</td>\n",
       "      <td>...</td>\n",
       "      <td>...</td>\n",
       "      <td>...</td>\n",
       "      <td>...</td>\n",
       "      <td>...</td>\n",
       "      <td>...</td>\n",
       "      <td>...</td>\n",
       "      <td>...</td>\n",
       "      <td>...</td>\n",
       "      <td>...</td>\n",
       "      <td>...</td>\n",
       "      <td>...</td>\n",
       "    </tr>\n",
       "    <tr>\n",
       "      <th>5639</th>\n",
       "      <td>0</td>\n",
       "      <td>3</td>\n",
       "      <td>4</td>\n",
       "      <td>0</td>\n",
       "      <td>5</td>\n",
       "      <td>1</td>\n",
       "      <td>0</td>\n",
       "      <td>0</td>\n",
       "      <td>7</td>\n",
       "      <td>0</td>\n",
       "      <td>...</td>\n",
       "      <td>3</td>\n",
       "      <td>3</td>\n",
       "      <td>3</td>\n",
       "      <td>0</td>\n",
       "      <td>0</td>\n",
       "      <td>2</td>\n",
       "      <td>3</td>\n",
       "      <td>5</td>\n",
       "      <td>5</td>\n",
       "      <td>4</td>\n",
       "    </tr>\n",
       "    <tr>\n",
       "      <th>5640</th>\n",
       "      <td>5</td>\n",
       "      <td>3</td>\n",
       "      <td>4</td>\n",
       "      <td>0</td>\n",
       "      <td>5</td>\n",
       "      <td>1</td>\n",
       "      <td>0</td>\n",
       "      <td>0</td>\n",
       "      <td>7</td>\n",
       "      <td>0</td>\n",
       "      <td>...</td>\n",
       "      <td>3</td>\n",
       "      <td>3</td>\n",
       "      <td>3</td>\n",
       "      <td>0</td>\n",
       "      <td>0</td>\n",
       "      <td>2</td>\n",
       "      <td>3</td>\n",
       "      <td>5</td>\n",
       "      <td>5</td>\n",
       "      <td>4</td>\n",
       "    </tr>\n",
       "    <tr>\n",
       "      <th>5641</th>\n",
       "      <td>5</td>\n",
       "      <td>3</td>\n",
       "      <td>3</td>\n",
       "      <td>1</td>\n",
       "      <td>5</td>\n",
       "      <td>1</td>\n",
       "      <td>0</td>\n",
       "      <td>0</td>\n",
       "      <td>7</td>\n",
       "      <td>0</td>\n",
       "      <td>...</td>\n",
       "      <td>2</td>\n",
       "      <td>5</td>\n",
       "      <td>5</td>\n",
       "      <td>0</td>\n",
       "      <td>0</td>\n",
       "      <td>2</td>\n",
       "      <td>3</td>\n",
       "      <td>5</td>\n",
       "      <td>5</td>\n",
       "      <td>4</td>\n",
       "    </tr>\n",
       "    <tr>\n",
       "      <th>5642</th>\n",
       "      <td>5</td>\n",
       "      <td>3</td>\n",
       "      <td>1</td>\n",
       "      <td>0</td>\n",
       "      <td>4</td>\n",
       "      <td>1</td>\n",
       "      <td>0</td>\n",
       "      <td>0</td>\n",
       "      <td>8</td>\n",
       "      <td>0</td>\n",
       "      <td>...</td>\n",
       "      <td>3</td>\n",
       "      <td>1</td>\n",
       "      <td>1</td>\n",
       "      <td>0</td>\n",
       "      <td>0</td>\n",
       "      <td>0</td>\n",
       "      <td>2</td>\n",
       "      <td>5</td>\n",
       "      <td>1</td>\n",
       "      <td>0</td>\n",
       "    </tr>\n",
       "    <tr>\n",
       "      <th>5643</th>\n",
       "      <td>2</td>\n",
       "      <td>3</td>\n",
       "      <td>1</td>\n",
       "      <td>0</td>\n",
       "      <td>4</td>\n",
       "      <td>0</td>\n",
       "      <td>0</td>\n",
       "      <td>0</td>\n",
       "      <td>8</td>\n",
       "      <td>0</td>\n",
       "      <td>...</td>\n",
       "      <td>3</td>\n",
       "      <td>1</td>\n",
       "      <td>1</td>\n",
       "      <td>0</td>\n",
       "      <td>0</td>\n",
       "      <td>0</td>\n",
       "      <td>2</td>\n",
       "      <td>5</td>\n",
       "      <td>1</td>\n",
       "      <td>0</td>\n",
       "    </tr>\n",
       "  </tbody>\n",
       "</table>\n",
       "<p>5644 rows × 22 columns</p>\n",
       "</div>"
      ],
      "text/plain": [
       "      cap-shape  cap-surface  cap-color  bruises?  odor  gill-attachment  \\\n",
       "0             5            2          4         1     6                1   \n",
       "1             5            2          7         1     0                1   \n",
       "2             0            2          6         1     3                1   \n",
       "3             5            3          6         1     6                1   \n",
       "4             5            2          3         0     5                1   \n",
       "...         ...          ...        ...       ...   ...              ...   \n",
       "5639          0            3          4         0     5                1   \n",
       "5640          5            3          4         0     5                1   \n",
       "5641          5            3          3         1     5                1   \n",
       "5642          5            3          1         0     4                1   \n",
       "5643          2            3          1         0     4                0   \n",
       "\n",
       "      gill-spacing  gill-size  gill-color  stalk-shape  ...  \\\n",
       "0                0          1           2            0  ...   \n",
       "1                0          0           2            0  ...   \n",
       "2                0          0           3            0  ...   \n",
       "3                0          1           3            0  ...   \n",
       "4                1          0           2            1  ...   \n",
       "...            ...        ...         ...          ...  ...   \n",
       "5639             0          0           7            0  ...   \n",
       "5640             0          0           7            0  ...   \n",
       "5641             0          0           7            0  ...   \n",
       "5642             0          0           8            0  ...   \n",
       "5643             0          0           8            0  ...   \n",
       "\n",
       "      stalk-surface-below-ring  stalk-color-above-ring  \\\n",
       "0                            2                       5   \n",
       "1                            2                       5   \n",
       "2                            2                       5   \n",
       "3                            2                       5   \n",
       "4                            2                       5   \n",
       "...                        ...                     ...   \n",
       "5639                         3                       3   \n",
       "5640                         3                       3   \n",
       "5641                         2                       5   \n",
       "5642                         3                       1   \n",
       "5643                         3                       1   \n",
       "\n",
       "      stalk-color-below-ring  veil-type  veil-color  ring-number  ring-type  \\\n",
       "0                          5          0           0            1          3   \n",
       "1                          5          0           0            1          3   \n",
       "2                          5          0           0            1          3   \n",
       "3                          5          0           0            1          3   \n",
       "4                          5          0           0            1          0   \n",
       "...                      ...        ...         ...          ...        ...   \n",
       "5639                       3          0           0            2          3   \n",
       "5640                       3          0           0            2          3   \n",
       "5641                       5          0           0            2          3   \n",
       "5642                       1          0           0            0          2   \n",
       "5643                       1          0           0            0          2   \n",
       "\n",
       "      spore-print-color  population  habitat  \n",
       "0                     1           3        5  \n",
       "1                     2           2        1  \n",
       "2                     2           2        3  \n",
       "3                     1           3        5  \n",
       "4                     2           0        1  \n",
       "...                 ...         ...      ...  \n",
       "5639                  5           5        4  \n",
       "5640                  5           5        4  \n",
       "5641                  5           5        4  \n",
       "5642                  5           1        0  \n",
       "5643                  5           1        0  \n",
       "\n",
       "[5644 rows x 22 columns]"
      ]
     },
     "execution_count": 189,
     "metadata": {},
     "output_type": "execute_result"
    }
   ],
   "source": [
    "transform_categorical(X2)\n",
    "X2"
   ]
  },
  {
   "cell_type": "code",
   "execution_count": 190,
   "metadata": {},
   "outputs": [
    {
     "name": "stdout",
     "output_type": "stream",
     "text": [
      "5644 [0, 1, 1, 0, 1]\n"
     ]
    }
   ],
   "source": [
    "y2 = [1 if d=='e' else 0 for d in y2]\n",
    "print(len(y2), y2[0:5])"
   ]
  },
  {
   "cell_type": "code",
   "execution_count": 191,
   "metadata": {},
   "outputs": [],
   "source": [
    "X_train, X_test, y_train, y_test = train_test_split(X2, y2, test_size=0.20, random_state=42)"
   ]
  },
  {
   "cell_type": "code",
   "execution_count": 192,
   "metadata": {},
   "outputs": [
    {
     "data": {
      "text/plain": [
       "DecisionTreeClassifier()"
      ]
     },
     "execution_count": 192,
     "metadata": {},
     "output_type": "execute_result"
    }
   ],
   "source": [
    "model2 = DecisionTreeClassifier()\n",
    "model2.fit(X_train, y_train)"
   ]
  },
  {
   "cell_type": "code",
   "execution_count": 193,
   "metadata": {},
   "outputs": [
    {
     "name": "stdout",
     "output_type": "stream",
     "text": [
      "R^2 :  1.0\n",
      "MAE : 0.0\n",
      "RMSE: 0.0\n"
     ]
    }
   ],
   "source": [
    "y_pred = model2.predict(X_test)\n",
    "print(\"R^2 : \", r2_score(y_test, y_pred))\n",
    "print(\"MAE :\", mean_absolute_error(y_test,y_pred))\n",
    "print(\"RMSE:\",np.sqrt(mean_squared_error(y_test, y_pred)))"
   ]
  },
  {
   "cell_type": "code",
   "execution_count": 194,
   "metadata": {},
   "outputs": [],
   "source": [
    "export_graphviz(model2, 'tree.dot', feature_names = attribute_names[1:])"
   ]
  },
  {
   "cell_type": "code",
   "execution_count": 195,
   "metadata": {},
   "outputs": [],
   "source": [
    "!dot -Tpng tree.dot -o tree.png"
   ]
  },
  {
   "cell_type": "markdown",
   "metadata": {},
   "source": [
    "If you have the `cv2` library installed:"
   ]
  },
  {
   "cell_type": "code",
   "execution_count": 196,
   "metadata": {},
   "outputs": [
    {
     "data": {
      "text/plain": [
       "<matplotlib.image.AxesImage at 0x1eadeb2ec18>"
      ]
     },
     "execution_count": 196,
     "metadata": {},
     "output_type": "execute_result"
    },
    {
     "data": {
      "image/png": "[encoded data removed]",
      "text/plain": [
       "<Figure size 1440x1440 with 1 Axes>"
      ]
     },
     "metadata": {
      "needs_background": "light"
     },
     "output_type": "display_data"
    }
   ],
   "source": [
    "img = cv2.imread('tree.png')\n",
    "#img = cv2.rotate(img, cv2.cv2.ROTATE_90_CLOCKWISE)\n",
    "img = cv2.flip(img, 0)\n",
    "plt.figure(figsize = (20, 20))\n",
    "plt.imshow(img)"
   ]
  },
  {
   "cell_type": "markdown",
   "metadata": {},
   "source": [
    "Here's a nicer version of the same graph with the target class names:"
   ]
  },
  {
   "cell_type": "code",
   "execution_count": 197,
   "metadata": {},
   "outputs": [
    {
     "data": {
      "image/svg+xml": [
       "<?xml version=\"1.0\" encoding=\"UTF-8\" standalone=\"no\"?>\r\n",
       "<!DOCTYPE svg PUBLIC \"-//W3C//DTD SVG 1.1//EN\"\r\n",
       " \"http://www.w3.org/Graphics/SVG/1.1/DTD/svg11.dtd\">\r\n",
       "<!-- Generated by graphviz version 2.50.0 (0)\r\n",
       " -->\r\n",
       "<!-- Title: Tree Pages: 1 -->\r\n",
       "<svg width=\"678pt\" height=\"790pt\"\r\n",
       " viewBox=\"0.00 0.00 678.00 790.00\" xmlns=\"http://www.w3.org/2000/svg\" xmlns:xlink=\"http://www.w3.org/1999/xlink\">\r\n",
       "<g id=\"graph0\" class=\"graph\" transform=\"scale(1 1) rotate(0) translate(4 786)\">\r\n",
       "<title>Tree</title>\r\n",
       "<polygon fill=\"white\" stroke=\"transparent\" points=\"-4,4 -4,-786 674,-786 674,4 -4,4\"/>\r\n",
       "<!-- 0 -->\r\n",
       "<g id=\"node1\" class=\"node\">\r\n",
       "<title>0</title>\r\n",
       "<path fill=\"#b4daf5\" stroke=\"black\" d=\"M317,-782C317,-782 192,-782 192,-782 186,-782 180,-776 180,-770 180,-770 180,-711 180,-711 180,-705 186,-699 192,-699 192,-699 317,-699 317,-699 323,-699 329,-705 329,-711 329,-711 329,-770 329,-770 329,-776 323,-782 317,-782\"/>\r\n",
       "<text text-anchor=\"start\" x=\"188\" y=\"-766.8\" font-family=\"Helvetica,sans-Serif\" font-size=\"14.00\">spore&#45;print&#45;color ≤ 0.5</text>\r\n",
       "<text text-anchor=\"start\" x=\"219\" y=\"-751.8\" font-family=\"Helvetica,sans-Serif\" font-size=\"14.00\">gini = 0.473</text>\r\n",
       "<text text-anchor=\"start\" x=\"206\" y=\"-736.8\" font-family=\"Helvetica,sans-Serif\" font-size=\"14.00\">samples = 4515</text>\r\n",
       "<text text-anchor=\"start\" x=\"192.5\" y=\"-721.8\" font-family=\"Helvetica,sans-Serif\" font-size=\"14.00\">value = [1732, 2783]</text>\r\n",
       "<text text-anchor=\"start\" x=\"213\" y=\"-706.8\" font-family=\"Helvetica,sans-Serif\" font-size=\"14.00\">class = edible</text>\r\n",
       "</g>\r\n",
       "<!-- 1 -->\r\n",
       "<g id=\"node2\" class=\"node\">\r\n",
       "<title>1</title>\r\n",
       "<path fill=\"#e58139\" stroke=\"black\" d=\"M232,-655.5C232,-655.5 131,-655.5 131,-655.5 125,-655.5 119,-649.5 119,-643.5 119,-643.5 119,-599.5 119,-599.5 119,-593.5 125,-587.5 131,-587.5 131,-587.5 232,-587.5 232,-587.5 238,-587.5 244,-593.5 244,-599.5 244,-599.5 244,-643.5 244,-643.5 244,-649.5 238,-655.5 232,-655.5\"/>\r\n",
       "<text text-anchor=\"start\" x=\"153.5\" y=\"-640.3\" font-family=\"Helvetica,sans-Serif\" font-size=\"14.00\">gini = 0.0</text>\r\n",
       "<text text-anchor=\"start\" x=\"133\" y=\"-625.3\" font-family=\"Helvetica,sans-Serif\" font-size=\"14.00\">samples = 1282</text>\r\n",
       "<text text-anchor=\"start\" x=\"131\" y=\"-610.3\" font-family=\"Helvetica,sans-Serif\" font-size=\"14.00\">value = [1282, 0]</text>\r\n",
       "<text text-anchor=\"start\" x=\"127\" y=\"-595.3\" font-family=\"Helvetica,sans-Serif\" font-size=\"14.00\">class = poisonous</text>\r\n",
       "</g>\r\n",
       "<!-- 0&#45;&gt;1 -->\r\n",
       "<g id=\"edge1\" class=\"edge\">\r\n",
       "<title>0&#45;&gt;1</title>\r\n",
       "<path fill=\"none\" stroke=\"black\" d=\"M229.17,-698.91C222.22,-687.76 214.67,-675.66 207.67,-664.44\"/>\r\n",
       "<polygon fill=\"black\" stroke=\"black\" points=\"210.46,-662.3 202.19,-655.67 204.52,-666 210.46,-662.3\"/>\r\n",
       "<text text-anchor=\"middle\" x=\"196.55\" y=\"-676.32\" font-family=\"Helvetica,sans-Serif\" font-size=\"14.00\">True</text>\r\n",
       "</g>\r\n",
       "<!-- 2 -->\r\n",
       "<g id=\"node3\" class=\"node\">\r\n",
       "<title>2</title>\r\n",
       "<path fill=\"#59ade9\" stroke=\"black\" d=\"M382.5,-663C382.5,-663 274.5,-663 274.5,-663 268.5,-663 262.5,-657 262.5,-651 262.5,-651 262.5,-592 262.5,-592 262.5,-586 268.5,-580 274.5,-580 274.5,-580 382.5,-580 382.5,-580 388.5,-580 394.5,-586 394.5,-592 394.5,-592 394.5,-651 394.5,-651 394.5,-657 388.5,-663 382.5,-663\"/>\r\n",
       "<text text-anchor=\"start\" x=\"289\" y=\"-647.8\" font-family=\"Helvetica,sans-Serif\" font-size=\"14.00\">gill&#45;size ≤ 0.5</text>\r\n",
       "<text text-anchor=\"start\" x=\"296.5\" y=\"-632.8\" font-family=\"Helvetica,sans-Serif\" font-size=\"14.00\">gini = 0.24</text>\r\n",
       "<text text-anchor=\"start\" x=\"280\" y=\"-617.8\" font-family=\"Helvetica,sans-Serif\" font-size=\"14.00\">samples = 3233</text>\r\n",
       "<text text-anchor=\"start\" x=\"270.5\" y=\"-602.8\" font-family=\"Helvetica,sans-Serif\" font-size=\"14.00\">value = [450, 2783]</text>\r\n",
       "<text text-anchor=\"start\" x=\"287\" y=\"-587.8\" font-family=\"Helvetica,sans-Serif\" font-size=\"14.00\">class = edible</text>\r\n",
       "</g>\r\n",
       "<!-- 0&#45;&gt;2 -->\r\n",
       "<g id=\"edge2\" class=\"edge\">\r\n",
       "<title>0&#45;&gt;2</title>\r\n",
       "<path fill=\"none\" stroke=\"black\" d=\"M280.17,-698.91C285.74,-690.1 291.69,-680.7 297.44,-671.61\"/>\r\n",
       "<polygon fill=\"black\" stroke=\"black\" points=\"300.48,-673.34 302.87,-663.02 294.57,-669.6 300.48,-673.34\"/>\r\n",
       "<text text-anchor=\"middle\" x=\"308.36\" y=\"-683.71\" font-family=\"Helvetica,sans-Serif\" font-size=\"14.00\">False</text>\r\n",
       "</g>\r\n",
       "<!-- 3 -->\r\n",
       "<g id=\"node4\" class=\"node\">\r\n",
       "<title>3</title>\r\n",
       "<path fill=\"#40a0e6\" stroke=\"black\" d=\"M313,-544C313,-544 188,-544 188,-544 182,-544 176,-538 176,-532 176,-532 176,-473 176,-473 176,-467 182,-461 188,-461 188,-461 313,-461 313,-461 319,-461 325,-467 325,-473 325,-473 325,-532 325,-532 325,-538 319,-544 313,-544\"/>\r\n",
       "<text text-anchor=\"start\" x=\"184\" y=\"-528.8\" font-family=\"Helvetica,sans-Serif\" font-size=\"14.00\">spore&#45;print&#45;color ≤ 2.5</text>\r\n",
       "<text text-anchor=\"start\" x=\"215\" y=\"-513.8\" font-family=\"Helvetica,sans-Serif\" font-size=\"14.00\">gini = 0.063</text>\r\n",
       "<text text-anchor=\"start\" x=\"202\" y=\"-498.8\" font-family=\"Helvetica,sans-Serif\" font-size=\"14.00\">samples = 2686</text>\r\n",
       "<text text-anchor=\"start\" x=\"196\" y=\"-483.8\" font-family=\"Helvetica,sans-Serif\" font-size=\"14.00\">value = [87, 2599]</text>\r\n",
       "<text text-anchor=\"start\" x=\"209\" y=\"-468.8\" font-family=\"Helvetica,sans-Serif\" font-size=\"14.00\">class = edible</text>\r\n",
       "</g>\r\n",
       "<!-- 2&#45;&gt;3 -->\r\n",
       "<g id=\"edge3\" class=\"edge\">\r\n",
       "<title>2&#45;&gt;3</title>\r\n",
       "<path fill=\"none\" stroke=\"black\" d=\"M301.44,-579.91C295.57,-571.1 289.3,-561.7 283.24,-552.61\"/>\r\n",
       "<polygon fill=\"black\" stroke=\"black\" points=\"285.97,-550.4 277.51,-544.02 280.15,-554.28 285.97,-550.4\"/>\r\n",
       "</g>\r\n",
       "<!-- 10 -->\r\n",
       "<g id=\"node11\" class=\"node\">\r\n",
       "<title>10</title>\r\n",
       "<path fill=\"#f2c19d\" stroke=\"black\" d=\"M456,-544C456,-544 355,-544 355,-544 349,-544 343,-538 343,-532 343,-532 343,-473 343,-473 343,-467 349,-461 355,-461 355,-461 456,-461 456,-461 462,-461 468,-467 468,-473 468,-473 468,-532 468,-532 468,-538 462,-544 456,-544\"/>\r\n",
       "<text text-anchor=\"start\" x=\"354\" y=\"-528.8\" font-family=\"Helvetica,sans-Serif\" font-size=\"14.00\">stalk&#45;shape ≤ 0.5</text>\r\n",
       "<text text-anchor=\"start\" x=\"370\" y=\"-513.8\" font-family=\"Helvetica,sans-Serif\" font-size=\"14.00\">gini = 0.446</text>\r\n",
       "<text text-anchor=\"start\" x=\"360.5\" y=\"-498.8\" font-family=\"Helvetica,sans-Serif\" font-size=\"14.00\">samples = 547</text>\r\n",
       "<text text-anchor=\"start\" x=\"351\" y=\"-483.8\" font-family=\"Helvetica,sans-Serif\" font-size=\"14.00\">value = [363, 184]</text>\r\n",
       "<text text-anchor=\"start\" x=\"351\" y=\"-468.8\" font-family=\"Helvetica,sans-Serif\" font-size=\"14.00\">class = poisonous</text>\r\n",
       "</g>\r\n",
       "<!-- 2&#45;&gt;10 -->\r\n",
       "<g id=\"edge10\" class=\"edge\">\r\n",
       "<title>2&#45;&gt;10</title>\r\n",
       "<path fill=\"none\" stroke=\"black\" d=\"M355.21,-579.91C361.01,-571.1 367.2,-561.7 373.18,-552.61\"/>\r\n",
       "<polygon fill=\"black\" stroke=\"black\" points=\"376.26,-554.3 378.83,-544.02 370.41,-550.45 376.26,-554.3\"/>\r\n",
       "</g>\r\n",
       "<!-- 4 -->\r\n",
       "<g id=\"node5\" class=\"node\">\r\n",
       "<title>4</title>\r\n",
       "<path fill=\"#399de5\" stroke=\"black\" d=\"M161,-417.5C161,-417.5 68,-417.5 68,-417.5 62,-417.5 56,-411.5 56,-405.5 56,-405.5 56,-361.5 56,-361.5 56,-355.5 62,-349.5 68,-349.5 68,-349.5 161,-349.5 161,-349.5 167,-349.5 173,-355.5 173,-361.5 173,-361.5 173,-405.5 173,-405.5 173,-411.5 167,-417.5 161,-417.5\"/>\r\n",
       "<text text-anchor=\"start\" x=\"86.5\" y=\"-402.3\" font-family=\"Helvetica,sans-Serif\" font-size=\"14.00\">gini = 0.0</text>\r\n",
       "<text text-anchor=\"start\" x=\"66\" y=\"-387.3\" font-family=\"Helvetica,sans-Serif\" font-size=\"14.00\">samples = 2559</text>\r\n",
       "<text text-anchor=\"start\" x=\"64\" y=\"-372.3\" font-family=\"Helvetica,sans-Serif\" font-size=\"14.00\">value = [0, 2559]</text>\r\n",
       "<text text-anchor=\"start\" x=\"73\" y=\"-357.3\" font-family=\"Helvetica,sans-Serif\" font-size=\"14.00\">class = edible</text>\r\n",
       "</g>\r\n",
       "<!-- 3&#45;&gt;4 -->\r\n",
       "<g id=\"edge4\" class=\"edge\">\r\n",
       "<title>3&#45;&gt;4</title>\r\n",
       "<path fill=\"none\" stroke=\"black\" d=\"M203.32,-460.91C189.59,-449.1 174.61,-436.22 160.94,-424.45\"/>\r\n",
       "<polygon fill=\"black\" stroke=\"black\" points=\"162.92,-421.54 153.05,-417.67 158.35,-426.84 162.92,-421.54\"/>\r\n",
       "</g>\r\n",
       "<!-- 5 -->\r\n",
       "<g id=\"node6\" class=\"node\">\r\n",
       "<title>5</title>\r\n",
       "<path fill=\"#f1bb94\" stroke=\"black\" d=\"M304,-425C304,-425 203,-425 203,-425 197,-425 191,-419 191,-413 191,-413 191,-354 191,-354 191,-348 197,-342 203,-342 203,-342 304,-342 304,-342 310,-342 316,-348 316,-354 316,-354 316,-413 316,-413 316,-419 310,-425 304,-425\"/>\r\n",
       "<text text-anchor=\"start\" x=\"216\" y=\"-409.8\" font-family=\"Helvetica,sans-Serif\" font-size=\"14.00\">habitat ≤ 3.5</text>\r\n",
       "<text text-anchor=\"start\" x=\"218\" y=\"-394.8\" font-family=\"Helvetica,sans-Serif\" font-size=\"14.00\">gini = 0.432</text>\r\n",
       "<text text-anchor=\"start\" x=\"208.5\" y=\"-379.8\" font-family=\"Helvetica,sans-Serif\" font-size=\"14.00\">samples = 127</text>\r\n",
       "<text text-anchor=\"start\" x=\"206.5\" y=\"-364.8\" font-family=\"Helvetica,sans-Serif\" font-size=\"14.00\">value = [87, 40]</text>\r\n",
       "<text text-anchor=\"start\" x=\"199\" y=\"-349.8\" font-family=\"Helvetica,sans-Serif\" font-size=\"14.00\">class = poisonous</text>\r\n",
       "</g>\r\n",
       "<!-- 3&#45;&gt;5 -->\r\n",
       "<g id=\"edge5\" class=\"edge\">\r\n",
       "<title>3&#45;&gt;5</title>\r\n",
       "<path fill=\"none\" stroke=\"black\" d=\"M251.54,-460.91C251.75,-452.56 251.98,-443.67 252.2,-435.02\"/>\r\n",
       "<polygon fill=\"black\" stroke=\"black\" points=\"255.7,-435.11 252.46,-425.02 248.71,-434.93 255.7,-435.11\"/>\r\n",
       "</g>\r\n",
       "<!-- 6 -->\r\n",
       "<g id=\"node7\" class=\"node\">\r\n",
       "<title>6</title>\r\n",
       "<path fill=\"#e78d4b\" stroke=\"black\" d=\"M178,-306C178,-306 77,-306 77,-306 71,-306 65,-300 65,-294 65,-294 65,-235 65,-235 65,-229 71,-223 77,-223 77,-223 178,-223 178,-223 184,-223 190,-229 190,-235 190,-235 190,-294 190,-294 190,-300 184,-306 178,-306\"/>\r\n",
       "<text text-anchor=\"start\" x=\"79\" y=\"-290.8\" font-family=\"Helvetica,sans-Serif\" font-size=\"14.00\">population ≤ 4.5</text>\r\n",
       "<text text-anchor=\"start\" x=\"92\" y=\"-275.8\" font-family=\"Helvetica,sans-Serif\" font-size=\"14.00\">gini = 0.154</text>\r\n",
       "<text text-anchor=\"start\" x=\"86.5\" y=\"-260.8\" font-family=\"Helvetica,sans-Serif\" font-size=\"14.00\">samples = 95</text>\r\n",
       "<text text-anchor=\"start\" x=\"84.5\" y=\"-245.8\" font-family=\"Helvetica,sans-Serif\" font-size=\"14.00\">value = [87, 8]</text>\r\n",
       "<text text-anchor=\"start\" x=\"73\" y=\"-230.8\" font-family=\"Helvetica,sans-Serif\" font-size=\"14.00\">class = poisonous</text>\r\n",
       "</g>\r\n",
       "<!-- 5&#45;&gt;6 -->\r\n",
       "<g id=\"edge6\" class=\"edge\">\r\n",
       "<title>5&#45;&gt;6</title>\r\n",
       "<path fill=\"none\" stroke=\"black\" d=\"M209.78,-341.91C199.72,-332.56 188.93,-322.54 178.58,-312.93\"/>\r\n",
       "<polygon fill=\"black\" stroke=\"black\" points=\"180.85,-310.26 171.14,-306.02 176.08,-315.39 180.85,-310.26\"/>\r\n",
       "</g>\r\n",
       "<!-- 9 -->\r\n",
       "<g id=\"node10\" class=\"node\">\r\n",
       "<title>9</title>\r\n",
       "<path fill=\"#399de5\" stroke=\"black\" d=\"M298.5,-298.5C298.5,-298.5 220.5,-298.5 220.5,-298.5 214.5,-298.5 208.5,-292.5 208.5,-286.5 208.5,-286.5 208.5,-242.5 208.5,-242.5 208.5,-236.5 214.5,-230.5 220.5,-230.5 220.5,-230.5 298.5,-230.5 298.5,-230.5 304.5,-230.5 310.5,-236.5 310.5,-242.5 310.5,-242.5 310.5,-286.5 310.5,-286.5 310.5,-292.5 304.5,-298.5 298.5,-298.5\"/>\r\n",
       "<text text-anchor=\"start\" x=\"231.5\" y=\"-283.3\" font-family=\"Helvetica,sans-Serif\" font-size=\"14.00\">gini = 0.0</text>\r\n",
       "<text text-anchor=\"start\" x=\"218.5\" y=\"-268.3\" font-family=\"Helvetica,sans-Serif\" font-size=\"14.00\">samples = 32</text>\r\n",
       "<text text-anchor=\"start\" x=\"216.5\" y=\"-253.3\" font-family=\"Helvetica,sans-Serif\" font-size=\"14.00\">value = [0, 32]</text>\r\n",
       "<text text-anchor=\"start\" x=\"218\" y=\"-238.3\" font-family=\"Helvetica,sans-Serif\" font-size=\"14.00\">class = edible</text>\r\n",
       "</g>\r\n",
       "<!-- 5&#45;&gt;9 -->\r\n",
       "<g id=\"edge9\" class=\"edge\">\r\n",
       "<title>5&#45;&gt;9</title>\r\n",
       "<path fill=\"none\" stroke=\"black\" d=\"M255.58,-341.91C256.13,-331.2 256.72,-319.62 257.28,-308.78\"/>\r\n",
       "<polygon fill=\"black\" stroke=\"black\" points=\"260.78,-308.83 257.8,-298.67 253.79,-308.47 260.78,-308.83\"/>\r\n",
       "</g>\r\n",
       "<!-- 7 -->\r\n",
       "<g id=\"node8\" class=\"node\">\r\n",
       "<title>7</title>\r\n",
       "<path fill=\"#e58139\" stroke=\"black\" d=\"M113,-179.5C113,-179.5 12,-179.5 12,-179.5 6,-179.5 0,-173.5 0,-167.5 0,-167.5 0,-123.5 0,-123.5 0,-117.5 6,-111.5 12,-111.5 12,-111.5 113,-111.5 113,-111.5 119,-111.5 125,-117.5 125,-123.5 125,-123.5 125,-167.5 125,-167.5 125,-173.5 119,-179.5 113,-179.5\"/>\r\n",
       "<text text-anchor=\"start\" x=\"34.5\" y=\"-164.3\" font-family=\"Helvetica,sans-Serif\" font-size=\"14.00\">gini = 0.0</text>\r\n",
       "<text text-anchor=\"start\" x=\"21.5\" y=\"-149.3\" font-family=\"Helvetica,sans-Serif\" font-size=\"14.00\">samples = 87</text>\r\n",
       "<text text-anchor=\"start\" x=\"19.5\" y=\"-134.3\" font-family=\"Helvetica,sans-Serif\" font-size=\"14.00\">value = [87, 0]</text>\r\n",
       "<text text-anchor=\"start\" x=\"8\" y=\"-119.3\" font-family=\"Helvetica,sans-Serif\" font-size=\"14.00\">class = poisonous</text>\r\n",
       "</g>\r\n",
       "<!-- 6&#45;&gt;7 -->\r\n",
       "<g id=\"edge7\" class=\"edge\">\r\n",
       "<title>6&#45;&gt;7</title>\r\n",
       "<path fill=\"none\" stroke=\"black\" d=\"M104.95,-222.91C98.76,-211.76 92.03,-199.66 85.8,-188.44\"/>\r\n",
       "<polygon fill=\"black\" stroke=\"black\" points=\"88.84,-186.71 80.93,-179.67 82.72,-190.11 88.84,-186.71\"/>\r\n",
       "</g>\r\n",
       "<!-- 8 -->\r\n",
       "<g id=\"node9\" class=\"node\">\r\n",
       "<title>8</title>\r\n",
       "<path fill=\"#399de5\" stroke=\"black\" d=\"M230,-179.5C230,-179.5 155,-179.5 155,-179.5 149,-179.5 143,-173.5 143,-167.5 143,-167.5 143,-123.5 143,-123.5 143,-117.5 149,-111.5 155,-111.5 155,-111.5 230,-111.5 230,-111.5 236,-111.5 242,-117.5 242,-123.5 242,-123.5 242,-167.5 242,-167.5 242,-173.5 236,-179.5 230,-179.5\"/>\r\n",
       "<text text-anchor=\"start\" x=\"164.5\" y=\"-164.3\" font-family=\"Helvetica,sans-Serif\" font-size=\"14.00\">gini = 0.0</text>\r\n",
       "<text text-anchor=\"start\" x=\"155\" y=\"-149.3\" font-family=\"Helvetica,sans-Serif\" font-size=\"14.00\">samples = 8</text>\r\n",
       "<text text-anchor=\"start\" x=\"153\" y=\"-134.3\" font-family=\"Helvetica,sans-Serif\" font-size=\"14.00\">value = [0, 8]</text>\r\n",
       "<text text-anchor=\"start\" x=\"151\" y=\"-119.3\" font-family=\"Helvetica,sans-Serif\" font-size=\"14.00\">class = edible</text>\r\n",
       "</g>\r\n",
       "<!-- 6&#45;&gt;8 -->\r\n",
       "<g id=\"edge8\" class=\"edge\">\r\n",
       "<title>6&#45;&gt;8</title>\r\n",
       "<path fill=\"none\" stroke=\"black\" d=\"M150.05,-222.91C156.24,-211.76 162.97,-199.66 169.2,-188.44\"/>\r\n",
       "<polygon fill=\"black\" stroke=\"black\" points=\"172.28,-190.11 174.07,-179.67 166.16,-186.71 172.28,-190.11\"/>\r\n",
       "</g>\r\n",
       "<!-- 11 -->\r\n",
       "<g id=\"node12\" class=\"node\">\r\n",
       "<title>11</title>\r\n",
       "<path fill=\"#eda673\" stroke=\"black\" d=\"M453,-425C453,-425 352,-425 352,-425 346,-425 340,-419 340,-413 340,-413 340,-354 340,-354 340,-348 346,-342 352,-342 352,-342 453,-342 453,-342 459,-342 465,-348 465,-354 465,-354 465,-413 465,-413 465,-419 459,-425 453,-425\"/>\r\n",
       "<text text-anchor=\"start\" x=\"365\" y=\"-409.8\" font-family=\"Helvetica,sans-Serif\" font-size=\"14.00\">habitat ≤ 1.5</text>\r\n",
       "<text text-anchor=\"start\" x=\"370.5\" y=\"-394.8\" font-family=\"Helvetica,sans-Serif\" font-size=\"14.00\">gini = 0.35</text>\r\n",
       "<text text-anchor=\"start\" x=\"357.5\" y=\"-379.8\" font-family=\"Helvetica,sans-Serif\" font-size=\"14.00\">samples = 469</text>\r\n",
       "<text text-anchor=\"start\" x=\"348\" y=\"-364.8\" font-family=\"Helvetica,sans-Serif\" font-size=\"14.00\">value = [363, 106]</text>\r\n",
       "<text text-anchor=\"start\" x=\"348\" y=\"-349.8\" font-family=\"Helvetica,sans-Serif\" font-size=\"14.00\">class = poisonous</text>\r\n",
       "</g>\r\n",
       "<!-- 10&#45;&gt;11 -->\r\n",
       "<g id=\"edge11\" class=\"edge\">\r\n",
       "<title>10&#45;&gt;11</title>\r\n",
       "<path fill=\"none\" stroke=\"black\" d=\"M404.46,-460.91C404.25,-452.56 404.02,-443.67 403.8,-435.02\"/>\r\n",
       "<polygon fill=\"black\" stroke=\"black\" points=\"407.29,-434.93 403.54,-425.02 400.3,-435.11 407.29,-434.93\"/>\r\n",
       "</g>\r\n",
       "<!-- 18 -->\r\n",
       "<g id=\"node19\" class=\"node\">\r\n",
       "<title>18</title>\r\n",
       "<path fill=\"#399de5\" stroke=\"black\" d=\"M573.5,-417.5C573.5,-417.5 495.5,-417.5 495.5,-417.5 489.5,-417.5 483.5,-411.5 483.5,-405.5 483.5,-405.5 483.5,-361.5 483.5,-361.5 483.5,-355.5 489.5,-349.5 495.5,-349.5 495.5,-349.5 573.5,-349.5 573.5,-349.5 579.5,-349.5 585.5,-355.5 585.5,-361.5 585.5,-361.5 585.5,-405.5 585.5,-405.5 585.5,-411.5 579.5,-417.5 573.5,-417.5\"/>\r\n",
       "<text text-anchor=\"start\" x=\"506.5\" y=\"-402.3\" font-family=\"Helvetica,sans-Serif\" font-size=\"14.00\">gini = 0.0</text>\r\n",
       "<text text-anchor=\"start\" x=\"493.5\" y=\"-387.3\" font-family=\"Helvetica,sans-Serif\" font-size=\"14.00\">samples = 78</text>\r\n",
       "<text text-anchor=\"start\" x=\"491.5\" y=\"-372.3\" font-family=\"Helvetica,sans-Serif\" font-size=\"14.00\">value = [0, 78]</text>\r\n",
       "<text text-anchor=\"start\" x=\"493\" y=\"-357.3\" font-family=\"Helvetica,sans-Serif\" font-size=\"14.00\">class = edible</text>\r\n",
       "</g>\r\n",
       "<!-- 10&#45;&gt;18 -->\r\n",
       "<g id=\"edge18\" class=\"edge\">\r\n",
       "<title>10&#45;&gt;18</title>\r\n",
       "<path fill=\"none\" stroke=\"black\" d=\"M450.26,-460.91C463.27,-449.1 477.48,-436.22 490.45,-424.45\"/>\r\n",
       "<polygon fill=\"black\" stroke=\"black\" points=\"492.88,-426.98 497.93,-417.67 488.17,-421.79 492.88,-426.98\"/>\r\n",
       "</g>\r\n",
       "<!-- 12 -->\r\n",
       "<g id=\"node13\" class=\"node\">\r\n",
       "<title>12</title>\r\n",
       "<path fill=\"#e58139\" stroke=\"black\" d=\"M447,-298.5C447,-298.5 346,-298.5 346,-298.5 340,-298.5 334,-292.5 334,-286.5 334,-286.5 334,-242.5 334,-242.5 334,-236.5 340,-230.5 346,-230.5 346,-230.5 447,-230.5 447,-230.5 453,-230.5 459,-236.5 459,-242.5 459,-242.5 459,-286.5 459,-286.5 459,-292.5 453,-298.5 447,-298.5\"/>\r\n",
       "<text text-anchor=\"start\" x=\"368.5\" y=\"-283.3\" font-family=\"Helvetica,sans-Serif\" font-size=\"14.00\">gini = 0.0</text>\r\n",
       "<text text-anchor=\"start\" x=\"351.5\" y=\"-268.3\" font-family=\"Helvetica,sans-Serif\" font-size=\"14.00\">samples = 247</text>\r\n",
       "<text text-anchor=\"start\" x=\"349.5\" y=\"-253.3\" font-family=\"Helvetica,sans-Serif\" font-size=\"14.00\">value = [247, 0]</text>\r\n",
       "<text text-anchor=\"start\" x=\"342\" y=\"-238.3\" font-family=\"Helvetica,sans-Serif\" font-size=\"14.00\">class = poisonous</text>\r\n",
       "</g>\r\n",
       "<!-- 11&#45;&gt;12 -->\r\n",
       "<g id=\"edge12\" class=\"edge\">\r\n",
       "<title>11&#45;&gt;12</title>\r\n",
       "<path fill=\"none\" stroke=\"black\" d=\"M400.42,-341.91C399.87,-331.2 399.28,-319.62 398.72,-308.78\"/>\r\n",
       "<polygon fill=\"black\" stroke=\"black\" points=\"402.21,-308.47 398.2,-298.67 395.22,-308.83 402.21,-308.47\"/>\r\n",
       "</g>\r\n",
       "<!-- 13 -->\r\n",
       "<g id=\"node14\" class=\"node\">\r\n",
       "<title>13</title>\r\n",
       "<path fill=\"#fdf4ee\" stroke=\"black\" d=\"M590,-306C590,-306 489,-306 489,-306 483,-306 477,-300 477,-294 477,-294 477,-235 477,-235 477,-229 483,-223 489,-223 489,-223 590,-223 590,-223 596,-223 602,-229 602,-235 602,-235 602,-294 602,-294 602,-300 596,-306 590,-306\"/>\r\n",
       "<text text-anchor=\"start\" x=\"497\" y=\"-290.8\" font-family=\"Helvetica,sans-Serif\" font-size=\"14.00\">bruises? ≤ 0.5</text>\r\n",
       "<text text-anchor=\"start\" x=\"504\" y=\"-275.8\" font-family=\"Helvetica,sans-Serif\" font-size=\"14.00\">gini = 0.499</text>\r\n",
       "<text text-anchor=\"start\" x=\"494.5\" y=\"-260.8\" font-family=\"Helvetica,sans-Serif\" font-size=\"14.00\">samples = 222</text>\r\n",
       "<text text-anchor=\"start\" x=\"485.5\" y=\"-245.8\" font-family=\"Helvetica,sans-Serif\" font-size=\"14.00\">value = [116, 106]</text>\r\n",
       "<text text-anchor=\"start\" x=\"485\" y=\"-230.8\" font-family=\"Helvetica,sans-Serif\" font-size=\"14.00\">class = poisonous</text>\r\n",
       "</g>\r\n",
       "<!-- 11&#45;&gt;13 -->\r\n",
       "<g id=\"edge13\" class=\"edge\">\r\n",
       "<title>11&#45;&gt;13</title>\r\n",
       "<path fill=\"none\" stroke=\"black\" d=\"M450.03,-341.91C461.08,-332.47 472.94,-322.34 484.29,-312.65\"/>\r\n",
       "<polygon fill=\"black\" stroke=\"black\" points=\"486.72,-315.18 492.05,-306.02 482.18,-309.85 486.72,-315.18\"/>\r\n",
       "</g>\r\n",
       "<!-- 14 -->\r\n",
       "<g id=\"node15\" class=\"node\">\r\n",
       "<title>14</title>\r\n",
       "<path fill=\"#46a3e7\" stroke=\"black\" d=\"M514.5,-187C514.5,-187 428.5,-187 428.5,-187 422.5,-187 416.5,-181 416.5,-175 416.5,-175 416.5,-116 416.5,-116 416.5,-110 422.5,-104 428.5,-104 428.5,-104 514.5,-104 514.5,-104 520.5,-104 526.5,-110 526.5,-116 526.5,-116 526.5,-175 526.5,-175 526.5,-181 520.5,-187 514.5,-187\"/>\r\n",
       "<text text-anchor=\"start\" x=\"426.5\" y=\"-171.8\" font-family=\"Helvetica,sans-Serif\" font-size=\"14.00\">cap&#45;color ≤ 5.5</text>\r\n",
       "<text text-anchor=\"start\" x=\"436.5\" y=\"-156.8\" font-family=\"Helvetica,sans-Serif\" font-size=\"14.00\">gini = 0.116</text>\r\n",
       "<text text-anchor=\"start\" x=\"427\" y=\"-141.8\" font-family=\"Helvetica,sans-Serif\" font-size=\"14.00\">samples = 113</text>\r\n",
       "<text text-anchor=\"start\" x=\"424.5\" y=\"-126.8\" font-family=\"Helvetica,sans-Serif\" font-size=\"14.00\">value = [7, 106]</text>\r\n",
       "<text text-anchor=\"start\" x=\"430\" y=\"-111.8\" font-family=\"Helvetica,sans-Serif\" font-size=\"14.00\">class = edible</text>\r\n",
       "</g>\r\n",
       "<!-- 13&#45;&gt;14 -->\r\n",
       "<g id=\"edge14\" class=\"edge\">\r\n",
       "<title>13&#45;&gt;14</title>\r\n",
       "<path fill=\"none\" stroke=\"black\" d=\"M515.91,-222.91C510.84,-214.2 505.44,-204.9 500.21,-195.89\"/>\r\n",
       "<polygon fill=\"black\" stroke=\"black\" points=\"503.1,-193.91 495.05,-187.02 497.05,-197.43 503.1,-193.91\"/>\r\n",
       "</g>\r\n",
       "<!-- 17 -->\r\n",
       "<g id=\"node18\" class=\"node\">\r\n",
       "<title>17</title>\r\n",
       "<path fill=\"#e58139\" stroke=\"black\" d=\"M658,-179.5C658,-179.5 557,-179.5 557,-179.5 551,-179.5 545,-173.5 545,-167.5 545,-167.5 545,-123.5 545,-123.5 545,-117.5 551,-111.5 557,-111.5 557,-111.5 658,-111.5 658,-111.5 664,-111.5 670,-117.5 670,-123.5 670,-123.5 670,-167.5 670,-167.5 670,-173.5 664,-179.5 658,-179.5\"/>\r\n",
       "<text text-anchor=\"start\" x=\"579.5\" y=\"-164.3\" font-family=\"Helvetica,sans-Serif\" font-size=\"14.00\">gini = 0.0</text>\r\n",
       "<text text-anchor=\"start\" x=\"562.5\" y=\"-149.3\" font-family=\"Helvetica,sans-Serif\" font-size=\"14.00\">samples = 109</text>\r\n",
       "<text text-anchor=\"start\" x=\"560.5\" y=\"-134.3\" font-family=\"Helvetica,sans-Serif\" font-size=\"14.00\">value = [109, 0]</text>\r\n",
       "<text text-anchor=\"start\" x=\"553\" y=\"-119.3\" font-family=\"Helvetica,sans-Serif\" font-size=\"14.00\">class = poisonous</text>\r\n",
       "</g>\r\n",
       "<!-- 13&#45;&gt;17 -->\r\n",
       "<g id=\"edge17\" class=\"edge\">\r\n",
       "<title>13&#45;&gt;17</title>\r\n",
       "<path fill=\"none\" stroke=\"black\" d=\"M563.09,-222.91C569.57,-211.76 576.6,-199.66 583.13,-188.44\"/>\r\n",
       "<polygon fill=\"black\" stroke=\"black\" points=\"586.22,-190.07 588.22,-179.67 580.17,-186.55 586.22,-190.07\"/>\r\n",
       "</g>\r\n",
       "<!-- 15 -->\r\n",
       "<g id=\"node16\" class=\"node\">\r\n",
       "<title>15</title>\r\n",
       "<path fill=\"#399de5\" stroke=\"black\" d=\"M446.5,-68C446.5,-68 360.5,-68 360.5,-68 354.5,-68 348.5,-62 348.5,-56 348.5,-56 348.5,-12 348.5,-12 348.5,-6 354.5,0 360.5,0 360.5,0 446.5,0 446.5,0 452.5,0 458.5,-6 458.5,-12 458.5,-12 458.5,-56 458.5,-56 458.5,-62 452.5,-68 446.5,-68\"/>\r\n",
       "<text text-anchor=\"start\" x=\"375.5\" y=\"-52.8\" font-family=\"Helvetica,sans-Serif\" font-size=\"14.00\">gini = 0.0</text>\r\n",
       "<text text-anchor=\"start\" x=\"358.5\" y=\"-37.8\" font-family=\"Helvetica,sans-Serif\" font-size=\"14.00\">samples = 106</text>\r\n",
       "<text text-anchor=\"start\" x=\"356.5\" y=\"-22.8\" font-family=\"Helvetica,sans-Serif\" font-size=\"14.00\">value = [0, 106]</text>\r\n",
       "<text text-anchor=\"start\" x=\"362\" y=\"-7.8\" font-family=\"Helvetica,sans-Serif\" font-size=\"14.00\">class = edible</text>\r\n",
       "</g>\r\n",
       "<!-- 14&#45;&gt;15 -->\r\n",
       "<g id=\"edge15\" class=\"edge\">\r\n",
       "<title>14&#45;&gt;15</title>\r\n",
       "<path fill=\"none\" stroke=\"black\" d=\"M446.18,-103.73C440.74,-94.97 434.99,-85.7 429.52,-76.91\"/>\r\n",
       "<polygon fill=\"black\" stroke=\"black\" points=\"432.43,-74.95 424.18,-68.3 426.48,-78.64 432.43,-74.95\"/>\r\n",
       "</g>\r\n",
       "<!-- 16 -->\r\n",
       "<g id=\"node17\" class=\"node\">\r\n",
       "<title>16</title>\r\n",
       "<path fill=\"#e58139\" stroke=\"black\" d=\"M590,-68C590,-68 489,-68 489,-68 483,-68 477,-62 477,-56 477,-56 477,-12 477,-12 477,-6 483,0 489,0 489,0 590,0 590,0 596,0 602,-6 602,-12 602,-12 602,-56 602,-56 602,-62 596,-68 590,-68\"/>\r\n",
       "<text text-anchor=\"start\" x=\"511.5\" y=\"-52.8\" font-family=\"Helvetica,sans-Serif\" font-size=\"14.00\">gini = 0.0</text>\r\n",
       "<text text-anchor=\"start\" x=\"502\" y=\"-37.8\" font-family=\"Helvetica,sans-Serif\" font-size=\"14.00\">samples = 7</text>\r\n",
       "<text text-anchor=\"start\" x=\"500\" y=\"-22.8\" font-family=\"Helvetica,sans-Serif\" font-size=\"14.00\">value = [7, 0]</text>\r\n",
       "<text text-anchor=\"start\" x=\"485\" y=\"-7.8\" font-family=\"Helvetica,sans-Serif\" font-size=\"14.00\">class = poisonous</text>\r\n",
       "</g>\r\n",
       "<!-- 14&#45;&gt;16 -->\r\n",
       "<g id=\"edge16\" class=\"edge\">\r\n",
       "<title>14&#45;&gt;16</title>\r\n",
       "<path fill=\"none\" stroke=\"black\" d=\"M496.82,-103.73C502.26,-94.97 508.01,-85.7 513.48,-76.91\"/>\r\n",
       "<polygon fill=\"black\" stroke=\"black\" points=\"516.52,-78.64 518.82,-68.3 510.57,-74.95 516.52,-78.64\"/>\r\n",
       "</g>\r\n",
       "</g>\r\n",
       "</svg>\r\n"
      ],
      "text/plain": [
       "<graphviz.files.Source at 0x1eadeb411d0>"
      ]
     },
     "execution_count": 197,
     "metadata": {},
     "output_type": "execute_result"
    }
   ],
   "source": [
    "dot_data = tree.export_graphviz(model2, out_file=None, \n",
    "                      feature_names=attribute_names[1:],  \n",
    "                      class_names=['poisonous', 'edible'],  \n",
    "                      filled=True, rounded=True,  \n",
    "                      special_characters=True)  \n",
    "graph = graphviz.Source(dot_data)  \n",
    "graph "
   ]
  },
  {
   "cell_type": "markdown",
   "metadata": {},
   "source": [
    "### 7.5 Receiver Operating Chracteristic (ROC) and Area Under the Curve (AUC)\n",
    "\n",
    "We can use AUC (Area Under Curve) as the evaluation metric. Our target value is binary so it’s a binary classification problem. AUC is a good way for evaluation for this type of problems (see INFO 6105 for a definition of the [Receiver Operating Characteristic](https://en.wikipedia.org/wiki/Receiver_operating_characteristic) and for AUC).\n",
    "\n",
    "A **receiver operating characteristic** curve, or ROC curve, is a graphical plot that illustrates the diagnostic ability of a *binary* classifier system as its discrimination threshold is varied from confusing all class-1 instances as class-0 instances to all correctly distinguished, and from confusing all class-0 instances as class-1 instances to no such confusion at all.\n",
    "\n",
    "The ROC curve is the plot of the true positive rate (TPR) against the false positive rate (FPR), at various threshold settings.\n",
    "\n",
    "Typically, if you tune your model for maximum TPR (a good thing), you will start getting higher FPR (a bad thing), and if you train for minimum FPR (a good thing) you will start getting lower TPR (a bad thing):\n",
    "\n",
    "<br />\n",
    "<center>\n",
    "<img src = images/roc-curve.png width = 450 />\n",
    "</center>\n",
    "\n",
    "The true-positive rate is also known as **sensitivity**. The false-positive rate is also known as probability of **false alarm**.\n",
    "\n",
    "Imagine a study evaluating a test that screens people for a disease. Then:\n",
    "- True positive: Sick people correctly identified as sick\n",
    "- False positive: Healthy people incorrectly identified as sick\n",
    "- True negative: Healthy people correctly identified as healthy\n",
    "- False negative: Sick people incorrectly identified as healthy\n",
    "\n",
    "Obviously, the ideal situation is TPR = 100% and FPR = 0%, which implies that a perfect classifier is the single point (0,1) in the above graph, which is what we get with our mushroom dataset and we say (a little bit incorrectly) that in that case AUC = 1."
   ]
  },
  {
   "cell_type": "code",
   "execution_count": 198,
   "metadata": {},
   "outputs": [
    {
     "data": {
      "text/plain": [
       "1.0"
      ]
     },
     "execution_count": 198,
     "metadata": {},
     "output_type": "execute_result"
    }
   ],
   "source": [
    "from sklearn.metrics import roc_curve, auc\n",
    "\n",
    "false_positive_rate, true_positive_rate, thresholds = roc_curve(y_test, y_pred)\n",
    "roc_auc = auc(false_positive_rate, true_positive_rate)\n",
    "roc_auc"
   ]
  },
  {
   "cell_type": "markdown",
   "metadata": {},
   "source": [
    "## 8. Parameter turning\n",
    "\n",
    "What are the parameters in a decision tree algorithm?\n",
    "\n",
    "#### max_depth\n",
    "The first parameter to tune in sklearn's decision tree algorithm is `max_depth`. This indicates how deep the tree can be. \n",
    "\n",
    "The deeper the tree, the more splits it has and it captures more information about the data. \n",
    "\n",
    "However, the deeper the tree, the more it overfits, too.\n",
    "\n",
    "Let's fit a decision tree with depths ranging from 1 to 32 and plot the training and test auc scores."
   ]
  },
  {
   "cell_type": "code",
   "execution_count": 79,
   "metadata": {},
   "outputs": [],
   "source": [
    "max_depths = np.linspace(1, 32, 32, endpoint=True)\n",
    "train_results = []\n",
    "test_results = []\n",
    "for max_depth in max_depths:\n",
    "    dt = DecisionTreeClassifier(max_depth=max_depth)\n",
    "    dt.fit(X_train, y_train)\n",
    "    train_pred = dt.predict(X_train)\n",
    "    \n",
    "    false_positive_rate, true_positive_rate, thresholds = roc_curve(y_train, train_pred)\n",
    "    roc_auc = auc(false_positive_rate, true_positive_rate)\n",
    "    \n",
    "    # Add auc score to previous train results\n",
    "    train_results.append(roc_auc)\n",
    "    y_pred = dt.predict(X_test)\n",
    "    false_positive_rate, true_positive_rate, thresholds = roc_curve(y_test, y_pred)\n",
    "    roc_auc = auc(false_positive_rate, true_positive_rate)\n",
    "    \n",
    "    # Add auc score to previous test results\n",
    "    test_results.append(roc_auc)"
   ]
  },
  {
   "cell_type": "code",
   "execution_count": 80,
   "metadata": {},
   "outputs": [
    {
     "data": {
      "text/plain": [
       "Text(0.5, 0, 'Tree depth')"
      ]
     },
     "execution_count": 80,
     "metadata": {},
     "output_type": "execute_result"
    },
    {
     "data": {
      "image/png": "[encoded data removed]",
      "text/plain": [
       "<Figure size 432x288 with 1 Axes>"
      ]
     },
     "metadata": {
      "needs_background": "light"
     },
     "output_type": "display_data"
    }
   ],
   "source": [
    "from matplotlib.legend_handler import HandlerLine2D\n",
    "\n",
    "line1, = plt.plot(max_depths, train_results, 'b', label='Train AUC')\n",
    "line2, = plt.plot(max_depths, test_results, 'r', label='Test AUC')\n",
    "plt.legend(handler_map={line1: HandlerLine2D(numpoints=2)})\n",
    "plt.ylabel('AUC score')\n",
    "plt.xlabel('Tree depth')"
   ]
  },
  {
   "cell_type": "markdown",
   "metadata": {},
   "source": [
    "The right depth value for our model appears to be 5 because 5 levels are enough to achieve perfect classification.\n",
    "\n",
    "#### min_samples_split\n",
    "min_samples_split represents the minimum number of samples required to split an internal node. This can vary between considering at least one sample at each node to considering all of the samples at each node. When we increase this parameter, the tree becomes more constrained as it has to consider more samples at each node. \n",
    "\n",
    "#### min_samples_leaf\n",
    "min_samples_leaf is The minimum number of samples required to be at a leaf node. This parameter is similar to min_samples_splits, however, this describes the minimum number of samples at the leafs.\n",
    "\n",
    "#### max_features\n",
    "max_features represents the number of features to consider when looking for the best split.\n",
    "\n",
    "We will look at these hyperparameters more cloesly with another, more complicated, dateset further below.\n",
    "\n",
    ">*Likely end of a one-hour class here.*"
   ]
  },
  {
   "cell_type": "markdown",
   "metadata": {},
   "source": [
    "## 9. Feature importance and decision tree pitfalls\n",
    "So far we've seen how to built seemingly successful decision trees.\n",
    "\n",
    "However, our UCI mushroom dataset is very *predictable*. It is actually very common to see decision tree models built *incorrectly*.\n",
    "\n",
    "<br />\n",
    "<center>\n",
    "<img src = ipynb.images/oopsie-donald.png width = 300 />\n",
    "</center>\n",
    "\n",
    "In fact, one can pull *completely wrong* insights from a decision tree!\n",
    "\n",
    "### 9.1 Simulate some data with Poisson and Binomial\n",
    "Let's see how this can happen. Let's simulate a dataset as a mixture model of a [Poisson](https://en.wikipedia.org/wiki/Poisson_distribution) and [Binomial](https://en.wikipedia.org/wiki/Binomial_distribution). So we have two independent variables that are **categorical** : `important_feature_poisson` and `important_feature_dummy`, and one dependent variable `Y` that is **continuous** rather than **categorical**.\n",
    "\n",
    "Let's also create an *irrelevant* **continuous** feature (one that is not factored into the computation of the dependent variable) based on a **normal** distribution (`random_feature_normal`), and an *irrelevant* **categorical** feature based on the same binomial (`random_feature_dummy`). \n",
    "\n",
    "Irrelevant columns *do not* contribute to `Y` and should thus be completely uncorrelated with `Y`."
   ]
  },
  {
   "cell_type": "code",
   "execution_count": 82,
   "metadata": {},
   "outputs": [],
   "source": [
    "data = pd.DataFrame(\n",
    "    {\n",
    "        'important_feature_poisson': np.random.poisson(5, 1000),\n",
    "        'important_feature_dummy': np.random.binomial(1, 0.5, 1000),\n",
    "        'random_feature_normal': np.random.normal(0, 100, 1000),\n",
    "        'random_feature_dummy': np.random.binomial(1 , 0.5, 1000)\n",
    "    }\n",
    ")\n",
    "\n",
    "data['Y'] = (\n",
    "    np.random.normal(5, 3, 1000) * data['important_feature_poisson'] + \n",
    "    np.random.normal(10, 3, 1000) * data['important_feature_dummy']\n",
    ")"
   ]
  },
  {
   "cell_type": "markdown",
   "metadata": {},
   "source": [
    "### 9.2 Visualize the features\n",
    "We can clearly see with **pair plots** that `important_feature_poisson` and `important_feature_dummy` are *correlated* with `Y`, and that `random_feature_normal` and `random_feature_dummy` are *uncorrelated* with `Y`:"
   ]
  },
  {
   "cell_type": "code",
   "execution_count": 83,
   "metadata": {},
   "outputs": [
    {
     "data": {
      "text/plain": [
       "Text(0.5, 1.0, 'random_feature_dummy on Y')"
      ]
     },
     "execution_count": 83,
     "metadata": {},
     "output_type": "execute_result"
    },
    {
     "data": {
      "image/png": "[encoded data removed]",
      "text/plain": [
       "<Figure size 720x360 with 4 Axes>"
      ]
     },
     "metadata": {
      "needs_background": "light"
     },
     "output_type": "display_data"
    }
   ],
   "source": [
    "import matplotlib.pyplot as plt\n",
    "%matplotlib inline\n",
    "import seaborn as sns\n",
    "\n",
    "plt.rcParams['figure.figsize'] = [10, 5]\n",
    "\n",
    "f, ((g_poisson, g_important_dummy), (g_normal, g_random_dummy)) = plt.subplots(2,2)\n",
    "plt.subplots_adjust(bottom=1, top=2.8)\n",
    "                             \n",
    "g_poisson.scatter(x = data['important_feature_poisson'], y = data['Y'], )\n",
    "g_poisson.set_xlabel('important_feature_poisson', fontweight = 'bold', fontsize = 12)\n",
    "g_poisson.set_ylabel('Y', fontweight = 'bold', fontsize = 12)\n",
    "g_poisson.set_title('important_feature_poisson on Y', fontweight = 'bold', fontsize = 14)\n",
    "\n",
    "sns.boxplot(x = data['important_feature_dummy'], y = data['Y'], ax=g_important_dummy)\n",
    "g_important_dummy.set_xlabel('important_feature_dummy', fontweight = 'bold', fontsize = 12)\n",
    "g_important_dummy.set_ylabel('Y', fontweight = 'bold', fontsize = 12)\n",
    "g_important_dummy.set_title('important_feature_dummy on Y', fontweight = 'bold', fontsize = 14)\n",
    "\n",
    "g_normal.scatter(x = data['random_feature_normal'], y = data['Y'], )\n",
    "g_normal.set_xlabel('random_feature_normal', fontweight = 'bold', fontsize = 12)\n",
    "g_normal.set_ylabel('Y', fontweight = 'bold', fontsize = 12)\n",
    "g_normal.set_title('random_feature_normal on Y', fontweight = 'bold', fontsize = 14)\n",
    "\n",
    "sns.boxplot(x = data['random_feature_dummy'], y = data['Y'], ax=g_random_dummy)\n",
    "g_random_dummy.set_xlabel('random_feature_dummy', fontweight = 'bold', fontsize = 12)\n",
    "g_random_dummy.set_ylabel('Y', fontweight = 'bold', fontsize = 12)\n",
    "g_random_dummy.set_title('random_feature_dummy on Y', fontweight = 'bold', fontsize = 14)"
   ]
  },
  {
   "cell_type": "markdown",
   "metadata": {},
   "source": [
    "### 9.3 Train a Decision Tree regressor"
   ]
  },
  {
   "cell_type": "markdown",
   "metadata": {},
   "source": [
    "Let's create our `X`, `Y` datasets:"
   ]
  },
  {
   "cell_type": "code",
   "execution_count": 84,
   "metadata": {},
   "outputs": [],
   "source": [
    "X = data.drop(['Y'], axis=1)\n",
    "y = data['Y']"
   ]
  },
  {
   "cell_type": "markdown",
   "metadata": {},
   "source": [
    "Since we have a **continuous** target variable instead of a categorical target variable, we train a decision tree *regressor* rather than a *classiffier*:"
   ]
  },
  {
   "cell_type": "code",
   "execution_count": 85,
   "metadata": {},
   "outputs": [
    {
     "data": {
      "text/plain": [
       "DecisionTreeRegressor()"
      ]
     },
     "execution_count": 85,
     "metadata": {},
     "output_type": "execute_result"
    }
   ],
   "source": [
    "from sklearn.tree import DecisionTreeRegressor\n",
    "\n",
    "reg = DecisionTreeRegressor()\n",
    "reg.fit(X, y)"
   ]
  },
  {
   "cell_type": "markdown",
   "metadata": {},
   "source": [
    "### 9.4 Pull the importance\n",
    "Let's see which features contributed the most to the decision tree model:"
   ]
  },
  {
   "cell_type": "code",
   "execution_count": 86,
   "metadata": {},
   "outputs": [
    {
     "data": {
      "text/plain": [
       "Text(0.5, 0, 'Relative Importance')"
      ]
     },
     "execution_count": 86,
     "metadata": {},
     "output_type": "execute_result"
    },
    {
     "data": {
      "image/png": "[encoded data removed]",
      "text/plain": [
       "<Figure size 720x360 with 1 Axes>"
      ]
     },
     "metadata": {
      "needs_background": "light"
     },
     "output_type": "display_data"
    }
   ],
   "source": [
    "features = X.columns.values\n",
    "importances = reg.feature_importances_\n",
    "indices = np.argsort(importances)\n",
    "plt.title('Feature Importances')\n",
    "plt.barh(range(len(indices)), importances[indices], color='#8f63f4', align='center')\n",
    "plt.yticks(range(len(indices)), features[indices])\n",
    "plt.xlabel('Relative Importance')"
   ]
  },
  {
   "cell_type": "markdown",
   "metadata": {},
   "source": [
    "<br />\n",
    "<center>\n",
    "<img src = ipynb.images/garfield-oh-no.png width = 200 />\n",
    "</center>\n",
    "\n",
    "*Whaaaaaaaaaat*??! The random normal feature is ranked as the ***most important feature***, even though we know for a fact that this feature has ***no impact*** on `Y` whatsoever!\n",
    "\n",
    "The Poisson important feature is ranked 2nd, the important dummy variable is ranked 3rd and the random dummy variable 4th."
   ]
  },
  {
   "cell_type": "markdown",
   "metadata": {},
   "source": [
    "### 9.5 Learning *by heart*\n",
    "\n",
    "Why this unexpected result? The model is actually ***learning by heart***!\n",
    "\n",
    "<br />\n",
    "<center>\n",
    "<img src = ipynb.images/mult-table.jpg width = 400 />\n",
    "</center>\n",
    "\n",
    ">**Lesson learned**: The more *power* you give to an ML algorithm, the more likely the algorithm will learn the data *by heart* (i.e. overfitting) rather than learning the salient features that distinguish one label from another. How do you avoid overfitting? Reduce the power of your model. Nuclear reactors work the same way: What operators are busy doing is injecting impurities in the reactor to prevent it from overheating and melting down. So, in\n",
    "your model, control its salient hyperparameters by (usually) lowering them.\n",
    "\n",
    "If you take a look at the default parameters of our `DecisionTreeRegressor`, you’ll see:\n",
    "```\n",
    "max_depth=None\n",
    "max_leaf_nodes=None\n",
    "min_samples_leaf=1\n",
    "min_samples_split=2\n",
    "```"
   ]
  },
  {
   "cell_type": "code",
   "execution_count": 94,
   "metadata": {},
   "outputs": [
    {
     "data": {
      "text/plain": [
       "{'ccp_alpha': 0.0,\n",
       " 'criterion': 'mse',\n",
       " 'max_depth': None,\n",
       " 'max_features': None,\n",
       " 'max_leaf_nodes': None,\n",
       " 'min_impurity_decrease': 0.0,\n",
       " 'min_impurity_split': None,\n",
       " 'min_samples_leaf': 1,\n",
       " 'min_samples_split': 2,\n",
       " 'min_weight_fraction_leaf': 0.0,\n",
       " 'random_state': None,\n",
       " 'splitter': 'best'}"
      ]
     },
     "execution_count": 94,
     "metadata": {},
     "output_type": "execute_result"
    }
   ],
   "source": [
    "reg.get_params()"
   ]
  },
  {
   "cell_type": "markdown",
   "metadata": {},
   "source": [
    "The default parameters do not prevent **overfitting**: This allows the model to go all the way to an **mse** (mean squared error) of 0. \n",
    "\n",
    ">***Meltdown***!\n",
    "\n",
    "Basically, the model is *memorizing* the data because it’s not limited in depth and can go all the way to *one observation per leaf*.\n",
    "\n",
    "How is it doing that?\n",
    "\n",
    "Since `random_feature_normal` is a random normal distribution, it has a different value for each observation. In that way, it can be used to *tailor* (i.e. *cheat*) the value of the prediction *for each observation*!\n",
    "\n",
    "The Poisson random variable has a limited set of possible values and the two dummy variables have only two possibilities, so they are less helpful in tailoring the prediction. \n",
    "\n",
    "- Number of unique values for random_feature_normal = 1000\n",
    "- Number of unique values for important_feature_poisson = 15\n",
    "- Number of unique values for random_feature_dummy = 2\n",
    "- Number of unique values for importaa nt_feature_dummy = 2\n",
    "\n",
    "In order to reach an mse of 0, our model used `random_feature_normal` pretty intensely!"
   ]
  },
  {
   "cell_type": "markdown",
   "metadata": {},
   "source": [
    "### 9.6 k-fold cross-validation to the rescue\n",
    "If you ask a data scientist what **feature importance** is, the answer would be: \"*It’s the decrease in accuracy when you remove that feature from the model*\".\n",
    "\n",
    "In practice, you don’t remove it from the model but what you can do is to **cross-validate** features and measure the decrease in accuracy on an out-of-bag sample (a test instance).\n",
    "\n",
    "[k-fold cross validation]() is a resampling procedure used to estimate the skill of the model on new data. The overall aim of Cross-Validation is to evaluate machine learning models by training a number of models on different subsets of the input data. \n",
    "\n",
    "Cross-validation is used to detect overfitting in a model, where the model is not effectively generalizing patterns and similarities but rather learning the data *by heart* (overfitting). When using K-fold cross validation, all parts of the data will be able to be used as part of the testing data. This way, all of our data from our dataset can be used for both training and testing, allowing us to better evaluate the performance of our models. \n",
    "\n",
    "Having 10 or 100 different accuracy results for 10 or 100 different models trained on different data is always going to be better and more reliable than using one accuracy result and one model. For example, it will give a much better estimate of features' importance.\n",
    "\n",
    "<br />\n",
    "<center>\n",
    "<img src = ipynb.images/under-good-over.webp width = 700 />\n",
    "</center>\n",
    "\n",
    "The procedure has a single parameter called `k` that refers to the number of groups that a given data sample is to be split into. \n",
    "\n",
    "We will pick a value of k = 100, to become 100-fold cross-validation.\n",
    "\n",
    "k-fold cross-validation generally results in a less biased or less optimistic estimate of the model skill than a simple train/test split.\n",
    "\n",
    "The general procedure is as follows:\n",
    "\n",
    "- Shuffle the dataset randomly.\n",
    "- Split the dataset into k groups\n",
    "- For each unique group:\n",
    "- - Take the group as a hold out or test data set\n",
    "- - Take the remaining groups as a training data set\n",
    "- - Fit a model on the training set and evaluate it on the test set\n",
    "- - Retain the evaluation score and discard the model\n",
    "- Summarize the skill of the model using the model sample evaluation scores\n",
    "\n",
    "Each observation in the data sample is assigned to an individual group and stays in that group for the duration of the procedure. This means that each sample is given the opportunity to be used in the hold out set once, and used to train the model k-1 times.\n",
    "\n",
    "Let’s do this manually.\n",
    "\n",
    "We use sklearn's random permutation cross-validator, which yields indices to split data into training and test sets. Note that in contrast to other cross-validation strategies, random splits do not guarantee that all folds will be different, although this is unlikely for sizeable datasets."
   ]
  },
  {
   "cell_type": "code",
   "execution_count": 87,
   "metadata": {},
   "outputs": [
    {
     "name": "stderr",
     "output_type": "stream",
     "text": [
      "d:\\Anaconda3.5.1\\lib\\site-packages\\sklearn\\utils\\validation.py:72: FutureWarning: Pass test_size=100, train_size=0.3 as keyword args. From version 1.0 (renaming of 0.25) passing these as positional arguments will result in an error\n",
      "  \"will result in an error\", FutureWarning)\n"
     ]
    },
    {
     "data": {
      "text/plain": [
       "ShuffleSplit(n_splits=1000, random_state=None, test_size=100, train_size=0.3)"
      ]
     },
     "execution_count": 87,
     "metadata": {},
     "output_type": "execute_result"
    }
   ],
   "source": [
    "from sklearn.model_selection import ShuffleSplit\n",
    "rs = ShuffleSplit(len(X), 100, .3)\n",
    "rs"
   ]
  },
  {
   "cell_type": "code",
   "execution_count": 88,
   "metadata": {},
   "outputs": [],
   "source": [
    "scores = dict()\n",
    "scores['important_feature_poisson'] = []\n",
    "scores['important_feature_dummy'] = []\n",
    "scores['random_feature_normal'] = []\n",
    "scores['random_feature_dummy'] = []"
   ]
  },
  {
   "cell_type": "markdown",
   "metadata": {},
   "source": [
    "To measure the impact of each feature on accuracy of the model, one possible solution is to permute the values of each feature during validation (without changing the label) and measure how much the permutation decreases the accuracy of the model. \n",
    "\n",
    "Clearly, for unimportant features, the permutation should have little to no effect on model accuracy, while permuting the values for important features should significantly decrease it."
   ]
  },
  {
   "cell_type": "code",
   "execution_count": 109,
   "metadata": {},
   "outputs": [
    {
     "data": {
      "text/plain": [
       "Text(0.5, 0, 'Mean decrease accuracy')"
      ]
     },
     "execution_count": 109,
     "metadata": {},
     "output_type": "execute_result"
    },
    {
     "data": {
      "image/png": "[encoded data removed]",
      "text/plain": [
       "<Figure size 720x360 with 1 Axes>"
      ]
     },
     "metadata": {
      "needs_background": "light"
     },
     "output_type": "display_data"
    }
   ],
   "source": [
    "# from http://blog.datadive.net/selecting-good-features-part-iii-random-forests/\n",
    "for j, (train_idx, test_idx) in enumerate(rs.split(X)):\n",
    "    X_train, X_test = X[train_idx], X[test_idx]\n",
    "    Y_train, Y_test = Y[train_idx], Y[test_idx]\n",
    "    r = reg.fit(X_train, Y_train)\n",
    "    acc = r2_score(Y_test, reg.predict(X_test))\n",
    "    \n",
    "    for i in range(X.shape[1]):\n",
    "        X_t = X_test.copy()\n",
    "        np.random.shuffle(X_t[:, i])\n",
    "        shuff_acc = r2_score(Y_test, reg.predict(X_t))\n",
    "        scores[features[i]].append((acc-shuff_acc)/acc)\n",
    "\n",
    "mda_features = [f for f in scores.keys()]\n",
    "mda_importance = [(np.mean(score)) for score in scores.values()]\n",
    "mda_indices = np.argsort(mda_importance)\n",
    "\n",
    "plt.title('Feature Importances')\n",
    "plt.barh(range(len(mda_indices)), [mda_importance[i] for i in mda_indices], color='#8f63f4', align='center')\n",
    "plt.yticks(range(len(mda_indices)), [mda_features[i] for i in mda_indices])\n",
    "plt.xlabel('Mean decrease accuracy')"
   ]
  },
  {
   "cell_type": "markdown",
   "metadata": {},
   "source": [
    "The results are now completely different from the first feature importance graph and in line with the data we have created.\n",
    "\n",
    "There is a *second* way of computing feature importance called **Gini importance**. In the case of a tree regressor, the importance is assessed by how much a feature decreases the weighted variance in a tree (in the case of classification it’s\n",
    "not variance but Gini impurity). \n",
    "\n",
    "The weight is computed through the fraction of the sample reaching a given node (where the feature is used). This is the method used by sklearn. \n",
    "\n",
    ">This is the explanation given in scikit-learn’s documentation: \"*The relative rank (i.e. depth) of a feature used as a decision node in a tree can be used to assess the relative importance of that feature with respect to the predictability of the\n",
    "target variable. Features used at the top of the tree contribute to the final prediction decision of a larger fraction of the input samples. The expected fraction of the samples they contribute to can thus be used as an estimate of the relative importance of the features*.\"\n",
    "\n",
    "The important features will indeed be used at the top of each tree because they are the ones reducing the variance the most in the beginning, but `random_feature_normal` will be extensively used at the bottom of the tree. Each node will contribute to a small fraction of the sample and of the variance reduction, but there will be so many nodes using the feature that, overall, the feature will impact almost all samples with a significant reduction in variance."
   ]
  },
  {
   "cell_type": "code",
   "execution_count": 106,
   "metadata": {},
   "outputs": [
    {
     "data": {
      "text/plain": [
       "array([[1.799e+01, 1.038e+01, 1.228e+02, ..., 2.654e-01, 4.601e-01,\n",
       "        1.189e-01],\n",
       "       [2.057e+01, 1.777e+01, 1.329e+02, ..., 1.860e-01, 2.750e-01,\n",
       "        8.902e-02],\n",
       "       [1.969e+01, 2.125e+01, 1.300e+02, ..., 2.430e-01, 3.613e-01,\n",
       "        8.758e-02],\n",
       "       ...,\n",
       "       [1.660e+01, 2.808e+01, 1.083e+02, ..., 1.418e-01, 2.218e-01,\n",
       "        7.820e-02],\n",
       "       [2.060e+01, 2.933e+01, 1.401e+02, ..., 2.650e-01, 4.087e-01,\n",
       "        1.240e-01],\n",
       "       [7.760e+00, 2.454e+01, 4.792e+01, ..., 0.000e+00, 2.871e-01,\n",
       "        7.039e-02]])"
      ]
     },
     "execution_count": 106,
     "metadata": {},
     "output_type": "execute_result"
    }
   ],
   "source": [
    "X"
   ]
  },
  {
   "cell_type": "markdown",
   "metadata": {},
   "source": [
    "We can create an instance that splits `X` into 3 folds, shuffles prior to the split, and uses a value of 1 for the pseudorandom number generator."
   ]
  },
  {
   "cell_type": "code",
   "execution_count": 107,
   "metadata": {},
   "outputs": [
    {
     "name": "stderr",
     "output_type": "stream",
     "text": [
      "d:\\Anaconda3.5.1\\lib\\site-packages\\sklearn\\utils\\validation.py:72: FutureWarning: Pass shuffle=True, random_state=1 as keyword args. From version 1.0 (renaming of 0.25) passing these as positional arguments will result in an error\n",
      "  \"will result in an error\", FutureWarning)\n"
     ]
    }
   ],
   "source": [
    "from sklearn.model_selection import KFold\n",
    "kfold = KFold(3, True, 1)"
   ]
  },
  {
   "cell_type": "markdown",
   "metadata": {},
   "source": [
    "Let's enumerate the splits:"
   ]
  },
  {
   "cell_type": "code",
   "execution_count": 108,
   "metadata": {},
   "outputs": [
    {
     "name": "stdout",
     "output_type": "stream",
     "text": [
      "train: [  1   2   7   8  10  12  13  14  15  20  21  22  23  24  25  26  27  28\n",
      "  30  32  33  35  36  37  39  43  44  45  46  48  50  51  52  53  54  55\n",
      "  56  57  60  61  63  64  70  71  72  73  74  75  76  77  79  80  81  82\n",
      "  83  84  86  87  88  89  91  93  94  95  96  97  98  99 100 103 105 106\n",
      " 108 109 112 113 114 115 116 118 122 123 125 126 127 129 130 131 134 136\n",
      " 137 138 139 140 141 143 144 145 148 149 150 151 152 153 154 155 156 158\n",
      " 163 164 166 167 169 170 171 174 175 176 177 178 181 182 183 184 185 188\n",
      " 190 191 193 194 196 198 199 200 202 203 204 205 206 208 209 210 211 212\n",
      " 213 215 216 217 218 219 220 222 224 226 227 228 229 230 231 234 235 238\n",
      " 239 240 241 243 248 250 251 252 253 254 255 256 259 260 261 262 263 264\n",
      " 265 266 267 269 270 271 272 275 276 278 279 280 281 282 287 288 290 294\n",
      " 296 297 298 299 300 301 302 303 309 310 311 312 313 314 316 317 319 320\n",
      " 321 322 323 325 327 328 330 331 332 333 336 337 338 339 340 341 343 345\n",
      " 348 349 351 352 353 354 355 356 357 359 360 363 364 365 366 367 368 369\n",
      " 371 372 373 374 377 379 380 381 382 383 384 385 387 388 389 390 391 393\n",
      " 394 395 396 397 398 401 402 405 406 412 416 417 418 423 426 427 428 429\n",
      " 430 431 433 436 437 438 440 441 444 446 449 450 452 454 455 456 458 459\n",
      " 460 461 463 464 465 466 467 468 469 470 471 473 474 475 478 479 481 482\n",
      " 485 489 490 491 493 494 495 497 498 499 500 502 503 504 505 506 507 508\n",
      " 509 510 511 512 513 515 516 521 522 524 525 526 528 530 532 533 534 536\n",
      " 537 538 541 543 544 548 549 552 553 556 557 559 560 561 563 565 566 567\n",
      " 568], test: [  0   3   4   5   6   9  11  16  17  18  19  29  31  34  38  40  41  42\n",
      "  47  49  58  59  62  65  66  67  68  69  78  85  90  92 101 102 104 107\n",
      " 110 111 117 119 120 121 124 128 132 133 135 142 146 147 157 159 160 161\n",
      " 162 165 168 172 173 179 180 186 187 189 192 195 197 201 207 214 221 223\n",
      " 225 232 233 236 237 242 244 245 246 247 249 257 258 268 273 274 277 283\n",
      " 284 285 286 289 291 292 293 295 304 305 306 307 308 315 318 324 326 329\n",
      " 334 335 342 344 346 347 350 358 361 362 370 375 376 378 386 392 399 400\n",
      " 403 404 407 408 409 410 411 413 414 415 419 420 421 422 424 425 432 434\n",
      " 435 439 442 443 445 447 448 451 453 457 462 472 476 477 480 483 484 486\n",
      " 487 488 492 496 501 514 517 518 519 520 523 527 529 531 535 539 540 542\n",
      " 545 546 547 550 551 554 555 558 562 564]\n",
      "train: [  0   2   3   4   5   6   7   9  10  11  15  16  17  18  19  20  21  22\n",
      "  24  25  26  29  30  31  34  36  37  38  40  41  42  43  45  47  49  52\n",
      "  54  56  57  58  59  60  62  64  65  66  67  68  69  71  72  74  75  76\n",
      "  77  78  83  85  86  87  90  92  94  96  97 101 102 103 104 107 110 111\n",
      " 114 116 117 118 119 120 121 124 126 128 129 130 132 133 134 135 136 137\n",
      " 140 141 142 143 144 146 147 148 149 151 152 155 157 159 160 161 162 165\n",
      " 166 168 170 172 173 176 177 178 179 180 181 182 183 184 186 187 189 190\n",
      " 192 193 194 195 196 197 198 199 200 201 202 203 205 207 209 210 212 214\n",
      " 215 216 217 219 220 221 223 225 231 232 233 235 236 237 239 240 242 243\n",
      " 244 245 246 247 248 249 252 253 254 257 258 259 262 263 264 266 268 269\n",
      " 273 274 276 277 278 279 281 282 283 284 285 286 288 289 291 292 293 295\n",
      " 296 297 299 301 302 303 304 305 306 307 308 309 313 315 316 317 318 319\n",
      " 321 324 325 326 327 329 332 333 334 335 336 337 338 340 342 343 344 346\n",
      " 347 348 350 352 353 354 356 357 358 359 361 362 367 369 370 371 375 376\n",
      " 377 378 380 381 384 386 387 389 390 391 392 393 397 398 399 400 401 403\n",
      " 404 405 407 408 409 410 411 412 413 414 415 416 418 419 420 421 422 424\n",
      " 425 431 432 434 435 439 441 442 443 445 447 448 450 451 452 453 454 455\n",
      " 456 457 458 461 462 466 468 469 471 472 473 474 475 476 477 478 480 483\n",
      " 484 486 487 488 489 490 491 492 494 496 497 501 503 505 506 508 513 514\n",
      " 515 516 517 518 519 520 522 523 525 527 529 530 531 533 534 535 537 539\n",
      " 540 542 543 544 545 546 547 548 550 551 553 554 555 556 557 558 561 562\n",
      " 564], test: [  1   8  12  13  14  23  27  28  32  33  35  39  44  46  48  50  51  53\n",
      "  55  61  63  70  73  79  80  81  82  84  88  89  91  93  95  98  99 100\n",
      " 105 106 108 109 112 113 115 122 123 125 127 131 138 139 145 150 153 154\n",
      " 156 158 163 164 167 169 171 174 175 185 188 191 204 206 208 211 213 218\n",
      " 222 224 226 227 228 229 230 234 238 241 250 251 255 256 260 261 265 267\n",
      " 270 271 272 275 280 287 290 294 298 300 310 311 312 314 320 322 323 328\n",
      " 330 331 339 341 345 349 351 355 360 363 364 365 366 368 372 373 374 379\n",
      " 382 383 385 388 394 395 396 402 406 417 423 426 427 428 429 430 433 436\n",
      " 437 438 440 444 446 449 459 460 463 464 465 467 470 479 481 482 485 493\n",
      " 495 498 499 500 502 504 507 509 510 511 512 521 524 526 528 532 536 538\n",
      " 541 549 552 559 560 563 565 566 567 568]\n",
      "train: [  0   1   3   4   5   6   8   9  11  12  13  14  16  17  18  19  23  27\n",
      "  28  29  31  32  33  34  35  38  39  40  41  42  44  46  47  48  49  50\n",
      "  51  53  55  58  59  61  62  63  65  66  67  68  69  70  73  78  79  80\n",
      "  81  82  84  85  88  89  90  91  92  93  95  98  99 100 101 102 104 105\n",
      " 106 107 108 109 110 111 112 113 115 117 119 120 121 122 123 124 125 127\n",
      " 128 131 132 133 135 138 139 142 145 146 147 150 153 154 156 157 158 159\n",
      " 160 161 162 163 164 165 167 168 169 171 172 173 174 175 179 180 185 186\n",
      " 187 188 189 191 192 195 197 201 204 206 207 208 211 213 214 218 221 222\n",
      " 223 224 225 226 227 228 229 230 232 233 234 236 237 238 241 242 244 245\n",
      " 246 247 249 250 251 255 256 257 258 260 261 265 267 268 270 271 272 273\n",
      " 274 275 277 280 283 284 285 286 287 289 290 291 292 293 294 295 298 300\n",
      " 304 305 306 307 308 310 311 312 314 315 318 320 322 323 324 326 328 329\n",
      " 330 331 334 335 339 341 342 344 345 346 347 349 350 351 355 358 360 361\n",
      " 362 363 364 365 366 368 370 372 373 374 375 376 378 379 382 383 385 386\n",
      " 388 392 394 395 396 399 400 402 403 404 406 407 408 409 410 411 413 414\n",
      " 415 417 419 420 421 422 423 424 425 426 427 428 429 430 432 433 434 435\n",
      " 436 437 438 439 440 442 443 444 445 446 447 448 449 451 453 457 459 460\n",
      " 462 463 464 465 467 470 472 476 477 479 480 481 482 483 484 485 486 487\n",
      " 488 492 493 495 496 498 499 500 501 502 504 507 509 510 511 512 514 517\n",
      " 518 519 520 521 523 524 526 527 528 529 531 532 535 536 538 539 540 541\n",
      " 542 545 546 547 549 550 551 552 554 555 558 559 560 562 563 564 565 566\n",
      " 567 568], test: [  2   7  10  15  20  21  22  24  25  26  30  36  37  43  45  52  54  56\n",
      "  57  60  64  71  72  74  75  76  77  83  86  87  94  96  97 103 114 116\n",
      " 118 126 129 130 134 136 137 140 141 143 144 148 149 151 152 155 166 170\n",
      " 176 177 178 181 182 183 184 190 193 194 196 198 199 200 202 203 205 209\n",
      " 210 212 215 216 217 219 220 231 235 239 240 243 248 252 253 254 259 262\n",
      " 263 264 266 269 276 278 279 281 282 288 296 297 299 301 302 303 309 313\n",
      " 316 317 319 321 325 327 332 333 336 337 338 340 343 348 352 353 354 356\n",
      " 357 359 367 369 371 377 380 381 384 387 389 390 391 393 397 398 401 405\n",
      " 412 416 418 431 441 450 452 454 455 456 458 461 466 468 469 471 473 474\n",
      " 475 478 489 490 491 494 497 503 505 506 508 513 515 516 522 525 530 533\n",
      " 534 537 543 544 548 553 556 557 561]\n"
     ]
    }
   ],
   "source": [
    "for train, test in kfold.split(X):\n",
    "    print('train: %s, test: %s' % (train, test))"
   ]
  },
  {
   "cell_type": "markdown",
   "metadata": {},
   "source": [
    "Now, let's create an instance that splits X into 10 folds, shuffles prior to the split, and uses a value of 41 for the pseudorandom number generator: `KFold(10, True, 41)`. Indices are used directly on the original data array to retrieve the observation values:"
   ]
  },
  {
   "cell_type": "code",
   "execution_count": 112,
   "metadata": {},
   "outputs": [
    {
     "name": "stdout",
     "output_type": "stream",
     "text": [
      "train: [[1.799e+01 1.038e+01 1.228e+02 ... 2.654e-01 4.601e-01 1.189e-01]\n",
      " [2.057e+01 1.777e+01 1.329e+02 ... 1.860e-01 2.750e-01 8.902e-02]\n",
      " [1.969e+01 2.125e+01 1.300e+02 ... 2.430e-01 3.613e-01 8.758e-02]\n",
      " ...\n",
      " [1.660e+01 2.808e+01 1.083e+02 ... 1.418e-01 2.218e-01 7.820e-02]\n",
      " [2.060e+01 2.933e+01 1.401e+02 ... 2.650e-01 4.087e-01 1.240e-01]\n",
      " [7.760e+00 2.454e+01 4.792e+01 ... 0.000e+00 2.871e-01 7.039e-02]] [[1.585e+01 2.395e+01 1.037e+02 ... 1.119e-01 2.809e-01 6.287e-02]\n",
      " [1.354e+01 1.436e+01 8.746e+01 ... 1.288e-01 2.977e-01 7.259e-02]\n",
      " [8.598e+00 2.098e+01 5.466e+01 ... 2.778e-02 2.972e-01 7.712e-02]\n",
      " ...\n",
      " [1.026e+01 1.658e+01 6.585e+01 ... 8.333e-02 2.691e-01 9.479e-02]\n",
      " [1.288e+01 2.892e+01 8.250e+01 ... 6.493e-02 2.372e-01 7.242e-02]\n",
      " [1.522e+01 3.062e+01 1.034e+02 ... 2.356e-01 4.089e-01 1.409e-01]]\n",
      "test: [[1.585e+01 2.395e+01 1.037e+02 ... 1.119e-01 2.809e-01 6.287e-02]\n",
      " [1.354e+01 1.436e+01 8.746e+01 ... 1.288e-01 2.977e-01 7.259e-02]\n",
      " [8.598e+00 2.098e+01 5.466e+01 ... 2.778e-02 2.972e-01 7.712e-02]\n",
      " ...\n",
      " [1.026e+01 1.658e+01 6.585e+01 ... 8.333e-02 2.691e-01 9.479e-02]\n",
      " [1.288e+01 2.892e+01 8.250e+01 ... 6.493e-02 2.372e-01 7.242e-02]\n",
      " [1.522e+01 3.062e+01 1.034e+02 ... 2.356e-01 4.089e-01 1.409e-01]]\n",
      "\n",
      "train: [[1.799e+01 1.038e+01 1.228e+02 ... 2.654e-01 4.601e-01 1.189e-01]\n",
      " [2.057e+01 1.777e+01 1.329e+02 ... 1.860e-01 2.750e-01 8.902e-02]\n",
      " [1.969e+01 2.125e+01 1.300e+02 ... 2.430e-01 3.613e-01 8.758e-02]\n",
      " ...\n",
      " [1.660e+01 2.808e+01 1.083e+02 ... 1.418e-01 2.218e-01 7.820e-02]\n",
      " [2.060e+01 2.933e+01 1.401e+02 ... 2.650e-01 4.087e-01 1.240e-01]\n",
      " [7.760e+00 2.454e+01 4.792e+01 ... 0.000e+00 2.871e-01 7.039e-02]] [[1.142e+01 2.038e+01 7.758e+01 ... 2.575e-01 6.638e-01 1.730e-01]\n",
      " [1.468e+01 2.013e+01 9.474e+01 ... 1.609e-01 3.029e-01 8.216e-02]\n",
      " [1.308e+01 1.571e+01 8.563e+01 ... 7.283e-02 3.184e-01 8.183e-02]\n",
      " ...\n",
      " [1.275e+01 1.670e+01 8.251e+01 ... 8.045e-02 3.071e-01 8.557e-02]\n",
      " [9.847e+00 1.568e+01 6.300e+01 ... 6.528e-02 2.502e-01 9.209e-02]\n",
      " [1.277e+01 2.943e+01 8.135e+01 ... 6.498e-02 2.407e-01 6.484e-02]]\n",
      "test: [[1.142e+01 2.038e+01 7.758e+01 ... 2.575e-01 6.638e-01 1.730e-01]\n",
      " [1.468e+01 2.013e+01 9.474e+01 ... 1.609e-01 3.029e-01 8.216e-02]\n",
      " [1.308e+01 1.571e+01 8.563e+01 ... 7.283e-02 3.184e-01 8.183e-02]\n",
      " ...\n",
      " [1.275e+01 1.670e+01 8.251e+01 ... 8.045e-02 3.071e-01 8.557e-02]\n",
      " [9.847e+00 1.568e+01 6.300e+01 ... 6.528e-02 2.502e-01 9.209e-02]\n",
      " [1.277e+01 2.943e+01 8.135e+01 ... 6.498e-02 2.407e-01 6.484e-02]]\n",
      "\n",
      "train: [[2.057e+01 1.777e+01 1.329e+02 ... 1.860e-01 2.750e-01 8.902e-02]\n",
      " [1.969e+01 2.125e+01 1.300e+02 ... 2.430e-01 3.613e-01 8.758e-02]\n",
      " [1.142e+01 2.038e+01 7.758e+01 ... 2.575e-01 6.638e-01 1.730e-01]\n",
      " ...\n",
      " [2.013e+01 2.825e+01 1.312e+02 ... 1.628e-01 2.572e-01 6.637e-02]\n",
      " [1.660e+01 2.808e+01 1.083e+02 ... 1.418e-01 2.218e-01 7.820e-02]\n",
      " [7.760e+00 2.454e+01 4.792e+01 ... 0.000e+00 2.871e-01 7.039e-02]] [[1.799e+01 1.038e+01 1.228e+02 ... 2.654e-01 4.601e-01 1.189e-01]\n",
      " [1.373e+01 2.261e+01 9.360e+01 ... 2.208e-01 3.596e-01 1.431e-01]\n",
      " [1.861e+01 2.025e+01 1.221e+02 ... 1.490e-01 2.341e-01 7.421e-02]\n",
      " ...\n",
      " [9.333e+00 2.194e+01 5.901e+01 ... 2.564e-02 2.435e-01 7.393e-02]\n",
      " [1.459e+01 2.268e+01 9.639e+01 ... 1.105e-01 2.258e-01 8.004e-02]\n",
      " [2.060e+01 2.933e+01 1.401e+02 ... 2.650e-01 4.087e-01 1.240e-01]]\n",
      "test: [[1.799e+01 1.038e+01 1.228e+02 ... 2.654e-01 4.601e-01 1.189e-01]\n",
      " [1.373e+01 2.261e+01 9.360e+01 ... 2.208e-01 3.596e-01 1.431e-01]\n",
      " [1.861e+01 2.025e+01 1.221e+02 ... 1.490e-01 2.341e-01 7.421e-02]\n",
      " ...\n",
      " [9.333e+00 2.194e+01 5.901e+01 ... 2.564e-02 2.435e-01 7.393e-02]\n",
      " [1.459e+01 2.268e+01 9.639e+01 ... 1.105e-01 2.258e-01 8.004e-02]\n",
      " [2.060e+01 2.933e+01 1.401e+02 ... 2.650e-01 4.087e-01 1.240e-01]]\n",
      "\n",
      "train: [[1.799e+01 1.038e+01 1.228e+02 ... 2.654e-01 4.601e-01 1.189e-01]\n",
      " [1.969e+01 2.125e+01 1.300e+02 ... 2.430e-01 3.613e-01 8.758e-02]\n",
      " [1.142e+01 2.038e+01 7.758e+01 ... 2.575e-01 6.638e-01 1.730e-01]\n",
      " ...\n",
      " [1.660e+01 2.808e+01 1.083e+02 ... 1.418e-01 2.218e-01 7.820e-02]\n",
      " [2.060e+01 2.933e+01 1.401e+02 ... 2.650e-01 4.087e-01 1.240e-01]\n",
      " [7.760e+00 2.454e+01 4.792e+01 ... 0.000e+00 2.871e-01 7.039e-02]] [[2.057e+01 1.777e+01 1.329e+02 ... 1.860e-01 2.750e-01 8.902e-02]\n",
      " [1.246e+01 2.404e+01 8.397e+01 ... 2.210e-01 4.366e-01 2.075e-01]\n",
      " [1.184e+01 1.870e+01 7.793e+01 ... 1.546e-01 4.761e-01 1.402e-01]\n",
      " ...\n",
      " [1.321e+01 2.806e+01 8.488e+01 ... 7.958e-02 2.473e-01 6.443e-02]\n",
      " [1.387e+01 2.070e+01 8.977e+01 ... 6.845e-02 2.249e-01 8.492e-02]\n",
      " [1.029e+01 2.761e+01 6.567e+01 ... 9.127e-02 2.226e-01 8.283e-02]]\n",
      "test: [[2.057e+01 1.777e+01 1.329e+02 ... 1.860e-01 2.750e-01 8.902e-02]\n",
      " [1.246e+01 2.404e+01 8.397e+01 ... 2.210e-01 4.366e-01 2.075e-01]\n",
      " [1.184e+01 1.870e+01 7.793e+01 ... 1.546e-01 4.761e-01 1.402e-01]\n",
      " ...\n",
      " [1.321e+01 2.806e+01 8.488e+01 ... 7.958e-02 2.473e-01 6.443e-02]\n",
      " [1.387e+01 2.070e+01 8.977e+01 ... 6.845e-02 2.249e-01 8.492e-02]\n",
      " [1.029e+01 2.761e+01 6.567e+01 ... 9.127e-02 2.226e-01 8.283e-02]]\n",
      "\n",
      "train: [[1.799e+01 1.038e+01 1.228e+02 ... 2.654e-01 4.601e-01 1.189e-01]\n",
      " [2.057e+01 1.777e+01 1.329e+02 ... 1.860e-01 2.750e-01 8.902e-02]\n",
      " [1.969e+01 2.125e+01 1.300e+02 ... 2.430e-01 3.613e-01 8.758e-02]\n",
      " ...\n",
      " [2.156e+01 2.239e+01 1.420e+02 ... 2.216e-01 2.060e-01 7.115e-02]\n",
      " [2.013e+01 2.825e+01 1.312e+02 ... 1.628e-01 2.572e-01 6.637e-02]\n",
      " [2.060e+01 2.933e+01 1.401e+02 ... 2.650e-01 4.087e-01 1.240e-01]] [[1.534e+01 1.426e+01 1.025e+02 ... 2.393e-01 4.667e-01 9.946e-02]\n",
      " [1.458e+01 2.153e+01 9.741e+01 ... 2.701e-01 4.264e-01 1.275e-01]\n",
      " [1.425e+01 2.172e+01 9.363e+01 ... 1.447e-01 3.591e-01 1.014e-01]\n",
      " ...\n",
      " [2.092e+01 2.509e+01 1.430e+02 ... 2.542e-01 2.929e-01 9.873e-02]\n",
      " [1.660e+01 2.808e+01 1.083e+02 ... 1.418e-01 2.218e-01 7.820e-02]\n",
      " [7.760e+00 2.454e+01 4.792e+01 ... 0.000e+00 2.871e-01 7.039e-02]]\n",
      "test: [[1.534e+01 1.426e+01 1.025e+02 ... 2.393e-01 4.667e-01 9.946e-02]\n",
      " [1.458e+01 2.153e+01 9.741e+01 ... 2.701e-01 4.264e-01 1.275e-01]\n",
      " [1.425e+01 2.172e+01 9.363e+01 ... 1.447e-01 3.591e-01 1.014e-01]\n",
      " ...\n",
      " [2.092e+01 2.509e+01 1.430e+02 ... 2.542e-01 2.929e-01 9.873e-02]\n",
      " [1.660e+01 2.808e+01 1.083e+02 ... 1.418e-01 2.218e-01 7.820e-02]\n",
      " [7.760e+00 2.454e+01 4.792e+01 ... 0.000e+00 2.871e-01 7.039e-02]]\n",
      "\n",
      "train: [[1.799e+01 1.038e+01 1.228e+02 ... 2.654e-01 4.601e-01 1.189e-01]\n",
      " [2.057e+01 1.777e+01 1.329e+02 ... 1.860e-01 2.750e-01 8.902e-02]\n",
      " [1.969e+01 2.125e+01 1.300e+02 ... 2.430e-01 3.613e-01 8.758e-02]\n",
      " ...\n",
      " [1.660e+01 2.808e+01 1.083e+02 ... 1.418e-01 2.218e-01 7.820e-02]\n",
      " [2.060e+01 2.933e+01 1.401e+02 ... 2.650e-01 4.087e-01 1.240e-01]\n",
      " [7.760e+00 2.454e+01 4.792e+01 ... 0.000e+00 2.871e-01 7.039e-02]] [[1.300e+01 2.182e+01 8.750e+01 ... 2.060e-01 4.378e-01 1.072e-01]\n",
      " [1.530e+01 2.527e+01 1.024e+02 ... 2.024e-01 4.027e-01 9.876e-02]\n",
      " [1.863e+01 2.511e+01 1.248e+02 ... 1.848e-01 3.444e-01 9.782e-02]\n",
      " ...\n",
      " [1.447e+01 2.499e+01 9.581e+01 ... 1.205e-01 3.187e-01 1.023e-01]\n",
      " [1.032e+01 1.635e+01 6.531e+01 ... 2.381e-02 2.681e-01 7.399e-02]\n",
      " [1.016e+01 1.959e+01 6.473e+01 ... 2.232e-02 2.262e-01 6.742e-02]]\n",
      "test: [[1.300e+01 2.182e+01 8.750e+01 ... 2.060e-01 4.378e-01 1.072e-01]\n",
      " [1.530e+01 2.527e+01 1.024e+02 ... 2.024e-01 4.027e-01 9.876e-02]\n",
      " [1.863e+01 2.511e+01 1.248e+02 ... 1.848e-01 3.444e-01 9.782e-02]\n",
      " ...\n",
      " [1.447e+01 2.499e+01 9.581e+01 ... 1.205e-01 3.187e-01 1.023e-01]\n",
      " [1.032e+01 1.635e+01 6.531e+01 ... 2.381e-02 2.681e-01 7.399e-02]\n",
      " [1.016e+01 1.959e+01 6.473e+01 ... 2.232e-02 2.262e-01 6.742e-02]]\n",
      "\n",
      "train: [[1.799e+01 1.038e+01 1.228e+02 ... 2.654e-01 4.601e-01 1.189e-01]\n",
      " [2.057e+01 1.777e+01 1.329e+02 ... 1.860e-01 2.750e-01 8.902e-02]\n",
      " [1.142e+01 2.038e+01 7.758e+01 ... 2.575e-01 6.638e-01 1.730e-01]\n",
      " ...\n",
      " [1.660e+01 2.808e+01 1.083e+02 ... 1.418e-01 2.218e-01 7.820e-02]\n",
      " [2.060e+01 2.933e+01 1.401e+02 ... 2.650e-01 4.087e-01 1.240e-01]\n",
      " [7.760e+00 2.454e+01 4.792e+01 ... 0.000e+00 2.871e-01 7.039e-02]] [[1.969e+01 2.125e+01 1.300e+02 ... 2.430e-01 3.613e-01 8.758e-02]\n",
      " [1.578e+01 1.789e+01 1.036e+02 ... 1.810e-01 3.792e-01 1.048e-01]\n",
      " [1.499e+01 2.520e+01 9.554e+01 ... 2.899e-02 1.565e-01 5.504e-02]\n",
      " ...\n",
      " [1.347e+01 1.406e+01 8.732e+01 ... 1.335e-01 3.227e-01 9.326e-02]\n",
      " [9.295e+00 1.390e+01 5.996e+01 ... 7.262e-02 3.681e-01 8.982e-02]\n",
      " [2.013e+01 2.825e+01 1.312e+02 ... 1.628e-01 2.572e-01 6.637e-02]]\n",
      "test: [[1.969e+01 2.125e+01 1.300e+02 ... 2.430e-01 3.613e-01 8.758e-02]\n",
      " [1.578e+01 1.789e+01 1.036e+02 ... 1.810e-01 3.792e-01 1.048e-01]\n",
      " [1.499e+01 2.520e+01 9.554e+01 ... 2.899e-02 1.565e-01 5.504e-02]\n",
      " ...\n",
      " [1.347e+01 1.406e+01 8.732e+01 ... 1.335e-01 3.227e-01 9.326e-02]\n",
      " [9.295e+00 1.390e+01 5.996e+01 ... 7.262e-02 3.681e-01 8.982e-02]\n",
      " [2.013e+01 2.825e+01 1.312e+02 ... 1.628e-01 2.572e-01 6.637e-02]]\n",
      "\n",
      "train: [[1.799e+01 1.038e+01 1.228e+02 ... 2.654e-01 4.601e-01 1.189e-01]\n",
      " [2.057e+01 1.777e+01 1.329e+02 ... 1.860e-01 2.750e-01 8.902e-02]\n",
      " [1.969e+01 2.125e+01 1.300e+02 ... 2.430e-01 3.613e-01 8.758e-02]\n",
      " ...\n",
      " [1.660e+01 2.808e+01 1.083e+02 ... 1.418e-01 2.218e-01 7.820e-02]\n",
      " [2.060e+01 2.933e+01 1.401e+02 ... 2.650e-01 4.087e-01 1.240e-01]\n",
      " [7.760e+00 2.454e+01 4.792e+01 ... 0.000e+00 2.871e-01 7.039e-02]] [[1.825e+01 1.998e+01 1.196e+02 ... 1.932e-01 3.063e-01 8.368e-02]\n",
      " [1.981e+01 2.215e+01 1.300e+02 ... 2.388e-01 2.768e-01 7.615e-02]\n",
      " [2.116e+01 2.304e+01 1.372e+02 ... 2.009e-01 2.822e-01 7.526e-02]\n",
      " ...\n",
      " [1.154e+01 1.444e+01 7.465e+01 ... 6.918e-02 2.329e-01 8.134e-02]\n",
      " [1.474e+01 2.542e+01 9.470e+01 ... 1.095e-01 2.722e-01 6.956e-02]\n",
      " [9.423e+00 2.788e+01 5.926e+01 ... 0.000e+00 2.475e-01 6.969e-02]]\n",
      "test: [[1.825e+01 1.998e+01 1.196e+02 ... 1.932e-01 3.063e-01 8.368e-02]\n",
      " [1.981e+01 2.215e+01 1.300e+02 ... 2.388e-01 2.768e-01 7.615e-02]\n",
      " [2.116e+01 2.304e+01 1.372e+02 ... 2.009e-01 2.822e-01 7.526e-02]\n",
      " ...\n",
      " [1.154e+01 1.444e+01 7.465e+01 ... 6.918e-02 2.329e-01 8.134e-02]\n",
      " [1.474e+01 2.542e+01 9.470e+01 ... 1.095e-01 2.722e-01 6.956e-02]\n",
      " [9.423e+00 2.788e+01 5.926e+01 ... 0.000e+00 2.475e-01 6.969e-02]]\n",
      "\n",
      "train: [[1.799e+01 1.038e+01 1.228e+02 ... 2.654e-01 4.601e-01 1.189e-01]\n",
      " [2.057e+01 1.777e+01 1.329e+02 ... 1.860e-01 2.750e-01 8.902e-02]\n",
      " [1.969e+01 2.125e+01 1.300e+02 ... 2.430e-01 3.613e-01 8.758e-02]\n",
      " ...\n",
      " [1.660e+01 2.808e+01 1.083e+02 ... 1.418e-01 2.218e-01 7.820e-02]\n",
      " [2.060e+01 2.933e+01 1.401e+02 ... 2.650e-01 4.087e-01 1.240e-01]\n",
      " [7.760e+00 2.454e+01 4.792e+01 ... 0.000e+00 2.871e-01 7.039e-02]] [[1.371e+01 2.083e+01 9.020e+01 ... 1.556e-01 3.196e-01 1.151e-01]\n",
      " [1.602e+01 2.324e+01 1.027e+02 ... 9.975e-02 2.948e-01 8.452e-02]\n",
      " [1.454e+01 2.754e+01 9.673e+01 ... 1.712e-01 4.218e-01 1.341e-01]\n",
      " ...\n",
      " [2.463e+01 2.160e+01 1.655e+02 ... 2.475e-01 3.157e-01 9.671e-02]\n",
      " [9.683e+00 1.934e+01 6.105e+01 ... 3.846e-02 2.552e-01 7.920e-02]\n",
      " [2.156e+01 2.239e+01 1.420e+02 ... 2.216e-01 2.060e-01 7.115e-02]]\n",
      "test: [[1.371e+01 2.083e+01 9.020e+01 ... 1.556e-01 3.196e-01 1.151e-01]\n",
      " [1.602e+01 2.324e+01 1.027e+02 ... 9.975e-02 2.948e-01 8.452e-02]\n",
      " [1.454e+01 2.754e+01 9.673e+01 ... 1.712e-01 4.218e-01 1.341e-01]\n",
      " ...\n",
      " [2.463e+01 2.160e+01 1.655e+02 ... 2.475e-01 3.157e-01 9.671e-02]\n",
      " [9.683e+00 1.934e+01 6.105e+01 ... 3.846e-02 2.552e-01 7.920e-02]\n",
      " [2.156e+01 2.239e+01 1.420e+02 ... 2.216e-01 2.060e-01 7.115e-02]]\n",
      "\n",
      "train: [[1.799e+01 1.038e+01 1.228e+02 ... 2.654e-01 4.601e-01 1.189e-01]\n",
      " [2.057e+01 1.777e+01 1.329e+02 ... 1.860e-01 2.750e-01 8.902e-02]\n",
      " [1.969e+01 2.125e+01 1.300e+02 ... 2.430e-01 3.613e-01 8.758e-02]\n",
      " ...\n",
      " [1.660e+01 2.808e+01 1.083e+02 ... 1.418e-01 2.218e-01 7.820e-02]\n",
      " [2.060e+01 2.933e+01 1.401e+02 ... 2.650e-01 4.087e-01 1.240e-01]\n",
      " [7.760e+00 2.454e+01 4.792e+01 ... 0.000e+00 2.871e-01 7.039e-02]] [[2.029e+01 1.434e+01 1.351e+02 ... 1.625e-01 2.364e-01 7.678e-02]\n",
      " [1.245e+01 1.570e+01 8.257e+01 ... 1.741e-01 3.985e-01 1.244e-01]\n",
      " [1.917e+01 2.480e+01 1.324e+02 ... 1.767e-01 3.176e-01 1.023e-01]\n",
      " ...\n",
      " [1.167e+01 2.002e+01 7.521e+01 ... 8.120e-02 3.206e-01 8.950e-02]\n",
      " [1.086e+01 2.148e+01 6.851e+01 ... 0.000e+00 2.458e-01 6.592e-02]\n",
      " [1.151e+01 2.393e+01 7.452e+01 ... 9.653e-02 2.112e-01 8.732e-02]]\n",
      "test: [[2.029e+01 1.434e+01 1.351e+02 ... 1.625e-01 2.364e-01 7.678e-02]\n",
      " [1.245e+01 1.570e+01 8.257e+01 ... 1.741e-01 3.985e-01 1.244e-01]\n",
      " [1.917e+01 2.480e+01 1.324e+02 ... 1.767e-01 3.176e-01 1.023e-01]\n",
      " ...\n",
      " [1.167e+01 2.002e+01 7.521e+01 ... 8.120e-02 3.206e-01 8.950e-02]\n",
      " [1.086e+01 2.148e+01 6.851e+01 ... 0.000e+00 2.458e-01 6.592e-02]\n",
      " [1.151e+01 2.393e+01 7.452e+01 ... 9.653e-02 2.112e-01 8.732e-02]]\n",
      "\n"
     ]
    }
   ],
   "source": [
    "kfold = KFold(10, True, 41)\n",
    "\n",
    "# enumerate splits\n",
    "for train, test in kfold.split(X):\n",
    "    # print('train: %s, test: %s' % (X[train], X[test]))\n",
    "    print('train: %s' % X[train], X[test])\n",
    "    print('test: %s' % X[test])\n",
    "    print('')"
   ]
  },
  {
   "cell_type": "markdown",
   "metadata": {},
   "source": [
    "Running the example prints the specific observations chosen for each train and test set. The indices are used directly on the original data array to retrieve the observation values.\n",
    "\n",
    "Usefully, the k-fold cross validation implementation in scikit-learn is provided as a component operation within broader methods, such as grid-searching model hyperparameters and scoring a model on a dataset.\n",
    "\n",
    "Nevertheless, the `KFold` class can be used directly in order to split up a dataset prior to modeling such that all models will use the same data splits. This is especially helpful if you are working with very large data samples. The use of the same splits across algorithms can have benefits for statistical tests that you may wish to perform on the data later.\n",
    "\n",
    "Now, what to do with all the models discarded? You could, for example, bag them (bootstrap-aggregate them) into one model:"
   ]
  },
  {
   "cell_type": "code",
   "execution_count": 115,
   "metadata": {},
   "outputs": [
    {
     "name": "stdout",
     "output_type": "stream",
     "text": [
      "mean accuracy: 0.9447619047619048\n"
     ]
    }
   ],
   "source": [
    "kfold = KFold(10, True, 41)\n",
    "cart = DecisionTreeClassifier()\n",
    "num_trees = 100\n",
    "\n",
    "from sklearn.ensemble import BaggingClassifier\n",
    "from sklearn import model_selection\n",
    "\n",
    "model = BaggingClassifier(base_estimator = cart, n_estimators = num_trees, random_state = 41)\n",
    "results = model_selection.cross_val_score(model, X_test, y_test, cv = kfold)\n",
    "print(\"mean accuracy:\", results.mean())"
   ]
  },
  {
   "cell_type": "markdown",
   "metadata": {},
   "source": [
    "Individual models (weak learners) overfit the data and have a high variance. But the aggregated result has a reduced variance and is trustworthy: That is what a **random forest** (RF) is!\n",
    "\n",
    "### Variations on Cross-Validation\n",
    "There are a number of variations on the k-fold cross validation procedure.\n",
    "\n",
    "Five commonly used variations are as follows:\n",
    "\n",
    "- Train/Test Split: Taken to one extreme, k may be set to 2 (not 1) such that a single train/test split is created to evaluate the model.\n",
    "- LOOCV: Taken to another extreme, k may be set to the total number of observations in the dataset such that each observation is given a chance to be the held out of the dataset. This is called leave-one-out cross-validation, or LOOCV for short.\n",
    "- Stratified: The splitting of data into folds may be governed by criteria such as ensuring that each fold has the same proportion of observations with a given categorical value, such as the class outcome value. This is called stratified cross-validation.\n",
    "- Repeated: This is where the k-fold cross-validation procedure is repeated n times, where importantly, the data sample is shuffled prior to each repetition, which results in a different split of the sample.\n",
    "- Nested: This is where k-fold cross-validation is performed within each fold of cross-validation, often to perform hyperparameter tuning during model evaluation. This is called nested cross-validation or double cross-validation."
   ]
  },
  {
   "cell_type": "markdown",
   "metadata": {},
   "source": [
    "### A note about sliding and growing windows\n",
    "\n",
    "**Sliding windows** are essentially like k-fold cross-validation: An opportunity to train many models with different samples of training data and validate with different samples of test data. \n",
    "\n",
    "Here is where you can prove that predicting a feature with a certain horizon of n days in advance is possible (or not). The choice of the sliding window is critical: How much data makes sense to do the prediction? \n",
    "\n",
    "Here is also a case where a **growing window** might actually be better because it will tell you how many days of observation is the best window size. A too small window size will suffer from the fact that statistically we don't have enough data. A too big window size will suffer from the fact that we are missing the real  snow-causing pehonomenon.\n",
    "\n",
    "Once you're found the right size for your window, you could then do a 100-fold cross-validation, leading to 100 different models. Then, you could bag them (bootstrap-aggregate them) to create a random forest that may be the best possible model (even tho you lose explainability with the forest).\n",
    "\n",
    "Sliding windows will be critical for your final project, where we select meteorological features over a number of hours to predict what happens in the future hours!"
   ]
  },
  {
   "cell_type": "markdown",
   "metadata": {},
   "source": [
    "### 9.7 Pruning a decision tree\n",
    "A `DecisionTreeClassifier` provides parameters such as `min_samples_leaf` and `max_depth` to prevent a tree from overfiting.\n",
    "\n",
    "Setting these is a simple method to avoid overfit.\n",
    "\n",
    "**Cost complexity pruning** provides another option to control the size of a tree. In `DecisionTreeClassifier`, this pruning technique is parameterized by the cost complexity parameter, `ccp_alpha`. Greater values of `ccp_alpha` increase the number of nodes pruned.\n",
    "\n",
    "To get an idea of what values of `ccp_alpha` could be appropriate, sklearn provides `DecisionTreeClassifier.cost_complexity_pruning_path` that returns the effective alphas and the corresponding total leaf impurities at each step of the pruning process. As alpha increases, more of the tree is pruned, which increases the total impurity of its leaves.\n",
    "\n",
    "Let's look at an example."
   ]
  },
  {
   "cell_type": "code",
   "execution_count": 92,
   "metadata": {},
   "outputs": [],
   "source": [
    "from sklearn.datasets import load_breast_cancer\n",
    "\n",
    "X, y = load_breast_cancer(return_X_y=True)\n",
    "X_train, X_test, y_train, y_test = train_test_split(X, y, random_state=0)\n",
    "\n",
    "clf = DecisionTreeClassifier(random_state=0)\n",
    "path = clf.cost_complexity_pruning_path(X_train, y_train)\n",
    "ccp_alphas, impurities = path.ccp_alphas, path.impurities"
   ]
  },
  {
   "cell_type": "markdown",
   "metadata": {},
   "source": [
    "In the following plot, the maximum effective alpha value is removed, because it is the trivial tree with only one node."
   ]
  },
  {
   "cell_type": "code",
   "execution_count": 93,
   "metadata": {
    "scrolled": false
   },
   "outputs": [
    {
     "data": {
      "text/plain": [
       "Text(0.5, 1.0, 'Total Impurity vs effective alpha for training set')"
      ]
     },
     "execution_count": 93,
     "metadata": {},
     "output_type": "execute_result"
    },
    {
     "data": {
      "image/png": "[encoded data removed]",
      "text/plain": [
       "<Figure size 720x360 with 1 Axes>"
      ]
     },
     "metadata": {
      "needs_background": "light"
     },
     "output_type": "display_data"
    }
   ],
   "source": [
    "fig, ax = plt.subplots()\n",
    "ax.plot(ccp_alphas[:-1], impurities[:-1], marker=\"o\", drawstyle=\"steps-post\")\n",
    "ax.set_xlabel(\"effective alpha\")\n",
    "ax.set_ylabel(\"total impurity of leaves\")\n",
    "ax.set_title(\"Total Impurity vs effective alpha for training set\")"
   ]
  },
  {
   "cell_type": "markdown",
   "metadata": {},
   "source": [
    "Let's train a decision tree using the effective alphas."
   ]
  },
  {
   "cell_type": "code",
   "execution_count": 94,
   "metadata": {},
   "outputs": [
    {
     "data": {
      "text/plain": [
       "13"
      ]
     },
     "execution_count": 94,
     "metadata": {},
     "output_type": "execute_result"
    }
   ],
   "source": [
    "len(ccp_alphas)"
   ]
  },
  {
   "cell_type": "code",
   "execution_count": 95,
   "metadata": {},
   "outputs": [
    {
     "name": "stdout",
     "output_type": "stream",
     "text": [
      "0 Number of nodes in the tree is: 31 with ccp_alpha: 0.0\n",
      "1 Number of nodes in the tree is: 27 with ccp_alpha: 0.0022664723976040134\n",
      "2 Number of nodes in the tree is: 21 with ccp_alpha: 0.004647426339100881\n",
      "3 Number of nodes in the tree is: 19 with ccp_alpha: 0.004659799593581376\n",
      "4 Number of nodes in the tree is: 17 with ccp_alpha: 0.005633802816901408\n",
      "5 Number of nodes in the tree is: 15 with ccp_alpha: 0.007042253521126761\n",
      "6 Number of nodes in the tree is: 13 with ccp_alpha: 0.007841938420144537\n",
      "7 Number of nodes in the tree is: 11 with ccp_alpha: 0.009114019793328328\n",
      "8 Number of nodes in the tree is: 9 with ccp_alpha: 0.011443661971830986\n",
      "9 Number of nodes in the tree is: 7 with ccp_alpha: 0.018988002086593604\n",
      "10 Number of nodes in the tree is: 5 with ccp_alpha: 0.023141627543035996\n",
      "11 Number of nodes in the tree is: 3 with ccp_alpha: 0.03422474765119576\n",
      "12 Number of nodes in the tree is: 1 with ccp_alpha: 0.3272984419327777\n"
     ]
    }
   ],
   "source": [
    "clfs = []\n",
    "for i,ccp_alpha in enumerate(ccp_alphas):\n",
    "    clf = DecisionTreeClassifier(random_state=0, ccp_alpha=ccp_alpha)\n",
    "    clf.fit(X_train, y_train)\n",
    "    clfs.append(clf)\n",
    "    print(i,\n",
    "    \"Number of nodes in the tree is: {} with ccp_alpha: {}\".format(\n",
    "        clfs[i].tree_.node_count, ccp_alphas[i]\n",
    "        )\n",
    "         )"
   ]
  },
  {
   "cell_type": "markdown",
   "metadata": {},
   "source": [
    "The last value in `ccp_alphas` is the alpha value that prunes the whole tree, leaving the tree, clfs[-1], with one node."
   ]
  },
  {
   "cell_type": "code",
   "execution_count": 96,
   "metadata": {},
   "outputs": [
    {
     "data": {
      "image/png": "[encoded data removed]",
      "text/plain": [
       "<Figure size 720x360 with 2 Axes>"
      ]
     },
     "metadata": {
      "needs_background": "light"
     },
     "output_type": "display_data"
    }
   ],
   "source": [
    "clfs = clfs[:-1]\n",
    "ccp_alphas = ccp_alphas[:-1]\n",
    "\n",
    "node_counts = [clf.tree_.node_count for clf in clfs]\n",
    "depth = [clf.tree_.max_depth for clf in clfs]\n",
    "fig, ax = plt.subplots(2, 1)\n",
    "ax[0].plot(ccp_alphas, node_counts, marker=\"o\", drawstyle=\"steps-post\")\n",
    "ax[0].set_xlabel(\"alpha\")\n",
    "ax[0].set_ylabel(\"number of nodes\")\n",
    "ax[0].set_title(\"Number of nodes vs alpha\")\n",
    "ax[1].plot(ccp_alphas, depth, marker=\"o\", drawstyle=\"steps-post\")\n",
    "ax[1].set_xlabel(\"alpha\")\n",
    "ax[1].set_ylabel(\"depth of tree\")\n",
    "ax[1].set_title(\"Depth vs alpha\")\n",
    "fig.tight_layout()"
   ]
  },
  {
   "cell_type": "markdown",
   "metadata": {},
   "source": [
    "When ccp_alpha is set to zero and keeping the other default parameters of DecisionTreeClassifier, the tree overfits, leading to a 100% training accuracy and 88% testing accuracy. \n",
    "\n",
    "As alpha increases, more of the tree is pruned, thus creating a decision tree that generalizes better! \n",
    "\n",
    "In our example, setting ccp_alpha=0.015 maximizes the testing accuracy."
   ]
  },
  {
   "cell_type": "code",
   "execution_count": 97,
   "metadata": {},
   "outputs": [
    {
     "data": {
      "text/plain": [
       "<matplotlib.legend.Legend at 0x1eadeb93e10>"
      ]
     },
     "execution_count": 97,
     "metadata": {},
     "output_type": "execute_result"
    },
    {
     "data": {
      "image/png": "[encoded data removed]",
      "text/plain": [
       "<Figure size 720x360 with 1 Axes>"
      ]
     },
     "metadata": {
      "needs_background": "light"
     },
     "output_type": "display_data"
    }
   ],
   "source": [
    "train_scores = [clf.score(X_train, y_train) for clf in clfs]\n",
    "test_scores = [clf.score(X_test, y_test) for clf in clfs]\n",
    "\n",
    "fig, ax = plt.subplots()\n",
    "ax.set_xlabel(\"alpha\")\n",
    "ax.set_ylabel(\"accuracy\")\n",
    "ax.set_title(\"Accuracy vs alpha for training and testing sets\")\n",
    "ax.plot(ccp_alphas, train_scores, marker=\"o\", label=\"train\", drawstyle=\"steps-post\")\n",
    "ax.plot(ccp_alphas, test_scores, marker=\"o\", label=\"test\", drawstyle=\"steps-post\")\n",
    "ax.legend()"
   ]
  },
  {
   "cell_type": "markdown",
   "metadata": {},
   "source": [
    "Mazimizing testing accuracy for a good selection of test sets is the holy grail of model building, so using cost complexity pruning alpha measures is a good model building tool for decision trees."
   ]
  },
  {
   "cell_type": "markdown",
   "metadata": {},
   "source": [
    "### 9.8 Hypeparameter tuning\n",
    "Now that we have a more complex, tougher-to-model dataset than our mushroom dataset, let's look at our other hyperparameters and try to tune them.\n",
    "\n",
    "#### max_depth\n",
    "The first parameter to tune is `max_depth`. This indicates how deep the tree can be. The deeper the tree, the more splits it has and it captures more information about the data. We fit a decision tree with depths ranging from 1 to 32 and plot the training and test auc scores."
   ]
  },
  {
   "cell_type": "code",
   "execution_count": 36,
   "metadata": {},
   "outputs": [
    {
     "ename": "NameError",
     "evalue": "name 'DecisionTreeClassifier' is not defined",
     "output_type": "error",
     "traceback": [
      "\u001b[0;31m---------------------------------------------------------------------------\u001b[0m",
      "\u001b[0;31mNameError\u001b[0m                                 Traceback (most recent call last)",
      "Cell \u001b[0;32mIn[36], line 6\u001b[0m\n\u001b[1;32m      3\u001b[0m test_results \u001b[38;5;241m=\u001b[39m []\n\u001b[1;32m      5\u001b[0m \u001b[38;5;28;01mfor\u001b[39;00m max_depth \u001b[38;5;129;01min\u001b[39;00m max_depths:\n\u001b[0;32m----> 6\u001b[0m     dt \u001b[38;5;241m=\u001b[39m \u001b[43mDecisionTreeClassifier\u001b[49m(max_depth\u001b[38;5;241m=\u001b[39mmax_depth)\n\u001b[1;32m      7\u001b[0m     dt\u001b[38;5;241m.\u001b[39mfit(X_train, y_train)\n\u001b[1;32m      8\u001b[0m     train_pred \u001b[38;5;241m=\u001b[39m dt\u001b[38;5;241m.\u001b[39mpredict(X_train)\n",
      "\u001b[0;31mNameError\u001b[0m: name 'DecisionTreeClassifier' is not defined"
     ]
    }
   ],
   "source": [
    "max_depths = np.linspace(1, 32, 32, endpoint=True)\n",
    "train_results = []\n",
    "test_results = []\n",
    "\n",
    "for max_depth in max_depths:\n",
    "    dt = DecisionTreeClassifier(max_depth=max_depth)\n",
    "    dt.fit(X_train, y_train)\n",
    "    train_pred = dt.predict(X_train)\n",
    "    false_positive_rate, true_positive_rate, thresholds = roc_curve(y_train, train_pred)\n",
    "    roc_auc = auc(false_positive_rate, true_positive_rate)\n",
    "    \n",
    "    # Add auc score to previous train results\n",
    "    train_results.append(roc_auc)\n",
    "    y_pred = dt.predict(X_test)\n",
    "    false_positive_rate, true_positive_rate, thresholds = roc_curve(y_test, y_pred)\n",
    "    roc_auc = auc(false_positive_rate, true_positive_rate)\n",
    "    \n",
    "    # Add auc score to previous test results\n",
    "    test_results.append(roc_auc)"
   ]
  },
  {
   "cell_type": "code",
   "execution_count": 99,
   "metadata": {},
   "outputs": [
    {
     "data": {
      "image/png": "[encoded data removed]",
      "text/plain": [
       "<Figure size 720x360 with 1 Axes>"
      ]
     },
     "metadata": {
      "needs_background": "light"
     },
     "output_type": "display_data"
    }
   ],
   "source": [
    "from matplotlib.legend_handler import HandlerLine2D\n",
    "\n",
    "line1, = plt.plot(max_depths, train_results, 'b', label='Train AUC')\n",
    "line2, = plt.plot(max_depths, test_results, 'r', label='Test AUC')\n",
    "plt.legend(handler_map={line1: HandlerLine2D(numpoints=2)})\n",
    "plt.ylabel('AUC score')\n",
    "plt.xlabel('Tree depth')\n",
    "plt.show()"
   ]
  },
  {
   "cell_type": "markdown",
   "metadata": {},
   "source": [
    "We see that our model *overfits* for large depth values. The tree perfectly predicts all of the train data, however, it fails to generalize the findings for new data. \n",
    "\n",
    "A tree depth of 4 looks optimal to me!"
   ]
  },
  {
   "cell_type": "markdown",
   "metadata": {},
   "source": [
    "#### min_samples_split\n",
    "`min_samples_split` represents the minimum number of samples required to split an internal node. \n",
    "\n",
    "This can vary between considering at least one sample at each node to considering all of the samples at each node. \n",
    "\n",
    "When we increase this parameter, the tree becomes more constrained as it has to consider more samples at each node. Here we will vary the parameter from 10% to 100% of the samples."
   ]
  },
  {
   "cell_type": "code",
   "execution_count": 100,
   "metadata": {},
   "outputs": [],
   "source": [
    "min_samples_splits = np.linspace(0.1, 1.0, 10, endpoint=True)\n",
    "train_results = []\n",
    "test_results = []\n",
    "\n",
    "for min_samples_split in min_samples_splits:\n",
    "    dt = DecisionTreeClassifier(min_samples_split=min_samples_split)\n",
    "    dt.fit(X_train, y_train)\n",
    "    train_pred = dt.predict(X_train)\n",
    "    false_positive_rate, true_positive_rate, thresholds = roc_curve(y_train, train_pred)\n",
    "    roc_auc = auc(false_positive_rate, true_positive_rate)\n",
    "    train_results.append(roc_auc)\n",
    "    y_pred = dt.predict(X_test)\n",
    "    false_positive_rate, true_positive_rate, thresholds = roc_curve(y_test, y_pred)\n",
    "    roc_auc = auc(false_positive_rate, true_positive_rate)\n",
    "    test_results.append(roc_auc)"
   ]
  },
  {
   "cell_type": "code",
   "execution_count": 101,
   "metadata": {},
   "outputs": [
    {
     "data": {
      "text/plain": [
       "Text(0.5, 0, 'min samples split')"
      ]
     },
     "execution_count": 101,
     "metadata": {},
     "output_type": "execute_result"
    },
    {
     "data": {
      "image/png": "[encoded data removed]",
      "text/plain": [
       "<Figure size 720x360 with 1 Axes>"
      ]
     },
     "metadata": {
      "needs_background": "light"
     },
     "output_type": "display_data"
    }
   ],
   "source": [
    "from matplotlib.legend_handler import HandlerLine2D\n",
    "line1, = plt.plot(min_samples_splits, train_results, 'b', label='Train AUC')\n",
    "line2, = plt.plot(min_samples_splits, test_results, 'r', label='Test AUC')\n",
    "plt.legend(handler_map={line1: HandlerLine2D(numpoints=2)})\n",
    "plt.ylabel('AUC score')\n",
    "plt.xlabel('min samples split')"
   ]
  },
  {
   "cell_type": "markdown",
   "metadata": {},
   "source": [
    "We can clearly see that when we consider 100% of the samples at each node, the model cannot learn enough about the data. This is an **underfitting** case."
   ]
  },
  {
   "cell_type": "markdown",
   "metadata": {},
   "source": [
    "#### min_samples_leaf\n",
    "`min_samples_leaf` is The minimum number of samples required to be at a leaf node. \n",
    "\n",
    "This parameter is similar to `min_samples_splits`, however, this describe the minimum number of samples of samples at the leafs, the base of the tree.\n",
    "\n",
    "`min_samples_leaf` must be at least 1 or in (0, 0.5]."
   ]
  },
  {
   "cell_type": "code",
   "execution_count": 102,
   "metadata": {},
   "outputs": [],
   "source": [
    "min_samples_leafs = np.linspace(0.1, 0.5, 5, endpoint=True)\n",
    "train_results = []\n",
    "test_results = []\n",
    "for min_samples_leaf in min_samples_leafs:\n",
    "    dt = DecisionTreeClassifier(min_samples_leaf=min_samples_leaf)\n",
    "    dt.fit(X_train, y_train)\n",
    "    train_pred = dt.predict(X_train)\n",
    "    false_positive_rate, true_positive_rate, thresholds = roc_curve(y_train, train_pred)\n",
    "    roc_auc = auc(false_positive_rate, true_positive_rate)\n",
    "    train_results.append(roc_auc)\n",
    "    y_pred = dt.predict(X_test)\n",
    "    false_positive_rate, true_positive_rate, thresholds = roc_curve(y_test, y_pred)\n",
    "    roc_auc = auc(false_positive_rate, true_positive_rate)\n",
    "    test_results.append(roc_auc)"
   ]
  },
  {
   "cell_type": "code",
   "execution_count": 103,
   "metadata": {},
   "outputs": [
    {
     "data": {
      "image/png": "[encoded data removed]",
      "text/plain": [
       "<Figure size 720x360 with 1 Axes>"
      ]
     },
     "metadata": {
      "needs_background": "light"
     },
     "output_type": "display_data"
    }
   ],
   "source": [
    "from matplotlib.legend_handler import HandlerLine2D\n",
    "line1, = plt.plot(min_samples_leafs, train_results, 'b', label='Train AUC')\n",
    "line2, = plt.plot(min_samples_leafs, test_results, 'r', label='Test AUC')\n",
    "plt.legend(handler_map={line1: HandlerLine2D(numpoints=2)})\n",
    "plt.ylabel('AUC score')\n",
    "plt.xlabel('min samples leaf')\n",
    "plt.show()"
   ]
  },
  {
   "cell_type": "markdown",
   "metadata": {},
   "source": [
    "Same conclusion as to previous parameter. Increasing this value may cause underfitting."
   ]
  },
  {
   "cell_type": "markdown",
   "metadata": {},
   "source": [
    "#### max_features\n",
    "`max_features` represents the number of features to consider when looking for the best split."
   ]
  },
  {
   "cell_type": "code",
   "execution_count": 104,
   "metadata": {},
   "outputs": [],
   "source": [
    "max_features = list(range(1, X_train.shape[1]))\n",
    "train_results = []\n",
    "test_results = []\n",
    "for max_feature in max_features:\n",
    "    dt = DecisionTreeClassifier(max_features=max_feature)\n",
    "    dt.fit(X_train, y_train)\n",
    "    train_pred = dt.predict(X_train)\n",
    "    false_positive_rate, true_positive_rate, thresholds = roc_curve(y_train, train_pred)\n",
    "    roc_auc = auc(false_positive_rate, true_positive_rate)\n",
    "    train_results.append(roc_auc)\n",
    "    y_pred = dt.predict(X_test)\n",
    "    false_positive_rate, true_positive_rate, thresholds = roc_curve(y_test, y_pred)\n",
    "    roc_auc = auc(false_positive_rate, true_positive_rate)\n",
    "    test_results.append(roc_auc)"
   ]
  },
  {
   "cell_type": "code",
   "execution_count": 105,
   "metadata": {},
   "outputs": [
    {
     "data": {
      "image/png": "[encoded data removed]",
      "text/plain": [
       "<Figure size 720x360 with 1 Axes>"
      ]
     },
     "metadata": {
      "needs_background": "light"
     },
     "output_type": "display_data"
    }
   ],
   "source": [
    "from matplotlib.legend_handler import HandlerLine2D\n",
    "line1, = plt.plot(max_features, train_results, 'b', label='Train AUC')\n",
    "line2, = plt.plot(max_features, test_results, 'r', label='Test AUC')\n",
    "plt.legend(handler_map={line1: HandlerLine2D(numpoints=2)})\n",
    "plt.ylabel('AUC score')\n",
    "plt.xlabel('max features')\n",
    "plt.show()"
   ]
  },
  {
   "cell_type": "markdown",
   "metadata": {},
   "source": [
    "This is also an **overfitting** case. \n",
    "\n",
    "It’s unexpected to get overfitting for all values of `max_features`. However, according to sklearn documentation for decision tree, the search for a split does not stop until at least one valid partition of the node samples is found, even if it requires to effectively inspect more than `max_features` features"
   ]
  },
  {
   "cell_type": "markdown",
   "metadata": {},
   "source": [
    "## 10. Conclusion"
   ]
  },
  {
   "cell_type": "markdown",
   "metadata": {},
   "source": [
    "[Scikit-Learn](http://scikit-learn.org/) has more full-featured decision tree building functions, and other types of machine learning algorithms. We'll use scikit-learn's decision forest building algoirthm in our lab.\n",
    "\n",
    "### The ID3 and C4.5 Algorithms\n",
    "[Ross Quinlan](https://en.wikipedia.org/wiki/Ross_Quinlan) invented the ID3 algorithm that uses entropy and information gain to recursively create decision trees. This algorithm had some weaknesses, such as the inability to handle numerical attributes or attributes with missing values. His extension to ID3, C4.5, addressed those weaknesses.\n",
    "\n",
    "### Regressor versus Classifier\n",
    "It is commonly thought that decision trees (and random forests) are *discrete* algorithms. In other words, *classifiers* rather than *regressors*. But that's not true, decision trees can work with continuous data just as easily!\n",
    "\n",
    "Here are *three* regressors with *three* different tree depths learning models for a sine curve:"
   ]
  },
  {
   "cell_type": "code",
   "execution_count": 116,
   "metadata": {},
   "outputs": [],
   "source": [
    "# Create a random dataset\n",
    "rng = np.random.RandomState(1)\n",
    "X = np.sort(5 * rng.rand(80, 1), axis=0)\n",
    "y = np.sin(X).ravel()\n",
    "y[::5] += 3 * (0.5 - rng.rand(16))\n",
    "\n",
    "# Fit regression model\n",
    "regr_1 = DecisionTreeRegressor(max_depth=2)\n",
    "regr_2 = DecisionTreeRegressor(max_depth=5)\n",
    "regr_3 = DecisionTreeRegressor(max_depth=10)\n",
    "regr_1.fit(X, y)\n",
    "regr_2.fit(X, y)\n",
    "regr_3.fit(X, y)\n",
    "\n",
    "# Predict\n",
    "X_test = np.arange(0.0, 5.0, 0.01)[:, np.newaxis]\n",
    "y_1 = regr_1.predict(X_test)\n",
    "y_2 = regr_2.predict(X_test)\n",
    "y_3 = regr_3.predict(X_test)"
   ]
  },
  {
   "cell_type": "code",
   "execution_count": 117,
   "metadata": {},
   "outputs": [
    {
     "data": {
      "text/plain": [
       "<matplotlib.legend.Legend at 0x1eadee5c320>"
      ]
     },
     "execution_count": 117,
     "metadata": {},
     "output_type": "execute_result"
    },
    {
     "data": {
      "image/png": "[encoded data removed]",
      "text/plain": [
       "<Figure size 720x360 with 1 Axes>"
      ]
     },
     "metadata": {
      "needs_background": "light"
     },
     "output_type": "display_data"
    }
   ],
   "source": [
    "plt.scatter(X, y, s=20, edgecolor=\"black\", c=\"darkorange\", label=\"data\")\n",
    "plt.plot(X_test, y_1, color=\"cornflowerblue\", label=\"max_depth=2\", linewidth=2)\n",
    "plt.plot(X_test, y_2, color=\"yellowgreen\", label=\"max_depth=5\", linewidth=2)\n",
    "plt.plot(X_test, y_3, color=\"orange\", label=\"max_depth=10\", linewidth=2)\n",
    "plt.xlabel(\"data\")\n",
    "plt.ylabel(\"target\")\n",
    "plt.title(\"Decision Tree Regression\")\n",
    "plt.legend()"
   ]
  },
  {
   "cell_type": "markdown",
   "metadata": {},
   "source": [
    "And here they are one by one, from shallow to deep:"
   ]
  },
  {
   "cell_type": "code",
   "execution_count": 118,
   "metadata": {},
   "outputs": [
    {
     "data": {
      "text/plain": [
       "<matplotlib.legend.Legend at 0x1eadeeea668>"
      ]
     },
     "execution_count": 118,
     "metadata": {},
     "output_type": "execute_result"
    },
    {
     "data": {
      "image/png": "[encoded data removed]",
      "text/plain": [
       "<Figure size 720x360 with 1 Axes>"
      ]
     },
     "metadata": {
      "needs_background": "light"
     },
     "output_type": "display_data"
    }
   ],
   "source": [
    "plt.scatter(X, y, s=20, edgecolor=\"black\", c=\"darkorange\", label=\"data\")\n",
    "plt.plot(X_test, y_1, color=\"cornflowerblue\", label=\"max_depth=2\", linewidth=2)\n",
    "plt.xlabel(\"data\")\n",
    "plt.ylabel(\"target\")\n",
    "plt.title(\"Decision Tree Regression\")\n",
    "plt.legend()"
   ]
  },
  {
   "cell_type": "code",
   "execution_count": 119,
   "metadata": {},
   "outputs": [
    {
     "data": {
      "text/plain": [
       "<matplotlib.legend.Legend at 0x1eae03bd9b0>"
      ]
     },
     "execution_count": 119,
     "metadata": {},
     "output_type": "execute_result"
    },
    {
     "data": {
      "image/png": "[encoded data removed]",
      "text/plain": [
       "<Figure size 720x360 with 1 Axes>"
      ]
     },
     "metadata": {
      "needs_background": "light"
     },
     "output_type": "display_data"
    }
   ],
   "source": [
    "plt.scatter(X, y, s=20, edgecolor=\"black\", c=\"darkorange\", label=\"data\")\n",
    "plt.plot(X_test, y_2, color=\"yellowgreen\", label=\"max_depth=5\", linewidth=2)\n",
    "plt.xlabel(\"data\")\n",
    "plt.ylabel(\"target\")\n",
    "plt.title(\"Decision Tree Regression\")\n",
    "plt.legend()"
   ]
  },
  {
   "cell_type": "code",
   "execution_count": 120,
   "metadata": {},
   "outputs": [
    {
     "data": {
      "text/plain": [
       "<matplotlib.legend.Legend at 0x1eae0427e80>"
      ]
     },
     "execution_count": 120,
     "metadata": {},
     "output_type": "execute_result"
    },
    {
     "data": {
      "image/png": "[encoded data removed]",
      "text/plain": [
       "<Figure size 720x360 with 1 Axes>"
      ]
     },
     "metadata": {
      "needs_background": "light"
     },
     "output_type": "display_data"
    }
   ],
   "source": [
    "plt.scatter(X, y, s=20, edgecolor=\"black\", c=\"darkorange\", label=\"data\")\n",
    "plt.plot(X_test, y_3, color=\"orange\", label=\"max_depth=10\", linewidth=2)\n",
    "plt.xlabel(\"data\")\n",
    "plt.ylabel(\"target\")\n",
    "plt.title(\"Decision Tree Regression\")\n",
    "plt.legend()"
   ]
  },
  {
   "cell_type": "markdown",
   "metadata": {},
   "source": [
    "### Overfit\n",
    "The idea of overfitting means that your prediction model is too *biased* towards your training data. \n",
    "\n",
    "Think about the hypothetical case where a node in our mushroom decision tree has 1,000 examples that are poisonous and only 1 that is edible. \n",
    "\n",
    "Should we really split the tree again here, or would it be a better idea to just assume that all mushrooms at this node are poisonous? \n",
    "\n",
    "Perhaps that single edible mushroom was simply mislabeled by our scientists. Or perhaps there is some attribute about mushrooms that the scientists did not take into account that might better split the examples earlier on.\n",
    "\n",
    "It’s a good idea to assume that there is *noise* in our observations. If we don’t, we may build a tree too affected by this noise, and thus have it overfit to our training examples. New examples, then, could have lower classification accuracy.\n",
    "\n",
    "To alleviate overfit, it is custom to [prune](https://en.wikipedia.org/wiki/Pruning_(decision_trees)) decision treesm as we did above, or to remove sections of the tree that provide little power to classify instances.\n",
    "\n",
    "<br />\n",
    "<center>\n",
    "<img src = ipynb.images/pruned.jpeg width = 600 />\n",
    "</center>\n",
    "\n",
    "You should also be on the lookout for columns that can take on a large number of distinct values. For example, suppose that one is building a decision tree for some data describing the customers of a business. Information gain is often used to decide which of the attributes are the most relevant, so they can be tested near the root of the tree. One of the columns might be the customer's membership number. This attribute has a high mutual information, because it uniquely identifies each customer, but we do not want to include it in any decision tree. Deciding how to treat a customer based on their membership number is unlikely to generalize to customers we haven't seen before, and so leads to overfitting. This issue can also occur if the observations being tested have multiple columns with many distinct values. In this case, it can cause the information gain of each of these attributes to be much higher than those without as many distinct values.\n",
    "\n",
    "This concept is very reminiscent of **scaling**. We already know from INFO 6105 that we need to ensure, when learning a dataset with any kind of learning algorithm, that value columns *have the same range*, otherwise the column with the bigger range will always dwarf calculations from columns with smaller ranges. Similarly, categorical columns with many categories will dwarf categorical columns with a small number of categories.\n",
    "\n",
    "### Feature selection\n",
    "Feature selection based on impurity reduction is biased towards preferring variables with more categories. When the dataset has two (or more) correlated features, then from the point of view of the model, any of these correlated features can be used as the predictor, with no concrete preference of one over the others. \n",
    "\n",
    "But once one of them is used, the importance of others is significantly reduced since effectively the impurity they can remove is already removed by the first feature. \n",
    "\n",
    "As a consequence, they will have a lower reported importance. This is not an issue when we want to use feature selection to reduce overfitting, since it makes sense to remove features that are mostly duplicated by other features. But when interpreting the data, it can lead to the *incorrect conclusion that one of the variables is a strong predictor while the others in the same group are unimportant*, while actually they are very close in terms of their relationship with the response variable.\n",
    "\n",
    "### Lesson learned\n",
    "You can now see that the common mistake made when using a decision tree (or random forest) comes from a combination of two factors:\n",
    "1. Using default parameters\n",
    "2. Using the `feature_importances_` method from sklearn\n",
    "\n",
    "In general:\n",
    "- Default parameters are not necessarily safe\n",
    "- Don’t assume that the pre-coded functions such as `feature_importance_` work the way you are used to. Always look at documentation.\n",
    "- Always assess the performance of the model on a test set even if your objective is not prediction\n",
    "- Use k-fold corss validation rather than train_test_split\n",
    "- Modify default parameters or prune your tree to reduce overfit and create a more generalizable tree that works better for new data\n",
    "\n",
    "How could you apply decision trees to data science problems in general? For one, you could just extensively compile *hundreds* of ML statistics, put them all in a spreadsheet, and let *your laptop tell you which statistics are the most important* by having it build *good* decision trees (most important factors are closer to the root of the tree). Then you can model these parameters directly."
   ]
  },
  {
   "cell_type": "markdown",
   "metadata": {},
   "source": [
    "# Homework\n",
    "Apply a decision tree algorithm to our research dataset.\n",
    "\n",
    "Compute the entropy of the dataset. Create a decision tree model and score the model.\n",
    "\n",
    "Build 2 models by working with two distinct labels:\n",
    "\n",
    "- One (your pick) that is correlated with other features\n",
    "- **precipitation** amount as the label (less correlated).\n",
    "\n",
    "Make sure not to learn a model by heart (overfit) by employing techniques employed and documented in this notebook. With your final models, *explain* (interpret) the model: If you were to give another human instructions for how to predict, what `if-then-else` *instructions* would you give them?\n",
    "\n",
    "The goal of this homework is two-fold:\n",
    "- To get you to work on decision trees and become more familiar with its algorithms and techniques.\n",
    "- To familliarize yourself with our research dataset that you will use for your final project.\n",
    "\n",
    ">**Rubrik**: Your homework will not be graded based on how well you predict, we already know that when the dataset is predictable with *if-then-else* considerations (i.e. information entropy considerations), decision trees and random forests can do a pretty good job. By the same token, some datasets may *not* be predictable due to missing information. Instead, try to make your model *small* relative to the number of features and its hyperparameters. Think about it as how *explainable* your model is (what model do you think it better: (*turn right*, or \"*turn left, then left again, and finally another left*?. Overfit and that's bad. Underfitting is better than overfitting.\n",
    "\n",
    "For your homework, focus on *meteorological data* for *Traverse City*, for 2012 (`MI-14850-2011Fall-2012Spring.csv`)."
   ]
  },
  {
   "cell_type": "markdown",
   "metadata": {},
   "source": [
    "# Research dataset\n",
    "Instead of working on a toy dataset like UCI Mushrooms, we are going to work throughout the semester applying ML algorithms to see if we can predict [Lake Effect Precipitation](https://en.wikipedia.org/wiki/Lake-effect_snow) in Chicago. I've been working on this dataset with a Master's thesis student, and you can find the data and the processing notebooks [here](https://derpyhusky.dog/).\n",
    "\n",
    "This what, you can also learn how to **scientific research** based on data science and Machine Learning.\n",
    "\n",
    "We have satellite and weather station data one these regions of the midwest:\n",
    "\n",
    "<br />\n",
    "<center>\n",
    "<img src = ipynb.images/midwest.png width = 400 />\n",
    "</center>\n",
    "\n",
    "If we combine **satellite data** over Lake Michigan with **weather station data** close to the lakeshore of Lake Michigan, can we reliably predict Lake Effect precipitation 3 days (or less?) in advance? \n",
    "\n",
    "For Traverse City, MI, you can get the meteorological data and 1-D Lake Michigan satellite data as a single CSV file:\n",
    "[meteo + satellite Traverse City](https://northeastern-my.sharepoint.com/:x:/g/personal/zhang_noc_northeastern_edu/EdD22Naww89Or-2SYfyuIFsBwWyNcYq0K_Fxba_d8b7_DA?e=YwSrh8)\n",
    "\n",
    "If you would like to only access meteorological data, use this link: [meteo Traverse City](https://northeastern-my.sharepoint.com/:u:/g/personal/zhang_noc_northeastern_edu/ERq4oLWgLB9Btxz4r-eVxn0BhaqrhpUhm7UtTOLIkf4amg?e=TYFfQu)\n",
    "\n",
    "The data and its processing is [here](https://derpyhusky.dog/)\n",
    "```\n",
    "Username: info6106student\n",
    "Password: !nfo_$hsare\n",
    "```"
   ]
  },
  {
   "cell_type": "markdown",
   "metadata": {},
   "source": [
    "# References\n",
    "- [Decision Tree Learning](http://gieseanw.wordpress.com/2012/03/03/decision-tree-learning/).\n",
    "- [Decision Trees with sklearn](https://scikit-learn.org/stable/modules/tree.html).\n",
    "- [Gradient tree boosting](https://en.wikipedia.org/wiki/Gradient_boosting#Gradient_tree_boosting): [XGBoost](https://xgboost.readthedocs.io/en/stable/) implementation\n",
    "- [ExtraTrees](https://en.wikipedia.org/wiki/Random_forest#ExtraTrees): [sklearn.ensemble.ExtraTreesClassifier](https://scikit-learn.org/stable/modules/generated/sklearn.ensemble.ExtraTreesClassifier.html) implementation\n",
    "\n",
    "- [What is a Lake Effect Snow? - National Weather Service](https://www.weather.gov/safety/winter-lake-effect-snow)\n",
    "- [SciJinks Lake Effect Snow](https://scijinks.gov/lake-snow/)"
   ]
  }
 ],
 "metadata": {
  "kernelspec": {
   "display_name": "Python 3 (ipykernel)",
   "language": "python",
   "name": "python3"
  },
  "language_info": {
   "codemirror_mode": {
    "name": "ipython",
    "version": 3
   },
   "file_extension": ".py",
   "mimetype": "text/x-python",
   "name": "python",
   "nbconvert_exporter": "python",
   "pygments_lexer": "ipython3",
   "version": "3.11.5"
  }
 },
 "nbformat": 4,
 "nbformat_minor": 1
}
