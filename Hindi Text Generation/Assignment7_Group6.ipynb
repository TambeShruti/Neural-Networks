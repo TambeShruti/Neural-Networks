{
 "cells": [
  {
   "cell_type": "markdown",
   "id": "58cb421e",
   "metadata": {
    "id": "58cb421e"
   },
   "source": [
    "# Assignment 07 : Team 06\n",
    "\n",
    "#### Rishabh Indoria\n",
    "#### Shruti Tambe\n",
    "#### Hitesh Pant\n",
    "\n",
    "\n",
    "# Problem Statement\n",
    "\n",
    "To design a chatbot"
   ]
  },
  {
   "cell_type": "code",
   "execution_count": 1,
   "id": "918874fc",
   "metadata": {
    "id": "918874fc"
   },
   "outputs": [],
   "source": [
    "# Importing necessary Libraries\n",
    "\n",
    "import csv\n",
    "import itertools\n",
    "import operator\n",
    "import numpy as np\n",
    "import nltk\n",
    "import sys\n",
    "from datetime import datetime\n",
    "import string\n",
    "\n",
    "import matplotlib.pyplot as plt\n",
    "%matplotlib inline"
   ]
  },
  {
   "cell_type": "code",
   "execution_count": 2,
   "id": "944c2fd5",
   "metadata": {
    "colab": {
     "base_uri": "https://localhost:8080/"
    },
    "id": "944c2fd5",
    "outputId": "3f692ad3-949a-44d3-f592-59b5974addcf"
   },
   "outputs": [
    {
     "name": "stderr",
     "output_type": "stream",
     "text": [
      "[nltk_data] Downloading collection 'book'\n",
      "[nltk_data]    | \n",
      "[nltk_data]    | Downloading package abc to\n",
      "[nltk_data]    |     /Users/shrutitambe/nltk_data...\n",
      "[nltk_data]    |   Package abc is already up-to-date!\n",
      "[nltk_data]    | Downloading package brown to\n",
      "[nltk_data]    |     /Users/shrutitambe/nltk_data...\n",
      "[nltk_data]    |   Package brown is already up-to-date!\n",
      "[nltk_data]    | Downloading package chat80 to\n",
      "[nltk_data]    |     /Users/shrutitambe/nltk_data...\n",
      "[nltk_data]    |   Package chat80 is already up-to-date!\n",
      "[nltk_data]    | Downloading package cmudict to\n",
      "[nltk_data]    |     /Users/shrutitambe/nltk_data...\n",
      "[nltk_data]    |   Package cmudict is already up-to-date!\n",
      "[nltk_data]    | Downloading package conll2000 to\n",
      "[nltk_data]    |     /Users/shrutitambe/nltk_data...\n",
      "[nltk_data]    |   Package conll2000 is already up-to-date!\n",
      "[nltk_data]    | Downloading package conll2002 to\n",
      "[nltk_data]    |     /Users/shrutitambe/nltk_data...\n",
      "[nltk_data]    |   Package conll2002 is already up-to-date!\n",
      "[nltk_data]    | Downloading package dependency_treebank to\n",
      "[nltk_data]    |     /Users/shrutitambe/nltk_data...\n",
      "[nltk_data]    |   Package dependency_treebank is already up-to-date!\n",
      "[nltk_data]    | Downloading package genesis to\n",
      "[nltk_data]    |     /Users/shrutitambe/nltk_data...\n",
      "[nltk_data]    |   Package genesis is already up-to-date!\n",
      "[nltk_data]    | Downloading package gutenberg to\n",
      "[nltk_data]    |     /Users/shrutitambe/nltk_data...\n",
      "[nltk_data]    |   Package gutenberg is already up-to-date!\n",
      "[nltk_data]    | Downloading package ieer to\n",
      "[nltk_data]    |     /Users/shrutitambe/nltk_data...\n",
      "[nltk_data]    |   Package ieer is already up-to-date!\n",
      "[nltk_data]    | Downloading package inaugural to\n",
      "[nltk_data]    |     /Users/shrutitambe/nltk_data...\n",
      "[nltk_data]    |   Package inaugural is already up-to-date!\n",
      "[nltk_data]    | Downloading package movie_reviews to\n",
      "[nltk_data]    |     /Users/shrutitambe/nltk_data...\n",
      "[nltk_data]    |   Package movie_reviews is already up-to-date!\n",
      "[nltk_data]    | Downloading package nps_chat to\n",
      "[nltk_data]    |     /Users/shrutitambe/nltk_data...\n",
      "[nltk_data]    |   Package nps_chat is already up-to-date!\n",
      "[nltk_data]    | Downloading package names to\n",
      "[nltk_data]    |     /Users/shrutitambe/nltk_data...\n",
      "[nltk_data]    |   Package names is already up-to-date!\n",
      "[nltk_data]    | Downloading package ppattach to\n",
      "[nltk_data]    |     /Users/shrutitambe/nltk_data...\n",
      "[nltk_data]    |   Package ppattach is already up-to-date!\n",
      "[nltk_data]    | Downloading package reuters to\n",
      "[nltk_data]    |     /Users/shrutitambe/nltk_data...\n",
      "[nltk_data]    |   Package reuters is already up-to-date!\n",
      "[nltk_data]    | Downloading package senseval to\n",
      "[nltk_data]    |     /Users/shrutitambe/nltk_data...\n",
      "[nltk_data]    |   Package senseval is already up-to-date!\n",
      "[nltk_data]    | Downloading package state_union to\n",
      "[nltk_data]    |     /Users/shrutitambe/nltk_data...\n",
      "[nltk_data]    |   Package state_union is already up-to-date!\n",
      "[nltk_data]    | Downloading package stopwords to\n",
      "[nltk_data]    |     /Users/shrutitambe/nltk_data...\n",
      "[nltk_data]    |   Package stopwords is already up-to-date!\n",
      "[nltk_data]    | Downloading package swadesh to\n",
      "[nltk_data]    |     /Users/shrutitambe/nltk_data...\n",
      "[nltk_data]    |   Package swadesh is already up-to-date!\n",
      "[nltk_data]    | Downloading package timit to\n",
      "[nltk_data]    |     /Users/shrutitambe/nltk_data...\n",
      "[nltk_data]    |   Package timit is already up-to-date!\n",
      "[nltk_data]    | Downloading package treebank to\n",
      "[nltk_data]    |     /Users/shrutitambe/nltk_data...\n",
      "[nltk_data]    |   Package treebank is already up-to-date!\n",
      "[nltk_data]    | Downloading package toolbox to\n",
      "[nltk_data]    |     /Users/shrutitambe/nltk_data...\n",
      "[nltk_data]    |   Package toolbox is already up-to-date!\n",
      "[nltk_data]    | Downloading package udhr to\n",
      "[nltk_data]    |     /Users/shrutitambe/nltk_data...\n",
      "[nltk_data]    |   Package udhr is already up-to-date!\n",
      "[nltk_data]    | Downloading package udhr2 to\n",
      "[nltk_data]    |     /Users/shrutitambe/nltk_data...\n",
      "[nltk_data]    |   Package udhr2 is already up-to-date!\n",
      "[nltk_data]    | Downloading package unicode_samples to\n",
      "[nltk_data]    |     /Users/shrutitambe/nltk_data...\n",
      "[nltk_data]    |   Package unicode_samples is already up-to-date!\n",
      "[nltk_data]    | Downloading package webtext to\n",
      "[nltk_data]    |     /Users/shrutitambe/nltk_data...\n",
      "[nltk_data]    |   Package webtext is already up-to-date!\n",
      "[nltk_data]    | Downloading package wordnet to\n",
      "[nltk_data]    |     /Users/shrutitambe/nltk_data...\n",
      "[nltk_data]    |   Package wordnet is already up-to-date!\n",
      "[nltk_data]    | Downloading package wordnet_ic to\n",
      "[nltk_data]    |     /Users/shrutitambe/nltk_data...\n",
      "[nltk_data]    |   Package wordnet_ic is already up-to-date!\n",
      "[nltk_data]    | Downloading package words to\n",
      "[nltk_data]    |     /Users/shrutitambe/nltk_data...\n",
      "[nltk_data]    |   Package words is already up-to-date!\n",
      "[nltk_data]    | Downloading package maxent_treebank_pos_tagger to\n",
      "[nltk_data]    |     /Users/shrutitambe/nltk_data...\n",
      "[nltk_data]    |   Package maxent_treebank_pos_tagger is already up-\n",
      "[nltk_data]    |       to-date!\n",
      "[nltk_data]    | Downloading package maxent_ne_chunker to\n",
      "[nltk_data]    |     /Users/shrutitambe/nltk_data...\n",
      "[nltk_data]    |   Package maxent_ne_chunker is already up-to-date!\n",
      "[nltk_data]    | Downloading package universal_tagset to\n",
      "[nltk_data]    |     /Users/shrutitambe/nltk_data...\n",
      "[nltk_data]    |   Package universal_tagset is already up-to-date!\n",
      "[nltk_data]    | Downloading package punkt to\n",
      "[nltk_data]    |     /Users/shrutitambe/nltk_data...\n",
      "[nltk_data]    |   Package punkt is already up-to-date!\n",
      "[nltk_data]    | Downloading package book_grammars to\n",
      "[nltk_data]    |     /Users/shrutitambe/nltk_data...\n",
      "[nltk_data]    |   Package book_grammars is already up-to-date!\n",
      "[nltk_data]    | Downloading package city_database to\n",
      "[nltk_data]    |     /Users/shrutitambe/nltk_data...\n",
      "[nltk_data]    |   Package city_database is already up-to-date!\n",
      "[nltk_data]    | Downloading package tagsets to\n",
      "[nltk_data]    |     /Users/shrutitambe/nltk_data...\n",
      "[nltk_data]    |   Package tagsets is already up-to-date!\n",
      "[nltk_data]    | Downloading package panlex_swadesh to\n",
      "[nltk_data]    |     /Users/shrutitambe/nltk_data...\n",
      "[nltk_data]    |   Package panlex_swadesh is already up-to-date!\n",
      "[nltk_data]    | Downloading package averaged_perceptron_tagger to\n",
      "[nltk_data]    |     /Users/shrutitambe/nltk_data...\n",
      "[nltk_data]    |   Package averaged_perceptron_tagger is already up-\n",
      "[nltk_data]    |       to-date!\n",
      "[nltk_data]    | \n",
      "[nltk_data]  Done downloading collection book\n"
     ]
    },
    {
     "data": {
      "text/plain": [
       "True"
      ]
     },
     "execution_count": 2,
     "metadata": {},
     "output_type": "execute_result"
    }
   ],
   "source": [
    "# Download NLTK model data (you need to do this once)\n",
    "nltk.download(\"book\")"
   ]
  },
  {
   "cell_type": "markdown",
   "id": "e4e8841d",
   "metadata": {
    "id": "e4e8841d"
   },
   "source": [
    "Setting up some variables for text processing tasks."
   ]
  },
  {
   "cell_type": "code",
   "execution_count": 3,
   "id": "59ba440d",
   "metadata": {
    "id": "59ba440d"
   },
   "outputs": [],
   "source": [
    "vocabulary_size = 3000 # can be improved by using a larger vocabulary size\n",
    "\n",
    "unknown_token = \"UNKNOWN_TOKEN\" # for words not in vocabulary\n",
    "sentence_start_token = \"START\" # representing start of a sentence\n",
    "sentence_end_token = 'END' # representing end of a sentence"
   ]
  },
  {
   "cell_type": "markdown",
   "id": "94f9ed57",
   "metadata": {
    "id": "94f9ed57"
   },
   "source": [
    "# Preprocessing\n",
    "\n",
    "Using indicnlp library to do natural language processing on Indian languages. In our case, we are using Hindi. We chose indicnlp because it has better tools and resources for working with Indian languages, such as tokenization and transliteration."
   ]
  },
  {
   "cell_type": "code",
   "execution_count": 4,
   "id": "R8pPlBwhgsC4",
   "metadata": {
    "colab": {
     "base_uri": "https://localhost:8080/"
    },
    "id": "R8pPlBwhgsC4",
    "outputId": "ebfbb043-42b2-46cf-8e8e-2871a49e1ffb"
   },
   "outputs": [
    {
     "name": "stdout",
     "output_type": "stream",
     "text": [
      "Requirement already satisfied: indic-nlp-library in /Users/shrutitambe/anaconda3/envs/new_env/lib/python3.8/site-packages (0.92)\n",
      "Requirement already satisfied: sphinx-argparse in /Users/shrutitambe/anaconda3/envs/new_env/lib/python3.8/site-packages (from indic-nlp-library) (0.4.0)\n",
      "Requirement already satisfied: sphinx-rtd-theme in /Users/shrutitambe/anaconda3/envs/new_env/lib/python3.8/site-packages (from indic-nlp-library) (1.3.0)\n",
      "Requirement already satisfied: morfessor in /Users/shrutitambe/anaconda3/envs/new_env/lib/python3.8/site-packages (from indic-nlp-library) (2.0.6)\n",
      "Requirement already satisfied: pandas in /Users/shrutitambe/anaconda3/envs/new_env/lib/python3.8/site-packages (from indic-nlp-library) (2.0.3)\n",
      "Requirement already satisfied: numpy in /Users/shrutitambe/anaconda3/envs/new_env/lib/python3.8/site-packages (from indic-nlp-library) (1.22.1)\n",
      "Requirement already satisfied: python-dateutil>=2.8.2 in /Users/shrutitambe/anaconda3/envs/new_env/lib/python3.8/site-packages (from pandas->indic-nlp-library) (2.8.2)\n",
      "Requirement already satisfied: pytz>=2020.1 in /Users/shrutitambe/anaconda3/envs/new_env/lib/python3.8/site-packages (from pandas->indic-nlp-library) (2023.3.post1)\n",
      "Requirement already satisfied: tzdata>=2022.1 in /Users/shrutitambe/anaconda3/envs/new_env/lib/python3.8/site-packages (from pandas->indic-nlp-library) (2023.3)\n",
      "Requirement already satisfied: sphinx>=1.2.0 in /Users/shrutitambe/anaconda3/envs/new_env/lib/python3.8/site-packages (from sphinx-argparse->indic-nlp-library) (7.1.2)\n",
      "Requirement already satisfied: docutils<0.19 in /Users/shrutitambe/anaconda3/envs/new_env/lib/python3.8/site-packages (from sphinx-rtd-theme->indic-nlp-library) (0.18.1)\n",
      "Requirement already satisfied: sphinxcontrib-jquery<5,>=4 in /Users/shrutitambe/anaconda3/envs/new_env/lib/python3.8/site-packages (from sphinx-rtd-theme->indic-nlp-library) (4.1)\n",
      "Requirement already satisfied: six>=1.5 in /Users/shrutitambe/anaconda3/envs/new_env/lib/python3.8/site-packages (from python-dateutil>=2.8.2->pandas->indic-nlp-library) (1.16.0)\n",
      "Requirement already satisfied: sphinxcontrib-applehelp in /Users/shrutitambe/anaconda3/envs/new_env/lib/python3.8/site-packages (from sphinx>=1.2.0->sphinx-argparse->indic-nlp-library) (1.0.4)\n",
      "Requirement already satisfied: sphinxcontrib-devhelp in /Users/shrutitambe/anaconda3/envs/new_env/lib/python3.8/site-packages (from sphinx>=1.2.0->sphinx-argparse->indic-nlp-library) (1.0.2)\n",
      "Requirement already satisfied: sphinxcontrib-jsmath in /Users/shrutitambe/anaconda3/envs/new_env/lib/python3.8/site-packages (from sphinx>=1.2.0->sphinx-argparse->indic-nlp-library) (1.0.1)\n",
      "Requirement already satisfied: sphinxcontrib-htmlhelp>=2.0.0 in /Users/shrutitambe/anaconda3/envs/new_env/lib/python3.8/site-packages (from sphinx>=1.2.0->sphinx-argparse->indic-nlp-library) (2.0.1)\n",
      "Requirement already satisfied: sphinxcontrib-serializinghtml>=1.1.5 in /Users/shrutitambe/anaconda3/envs/new_env/lib/python3.8/site-packages (from sphinx>=1.2.0->sphinx-argparse->indic-nlp-library) (1.1.5)\n",
      "Requirement already satisfied: sphinxcontrib-qthelp in /Users/shrutitambe/anaconda3/envs/new_env/lib/python3.8/site-packages (from sphinx>=1.2.0->sphinx-argparse->indic-nlp-library) (1.0.3)\n",
      "Requirement already satisfied: Jinja2>=3.0 in /Users/shrutitambe/anaconda3/envs/new_env/lib/python3.8/site-packages (from sphinx>=1.2.0->sphinx-argparse->indic-nlp-library) (3.1.2)\n",
      "Requirement already satisfied: Pygments>=2.13 in /Users/shrutitambe/anaconda3/envs/new_env/lib/python3.8/site-packages (from sphinx>=1.2.0->sphinx-argparse->indic-nlp-library) (2.16.1)\n",
      "Requirement already satisfied: snowballstemmer>=2.0 in /Users/shrutitambe/anaconda3/envs/new_env/lib/python3.8/site-packages (from sphinx>=1.2.0->sphinx-argparse->indic-nlp-library) (2.2.0)\n",
      "Requirement already satisfied: babel>=2.9 in /Users/shrutitambe/anaconda3/envs/new_env/lib/python3.8/site-packages (from sphinx>=1.2.0->sphinx-argparse->indic-nlp-library) (2.13.1)\n",
      "Requirement already satisfied: alabaster<0.8,>=0.7 in /Users/shrutitambe/anaconda3/envs/new_env/lib/python3.8/site-packages (from sphinx>=1.2.0->sphinx-argparse->indic-nlp-library) (0.7.13)\n",
      "Requirement already satisfied: imagesize>=1.3 in /Users/shrutitambe/anaconda3/envs/new_env/lib/python3.8/site-packages (from sphinx>=1.2.0->sphinx-argparse->indic-nlp-library) (1.4.1)\n",
      "Requirement already satisfied: requests>=2.25.0 in /Users/shrutitambe/anaconda3/envs/new_env/lib/python3.8/site-packages (from sphinx>=1.2.0->sphinx-argparse->indic-nlp-library) (2.31.0)\n",
      "Requirement already satisfied: packaging>=21.0 in /Users/shrutitambe/anaconda3/envs/new_env/lib/python3.8/site-packages (from sphinx>=1.2.0->sphinx-argparse->indic-nlp-library) (23.2)\n",
      "Requirement already satisfied: importlib-metadata>=4.8 in /Users/shrutitambe/anaconda3/envs/new_env/lib/python3.8/site-packages (from sphinx>=1.2.0->sphinx-argparse->indic-nlp-library) (6.8.0)\n",
      "Requirement already satisfied: zipp>=0.5 in /Users/shrutitambe/anaconda3/envs/new_env/lib/python3.8/site-packages (from importlib-metadata>=4.8->sphinx>=1.2.0->sphinx-argparse->indic-nlp-library) (3.17.0)\n",
      "Requirement already satisfied: MarkupSafe>=2.0 in /Users/shrutitambe/anaconda3/envs/new_env/lib/python3.8/site-packages (from Jinja2>=3.0->sphinx>=1.2.0->sphinx-argparse->indic-nlp-library) (2.1.1)\n",
      "Requirement already satisfied: charset-normalizer<4,>=2 in /Users/shrutitambe/anaconda3/envs/new_env/lib/python3.8/site-packages (from requests>=2.25.0->sphinx>=1.2.0->sphinx-argparse->indic-nlp-library) (3.3.0)\n",
      "Requirement already satisfied: idna<4,>=2.5 in /Users/shrutitambe/anaconda3/envs/new_env/lib/python3.8/site-packages (from requests>=2.25.0->sphinx>=1.2.0->sphinx-argparse->indic-nlp-library) (3.4)\n",
      "Requirement already satisfied: urllib3<3,>=1.21.1 in /Users/shrutitambe/anaconda3/envs/new_env/lib/python3.8/site-packages (from requests>=2.25.0->sphinx>=1.2.0->sphinx-argparse->indic-nlp-library) (2.0.6)\n",
      "Requirement already satisfied: certifi>=2017.4.17 in /Users/shrutitambe/anaconda3/envs/new_env/lib/python3.8/site-packages (from requests>=2.25.0->sphinx>=1.2.0->sphinx-argparse->indic-nlp-library) (2023.7.22)\n"
     ]
    }
   ],
   "source": [
    "!pip install indic-nlp-library"
   ]
  },
  {
   "cell_type": "code",
   "execution_count": 5,
   "id": "943d07d0",
   "metadata": {
    "id": "943d07d0"
   },
   "outputs": [],
   "source": [
    "import indicnlp"
   ]
  },
  {
   "cell_type": "markdown",
   "id": "dce318af",
   "metadata": {
    "id": "dce318af"
   },
   "source": [
    "Splitting a Hindi text file into sentences using the indicnlp library."
   ]
  },
  {
   "cell_type": "code",
   "execution_count": 6,
   "id": "77992fd6",
   "metadata": {
    "id": "77992fd6"
   },
   "outputs": [],
   "source": [
    "from indicnlp.tokenize import sentence_tokenize, indic_tokenize\n",
    "import string\n",
    "with open(r\"thoughts\", 'r', encoding=\"utf-8\") as f:\n",
    "    content = f.read()\n",
    "# Tokenize the conversation into sentences\n",
    "text = content.strip()\n",
    "text = text.replace(\"\\n\",\" \")\n",
    "text = ''.join([char for char in text if char not in string.punctuation and not char.isdigit()])\n",
    "sentences = sentence_tokenize.sentence_split(text, lang='hi')"
   ]
  },
  {
   "cell_type": "markdown",
   "id": "131fbf9c",
   "metadata": {
    "id": "131fbf9c"
   },
   "source": [
    "The text we took as our dataset look someting like this :"
   ]
  },
  {
   "cell_type": "code",
   "execution_count": 7,
   "id": "33350b11",
   "metadata": {
    "colab": {
     "base_uri": "https://localhost:8080/",
     "height": 137
    },
    "id": "33350b11",
    "outputId": "8451c220-a4d7-4658-ed7a-7ff688801d1e"
   },
   "outputs": [
    {
     "data": {
      "text/plain": [
       "'अपने भीतर मुड़ना ही एकमात्र समाधान हैसद्गुरु की नवीनतम पुस्तक ‘इनर इंजीनरिंग’ से लिए गए इस अंश में सद्गुरु हमें स्थायी रूप से खुशहाली का अनुभव करने के एकमात्र तरीके से परिचित कराते हैं। सद्गुरु आपने अपनी जिंदगी में अब तक हर चीज बस एक चीज की तलाश में की है। चाहे आपने बेहतर करियर खोजा हो कारोबार शुरू किया हो पैसे कमाए हों या फिर परिवार को पालापोसा हो यह सब आपने इसलिए किया क्योंकि आप बस एक साधारण सी चीज चाहते थेः खुशी। लेकिन रास्ते में कहीं न कहीं जीवन उलझ गया।   अगर आप इस धरती पर किसी दूसरे जीव के रूप में पैदा हुए होते तो वह बहुत सरल होता। आपकी जरूरतें सिर्फ शारीरिक होतीं। पेट भर खाना मिल जाए तो वह एक बहुत शानदार दिन कहलाता। अपने कुत्ते या अपनी बिल्ली पर गौर कीजिएः जिस पल उनका पेट भर जाता है वे काफी शांतिमय होते हैं।   लेकिन जब आप इस दुनिया में एक इंसान के रूप में आते हैं तो चीजें बदल जाती हैं। खाली पेट की एक ही समस्या हैः भूख। लेकिन अगर पेट भरा हुआ हो तो सैकड़ों समस्याएं हैं जब सवाल हमारे जीवनसंरक्षण का होता है तो वह हमारे जीवन का एक बड़ा मुद्दा होता है। लेकिन जिस पल इस मुद्दे का ख्याल रख लिया जाए तो उसके कोई मायने नहीं लगते। किसी कारण से एक इंसान के लिए जीवन बस जीवनसंरक्षण पर खत्म नहीं होता है जीवनसंरक्षण से जीवन शुरू होता है।   आज लोगों की एक पीढ़ी के रूप में हमारी जीवनसंरक्षण प्रक्रिया पहले से कहीं बेहतर नियोजित है। आप एक सुपरमार्केट जाकर अपनी पूरे साल की जरूरतों की चीजें खरीद सकते हैं। आप घर से निकले बिना भी यह काम कर सकते हैं मानव इतिहास में इससे पहले यह कभी संभव नहीं था। सौ साल पहले जो चीजें राजामहाराजा भी नहीं कर सकते थे आज आम नागरिक की पहुंच में हैं। हम इस धरती पर रहने वाली अब तक की सबसे आरामदेह पीढ़ी हैं। हमने बाहरी माहौल को ठीक करने के लिए अपनी ओर से बेहतरीन कोशिश की है। अगर हम इसे और ज्यादा ठीक करते हैं तो धरती ही नहीं बचेगी लेकिन हम निश्चित रूप से यह नहीं कह सकते कि हम अपने पुरखों से ज्यादा खुश ज्यादा प्रेममय या ज्यादा शांत हैं।   ऐसा क्यों है अगर यह काम नहीं कर रहा है तो क्या यह देखने का समय नहीं है कि क्या गलत है हम कोई ऐसी चीज करते रहना कैसे जारी रख सकते हैं जिसने हजार साल से काम नहीं किया है हम उन योजनाओं के साथ और कितने समय तक जीने वाले हैं जिन्होंने साफ तौर पर अपना वादा पूरा नहीं किया है  नजरिया बदलने के लिए यही समय है।   खुशहाली क्या है एक ही सवाल से शुरू करते हैं हम खुशहाली किसे मानते हैं   बिलकुल सीधे तौर पर खुशहाली बस अपने भीतर प्रसन्नता की एक गहरी भावना है। अगर आपका शरीर सुखद महसूस करता है तो हम उसे स्वास्थ्य कहते हैं। अगर वह बहुत सुखद बन जाता है तो हम उसे सुख कहते हैं। अगर आपका मन सुखद बनता है तो हम उसे शांति कहते हैं। अगर वह बहुत सुखद बन जाता है तो हम उसे ख़ुशी कहते हैं। अगर आपकी भावना सुखद बनती है तो हम उसे प्रेम कहते हैं अगर वह बहुत सुखद बन जाती है तो हम उसे करुणा कहते हैं। अगर आपकी जीवन ऊर्जाएं सुखद बनती हैं तो हम उसे आनंद कहते हैं। अगर वे बहुत सुखद बन जाती हैं ता हम उसे परमानंद कहते हैं। आप पूरा बस यही खोज रहे हैं भीतर और बाहर की प्रसन्नता। जब प्रसन्नता भीतर होती है तो उसे शांति आनंद या खुशी कहते हैं। जब आपके चारों ओर का माहौल सुखद बन जाता है तो उसे सफलता का नाम दिया जाता है। अगर आपकी इनमें से किसी में भी रुचि नहीं है और आप स्वर्ग जाना चाहते हैं तो आप क्या खोज रहे हैं बस दूसरी दुनिया की सफलता तो मुख्य रूप से सारे मानव अनुभव बदलते स्तरों की प्रसन्नता और अप्रसन्नता से आते हैं।   लेकिन अपने जीवन में आप कितनी बार पूरे दिन भर आनंदमय रहे हैं  बिना एक पल की भी चिंता बेचैनी चिढ़ या तनाव के कितनी बार आप चौबीस घंटे के लिए निरी प्रसन्नता और पूरे आनंद में रहे हैं पिछली बार आपके साथ ऐसा कब हुआ था  हैरानी की बात यह है कि इस धरती पर ज्यादातर लोगों के लिए एक दिन भी ठीक वैसा नहीं बीता है जैसा वे चाहते हैं यकीनन ऐसा कोई भी नहीं है जिसने खुशी शांति या आनंद अनुभव नहीं किया हो लेकिन वह हमेशा अस्थाई होता है। वे उसे कायम नहीं रख पाते। वे वहां पहुंच तो जाते हैं लेकिन फिर गिरते रहते है। और उसके गिरने के लिए कोई भीषण चीज होने की जरूरत नहीं है। सबसे साधारण चीजें लोगों को संतुलन से बाहर फेंक देती हैं और बेतरतीब कर देती हैं।   यह कुछ ऐसा है। आज आप बाहर जाते हैं और कोई आपसे कहता है कि आप दुनिया के सबसे सुंदर व्यक्ति हैं आप सातवें आसमान पर तैरने लगते हैं। लेकिन जब आप घर लौटते हैं और घर के लोग आपको बताते हैं कि आप वाकई कौन हैं हर चीज चकनाचूर हो जाती है  क्या यह जानापहचाना लगता है  आपको अपने भीतर प्रसन्न रहने की जरूरत क्यों है जब आप प्रसन्नता की एक आंतरिक अवस्था में होते हैं तब आप स्वाभाविक रूप से अपने आसपास हर किसी के साथ और हर चीज के साथ मधुर होते हैं। दूसरों के साथ अच्छे होने का निर्देश देने के लिए किसी धर्मग्रंथ या दर्शन की जरूरत नहीं है। जब आप अपने भीतर अच्छा महसूस कर रहे हों तो वह उसका स्वाभाविक परिणाम है। एक शांत समाज और एक आनंदमय दुनिया बनाने के लिए आंतरिक प्रसन्नता एक अचूक बीमा है।  इसके अलावा दुनिया में आपकी सफलता मुख्य रूप से इस पर निर्भर करती है कि आपने शरीर और मन के कौशल का कितने अच्छे से उपयोग किया है। तो सफलता हासिल करने के लिए प्रसन्नता को आपके भीतर एक बुनियादी गुण होना होगा।   सबसे बढ़कर आज इसके पर्याप्त मेडिकल और वैज्ञानिक प्रमाण हैं कि आपका शरीर और मन अपने बेहतरीन स्तर पर तब काम करते हैं जब आप प्रसन्न हों। ऐसा कहा गया है कि अगर आप चौबीस घंटे आनंदमय रह सकते हैं तो आपकी बौद्धिक क्षमताएं लगभग दुगनी हो सकती हैं। बस आंतरिक झमेले को ठिकाने लगाने और स्पष्टता को उजागर होने देने से इसे हासिल किया जा सकता है।   अब वह जीवन ऊर्जा जिसे आप ‘मैं’ कहते हैं वह कभी बहुत प्रसन्न रहती है कभी दुखी कभी शांत और कभी बेचैन रहती है। वही जीवन ऊर्जा उन सब अवस्थाओं में हो सकती है। तो अगर आपके पास एक विकल्प होता कि आपकी जीवन ऊर्जा किस तरह की अभिव्यक्ति पाए तो आप क्या चुनते आनंद या क्लेश प्रसन्नता या अप्रसन्नता   इसका उत्तर स्पष्ट है। इंसानइंसान के बीच तरीके बदल सकते हैं लेकिन चाहे आप पैसा कमाने की कोशिश कर रहे हों शराब पी रहे हों या स्वर्ग जाने की कोशिश कर रहे हों खुशी ही एकमात्र लक्ष्य है। तो कुछ लोग सोचते हैं कि यह शराब में है जबकि दूसरे सोचते हैं कि यह ईश्वर में है लेकिन हर कोई खुशी ही खोज रहा है।   सिर्फ एक चीज जो आपके और आपकी खुशहाली के बीच खड़ी है वह एक साधारण सच्चाई है आपने अपने विचारों और भावनाओं को भीतर के बजाय बाहर से निर्देश लेने दिया है। अपने सपने को वैसा बनाइए जैसा आप चाहते हैं।  किसी दिन एक महिला सोने गई। नींद में उसे एक सपना आया। उसने एक बहुत हृष्टपुष्ट आदमी को अपनी ओर घूरते पाया। फिर वह पास आने लगा  और पास आया और पास।   वह इतना पास था कि वह उसकी सांसों को महसूस कर सकती थी। वह सिहर उठी  डर से नहीं।   फिर उसने पूछा ‘तुम मेरे साथ क्या करोगे’ आदमी बोला ‘वैसे मैडम यह आपका सपना है’  आपके दिमाग में जो चल रहा है वह आपका सपना है। कम से कम आपके सपने को तो आपके मन मुताबिक होना चाहिए क्या नहीं होना चाहिए अगर दुनिया आपके मन मुताबिक नहीं भी चलती है तो कम से कम आपके विचारों और भावनाओं को तो वैसे चलना चाहिए जैसे आप चाहते हैं। अभी ये आपसे निर्देश नहीं ले रहे हैं क्योंकि आप पूरी मानवीय प्रणाली को संयोग से संभाल रहे हैं।  मानवीय प्रणाली धरती पर सबसे परिष्कृत भौतिक रूप है। आप टेक्नॉलजी की सबसे शानदार मिसाल हैं लेकिन समस्या यह है कि आप नहीं जानते कि कीबोर्ड कहां है। परिणाम स्वरूप एक सरल जीवन प्रक्रिया मानवता को परेशान कर रही है। बस आजीविका कमाना बच्चे पैदा करना परिवार को चलाना और फिर एक दिन मर जाना  कितनी बड़ी चुनौती है यह कितने अचरज की बात है कि जो चीज हर कीड़ा कीट पशु पक्षी बड़ी सहजता से करता है बस उसे करने में इंसान कितना संघर्ष करते हैं।   सीधेसीधे कहें तो हमारा आंतरिक पर्यावरण एक झमेला है। किसी तरह हम सोचते हैं कि बाहरी हालात को ठीक करने से भीतर की हर चीज ठीक हो जाएगी। लेकिन ये पिछले  साल प्रमाण हैं कि टेक्नॉलजी हमारे लिए सिर्फ आराम और सुविधाएं लाएगी खुशहाली नहीं। हमें यह समझने की जरूरत है कि जब तक हम सही चीजें नहीं करते तब तक हमारे साथ सही चीजें नहीं होंगी यह सिर्फ बाहरी दुनिया के साथ सच नहीं है बल्कि भीतरी दुनिया के साथ भी है।  खुद को मूर्ख मत बनाएं।  किसी दिन एक बैल और एक तीतर खेत में थे। बैल घास चर रहा था और तीतर बैल के शरीर पर चिपकी किलनी खा रहा था  एक बढ़िया साझेदारी। खेत के किनारे पर एक बड़े पेड़ को देखकर तीतर ने कहा ‘आह एक समय था जब मैं उस पेड़ की सबसे ऊंची डाल तक उड़ सकता था। अब मेरे पंख में इतनी ताकत भी नहीं है कि मैं पहली डाल तक पहुंच सकूं।’  बैल ने निर्लिप्त भाव से कहा ‘हर दिन बस मेरा थोड़ा गोबर खाओ और फिर देखो कि क्या होता है। दो सप्ताह में ही तुम सबसे ऊपर पहुंच जाओगे।’  तीतर ने कहा ‘अरे छोड़ो भी यह कैसी बकवास है। ये बेकार की बात है’  बैल ने कहा ‘आजमाकर देखो। पूरी मानवता इसी के बल पर है।’   बहुत हिचकते हुए तीतर ने गोबर खाना शुरू किया। और पहले ही दिन वह पहली डाल तक पहुंच गया। एक पखवाड़े में वह सबसे ऊंची डाल तक पहुंच गया था। वह वहां बैठकर बस दृष्य का आनंद लेने लगा।   एक बूढ़ा किसान अपनी झूलने वाली कुर्सी पर झूल रहा था उसने इस मोटे बूढ़े तीतर को देखा अपनी बंदूक निकाली और तीतर को मारकर गिरा दिया।   कहानी की सीख मूर्खतापूर्ण चीज़ें बुलशिट आपको ऊंचाई पर ले जा तो सकती है लेकिन वे कभी आपको वहां टिकने नहीं देतीं   आप खुद को हर किस्म की व्यर्थ की भावनात्मक अवस्थाओं में ले जा सकते हैं आप खुद के लिए किसी तरह कुछ खुशहाली जुटा सकते हैं लेकिन समस्या यह है कि यह टिकती नहीं है। मौसम इसे नीचे ला सकता है। स्टॉक मार्केट इसे चकनाचूर कर सकता है। और अगर यह ढेर नहीं भी होती तो इस अपेक्षा में जीना कि ऐसा हो सकता है काफी बुरा है जब तक आपका आंतरिक जीवन बाहरी स्थितियों का गुलाम है वह अनिश्चित हालत में रहेगा। होने का कोई दूसरा तरीका नहीं है।   फिर बाहर निकलने का रास्ता क्या है   एक मूलभूत परिवर्तन    दिशा में एक बहुत सरल बदलाव ही बाहर निकलने का रास्ता है। आपको बस यह देखने की जरूरत है कि आपके अनुभव का स्रोत और आधार आपके भीतर है। मानव अनुभव को बाहरी स्थितियों से उकसाया या प्रेरित किया जा सकता है लेकिन स्रोत भीतर ही है। पीड़ा या सुख आनंद या क्लेश वेदना या परमानंद सिर्फ आपके भीतर होते हैं। इंसान की नादानी यह है कि लोग हमेशा आनंद को बाहर से हासिल करने की कोशिश कर रहे हैं। आप बाहर को एक उत्प्रेरक या उकसाव के रूप में इस्तेमाल कर सकते हैं लेकिन असली चीज हमेशा भीतर से आती है।   अभी आप इसे पढ़ रहे हैं। आप इस लिखावट को कहां देखते हैं अपनी उंगली से इशारा कीजिए कि आप उसे कहां देख रहे हैं क्या आपको लगता है कि प्रतिबिंब आपके बाहर है   फिर से सोचिए।  क्या आपको याद है कि यह कैसे काम करता है वस्तु पर प्रकाश गिर रहा है परावर्तित हो रहा है आपकी आंखों के लेंस से अंदर जा रहा है और आपकी रेटिना पर एक उल्टी छवि बना रहा है  आप पूरी कहानी जानते हैं। तो असल में आप वस्तु को अपने भीतर देख रहे हैं।   आप पूरी दुनिया कहां देखते हैं   फिर से अपने ही भीतर।   हर चीज जो आपके साथ कभी हुई है आपने उसे ठीक अपने भीतर अनुभव किया है। रोशनी या अंधेरा पीड़ा या सुख वेदना या परमानंद  ये सभी आपके भीतर हुए हैं। अगर कोई अभी आपका हाथ छूता है आपको लग सकता है कि आप उसके हाथ को अनुभव कर रहे हैं लेकिन सच्चाई यह है कि आप अपने ही हाथ में उस संवेदना को अनुभव कर रहे हैं। पूरा अनुभव भीतर सीमित है। सारे इंसानी अनुभव सौ प्रतिशत स्वनिर्मित होते हैं।   अगर आपके विचार और भावनाएं आपकी बनाई हुई हों तो आप उन्हें मनचाहे तरीके से गढ़ सकते हैं। आज इस बात का वैज्ञानिक प्रमाण है कि अल्कोहल की एक बूंद का सेवन किए बिना भी आप स्वयं से पूरी तरह मदहोश बन सकते हैं। एक इज़रायल के वैज्ञानिक राफेल मैकोलम और उसके शोध दल ने एक परियोजना शुरु की जिसमें आखिरकार मानव सिस्टम में एक ‘आनंद अणु’ को प्रथक किया गया। साधारण शब्दों में उन्होंने खोजा कि मानव मस्तिष्क में भांग की स्वाभाविक ग्राही कोशिकाएं होती हैं। ऐसा क्यों है उन्होंने पाया कि ऐसा इसलिए है क्योंकि शरीर स्वयं का मादक पदार्थ बनाने में सक्षम है। बिना किसी बाहरी उत्प्रेरक के यह अपना ही आनंद पैदा कर सकता है  और वह भी बिना किसी खुमारी के  संस्कृत शब्द आनंद के आधार पर इस विशेष केमिकल को ‘आनंदामाइड’ नाम दिया गया है। इससे हम निष्कर्ष निकाल सकते हैं कि खुशी बस एक खास तरह की केमेस्ट्री रासायनिकता है। शांति एक दूसरे तरह की केमेस्ट्री है। असल में हमारे द्वारा अनुभव की गई हर किस्म की प्रसन्नता के लिए  चाहे वह शांति या आनंद या परमानंद हो  एक खास किस्म की केमेस्ट्री है। योग प्रणाली को यह हमेशा से पता था।   आंतरिक खुशहाली के लिए  आनंदमय अस्तित्व के लिए एक केमिकल आधार पैदा करने के लिए  एक टेक्नॉलजी मौजूद है। मैं जिसे ‘इनर इंजीनरिंग’ कहता हूँ यह उसका एक आयाम है। अगर आप जागरूक हैं तो आप अपने सिस्टम को इस तरह सक्रिय कर सकते हैं कि साधारण सांस लेना ही जबरदस्त सुख होता है। इसके लिए बस आंतरिक प्रणाली पर थोड़ा ध्यान देने का इच्छुक होना होगा।   समझ में इस बुनियादी बदलाव को लाना होगा। क्लेश से बाहर आने का तरीका मत खोजिए। पीड़ा से बाहर निकलने का रास्ता मत खोजिए। सिर्फ एक ही रास्ता है  और वह भीतर है।'"
      ]
     },
     "execution_count": 7,
     "metadata": {},
     "output_type": "execute_result"
    }
   ],
   "source": [
    "text"
   ]
  },
  {
   "cell_type": "markdown",
   "id": "f29eb8be",
   "metadata": {
    "id": "f29eb8be"
   },
   "source": [
    "This code will make a list of sentences, each with start and end tokens added. This is a helpful step in creating new text."
   ]
  },
  {
   "cell_type": "code",
   "execution_count": 8,
   "id": "024fe185",
   "metadata": {
    "id": "024fe185"
   },
   "outputs": [],
   "source": [
    "append_start_token = [sentence_start_token + ' ' + x + ' ' + sentence_end_token for x in sentences ]"
   ]
  },
  {
   "cell_type": "code",
   "execution_count": 9,
   "id": "c8167a9d",
   "metadata": {
    "colab": {
     "base_uri": "https://localhost:8080/"
    },
    "id": "c8167a9d",
    "outputId": "87286823-d0d9-48a4-e8d9-009f10d2178b"
   },
   "outputs": [
    {
     "data": {
      "text/plain": [
       "['START अपने भीतर मुड़ना ही एकमात्र समाधान हैसद्गुरु की नवीनतम पुस्तक ‘इनर इंजीनरिंग’ से लिए गए इस अंश में सद्गुरु हमें स्थायी रूप से खुशहाली का अनुभव करने के एकमात्र तरीके से परिचित कराते हैं। END',\n",
       " 'START सद्गुरु आपने अपनी जिंदगी में अब तक हर चीज बस एक चीज की तलाश में की है। END',\n",
       " 'START चाहे आपने बेहतर करियर खोजा हो कारोबार शुरू किया हो पैसे कमाए हों या फिर परिवार को पालापोसा हो यह सब आपने इसलिए किया क्योंकि आप बस एक साधारण सी चीज चाहते थेः खुशी। END',\n",
       " 'START लेकिन रास्ते में कहीं न कहीं जीवन उलझ गया। END',\n",
       " 'START अगर आप इस धरती पर किसी दूसरे जीव के रूप में पैदा हुए होते तो वह बहुत सरल होता। END',\n",
       " 'START आपकी जरूरतें सिर्फ शारीरिक होतीं। END',\n",
       " 'START पेट भर खाना मिल जाए तो वह एक बहुत शानदार दिन कहलाता। END',\n",
       " 'START अपने कुत्ते या अपनी बिल्ली पर गौर कीजिएः जिस पल उनका पेट भर जाता है वे काफी शांतिमय होते हैं। END',\n",
       " 'START लेकिन जब आप इस दुनिया में एक इंसान के रूप में आते हैं तो चीजें बदल जाती हैं। END',\n",
       " 'START खाली पेट की एक ही समस्या हैः भूख। END',\n",
       " 'START लेकिन अगर पेट भरा हुआ हो तो सैकड़ों समस्याएं हैं जब सवाल हमारे जीवनसंरक्षण का होता है तो वह हमारे जीवन का एक बड़ा मुद्दा होता है। END',\n",
       " 'START लेकिन जिस पल इस मुद्दे का ख्याल रख लिया जाए तो उसके कोई मायने नहीं लगते। END',\n",
       " 'START किसी कारण से एक इंसान के लिए जीवन बस जीवनसंरक्षण पर खत्म नहीं होता है जीवनसंरक्षण से जीवन शुरू होता है। END',\n",
       " 'START आज लोगों की एक पीढ़ी के रूप में हमारी जीवनसंरक्षण प्रक्रिया पहले से कहीं बेहतर नियोजित है। END',\n",
       " 'START आप एक सुपरमार्केट जाकर अपनी पूरे साल की जरूरतों की चीजें खरीद सकते हैं। END',\n",
       " 'START आप घर से निकले बिना भी यह काम कर सकते हैं मानव इतिहास में इससे पहले यह कभी संभव नहीं था। END',\n",
       " 'START सौ साल पहले जो चीजें राजामहाराजा भी नहीं कर सकते थे आज आम नागरिक की पहुंच में हैं। END',\n",
       " 'START हम इस धरती पर रहने वाली अब तक की सबसे आरामदेह पीढ़ी हैं। END',\n",
       " 'START हमने बाहरी माहौल को ठीक करने के लिए अपनी ओर से बेहतरीन कोशिश की है। END',\n",
       " 'START अगर हम इसे और ज्यादा ठीक करते हैं तो धरती ही नहीं बचेगी लेकिन हम निश्चित रूप से यह नहीं कह सकते कि हम अपने पुरखों से ज्यादा खुश ज्यादा प्रेममय या ज्यादा शांत हैं। END',\n",
       " 'START ऐसा क्यों है अगर यह काम नहीं कर रहा है तो क्या यह देखने का समय नहीं है कि क्या गलत है हम कोई ऐसी चीज करते रहना कैसे जारी रख सकते हैं जिसने हजार साल से काम नहीं किया है हम उन योजनाओं के साथ और कितने समय तक जीने वाले हैं जिन्होंने साफ तौर पर अपना वादा पूरा नहीं किया है  नजरिया बदलने के लिए यही समय है। END',\n",
       " 'START खुशहाली क्या है एक ही सवाल से शुरू करते हैं हम खुशहाली किसे मानते हैं   बिलकुल सीधे तौर पर खुशहाली बस अपने भीतर प्रसन्नता की एक गहरी भावना है। END',\n",
       " 'START अगर आपका शरीर सुखद महसूस करता है तो हम उसे स्वास्थ्य कहते हैं। END',\n",
       " 'START अगर वह बहुत सुखद बन जाता है तो हम उसे सुख कहते हैं। END',\n",
       " 'START अगर आपका मन सुखद बनता है तो हम उसे शांति कहते हैं। END',\n",
       " 'START अगर वह बहुत सुखद बन जाता है तो हम उसे ख़ुशी कहते हैं। END',\n",
       " 'START अगर आपकी भावना सुखद बनती है तो हम उसे प्रेम कहते हैं अगर वह बहुत सुखद बन जाती है तो हम उसे करुणा कहते हैं। END',\n",
       " 'START अगर आपकी जीवन ऊर्जाएं सुखद बनती हैं तो हम उसे आनंद कहते हैं। END',\n",
       " 'START अगर वे बहुत सुखद बन जाती हैं ता हम उसे परमानंद कहते हैं। END',\n",
       " 'START आप पूरा बस यही खोज रहे हैं भीतर और बाहर की प्रसन्नता। END',\n",
       " 'START जब प्रसन्नता भीतर होती है तो उसे शांति आनंद या खुशी कहते हैं। END',\n",
       " 'START जब आपके चारों ओर का माहौल सुखद बन जाता है तो उसे सफलता का नाम दिया जाता है। END',\n",
       " 'START अगर आपकी इनमें से किसी में भी रुचि नहीं है और आप स्वर्ग जाना चाहते हैं तो आप क्या खोज रहे हैं बस दूसरी दुनिया की सफलता तो मुख्य रूप से सारे मानव अनुभव बदलते स्तरों की प्रसन्नता और अप्रसन्नता से आते हैं। END',\n",
       " 'START लेकिन अपने जीवन में आप कितनी बार पूरे दिन भर आनंदमय रहे हैं  बिना एक पल की भी चिंता बेचैनी चिढ़ या तनाव के कितनी बार आप चौबीस घंटे के लिए निरी प्रसन्नता और पूरे आनंद में रहे हैं पिछली बार आपके साथ ऐसा कब हुआ था  हैरानी की बात यह है कि इस धरती पर ज्यादातर लोगों के लिए एक दिन भी ठीक वैसा नहीं बीता है जैसा वे चाहते हैं यकीनन ऐसा कोई भी नहीं है जिसने खुशी शांति या आनंद अनुभव नहीं किया हो लेकिन वह हमेशा अस्थाई होता है। END',\n",
       " 'START वे उसे कायम नहीं रख पाते। END',\n",
       " 'START वे वहां पहुंच तो जाते हैं लेकिन फिर गिरते रहते है। END',\n",
       " 'START और उसके गिरने के लिए कोई भीषण चीज होने की जरूरत नहीं है। END',\n",
       " 'START सबसे साधारण चीजें लोगों को संतुलन से बाहर फेंक देती हैं और बेतरतीब कर देती हैं। END',\n",
       " 'START यह कुछ ऐसा है। END',\n",
       " 'START आज आप बाहर जाते हैं और कोई आपसे कहता है कि आप दुनिया के सबसे सुंदर व्यक्ति हैं आप सातवें आसमान पर तैरने लगते हैं। END',\n",
       " 'START लेकिन जब आप घर लौटते हैं और घर के लोग आपको बताते हैं कि आप वाकई कौन हैं हर चीज चकनाचूर हो जाती है  क्या यह जानापहचाना लगता है  आपको अपने भीतर प्रसन्न रहने की जरूरत क्यों है जब आप प्रसन्नता की एक आंतरिक अवस्था में होते हैं तब आप स्वाभाविक रूप से अपने आसपास हर किसी के साथ और हर चीज के साथ मधुर होते हैं। END',\n",
       " 'START दूसरों के साथ अच्छे होने का निर्देश देने के लिए किसी धर्मग्रंथ या दर्शन की जरूरत नहीं है। END',\n",
       " 'START जब आप अपने भीतर अच्छा महसूस कर रहे हों तो वह उसका स्वाभाविक परिणाम है। END',\n",
       " 'START एक शांत समाज और एक आनंदमय दुनिया बनाने के लिए आंतरिक प्रसन्नता एक अचूक बीमा है। END',\n",
       " 'START इसके अलावा दुनिया में आपकी सफलता मुख्य रूप से इस पर निर्भर करती है कि आपने शरीर और मन के कौशल का कितने अच्छे से उपयोग किया है। END',\n",
       " 'START तो सफलता हासिल करने के लिए प्रसन्नता को आपके भीतर एक बुनियादी गुण होना होगा। END',\n",
       " 'START सबसे बढ़कर आज इसके पर्याप्त मेडिकल और वैज्ञानिक प्रमाण हैं कि आपका शरीर और मन अपने बेहतरीन स्तर पर तब काम करते हैं जब आप प्रसन्न हों। END',\n",
       " 'START ऐसा कहा गया है कि अगर आप चौबीस घंटे आनंदमय रह सकते हैं तो आपकी बौद्धिक क्षमताएं लगभग दुगनी हो सकती हैं। END',\n",
       " 'START बस आंतरिक झमेले को ठिकाने लगाने और स्पष्टता को उजागर होने देने से इसे हासिल किया जा सकता है। END',\n",
       " 'START अब वह जीवन ऊर्जा जिसे आप ‘मैं’ कहते हैं वह कभी बहुत प्रसन्न रहती है कभी दुखी कभी शांत और कभी बेचैन रहती है। END',\n",
       " 'START वही जीवन ऊर्जा उन सब अवस्थाओं में हो सकती है। END',\n",
       " 'START तो अगर आपके पास एक विकल्प होता कि आपकी जीवन ऊर्जा किस तरह की अभिव्यक्ति पाए तो आप क्या चुनते आनंद या क्लेश प्रसन्नता या अप्रसन्नता   इसका उत्तर स्पष्ट है। END',\n",
       " 'START इंसानइंसान के बीच तरीके बदल सकते हैं लेकिन चाहे आप पैसा कमाने की कोशिश कर रहे हों शराब पी रहे हों या स्वर्ग जाने की कोशिश कर रहे हों खुशी ही एकमात्र लक्ष्य है। END',\n",
       " 'START तो कुछ लोग सोचते हैं कि यह शराब में है जबकि दूसरे सोचते हैं कि यह ईश्वर में है लेकिन हर कोई खुशी ही खोज रहा है। END',\n",
       " 'START सिर्फ एक चीज जो आपके और आपकी खुशहाली के बीच खड़ी है वह एक साधारण सच्चाई है आपने अपने विचारों और भावनाओं को भीतर के बजाय बाहर से निर्देश लेने दिया है। END',\n",
       " 'START अपने सपने को वैसा बनाइए जैसा आप चाहते हैं। END',\n",
       " 'START किसी दिन एक महिला सोने गई। END',\n",
       " 'START नींद में उसे एक सपना आया। END',\n",
       " 'START उसने एक बहुत हृष्टपुष्ट आदमी को अपनी ओर घूरते पाया। END',\n",
       " 'START फिर वह पास आने लगा  और पास आया और पास। END',\n",
       " 'START वह इतना पास था कि वह उसकी सांसों को महसूस कर सकती थी। END',\n",
       " 'START वह सिहर उठी  डर से नहीं। END',\n",
       " 'START फिर उसने पूछा ‘तुम मेरे साथ क्या करोगे’ आदमी बोला ‘वैसे मैडम यह आपका सपना है’  आपके दिमाग में जो चल रहा है वह आपका सपना है। END',\n",
       " 'START कम से कम आपके सपने को तो आपके मन मुताबिक होना चाहिए क्या नहीं होना चाहिए अगर दुनिया आपके मन मुताबिक नहीं भी चलती है तो कम से कम आपके विचारों और भावनाओं को तो वैसे चलना चाहिए जैसे आप चाहते हैं। END',\n",
       " 'START अभी ये आपसे निर्देश नहीं ले रहे हैं क्योंकि आप पूरी मानवीय प्रणाली को संयोग से संभाल रहे हैं। END',\n",
       " 'START मानवीय प्रणाली धरती पर सबसे परिष्कृत भौतिक रूप है। END',\n",
       " 'START आप टेक्नॉलजी की सबसे शानदार मिसाल हैं लेकिन समस्या यह है कि आप नहीं जानते कि कीबोर्ड कहां है। END',\n",
       " 'START परिणाम स्वरूप एक सरल जीवन प्रक्रिया मानवता को परेशान कर रही है। END',\n",
       " 'START बस आजीविका कमाना बच्चे पैदा करना परिवार को चलाना और फिर एक दिन मर जाना  कितनी बड़ी चुनौती है यह कितने अचरज की बात है कि जो चीज हर कीड़ा कीट पशु पक्षी बड़ी सहजता से करता है बस उसे करने में इंसान कितना संघर्ष करते हैं। END',\n",
       " 'START सीधेसीधे कहें तो हमारा आंतरिक पर्यावरण एक झमेला है। END',\n",
       " 'START किसी तरह हम सोचते हैं कि बाहरी हालात को ठीक करने से भीतर की हर चीज ठीक हो जाएगी। END',\n",
       " 'START लेकिन ये पिछले  साल प्रमाण हैं कि टेक्नॉलजी हमारे लिए सिर्फ आराम और सुविधाएं लाएगी खुशहाली नहीं। END',\n",
       " 'START हमें यह समझने की जरूरत है कि जब तक हम सही चीजें नहीं करते तब तक हमारे साथ सही चीजें नहीं होंगी यह सिर्फ बाहरी दुनिया के साथ सच नहीं है बल्कि भीतरी दुनिया के साथ भी है। END',\n",
       " 'START खुद को मूर्ख मत बनाएं। END',\n",
       " 'START किसी दिन एक बैल और एक तीतर खेत में थे। END',\n",
       " 'START बैल घास चर रहा था और तीतर बैल के शरीर पर चिपकी किलनी खा रहा था  एक बढ़िया साझेदारी। END',\n",
       " 'START खेत के किनारे पर एक बड़े पेड़ को देखकर तीतर ने कहा ‘आह एक समय था जब मैं उस पेड़ की सबसे ऊंची डाल तक उड़ सकता था। END',\n",
       " 'START अब मेरे पंख में इतनी ताकत भी नहीं है कि मैं पहली डाल तक पहुंच सकूं। END',\n",
       " 'START ’  बैल ने निर्लिप्त भाव से कहा ‘हर दिन बस मेरा थोड़ा गोबर खाओ और फिर देखो कि क्या होता है। END',\n",
       " 'START दो सप्ताह में ही तुम सबसे ऊपर पहुंच जाओगे। END',\n",
       " 'START ’  तीतर ने कहा ‘अरे छोड़ो भी यह कैसी बकवास है। END',\n",
       " 'START ये बेकार की बात है’  बैल ने कहा ‘आजमाकर देखो। END',\n",
       " 'START पूरी मानवता इसी के बल पर है। END',\n",
       " 'START ’   बहुत हिचकते हुए तीतर ने गोबर खाना शुरू किया। END',\n",
       " 'START और पहले ही दिन वह पहली डाल तक पहुंच गया। END',\n",
       " 'START एक पखवाड़े में वह सबसे ऊंची डाल तक पहुंच गया था। END',\n",
       " 'START वह वहां बैठकर बस दृष्य का आनंद लेने लगा। END',\n",
       " 'START एक बूढ़ा किसान अपनी झूलने वाली कुर्सी पर झूल रहा था उसने इस मोटे बूढ़े तीतर को देखा अपनी बंदूक निकाली और तीतर को मारकर गिरा दिया। END',\n",
       " 'START कहानी की सीख मूर्खतापूर्ण चीज़ें बुलशिट आपको ऊंचाई पर ले जा तो सकती है लेकिन वे कभी आपको वहां टिकने नहीं देतीं   आप खुद को हर किस्म की व्यर्थ की भावनात्मक अवस्थाओं में ले जा सकते हैं आप खुद के लिए किसी तरह कुछ खुशहाली जुटा सकते हैं लेकिन समस्या यह है कि यह टिकती नहीं है। END',\n",
       " 'START मौसम इसे नीचे ला सकता है। END',\n",
       " 'START स्टॉक मार्केट इसे चकनाचूर कर सकता है। END',\n",
       " 'START और अगर यह ढेर नहीं भी होती तो इस अपेक्षा में जीना कि ऐसा हो सकता है काफी बुरा है जब तक आपका आंतरिक जीवन बाहरी स्थितियों का गुलाम है वह अनिश्चित हालत में रहेगा। END',\n",
       " 'START होने का कोई दूसरा तरीका नहीं है। END',\n",
       " 'START फिर बाहर निकलने का रास्ता क्या है   एक मूलभूत परिवर्तन    दिशा में एक बहुत सरल बदलाव ही बाहर निकलने का रास्ता है। END',\n",
       " 'START आपको बस यह देखने की जरूरत है कि आपके अनुभव का स्रोत और आधार आपके भीतर है। END',\n",
       " 'START मानव अनुभव को बाहरी स्थितियों से उकसाया या प्रेरित किया जा सकता है लेकिन स्रोत भीतर ही है। END',\n",
       " 'START पीड़ा या सुख आनंद या क्लेश वेदना या परमानंद सिर्फ आपके भीतर होते हैं। END',\n",
       " 'START इंसान की नादानी यह है कि लोग हमेशा आनंद को बाहर से हासिल करने की कोशिश कर रहे हैं। END',\n",
       " 'START आप बाहर को एक उत्प्रेरक या उकसाव के रूप में इस्तेमाल कर सकते हैं लेकिन असली चीज हमेशा भीतर से आती है। END',\n",
       " 'START अभी आप इसे पढ़ रहे हैं। END',\n",
       " 'START आप इस लिखावट को कहां देखते हैं अपनी उंगली से इशारा कीजिए कि आप उसे कहां देख रहे हैं क्या आपको लगता है कि प्रतिबिंब आपके बाहर है   फिर से सोचिए। END',\n",
       " 'START क्या आपको याद है कि यह कैसे काम करता है वस्तु पर प्रकाश गिर रहा है परावर्तित हो रहा है आपकी आंखों के लेंस से अंदर जा रहा है और आपकी रेटिना पर एक उल्टी छवि बना रहा है  आप पूरी कहानी जानते हैं। END',\n",
       " 'START तो असल में आप वस्तु को अपने भीतर देख रहे हैं। END',\n",
       " 'START आप पूरी दुनिया कहां देखते हैं   फिर से अपने ही भीतर। END',\n",
       " 'START हर चीज जो आपके साथ कभी हुई है आपने उसे ठीक अपने भीतर अनुभव किया है। END',\n",
       " 'START रोशनी या अंधेरा पीड़ा या सुख वेदना या परमानंद  ये सभी आपके भीतर हुए हैं। END',\n",
       " 'START अगर कोई अभी आपका हाथ छूता है आपको लग सकता है कि आप उसके हाथ को अनुभव कर रहे हैं लेकिन सच्चाई यह है कि आप अपने ही हाथ में उस संवेदना को अनुभव कर रहे हैं। END',\n",
       " 'START पूरा अनुभव भीतर सीमित है। END',\n",
       " 'START सारे इंसानी अनुभव सौ प्रतिशत स्वनिर्मित होते हैं। END',\n",
       " 'START अगर आपके विचार और भावनाएं आपकी बनाई हुई हों तो आप उन्हें मनचाहे तरीके से गढ़ सकते हैं। END',\n",
       " 'START आज इस बात का वैज्ञानिक प्रमाण है कि अल्कोहल की एक बूंद का सेवन किए बिना भी आप स्वयं से पूरी तरह मदहोश बन सकते हैं। END',\n",
       " 'START एक इज़रायल के वैज्ञानिक राफेल मैकोलम और उसके शोध दल ने एक परियोजना शुरु की जिसमें आखिरकार मानव सिस्टम में एक ‘आनंद अणु’ को प्रथक किया गया। END',\n",
       " 'START साधारण शब्दों में उन्होंने खोजा कि मानव मस्तिष्क में भांग की स्वाभाविक ग्राही कोशिकाएं होती हैं। END',\n",
       " 'START ऐसा क्यों है उन्होंने पाया कि ऐसा इसलिए है क्योंकि शरीर स्वयं का मादक पदार्थ बनाने में सक्षम है। END',\n",
       " 'START बिना किसी बाहरी उत्प्रेरक के यह अपना ही आनंद पैदा कर सकता है  और वह भी बिना किसी खुमारी के  संस्कृत शब्द आनंद के आधार पर इस विशेष केमिकल को ‘आनंदामाइड’ नाम दिया गया है। END',\n",
       " 'START इससे हम निष्कर्ष निकाल सकते हैं कि खुशी बस एक खास तरह की केमेस्ट्री रासायनिकता है। END',\n",
       " 'START शांति एक दूसरे तरह की केमेस्ट्री है। END',\n",
       " 'START असल में हमारे द्वारा अनुभव की गई हर किस्म की प्रसन्नता के लिए  चाहे वह शांति या आनंद या परमानंद हो  एक खास किस्म की केमेस्ट्री है। END',\n",
       " 'START योग प्रणाली को यह हमेशा से पता था। END',\n",
       " 'START आंतरिक खुशहाली के लिए  आनंदमय अस्तित्व के लिए एक केमिकल आधार पैदा करने के लिए  एक टेक्नॉलजी मौजूद है। END',\n",
       " 'START मैं जिसे ‘इनर इंजीनरिंग’ कहता हूँ यह उसका एक आयाम है। END',\n",
       " 'START अगर आप जागरूक हैं तो आप अपने सिस्टम को इस तरह सक्रिय कर सकते हैं कि साधारण सांस लेना ही जबरदस्त सुख होता है। END',\n",
       " 'START इसके लिए बस आंतरिक प्रणाली पर थोड़ा ध्यान देने का इच्छुक होना होगा। END',\n",
       " 'START समझ में इस बुनियादी बदलाव को लाना होगा। END',\n",
       " 'START क्लेश से बाहर आने का तरीका मत खोजिए। END',\n",
       " 'START पीड़ा से बाहर निकलने का रास्ता मत खोजिए। END',\n",
       " 'START सिर्फ एक ही रास्ता है  और वह भीतर है। END']"
      ]
     },
     "execution_count": 9,
     "metadata": {},
     "output_type": "execute_result"
    }
   ],
   "source": [
    "append_start_token"
   ]
  },
  {
   "cell_type": "markdown",
   "id": "0fec7399",
   "metadata": {
    "id": "0fec7399"
   },
   "source": [
    "This code will tokenize each sentence in the `append_start_token` list into words and print the resulting word tokens for each sentence. This is a common step in natural language processing for breaking down text into its constituent words."
   ]
  },
  {
   "cell_type": "code",
   "execution_count": 10,
   "id": "1a800d84",
   "metadata": {
    "colab": {
     "base_uri": "https://localhost:8080/"
    },
    "id": "1a800d84",
    "outputId": "8565baf5-29ac-4a47-d2f2-c4609d50bd90"
   },
   "outputs": [
    {
     "name": "stdout",
     "output_type": "stream",
     "text": [
      "['START', 'अपने', 'भीतर', 'मुड़ना', 'ही', 'एकमात्र', 'समाधान', 'हैसद्गुरु', 'की', 'नवीनतम', 'पुस्तक', '‘इनर', 'इंजीनरिंग’', 'से', 'लिए', 'गए', 'इस', 'अंश', 'में', 'सद्गुरु', 'हमें', 'स्थायी', 'रूप', 'से', 'खुशहाली', 'का', 'अनुभव', 'करने', 'के', 'एकमात्र', 'तरीके', 'से', 'परिचित', 'कराते', 'हैं', '।', 'END']\n",
      "['START', 'सद्गुरु', 'आपने', 'अपनी', 'जिंदगी', 'में', 'अब', 'तक', 'हर', 'चीज', 'बस', 'एक', 'चीज', 'की', 'तलाश', 'में', 'की', 'है', '।', 'END']\n",
      "['START', 'चाहे', 'आपने', 'बेहतर', 'करियर', 'खोजा', 'हो', 'कारोबार', 'शुरू', 'किया', 'हो', 'पैसे', 'कमाए', 'हों', 'या', 'फिर', 'परिवार', 'को', 'पालापोसा', 'हो', 'यह', 'सब', 'आपने', 'इसलिए', 'किया', 'क्योंकि', 'आप', 'बस', 'एक', 'साधारण', 'सी', 'चीज', 'चाहते', 'थेः', 'खुशी', '।', 'END']\n",
      "['START', 'लेकिन', 'रास्ते', 'में', 'कहीं', 'न', 'कहीं', 'जीवन', 'उलझ', 'गया', '।', 'END']\n",
      "['START', 'अगर', 'आप', 'इस', 'धरती', 'पर', 'किसी', 'दूसरे', 'जीव', 'के', 'रूप', 'में', 'पैदा', 'हुए', 'होते', 'तो', 'वह', 'बहुत', 'सरल', 'होता', '।', 'END']\n",
      "['START', 'आपकी', 'जरूरतें', 'सिर्फ', 'शारीरिक', 'होतीं', '।', 'END']\n",
      "['START', 'पेट', 'भर', 'खाना', 'मिल', 'जाए', 'तो', 'वह', 'एक', 'बहुत', 'शानदार', 'दिन', 'कहलाता', '।', 'END']\n",
      "['START', 'अपने', 'कुत्ते', 'या', 'अपनी', 'बिल्ली', 'पर', 'गौर', 'कीजिएः', 'जिस', 'पल', 'उनका', 'पेट', 'भर', 'जाता', 'है', 'वे', 'काफी', 'शांतिमय', 'होते', 'हैं', '।', 'END']\n",
      "['START', 'लेकिन', 'जब', 'आप', 'इस', 'दुनिया', 'में', 'एक', 'इंसान', 'के', 'रूप', 'में', 'आते', 'हैं', 'तो', 'चीजें', 'बदल', 'जाती', 'हैं', '।', 'END']\n",
      "['START', 'खाली', 'पेट', 'की', 'एक', 'ही', 'समस्या', 'हैः', 'भूख', '।', 'END']\n",
      "['START', 'लेकिन', 'अगर', 'पेट', 'भरा', 'हुआ', 'हो', 'तो', 'सैकड़ों', 'समस्याएं', 'हैं', 'जब', 'सवाल', 'हमारे', 'जीवनसंरक्षण', 'का', 'होता', 'है', 'तो', 'वह', 'हमारे', 'जीवन', 'का', 'एक', 'बड़ा', 'मुद्दा', 'होता', 'है', '।', 'END']\n",
      "['START', 'लेकिन', 'जिस', 'पल', 'इस', 'मुद्दे', 'का', 'ख्याल', 'रख', 'लिया', 'जाए', 'तो', 'उसके', 'कोई', 'मायने', 'नहीं', 'लगते', '।', 'END']\n",
      "['START', 'किसी', 'कारण', 'से', 'एक', 'इंसान', 'के', 'लिए', 'जीवन', 'बस', 'जीवनसंरक्षण', 'पर', 'खत्म', 'नहीं', 'होता', 'है', 'जीवनसंरक्षण', 'से', 'जीवन', 'शुरू', 'होता', 'है', '।', 'END']\n",
      "['START', 'आज', 'लोगों', 'की', 'एक', 'पीढ़ी', 'के', 'रूप', 'में', 'हमारी', 'जीवनसंरक्षण', 'प्रक्रिया', 'पहले', 'से', 'कहीं', 'बेहतर', 'नियोजित', 'है', '।', 'END']\n",
      "['START', 'आप', 'एक', 'सुपरमार्केट', 'जाकर', 'अपनी', 'पूरे', 'साल', 'की', 'जरूरतों', 'की', 'चीजें', 'खरीद', 'सकते', 'हैं', '।', 'END']\n",
      "['START', 'आप', 'घर', 'से', 'निकले', 'बिना', 'भी', 'यह', 'काम', 'कर', 'सकते', 'हैं', 'मानव', 'इतिहास', 'में', 'इससे', 'पहले', 'यह', 'कभी', 'संभव', 'नहीं', 'था', '।', 'END']\n",
      "['START', 'सौ', 'साल', 'पहले', 'जो', 'चीजें', 'राजामहाराजा', 'भी', 'नहीं', 'कर', 'सकते', 'थे', 'आज', 'आम', 'नागरिक', 'की', 'पहुंच', 'में', 'हैं', '।', 'END']\n",
      "['START', 'हम', 'इस', 'धरती', 'पर', 'रहने', 'वाली', 'अब', 'तक', 'की', 'सबसे', 'आरामदेह', 'पीढ़ी', 'हैं', '।', 'END']\n",
      "['START', 'हमने', 'बाहरी', 'माहौल', 'को', 'ठीक', 'करने', 'के', 'लिए', 'अपनी', 'ओर', 'से', 'बेहतरीन', 'कोशिश', 'की', 'है', '।', 'END']\n",
      "['START', 'अगर', 'हम', 'इसे', 'और', 'ज्यादा', 'ठीक', 'करते', 'हैं', 'तो', 'धरती', 'ही', 'नहीं', 'बचेगी', 'लेकिन', 'हम', 'निश्चित', 'रूप', 'से', 'यह', 'नहीं', 'कह', 'सकते', 'कि', 'हम', 'अपने', 'पुरखों', 'से', 'ज्यादा', 'खुश', 'ज्यादा', 'प्रेममय', 'या', 'ज्यादा', 'शांत', 'हैं', '।', 'END']\n",
      "['START', 'ऐसा', 'क्यों', 'है', 'अगर', 'यह', 'काम', 'नहीं', 'कर', 'रहा', 'है', 'तो', 'क्या', 'यह', 'देखने', 'का', 'समय', 'नहीं', 'है', 'कि', 'क्या', 'गलत', 'है', 'हम', 'कोई', 'ऐसी', 'चीज', 'करते', 'रहना', 'कैसे', 'जारी', 'रख', 'सकते', 'हैं', 'जिसने', 'हजार', 'साल', 'से', 'काम', 'नहीं', 'किया', 'है', 'हम', 'उन', 'योजनाओं', 'के', 'साथ', 'और', 'कितने', 'समय', 'तक', 'जीने', 'वाले', 'हैं', 'जिन्होंने', 'साफ', 'तौर', 'पर', 'अपना', 'वादा', 'पूरा', 'नहीं', 'किया', 'है', 'नजरिया', 'बदलने', 'के', 'लिए', 'यही', 'समय', 'है', '।', 'END']\n",
      "['START', 'खुशहाली', 'क्या', 'है', 'एक', 'ही', 'सवाल', 'से', 'शुरू', 'करते', 'हैं', 'हम', 'खुशहाली', 'किसे', 'मानते', 'हैं', 'बिलकुल', 'सीधे', 'तौर', 'पर', 'खुशहाली', 'बस', 'अपने', 'भीतर', 'प्रसन्नता', 'की', 'एक', 'गहरी', 'भावना', 'है', '।', 'END']\n",
      "['START', 'अगर', 'आपका', 'शरीर', 'सुखद', 'महसूस', 'करता', 'है', 'तो', 'हम', 'उसे', 'स्वास्थ्य', 'कहते', 'हैं', '।', 'END']\n",
      "['START', 'अगर', 'वह', 'बहुत', 'सुखद', 'बन', 'जाता', 'है', 'तो', 'हम', 'उसे', 'सुख', 'कहते', 'हैं', '।', 'END']\n",
      "['START', 'अगर', 'आपका', 'मन', 'सुखद', 'बनता', 'है', 'तो', 'हम', 'उसे', 'शांति', 'कहते', 'हैं', '।', 'END']\n",
      "['START', 'अगर', 'वह', 'बहुत', 'सुखद', 'बन', 'जाता', 'है', 'तो', 'हम', 'उसे', 'ख़ुशी', 'कहते', 'हैं', '।', 'END']\n",
      "['START', 'अगर', 'आपकी', 'भावना', 'सुखद', 'बनती', 'है', 'तो', 'हम', 'उसे', 'प्रेम', 'कहते', 'हैं', 'अगर', 'वह', 'बहुत', 'सुखद', 'बन', 'जाती', 'है', 'तो', 'हम', 'उसे', 'करुणा', 'कहते', 'हैं', '।', 'END']\n",
      "['START', 'अगर', 'आपकी', 'जीवन', 'ऊर्जाएं', 'सुखद', 'बनती', 'हैं', 'तो', 'हम', 'उसे', 'आनंद', 'कहते', 'हैं', '।', 'END']\n",
      "['START', 'अगर', 'वे', 'बहुत', 'सुखद', 'बन', 'जाती', 'हैं', 'ता', 'हम', 'उसे', 'परमानंद', 'कहते', 'हैं', '।', 'END']\n",
      "['START', 'आप', 'पूरा', 'बस', 'यही', 'खोज', 'रहे', 'हैं', 'भीतर', 'और', 'बाहर', 'की', 'प्रसन्नता', '।', 'END']\n",
      "['START', 'जब', 'प्रसन्नता', 'भीतर', 'होती', 'है', 'तो', 'उसे', 'शांति', 'आनंद', 'या', 'खुशी', 'कहते', 'हैं', '।', 'END']\n",
      "['START', 'जब', 'आपके', 'चारों', 'ओर', 'का', 'माहौल', 'सुखद', 'बन', 'जाता', 'है', 'तो', 'उसे', 'सफलता', 'का', 'नाम', 'दिया', 'जाता', 'है', '।', 'END']\n",
      "['START', 'अगर', 'आपकी', 'इनमें', 'से', 'किसी', 'में', 'भी', 'रुचि', 'नहीं', 'है', 'और', 'आप', 'स्वर्ग', 'जाना', 'चाहते', 'हैं', 'तो', 'आप', 'क्या', 'खोज', 'रहे', 'हैं', 'बस', 'दूसरी', 'दुनिया', 'की', 'सफलता', 'तो', 'मुख्य', 'रूप', 'से', 'सारे', 'मानव', 'अनुभव', 'बदलते', 'स्तरों', 'की', 'प्रसन्नता', 'और', 'अप्रसन्नता', 'से', 'आते', 'हैं', '।', 'END']\n",
      "['START', 'लेकिन', 'अपने', 'जीवन', 'में', 'आप', 'कितनी', 'बार', 'पूरे', 'दिन', 'भर', 'आनंदमय', 'रहे', 'हैं', 'बिना', 'एक', 'पल', 'की', 'भी', 'चिंता', 'बेचैनी', 'चिढ़', 'या', 'तनाव', 'के', 'कितनी', 'बार', 'आप', 'चौबीस', 'घंटे', 'के', 'लिए', 'निरी', 'प्रसन्नता', 'और', 'पूरे', 'आनंद', 'में', 'रहे', 'हैं', 'पिछली', 'बार', 'आपके', 'साथ', 'ऐसा', 'कब', 'हुआ', 'था', 'हैरानी', 'की', 'बात', 'यह', 'है', 'कि', 'इस', 'धरती', 'पर', 'ज्यादातर', 'लोगों', 'के', 'लिए', 'एक', 'दिन', 'भी', 'ठीक', 'वैसा', 'नहीं', 'बीता', 'है', 'जैसा', 'वे', 'चाहते', 'हैं', 'यकीनन', 'ऐसा', 'कोई', 'भी', 'नहीं', 'है', 'जिसने', 'खुशी', 'शांति', 'या', 'आनंद', 'अनुभव', 'नहीं', 'किया', 'हो', 'लेकिन', 'वह', 'हमेशा', 'अस्थाई', 'होता', 'है', '।', 'END']\n",
      "['START', 'वे', 'उसे', 'कायम', 'नहीं', 'रख', 'पाते', '।', 'END']\n",
      "['START', 'वे', 'वहां', 'पहुंच', 'तो', 'जाते', 'हैं', 'लेकिन', 'फिर', 'गिरते', 'रहते', 'है', '।', 'END']\n",
      "['START', 'और', 'उसके', 'गिरने', 'के', 'लिए', 'कोई', 'भीषण', 'चीज', 'होने', 'की', 'जरूरत', 'नहीं', 'है', '।', 'END']\n",
      "['START', 'सबसे', 'साधारण', 'चीजें', 'लोगों', 'को', 'संतुलन', 'से', 'बाहर', 'फेंक', 'देती', 'हैं', 'और', 'बेतरतीब', 'कर', 'देती', 'हैं', '।', 'END']\n",
      "['START', 'यह', 'कुछ', 'ऐसा', 'है', '।', 'END']\n",
      "['START', 'आज', 'आप', 'बाहर', 'जाते', 'हैं', 'और', 'कोई', 'आपसे', 'कहता', 'है', 'कि', 'आप', 'दुनिया', 'के', 'सबसे', 'सुंदर', 'व्यक्ति', 'हैं', 'आप', 'सातवें', 'आसमान', 'पर', 'तैरने', 'लगते', 'हैं', '।', 'END']\n",
      "['START', 'लेकिन', 'जब', 'आप', 'घर', 'लौटते', 'हैं', 'और', 'घर', 'के', 'लोग', 'आपको', 'बताते', 'हैं', 'कि', 'आप', 'वाकई', 'कौन', 'हैं', 'हर', 'चीज', 'चकनाचूर', 'हो', 'जाती', 'है', 'क्या', 'यह', 'जानापहचाना', 'लगता', 'है', 'आपको', 'अपने', 'भीतर', 'प्रसन्न', 'रहने', 'की', 'जरूरत', 'क्यों', 'है', 'जब', 'आप', 'प्रसन्नता', 'की', 'एक', 'आंतरिक', 'अवस्था', 'में', 'होते', 'हैं', 'तब', 'आप', 'स्वाभाविक', 'रूप', 'से', 'अपने', 'आसपास', 'हर', 'किसी', 'के', 'साथ', 'और', 'हर', 'चीज', 'के', 'साथ', 'मधुर', 'होते', 'हैं', '।', 'END']\n",
      "['START', 'दूसरों', 'के', 'साथ', 'अच्छे', 'होने', 'का', 'निर्देश', 'देने', 'के', 'लिए', 'किसी', 'धर्मग्रंथ', 'या', 'दर्शन', 'की', 'जरूरत', 'नहीं', 'है', '।', 'END']\n",
      "['START', 'जब', 'आप', 'अपने', 'भीतर', 'अच्छा', 'महसूस', 'कर', 'रहे', 'हों', 'तो', 'वह', 'उसका', 'स्वाभाविक', 'परिणाम', 'है', '।', 'END']\n",
      "['START', 'एक', 'शांत', 'समाज', 'और', 'एक', 'आनंदमय', 'दुनिया', 'बनाने', 'के', 'लिए', 'आंतरिक', 'प्रसन्नता', 'एक', 'अचूक', 'बीमा', 'है', '।', 'END']\n",
      "['START', 'इसके', 'अलावा', 'दुनिया', 'में', 'आपकी', 'सफलता', 'मुख्य', 'रूप', 'से', 'इस', 'पर', 'निर्भर', 'करती', 'है', 'कि', 'आपने', 'शरीर', 'और', 'मन', 'के', 'कौशल', 'का', 'कितने', 'अच्छे', 'से', 'उपयोग', 'किया', 'है', '।', 'END']\n",
      "['START', 'तो', 'सफलता', 'हासिल', 'करने', 'के', 'लिए', 'प्रसन्नता', 'को', 'आपके', 'भीतर', 'एक', 'बुनियादी', 'गुण', 'होना', 'होगा', '।', 'END']\n",
      "['START', 'सबसे', 'बढ़कर', 'आज', 'इसके', 'पर्याप्त', 'मेडिकल', 'और', 'वैज्ञानिक', 'प्रमाण', 'हैं', 'कि', 'आपका', 'शरीर', 'और', 'मन', 'अपने', 'बेहतरीन', 'स्तर', 'पर', 'तब', 'काम', 'करते', 'हैं', 'जब', 'आप', 'प्रसन्न', 'हों', '।', 'END']\n",
      "['START', 'ऐसा', 'कहा', 'गया', 'है', 'कि', 'अगर', 'आप', 'चौबीस', 'घंटे', 'आनंदमय', 'रह', 'सकते', 'हैं', 'तो', 'आपकी', 'बौद्धिक', 'क्षमताएं', 'लगभग', 'दुगनी', 'हो', 'सकती', 'हैं', '।', 'END']\n",
      "['START', 'बस', 'आंतरिक', 'झमेले', 'को', 'ठिकाने', 'लगाने', 'और', 'स्पष्टता', 'को', 'उजागर', 'होने', 'देने', 'से', 'इसे', 'हासिल', 'किया', 'जा', 'सकता', 'है', '।', 'END']\n",
      "['START', 'अब', 'वह', 'जीवन', 'ऊर्जा', 'जिसे', 'आप', '‘मैं’', 'कहते', 'हैं', 'वह', 'कभी', 'बहुत', 'प्रसन्न', 'रहती', 'है', 'कभी', 'दुखी', 'कभी', 'शांत', 'और', 'कभी', 'बेचैन', 'रहती', 'है', '।', 'END']\n",
      "['START', 'वही', 'जीवन', 'ऊर्जा', 'उन', 'सब', 'अवस्थाओं', 'में', 'हो', 'सकती', 'है', '।', 'END']\n",
      "['START', 'तो', 'अगर', 'आपके', 'पास', 'एक', 'विकल्प', 'होता', 'कि', 'आपकी', 'जीवन', 'ऊर्जा', 'किस', 'तरह', 'की', 'अभिव्यक्ति', 'पाए', 'तो', 'आप', 'क्या', 'चुनते', 'आनंद', 'या', 'क्लेश', 'प्रसन्नता', 'या', 'अप्रसन्नता', 'इसका', 'उत्तर', 'स्पष्ट', 'है', '।', 'END']\n",
      "['START', 'इंसानइंसान', 'के', 'बीच', 'तरीके', 'बदल', 'सकते', 'हैं', 'लेकिन', 'चाहे', 'आप', 'पैसा', 'कमाने', 'की', 'कोशिश', 'कर', 'रहे', 'हों', 'शराब', 'पी', 'रहे', 'हों', 'या', 'स्वर्ग', 'जाने', 'की', 'कोशिश', 'कर', 'रहे', 'हों', 'खुशी', 'ही', 'एकमात्र', 'लक्ष्य', 'है', '।', 'END']\n",
      "['START', 'तो', 'कुछ', 'लोग', 'सोचते', 'हैं', 'कि', 'यह', 'शराब', 'में', 'है', 'जबकि', 'दूसरे', 'सोचते', 'हैं', 'कि', 'यह', 'ईश्वर', 'में', 'है', 'लेकिन', 'हर', 'कोई', 'खुशी', 'ही', 'खोज', 'रहा', 'है', '।', 'END']\n",
      "['START', 'सिर्फ', 'एक', 'चीज', 'जो', 'आपके', 'और', 'आपकी', 'खुशहाली', 'के', 'बीच', 'खड़ी', 'है', 'वह', 'एक', 'साधारण', 'सच्चाई', 'है', 'आपने', 'अपने', 'विचारों', 'और', 'भावनाओं', 'को', 'भीतर', 'के', 'बजाय', 'बाहर', 'से', 'निर्देश', 'लेने', 'दिया', 'है', '।', 'END']\n",
      "['START', 'अपने', 'सपने', 'को', 'वैसा', 'बनाइए', 'जैसा', 'आप', 'चाहते', 'हैं', '।', 'END']\n",
      "['START', 'किसी', 'दिन', 'एक', 'महिला', 'सोने', 'गई', '।', 'END']\n",
      "['START', 'नींद', 'में', 'उसे', 'एक', 'सपना', 'आया', '।', 'END']\n",
      "['START', 'उसने', 'एक', 'बहुत', 'हृष्टपुष्ट', 'आदमी', 'को', 'अपनी', 'ओर', 'घूरते', 'पाया', '।', 'END']\n",
      "['START', 'फिर', 'वह', 'पास', 'आने', 'लगा', 'और', 'पास', 'आया', 'और', 'पास', '।', 'END']\n",
      "['START', 'वह', 'इतना', 'पास', 'था', 'कि', 'वह', 'उसकी', 'सांसों', 'को', 'महसूस', 'कर', 'सकती', 'थी', '।', 'END']\n",
      "['START', 'वह', 'सिहर', 'उठी', 'डर', 'से', 'नहीं', '।', 'END']\n",
      "['START', 'फिर', 'उसने', 'पूछा', '‘तुम', 'मेरे', 'साथ', 'क्या', 'करोगे’', 'आदमी', 'बोला', '‘वैसे', 'मैडम', 'यह', 'आपका', 'सपना', 'है’', 'आपके', 'दिमाग', 'में', 'जो', 'चल', 'रहा', 'है', 'वह', 'आपका', 'सपना', 'है', '।', 'END']\n",
      "['START', 'कम', 'से', 'कम', 'आपके', 'सपने', 'को', 'तो', 'आपके', 'मन', 'मुताबिक', 'होना', 'चाहिए', 'क्या', 'नहीं', 'होना', 'चाहिए', 'अगर', 'दुनिया', 'आपके', 'मन', 'मुताबिक', 'नहीं', 'भी', 'चलती', 'है', 'तो', 'कम', 'से', 'कम', 'आपके', 'विचारों', 'और', 'भावनाओं', 'को', 'तो', 'वैसे', 'चलना', 'चाहिए', 'जैसे', 'आप', 'चाहते', 'हैं', '।', 'END']\n",
      "['START', 'अभी', 'ये', 'आपसे', 'निर्देश', 'नहीं', 'ले', 'रहे', 'हैं', 'क्योंकि', 'आप', 'पूरी', 'मानवीय', 'प्रणाली', 'को', 'संयोग', 'से', 'संभाल', 'रहे', 'हैं', '।', 'END']\n",
      "['START', 'मानवीय', 'प्रणाली', 'धरती', 'पर', 'सबसे', 'परिष्कृत', 'भौतिक', 'रूप', 'है', '।', 'END']\n",
      "['START', 'आप', 'टेक्नॉलजी', 'की', 'सबसे', 'शानदार', 'मिसाल', 'हैं', 'लेकिन', 'समस्या', 'यह', 'है', 'कि', 'आप', 'नहीं', 'जानते', 'कि', 'कीबोर्ड', 'कहां', 'है', '।', 'END']\n",
      "['START', 'परिणाम', 'स्वरूप', 'एक', 'सरल', 'जीवन', 'प्रक्रिया', 'मानवता', 'को', 'परेशान', 'कर', 'रही', 'है', '।', 'END']\n",
      "['START', 'बस', 'आजीविका', 'कमाना', 'बच्चे', 'पैदा', 'करना', 'परिवार', 'को', 'चलाना', 'और', 'फिर', 'एक', 'दिन', 'मर', 'जाना', 'कितनी', 'बड़ी', 'चुनौती', 'है', 'यह', 'कितने', 'अचरज', 'की', 'बात', 'है', 'कि', 'जो', 'चीज', 'हर', 'कीड़ा', 'कीट', 'पशु', 'पक्षी', 'बड़ी', 'सहजता', 'से', 'करता', 'है', 'बस', 'उसे', 'करने', 'में', 'इंसान', 'कितना', 'संघर्ष', 'करते', 'हैं', '।', 'END']\n",
      "['START', 'सीधेसीधे', 'कहें', 'तो', 'हमारा', 'आंतरिक', 'पर्यावरण', 'एक', 'झमेला', 'है', '।', 'END']\n",
      "['START', 'किसी', 'तरह', 'हम', 'सोचते', 'हैं', 'कि', 'बाहरी', 'हालात', 'को', 'ठीक', 'करने', 'से', 'भीतर', 'की', 'हर', 'चीज', 'ठीक', 'हो', 'जाएगी', '।', 'END']\n",
      "['START', 'लेकिन', 'ये', 'पिछले', 'साल', 'प्रमाण', 'हैं', 'कि', 'टेक्नॉलजी', 'हमारे', 'लिए', 'सिर्फ', 'आराम', 'और', 'सुविधाएं', 'लाएगी', 'खुशहाली', 'नहीं', '।', 'END']\n",
      "['START', 'हमें', 'यह', 'समझने', 'की', 'जरूरत', 'है', 'कि', 'जब', 'तक', 'हम', 'सही', 'चीजें', 'नहीं', 'करते', 'तब', 'तक', 'हमारे', 'साथ', 'सही', 'चीजें', 'नहीं', 'होंगी', 'यह', 'सिर्फ', 'बाहरी', 'दुनिया', 'के', 'साथ', 'सच', 'नहीं', 'है', 'बल्कि', 'भीतरी', 'दुनिया', 'के', 'साथ', 'भी', 'है', '।', 'END']\n",
      "['START', 'खुद', 'को', 'मूर्ख', 'मत', 'बनाएं', '।', 'END']\n",
      "['START', 'किसी', 'दिन', 'एक', 'बैल', 'और', 'एक', 'तीतर', 'खेत', 'में', 'थे', '।', 'END']\n",
      "['START', 'बैल', 'घास', 'चर', 'रहा', 'था', 'और', 'तीतर', 'बैल', 'के', 'शरीर', 'पर', 'चिपकी', 'किलनी', 'खा', 'रहा', 'था', 'एक', 'बढ़िया', 'साझेदारी', '।', 'END']\n",
      "['START', 'खेत', 'के', 'किनारे', 'पर', 'एक', 'बड़े', 'पेड़', 'को', 'देखकर', 'तीतर', 'ने', 'कहा', '‘आह', 'एक', 'समय', 'था', 'जब', 'मैं', 'उस', 'पेड़', 'की', 'सबसे', 'ऊंची', 'डाल', 'तक', 'उड़', 'सकता', 'था', '।', 'END']\n",
      "['START', 'अब', 'मेरे', 'पंख', 'में', 'इतनी', 'ताकत', 'भी', 'नहीं', 'है', 'कि', 'मैं', 'पहली', 'डाल', 'तक', 'पहुंच', 'सकूं', '।', 'END']\n",
      "['START', '’', 'बैल', 'ने', 'निर्लिप्त', 'भाव', 'से', 'कहा', '‘हर', 'दिन', 'बस', 'मेरा', 'थोड़ा', 'गोबर', 'खाओ', 'और', 'फिर', 'देखो', 'कि', 'क्या', 'होता', 'है', '।', 'END']\n",
      "['START', 'दो', 'सप्ताह', 'में', 'ही', 'तुम', 'सबसे', 'ऊपर', 'पहुंच', 'जाओगे', '।', 'END']\n",
      "['START', '’', 'तीतर', 'ने', 'कहा', '‘अरे', 'छोड़ो', 'भी', 'यह', 'कैसी', 'बकवास', 'है', '।', 'END']\n",
      "['START', 'ये', 'बेकार', 'की', 'बात', 'है’', 'बैल', 'ने', 'कहा', '‘आजमाकर', 'देखो', '।', 'END']\n",
      "['START', 'पूरी', 'मानवता', 'इसी', 'के', 'बल', 'पर', 'है', '।', 'END']\n",
      "['START', '’', 'बहुत', 'हिचकते', 'हुए', 'तीतर', 'ने', 'गोबर', 'खाना', 'शुरू', 'किया', '।', 'END']\n",
      "['START', 'और', 'पहले', 'ही', 'दिन', 'वह', 'पहली', 'डाल', 'तक', 'पहुंच', 'गया', '।', 'END']\n",
      "['START', 'एक', 'पखवाड़े', 'में', 'वह', 'सबसे', 'ऊंची', 'डाल', 'तक', 'पहुंच', 'गया', 'था', '।', 'END']\n",
      "['START', 'वह', 'वहां', 'बैठकर', 'बस', 'दृष्य', 'का', 'आनंद', 'लेने', 'लगा', '।', 'END']\n",
      "['START', 'एक', 'बूढ़ा', 'किसान', 'अपनी', 'झूलने', 'वाली', 'कुर्सी', 'पर', 'झूल', 'रहा', 'था', 'उसने', 'इस', 'मोटे', 'बूढ़े', 'तीतर', 'को', 'देखा', 'अपनी', 'बंदूक', 'निकाली', 'और', 'तीतर', 'को', 'मारकर', 'गिरा', 'दिया', '।', 'END']\n",
      "['START', 'कहानी', 'की', 'सीख', 'मूर्खतापूर्ण', 'चीज़ें', 'बुलशिट', 'आपको', 'ऊंचाई', 'पर', 'ले', 'जा', 'तो', 'सकती', 'है', 'लेकिन', 'वे', 'कभी', 'आपको', 'वहां', 'टिकने', 'नहीं', 'देतीं', 'आप', 'खुद', 'को', 'हर', 'किस्म', 'की', 'व्यर्थ', 'की', 'भावनात्मक', 'अवस्थाओं', 'में', 'ले', 'जा', 'सकते', 'हैं', 'आप', 'खुद', 'के', 'लिए', 'किसी', 'तरह', 'कुछ', 'खुशहाली', 'जुटा', 'सकते', 'हैं', 'लेकिन', 'समस्या', 'यह', 'है', 'कि', 'यह', 'टिकती', 'नहीं', 'है', '।', 'END']\n",
      "['START', 'मौसम', 'इसे', 'नीचे', 'ला', 'सकता', 'है', '।', 'END']\n",
      "['START', 'स्टॉक', 'मार्केट', 'इसे', 'चकनाचूर', 'कर', 'सकता', 'है', '।', 'END']\n",
      "['START', 'और', 'अगर', 'यह', 'ढेर', 'नहीं', 'भी', 'होती', 'तो', 'इस', 'अपेक्षा', 'में', 'जीना', 'कि', 'ऐसा', 'हो', 'सकता', 'है', 'काफी', 'बुरा', 'है', 'जब', 'तक', 'आपका', 'आंतरिक', 'जीवन', 'बाहरी', 'स्थितियों', 'का', 'गुलाम', 'है', 'वह', 'अनिश्चित', 'हालत', 'में', 'रहेगा', '।', 'END']\n",
      "['START', 'होने', 'का', 'कोई', 'दूसरा', 'तरीका', 'नहीं', 'है', '।', 'END']\n",
      "['START', 'फिर', 'बाहर', 'निकलने', 'का', 'रास्ता', 'क्या', 'है', 'एक', 'मूलभूत', 'परिवर्तन', 'दिशा', 'में', 'एक', 'बहुत', 'सरल', 'बदलाव', 'ही', 'बाहर', 'निकलने', 'का', 'रास्ता', 'है', '।', 'END']\n",
      "['START', 'आपको', 'बस', 'यह', 'देखने', 'की', 'जरूरत', 'है', 'कि', 'आपके', 'अनुभव', 'का', 'स्रोत', 'और', 'आधार', 'आपके', 'भीतर', 'है', '।', 'END']\n",
      "['START', 'मानव', 'अनुभव', 'को', 'बाहरी', 'स्थितियों', 'से', 'उकसाया', 'या', 'प्रेरित', 'किया', 'जा', 'सकता', 'है', 'लेकिन', 'स्रोत', 'भीतर', 'ही', 'है', '।', 'END']\n",
      "['START', 'पीड़ा', 'या', 'सुख', 'आनंद', 'या', 'क्लेश', 'वेदना', 'या', 'परमानंद', 'सिर्फ', 'आपके', 'भीतर', 'होते', 'हैं', '।', 'END']\n",
      "['START', 'इंसान', 'की', 'नादानी', 'यह', 'है', 'कि', 'लोग', 'हमेशा', 'आनंद', 'को', 'बाहर', 'से', 'हासिल', 'करने', 'की', 'कोशिश', 'कर', 'रहे', 'हैं', '।', 'END']\n",
      "['START', 'आप', 'बाहर', 'को', 'एक', 'उत्प्रेरक', 'या', 'उकसाव', 'के', 'रूप', 'में', 'इस्तेमाल', 'कर', 'सकते', 'हैं', 'लेकिन', 'असली', 'चीज', 'हमेशा', 'भीतर', 'से', 'आती', 'है', '।', 'END']\n",
      "['START', 'अभी', 'आप', 'इसे', 'पढ़', 'रहे', 'हैं', '।', 'END']\n",
      "['START', 'आप', 'इस', 'लिखावट', 'को', 'कहां', 'देखते', 'हैं', 'अपनी', 'उंगली', 'से', 'इशारा', 'कीजिए', 'कि', 'आप', 'उसे', 'कहां', 'देख', 'रहे', 'हैं', 'क्या', 'आपको', 'लगता', 'है', 'कि', 'प्रतिबिंब', 'आपके', 'बाहर', 'है', 'फिर', 'से', 'सोचिए', '।', 'END']\n",
      "['START', 'क्या', 'आपको', 'याद', 'है', 'कि', 'यह', 'कैसे', 'काम', 'करता', 'है', 'वस्तु', 'पर', 'प्रकाश', 'गिर', 'रहा', 'है', 'परावर्तित', 'हो', 'रहा', 'है', 'आपकी', 'आंखों', 'के', 'लेंस', 'से', 'अंदर', 'जा', 'रहा', 'है', 'और', 'आपकी', 'रेटिना', 'पर', 'एक', 'उल्टी', 'छवि', 'बना', 'रहा', 'है', 'आप', 'पूरी', 'कहानी', 'जानते', 'हैं', '।', 'END']\n",
      "['START', 'तो', 'असल', 'में', 'आप', 'वस्तु', 'को', 'अपने', 'भीतर', 'देख', 'रहे', 'हैं', '।', 'END']\n",
      "['START', 'आप', 'पूरी', 'दुनिया', 'कहां', 'देखते', 'हैं', 'फिर', 'से', 'अपने', 'ही', 'भीतर', '।', 'END']\n",
      "['START', 'हर', 'चीज', 'जो', 'आपके', 'साथ', 'कभी', 'हुई', 'है', 'आपने', 'उसे', 'ठीक', 'अपने', 'भीतर', 'अनुभव', 'किया', 'है', '।', 'END']\n",
      "['START', 'रोशनी', 'या', 'अंधेरा', 'पीड़ा', 'या', 'सुख', 'वेदना', 'या', 'परमानंद', 'ये', 'सभी', 'आपके', 'भीतर', 'हुए', 'हैं', '।', 'END']\n",
      "['START', 'अगर', 'कोई', 'अभी', 'आपका', 'हाथ', 'छूता', 'है', 'आपको', 'लग', 'सकता', 'है', 'कि', 'आप', 'उसके', 'हाथ', 'को', 'अनुभव', 'कर', 'रहे', 'हैं', 'लेकिन', 'सच्चाई', 'यह', 'है', 'कि', 'आप', 'अपने', 'ही', 'हाथ', 'में', 'उस', 'संवेदना', 'को', 'अनुभव', 'कर', 'रहे', 'हैं', '।', 'END']\n",
      "['START', 'पूरा', 'अनुभव', 'भीतर', 'सीमित', 'है', '।', 'END']\n",
      "['START', 'सारे', 'इंसानी', 'अनुभव', 'सौ', 'प्रतिशत', 'स्वनिर्मित', 'होते', 'हैं', '।', 'END']\n",
      "['START', 'अगर', 'आपके', 'विचार', 'और', 'भावनाएं', 'आपकी', 'बनाई', 'हुई', 'हों', 'तो', 'आप', 'उन्हें', 'मनचाहे', 'तरीके', 'से', 'गढ़', 'सकते', 'हैं', '।', 'END']\n",
      "['START', 'आज', 'इस', 'बात', 'का', 'वैज्ञानिक', 'प्रमाण', 'है', 'कि', 'अल्कोहल', 'की', 'एक', 'बूंद', 'का', 'सेवन', 'किए', 'बिना', 'भी', 'आप', 'स्वयं', 'से', 'पूरी', 'तरह', 'मदहोश', 'बन', 'सकते', 'हैं', '।', 'END']\n",
      "['START', 'एक', 'इज़रायल', 'के', 'वैज्ञानिक', 'राफेल', 'मैकोलम', 'और', 'उसके', 'शोध', 'दल', 'ने', 'एक', 'परियोजना', 'शुरु', 'की', 'जिसमें', 'आखिरकार', 'मानव', 'सिस्टम', 'में', 'एक', '‘आनंद', 'अणु’', 'को', 'प्रथक', 'किया', 'गया', '।', 'END']\n",
      "['START', 'साधारण', 'शब्दों', 'में', 'उन्होंने', 'खोजा', 'कि', 'मानव', 'मस्तिष्क', 'में', 'भांग', 'की', 'स्वाभाविक', 'ग्राही', 'कोशिकाएं', 'होती', 'हैं', '।', 'END']\n",
      "['START', 'ऐसा', 'क्यों', 'है', 'उन्होंने', 'पाया', 'कि', 'ऐसा', 'इसलिए', 'है', 'क्योंकि', 'शरीर', 'स्वयं', 'का', 'मादक', 'पदार्थ', 'बनाने', 'में', 'सक्षम', 'है', '।', 'END']\n",
      "['START', 'बिना', 'किसी', 'बाहरी', 'उत्प्रेरक', 'के', 'यह', 'अपना', 'ही', 'आनंद', 'पैदा', 'कर', 'सकता', 'है', 'और', 'वह', 'भी', 'बिना', 'किसी', 'खुमारी', 'के', 'संस्कृत', 'शब्द', 'आनंद', 'के', 'आधार', 'पर', 'इस', 'विशेष', 'केमिकल', 'को', '‘आनंदामाइड’', 'नाम', 'दिया', 'गया', 'है', '।', 'END']\n",
      "['START', 'इससे', 'हम', 'निष्कर्ष', 'निकाल', 'सकते', 'हैं', 'कि', 'खुशी', 'बस', 'एक', 'खास', 'तरह', 'की', 'केमेस्ट्री', 'रासायनिकता', 'है', '।', 'END']\n",
      "['START', 'शांति', 'एक', 'दूसरे', 'तरह', 'की', 'केमेस्ट्री', 'है', '।', 'END']\n",
      "['START', 'असल', 'में', 'हमारे', 'द्वारा', 'अनुभव', 'की', 'गई', 'हर', 'किस्म', 'की', 'प्रसन्नता', 'के', 'लिए', 'चाहे', 'वह', 'शांति', 'या', 'आनंद', 'या', 'परमानंद', 'हो', 'एक', 'खास', 'किस्म', 'की', 'केमेस्ट्री', 'है', '।', 'END']\n",
      "['START', 'योग', 'प्रणाली', 'को', 'यह', 'हमेशा', 'से', 'पता', 'था', '।', 'END']\n",
      "['START', 'आंतरिक', 'खुशहाली', 'के', 'लिए', 'आनंदमय', 'अस्तित्व', 'के', 'लिए', 'एक', 'केमिकल', 'आधार', 'पैदा', 'करने', 'के', 'लिए', 'एक', 'टेक्नॉलजी', 'मौजूद', 'है', '।', 'END']\n",
      "['START', 'मैं', 'जिसे', '‘इनर', 'इंजीनरिंग’', 'कहता', 'हूँ', 'यह', 'उसका', 'एक', 'आयाम', 'है', '।', 'END']\n",
      "['START', 'अगर', 'आप', 'जागरूक', 'हैं', 'तो', 'आप', 'अपने', 'सिस्टम', 'को', 'इस', 'तरह', 'सक्रिय', 'कर', 'सकते', 'हैं', 'कि', 'साधारण', 'सांस', 'लेना', 'ही', 'जबरदस्त', 'सुख', 'होता', 'है', '।', 'END']\n",
      "['START', 'इसके', 'लिए', 'बस', 'आंतरिक', 'प्रणाली', 'पर', 'थोड़ा', 'ध्यान', 'देने', 'का', 'इच्छुक', 'होना', 'होगा', '।', 'END']\n",
      "['START', 'समझ', 'में', 'इस', 'बुनियादी', 'बदलाव', 'को', 'लाना', 'होगा', '।', 'END']\n",
      "['START', 'क्लेश', 'से', 'बाहर', 'आने', 'का', 'तरीका', 'मत', 'खोजिए', '।', 'END']\n",
      "['START', 'पीड़ा', 'से', 'बाहर', 'निकलने', 'का', 'रास्ता', 'मत', 'खोजिए', '।', 'END']\n",
      "['START', 'सिर्फ', 'एक', 'ही', 'रास्ता', 'है', 'और', 'वह', 'भीतर', 'है', '।', 'END']\n"
     ]
    }
   ],
   "source": [
    "# Tokenize each sentence into words\n",
    "tokenized_conversation = [indic_tokenize.trivial_tokenize(sentence) for sentence in append_start_token]\n",
    "\n",
    "# Print the tokenized conversation\n",
    "for sentence in tokenized_conversation:\n",
    "    print(sentence)"
   ]
  },
  {
   "cell_type": "markdown",
   "id": "1be76023",
   "metadata": {
    "id": "1be76023"
   },
   "source": [
    "This code counts the number of different words in the text data. The result is printed as \"Found X unique words,\" where X is the number of different words."
   ]
  },
  {
   "cell_type": "code",
   "execution_count": 11,
   "id": "16bed1b1",
   "metadata": {
    "colab": {
     "base_uri": "https://localhost:8080/"
    },
    "id": "16bed1b1",
    "outputId": "030df6a6-1f21-4398-86a4-0f1e6fd03e17"
   },
   "outputs": [
    {
     "name": "stdout",
     "output_type": "stream",
     "text": [
      "Found 720 unique word tokens.\n"
     ]
    }
   ],
   "source": [
    "# Count the word frequencies\n",
    "from collections import Counter\n",
    "word_freq = Counter(word for sent in tokenized_conversation for word in sent)\n",
    "print(\"Found %d unique word tokens.\" % len(word_freq))"
   ]
  },
  {
   "cell_type": "markdown",
   "id": "437f912d",
   "metadata": {
    "id": "437f912d"
   },
   "source": [
    "This code is building index-to-word and word-to-index mappings, as we are preparing the most common words."
   ]
  },
  {
   "cell_type": "code",
   "execution_count": 12,
   "id": "7c398266",
   "metadata": {
    "colab": {
     "base_uri": "https://localhost:8080/"
    },
    "id": "7c398266",
    "outputId": "91d6d758-da63-49d5-b6ba-e87d73c2c2dd"
   },
   "outputs": [
    {
     "name": "stdout",
     "output_type": "stream",
     "text": [
      "The least frequent word in our vocabulary is 'लाना' and appeared 1 times.\n"
     ]
    }
   ],
   "source": [
    "# Get the most common words and build index_to_word and word_to_index vectors\n",
    "vocabulary_size = len(word_freq)\n",
    "index_to_word = list(word_freq.keys())\n",
    "index_to_word.append(unknown_token)\n",
    "word_to_index = {w: i for i, w in enumerate(index_to_word)}\n",
    "print(\"The least frequent word in our vocabulary is '%s' and appeared %d times.\" % word_freq.most_common()[-1])"
   ]
  },
  {
   "cell_type": "markdown",
   "id": "21223367",
   "metadata": {
    "id": "21223367"
   },
   "source": [
    "This code goes over each sentence word by word and replaces words that are not in the vocabulary with the special word \"unknown_token\". It then prints the number of words in the vocabulary and shows an example sentence before and after this step. This makes sure that all words in the text are included in our vocabulary."
   ]
  },
  {
   "cell_type": "code",
   "execution_count": 13,
   "id": "a7011126",
   "metadata": {
    "colab": {
     "base_uri": "https://localhost:8080/"
    },
    "id": "a7011126",
    "outputId": "22ad2f9a-a559-424a-b31c-0825606e92a8"
   },
   "outputs": [
    {
     "name": "stdout",
     "output_type": "stream",
     "text": [
      "Using vocabulary size 720.\n",
      "\n",
      "Example sentence: 'अपने भीतर मुड़ना ही एकमात्र समाधान हैसद्गुरु की नवीनतम पुस्तक ‘इनर इंजीनरिंग’ से लिए गए इस अंश में सद्गुरु हमें स्थायी रूप से खुशहाली का अनुभव करने के एकमात्र तरीके से परिचित कराते हैं।'\n",
      "\n",
      "Example sentence after pre-processing: '['START', 'अपने', 'भीतर', 'मुड़ना', 'ही', 'एकमात्र', 'समाधान', 'हैसद्गुरु', 'की', 'नवीनतम', 'पुस्तक', '‘इनर', 'इंजीनरिंग’', 'से', 'लिए', 'गए', 'इस', 'अंश', 'में', 'सद्गुरु', 'हमें', 'स्थायी', 'रूप', 'से', 'खुशहाली', 'का', 'अनुभव', 'करने', 'के', 'एकमात्र', 'तरीके', 'से', 'परिचित', 'कराते', 'हैं', '।', 'END']'\n"
     ]
    }
   ],
   "source": [
    "# Replace all words not in our vocabulary with the unknown token\n",
    "for i, sent in enumerate(tokenized_conversation):\n",
    "    tokenized_conversation[i] = [w if w in word_freq else unknown_token for w in sent]\n",
    "\n",
    "print(\"Using vocabulary size %d.\" % vocabulary_size)\n",
    "\n",
    "print(\"\\nExample sentence: '%s'\" % sentences[0])\n",
    "print(\"\\nExample sentence after pre-processing: '%s'\" % tokenized_conversation[0])"
   ]
  },
  {
   "cell_type": "markdown",
   "id": "1862ca78",
   "metadata": {
    "id": "1862ca78"
   },
   "source": [
    "This code will print a list of the most common words in the text data, along with their respective frequencies. Thi step is useful for understanding which words are prevalent in the text and may be important for our task."
   ]
  },
  {
   "cell_type": "code",
   "execution_count": 14,
   "id": "3e8baa87",
   "metadata": {
    "colab": {
     "base_uri": "https://localhost:8080/"
    },
    "id": "3e8baa87",
    "outputId": "ec241781-37ca-40b7-d8dd-3666d6a9aa93"
   },
   "outputs": [
    {
     "name": "stdout",
     "output_type": "stream",
     "text": [
      "The most common words:\n",
      "'START': 127\n",
      "'।': 127\n",
      "'END': 127\n",
      "'है': 119\n",
      "'हैं': 81\n",
      "'एक': 49\n",
      "'की': 43\n",
      "'आप': 43\n",
      "'से': 40\n",
      "'के': 40\n",
      "'में': 38\n",
      "'और': 36\n",
      "'तो': 35\n",
      "'कि': 34\n",
      "'को': 33\n",
      "'नहीं': 31\n",
      "'यह': 27\n",
      "'वह': 23\n",
      "'का': 21\n",
      "'या': 20\n",
      "'अगर': 20\n",
      "'पर': 20\n",
      "'भीतर': 19\n",
      "'लेकिन': 18\n",
      "'हम': 18\n",
      "'लिए': 17\n",
      "'आपके': 17\n",
      "'अपने': 16\n",
      "'कर': 16\n",
      "'रहे': 16\n",
      "'ही': 15\n",
      "'उसे': 15\n",
      "'इस': 14\n",
      "'बस': 14\n",
      "'सकते': 14\n",
      "'भी': 13\n",
      "'चीज': 12\n",
      "'हो': 12\n",
      "'क्या': 12\n",
      "'अनुभव': 11\n",
      "'किया': 11\n",
      "'जीवन': 11\n",
      "'किसी': 11\n",
      "'आपकी': 11\n",
      "'जब': 11\n",
      "'आनंद': 11\n",
      "'बाहर': 11\n",
      "'रूप': 10\n",
      "'तक': 10\n",
      "'हर': 10\n",
      "'बहुत': 10\n",
      "'था': 10\n",
      "'रहा': 10\n",
      "'साथ': 10\n",
      "'प्रसन्नता': 10\n",
      "'कहते': 10\n",
      "'फिर': 9\n",
      "'होता': 9\n",
      "'दुनिया': 9\n",
      "'सबसे': 9\n",
      "'सुखद': 9\n",
      "'खुशहाली': 8\n",
      "'अपनी': 8\n",
      "'दिन': 8\n",
      "'कोई': 8\n",
      "'ऐसा': 8\n",
      "'आपको': 8\n",
      "'सकता': 8\n",
      "'करने': 7\n",
      "'हों': 7\n",
      "'कभी': 7\n",
      "'आपका': 7\n",
      "'आंतरिक': 7\n",
      "'तरह': 7\n",
      "'तीतर': 7\n",
      "'आपने': 6\n",
      "'खुशी': 6\n",
      "'गया': 6\n",
      "'होते': 6\n",
      "'सिर्फ': 6\n",
      "'वे': 6\n",
      "'चीजें': 6\n",
      "'पहुंच': 6\n",
      "'बाहरी': 6\n",
      "'ठीक': 6\n",
      "'करते': 6\n",
      "'बन': 6\n",
      "'ने': 6\n",
      "'साधारण': 5\n",
      "'चाहते': 5\n",
      "'धरती': 5\n",
      "'जाता': 5\n",
      "'हमारे': 5\n",
      "'आज': 5\n",
      "'बिना': 5\n",
      "'काम': 5\n",
      "'मानव': 5\n",
      "'जो': 5\n",
      "'इसे': 5\n",
      "'शरीर': 5\n",
      "'मन': 5\n",
      "'शांति': 5\n",
      "'जरूरत': 5\n",
      "'कहा': 5\n",
      "'जा': 5\n",
      "'पास': 5\n",
      "'पूरी': 5\n",
      "'बैल': 5\n",
      "'अब': 4\n",
      "'शुरू': 4\n",
      "'पैदा': 4\n",
      "'पेट': 4\n",
      "'इंसान': 4\n",
      "'जाती': 4\n",
      "'जीवनसंरक्षण': 4\n",
      "'उसके': 4\n",
      "'पहले': 4\n",
      "'साल': 4\n",
      "'कोशिश': 4\n",
      "'ज्यादा': 4\n",
      "'समय': 4\n",
      "'सुख': 4\n",
      "'परमानंद': 4\n",
      "'सफलता': 4\n",
      "'दिया': 4\n",
      "'आनंदमय': 4\n",
      "'बात': 4\n",
      "'हमेशा': 4\n",
      "'होने': 4\n",
      "'होना': 4\n",
      "'सकती': 4\n",
      "'कम': 4\n",
      "'ये': 4\n",
      "'प्रणाली': 4\n",
      "'कहां': 4\n",
      "'डाल': 4\n",
      "'रास्ता': 4\n",
      "'एकमात्र': 3\n",
      "'तरीके': 3\n",
      "'चाहे': 3\n",
      "'क्योंकि': 3\n",
      "'कहीं': 3\n",
      "'दूसरे': 3\n",
      "'हुए': 3\n",
      "'सरल': 3\n",
      "'भर': 3\n",
      "'पल': 3\n",
      "'समस्या': 3\n",
      "'रख': 3\n",
      "'लोगों': 3\n",
      "'पूरे': 3\n",
      "'घर': 3\n",
      "'ओर': 3\n",
      "'शांत': 3\n",
      "'क्यों': 3\n",
      "'कितने': 3\n",
      "'पूरा': 3\n",
      "'महसूस': 3\n",
      "'करता': 3\n",
      "'खोज': 3\n",
      "'होती': 3\n",
      "'कितनी': 3\n",
      "'बार': 3\n",
      "'वहां': 3\n",
      "'कुछ': 3\n",
      "'लोग': 3\n",
      "'प्रसन्न': 3\n",
      "'तब': 3\n",
      "'स्वाभाविक': 3\n",
      "'निर्देश': 3\n",
      "'देने': 3\n",
      "'इसके': 3\n",
      "'हासिल': 3\n",
      "'होगा': 3\n",
      "'वैज्ञानिक': 3\n",
      "'प्रमाण': 3\n",
      "'ऊर्जा': 3\n",
      "'क्लेश': 3\n",
      "'सोचते': 3\n",
      "'सपना': 3\n",
      "'उसने': 3\n",
      "'चाहिए': 3\n",
      "'अभी': 3\n",
      "'ले': 3\n",
      "'टेक्नॉलजी': 3\n",
      "'खुद': 3\n",
      "'मत': 3\n",
      "'मैं': 3\n",
      "'’': 3\n",
      "'किस्म': 3\n",
      "'निकलने': 3\n",
      "'आधार': 3\n",
      "'पीड़ा': 3\n",
      "'हाथ': 3\n",
      "'केमेस्ट्री': 3\n",
      "'‘इनर': 2\n",
      "'इंजीनरिंग’': 2\n",
      "'सद्गुरु': 2\n",
      "'हमें': 2\n",
      "'बेहतर': 2\n",
      "'खोजा': 2\n",
      "'परिवार': 2\n",
      "'सब': 2\n",
      "'इसलिए': 2\n",
      "'खाना': 2\n",
      "'जाए': 2\n",
      "'शानदार': 2\n",
      "'जिस': 2\n",
      "'काफी': 2\n",
      "'आते': 2\n",
      "'बदल': 2\n",
      "'हुआ': 2\n",
      "'सवाल': 2\n",
      "'लगते': 2\n",
      "'पीढ़ी': 2\n",
      "'प्रक्रिया': 2\n",
      "'इससे': 2\n",
      "'सौ': 2\n",
      "'थे': 2\n",
      "'रहने': 2\n",
      "'वाली': 2\n",
      "'माहौल': 2\n",
      "'बेहतरीन': 2\n",
      "'देखने': 2\n",
      "'कैसे': 2\n",
      "'जिसने': 2\n",
      "'उन': 2\n",
      "'तौर': 2\n",
      "'अपना': 2\n",
      "'यही': 2\n",
      "'भावना': 2\n",
      "'बनती': 2\n",
      "'नाम': 2\n",
      "'स्वर्ग': 2\n",
      "'जाना': 2\n",
      "'मुख्य': 2\n",
      "'सारे': 2\n",
      "'अप्रसन्नता': 2\n",
      "'चौबीस': 2\n",
      "'घंटे': 2\n",
      "'वैसा': 2\n",
      "'जैसा': 2\n",
      "'जाते': 2\n",
      "'देती': 2\n",
      "'आपसे': 2\n",
      "'कहता': 2\n",
      "'चकनाचूर': 2\n",
      "'लगता': 2\n",
      "'अच्छे': 2\n",
      "'उसका': 2\n",
      "'परिणाम': 2\n",
      "'बनाने': 2\n",
      "'बुनियादी': 2\n",
      "'जिसे': 2\n",
      "'रहती': 2\n",
      "'अवस्थाओं': 2\n",
      "'बीच': 2\n",
      "'शराब': 2\n",
      "'सच्चाई': 2\n",
      "'विचारों': 2\n",
      "'भावनाओं': 2\n",
      "'लेने': 2\n",
      "'सपने': 2\n",
      "'गई': 2\n",
      "'आया': 2\n",
      "'आदमी': 2\n",
      "'पाया': 2\n",
      "'आने': 2\n",
      "'लगा': 2\n",
      "'मेरे': 2\n",
      "'है’': 2\n",
      "'मुताबिक': 2\n",
      "'मानवीय': 2\n",
      "'जानते': 2\n",
      "'मानवता': 2\n",
      "'बड़ी': 2\n",
      "'सही': 2\n",
      "'खेत': 2\n",
      "'पेड़': 2\n",
      "'उस': 2\n",
      "'ऊंची': 2\n",
      "'पहली': 2\n",
      "'थोड़ा': 2\n",
      "'गोबर': 2\n",
      "'देखो': 2\n",
      "'कहानी': 2\n",
      "'स्थितियों': 2\n",
      "'तरीका': 2\n",
      "'बदलाव': 2\n",
      "'स्रोत': 2\n",
      "'वेदना': 2\n",
      "'उत्प्रेरक': 2\n",
      "'देखते': 2\n",
      "'देख': 2\n",
      "'वस्तु': 2\n",
      "'असल': 2\n",
      "'हुई': 2\n",
      "'स्वयं': 2\n",
      "'सिस्टम': 2\n",
      "'उन्होंने': 2\n",
      "'केमिकल': 2\n",
      "'खास': 2\n",
      "'खोजिए': 2\n",
      "'मुड़ना': 1\n",
      "'समाधान': 1\n",
      "'हैसद्गुरु': 1\n",
      "'नवीनतम': 1\n",
      "'पुस्तक': 1\n",
      "'गए': 1\n",
      "'अंश': 1\n",
      "'स्थायी': 1\n",
      "'परिचित': 1\n",
      "'कराते': 1\n",
      "'जिंदगी': 1\n",
      "'तलाश': 1\n",
      "'करियर': 1\n",
      "'कारोबार': 1\n",
      "'पैसे': 1\n",
      "'कमाए': 1\n",
      "'पालापोसा': 1\n",
      "'सी': 1\n",
      "'थेः': 1\n",
      "'रास्ते': 1\n",
      "'न': 1\n",
      "'उलझ': 1\n",
      "'जीव': 1\n",
      "'जरूरतें': 1\n",
      "'शारीरिक': 1\n",
      "'होतीं': 1\n",
      "'मिल': 1\n",
      "'कहलाता': 1\n",
      "'कुत्ते': 1\n",
      "'बिल्ली': 1\n",
      "'गौर': 1\n",
      "'कीजिएः': 1\n",
      "'उनका': 1\n",
      "'शांतिमय': 1\n",
      "'खाली': 1\n",
      "'हैः': 1\n",
      "'भूख': 1\n",
      "'भरा': 1\n",
      "'सैकड़ों': 1\n",
      "'समस्याएं': 1\n",
      "'बड़ा': 1\n",
      "'मुद्दा': 1\n",
      "'मुद्दे': 1\n",
      "'ख्याल': 1\n",
      "'लिया': 1\n",
      "'मायने': 1\n",
      "'कारण': 1\n",
      "'खत्म': 1\n",
      "'हमारी': 1\n",
      "'नियोजित': 1\n",
      "'सुपरमार्केट': 1\n",
      "'जाकर': 1\n",
      "'जरूरतों': 1\n",
      "'खरीद': 1\n",
      "'निकले': 1\n",
      "'इतिहास': 1\n",
      "'संभव': 1\n",
      "'राजामहाराजा': 1\n",
      "'आम': 1\n",
      "'नागरिक': 1\n",
      "'आरामदेह': 1\n",
      "'हमने': 1\n",
      "'बचेगी': 1\n",
      "'निश्चित': 1\n",
      "'कह': 1\n",
      "'पुरखों': 1\n",
      "'खुश': 1\n",
      "'प्रेममय': 1\n",
      "'गलत': 1\n",
      "'ऐसी': 1\n",
      "'रहना': 1\n",
      "'जारी': 1\n",
      "'हजार': 1\n",
      "'योजनाओं': 1\n",
      "'जीने': 1\n",
      "'वाले': 1\n",
      "'जिन्होंने': 1\n",
      "'साफ': 1\n",
      "'वादा': 1\n",
      "'नजरिया': 1\n",
      "'बदलने': 1\n",
      "'किसे': 1\n",
      "'मानते': 1\n",
      "'बिलकुल': 1\n",
      "'सीधे': 1\n",
      "'गहरी': 1\n",
      "'स्वास्थ्य': 1\n",
      "'बनता': 1\n",
      "'ख़ुशी': 1\n",
      "'प्रेम': 1\n",
      "'करुणा': 1\n",
      "'ऊर्जाएं': 1\n",
      "'ता': 1\n",
      "'चारों': 1\n",
      "'इनमें': 1\n",
      "'रुचि': 1\n",
      "'दूसरी': 1\n",
      "'बदलते': 1\n",
      "'स्तरों': 1\n",
      "'चिंता': 1\n",
      "'बेचैनी': 1\n",
      "'चिढ़': 1\n",
      "'तनाव': 1\n",
      "'निरी': 1\n",
      "'पिछली': 1\n",
      "'कब': 1\n",
      "'हैरानी': 1\n",
      "'ज्यादातर': 1\n",
      "'बीता': 1\n",
      "'यकीनन': 1\n",
      "'अस्थाई': 1\n",
      "'कायम': 1\n",
      "'पाते': 1\n",
      "'गिरते': 1\n",
      "'रहते': 1\n",
      "'गिरने': 1\n",
      "'भीषण': 1\n",
      "'संतुलन': 1\n",
      "'फेंक': 1\n",
      "'बेतरतीब': 1\n",
      "'सुंदर': 1\n",
      "'व्यक्ति': 1\n",
      "'सातवें': 1\n",
      "'आसमान': 1\n",
      "'तैरने': 1\n",
      "'लौटते': 1\n",
      "'बताते': 1\n",
      "'वाकई': 1\n",
      "'कौन': 1\n",
      "'जानापहचाना': 1\n",
      "'अवस्था': 1\n",
      "'आसपास': 1\n",
      "'मधुर': 1\n",
      "'दूसरों': 1\n",
      "'धर्मग्रंथ': 1\n",
      "'दर्शन': 1\n",
      "'अच्छा': 1\n",
      "'समाज': 1\n",
      "'अचूक': 1\n",
      "'बीमा': 1\n",
      "'अलावा': 1\n",
      "'निर्भर': 1\n",
      "'करती': 1\n",
      "'कौशल': 1\n",
      "'उपयोग': 1\n",
      "'गुण': 1\n",
      "'बढ़कर': 1\n",
      "'पर्याप्त': 1\n",
      "'मेडिकल': 1\n",
      "'स्तर': 1\n",
      "'रह': 1\n",
      "'बौद्धिक': 1\n",
      "'क्षमताएं': 1\n",
      "'लगभग': 1\n",
      "'दुगनी': 1\n",
      "'झमेले': 1\n",
      "'ठिकाने': 1\n",
      "'लगाने': 1\n",
      "'स्पष्टता': 1\n",
      "'उजागर': 1\n",
      "'‘मैं’': 1\n",
      "'दुखी': 1\n",
      "'बेचैन': 1\n",
      "'वही': 1\n",
      "'विकल्प': 1\n",
      "'किस': 1\n",
      "'अभिव्यक्ति': 1\n",
      "'पाए': 1\n",
      "'चुनते': 1\n",
      "'इसका': 1\n",
      "'उत्तर': 1\n",
      "'स्पष्ट': 1\n",
      "'इंसानइंसान': 1\n",
      "'पैसा': 1\n",
      "'कमाने': 1\n",
      "'पी': 1\n",
      "'जाने': 1\n",
      "'लक्ष्य': 1\n",
      "'जबकि': 1\n",
      "'ईश्वर': 1\n",
      "'खड़ी': 1\n",
      "'बजाय': 1\n",
      "'बनाइए': 1\n",
      "'महिला': 1\n",
      "'सोने': 1\n",
      "'नींद': 1\n",
      "'हृष्टपुष्ट': 1\n",
      "'घूरते': 1\n",
      "'इतना': 1\n",
      "'उसकी': 1\n",
      "'सांसों': 1\n",
      "'थी': 1\n",
      "'सिहर': 1\n",
      "'उठी': 1\n",
      "'डर': 1\n",
      "'पूछा': 1\n",
      "'‘तुम': 1\n",
      "'करोगे’': 1\n",
      "'बोला': 1\n",
      "'‘वैसे': 1\n",
      "'मैडम': 1\n",
      "'दिमाग': 1\n",
      "'चल': 1\n",
      "'चलती': 1\n",
      "'वैसे': 1\n",
      "'चलना': 1\n",
      "'जैसे': 1\n",
      "'संयोग': 1\n",
      "'संभाल': 1\n",
      "'परिष्कृत': 1\n",
      "'भौतिक': 1\n",
      "'मिसाल': 1\n",
      "'कीबोर्ड': 1\n",
      "'स्वरूप': 1\n",
      "'परेशान': 1\n",
      "'रही': 1\n",
      "'आजीविका': 1\n",
      "'कमाना': 1\n",
      "'बच्चे': 1\n",
      "'करना': 1\n",
      "'चलाना': 1\n",
      "'मर': 1\n",
      "'चुनौती': 1\n",
      "'अचरज': 1\n",
      "'कीड़ा': 1\n",
      "'कीट': 1\n",
      "'पशु': 1\n",
      "'पक्षी': 1\n",
      "'सहजता': 1\n",
      "'कितना': 1\n",
      "'संघर्ष': 1\n",
      "'सीधेसीधे': 1\n",
      "'कहें': 1\n",
      "'हमारा': 1\n",
      "'पर्यावरण': 1\n",
      "'झमेला': 1\n",
      "'हालात': 1\n",
      "'जाएगी': 1\n",
      "'पिछले': 1\n",
      "'आराम': 1\n",
      "'सुविधाएं': 1\n",
      "'लाएगी': 1\n",
      "'समझने': 1\n",
      "'होंगी': 1\n",
      "'सच': 1\n",
      "'बल्कि': 1\n",
      "'भीतरी': 1\n",
      "'मूर्ख': 1\n",
      "'बनाएं': 1\n",
      "'घास': 1\n",
      "'चर': 1\n",
      "'चिपकी': 1\n",
      "'किलनी': 1\n",
      "'खा': 1\n",
      "'बढ़िया': 1\n",
      "'साझेदारी': 1\n",
      "'किनारे': 1\n",
      "'बड़े': 1\n",
      "'देखकर': 1\n",
      "'‘आह': 1\n",
      "'उड़': 1\n",
      "'पंख': 1\n",
      "'इतनी': 1\n",
      "'ताकत': 1\n",
      "'सकूं': 1\n",
      "'निर्लिप्त': 1\n",
      "'भाव': 1\n",
      "'‘हर': 1\n",
      "'मेरा': 1\n",
      "'खाओ': 1\n",
      "'दो': 1\n",
      "'सप्ताह': 1\n",
      "'तुम': 1\n",
      "'ऊपर': 1\n",
      "'जाओगे': 1\n",
      "'‘अरे': 1\n",
      "'छोड़ो': 1\n",
      "'कैसी': 1\n",
      "'बकवास': 1\n",
      "'बेकार': 1\n",
      "'‘आजमाकर': 1\n",
      "'इसी': 1\n",
      "'बल': 1\n",
      "'हिचकते': 1\n",
      "'पखवाड़े': 1\n",
      "'बैठकर': 1\n",
      "'दृष्य': 1\n",
      "'बूढ़ा': 1\n",
      "'किसान': 1\n",
      "'झूलने': 1\n",
      "'कुर्सी': 1\n",
      "'झूल': 1\n",
      "'मोटे': 1\n",
      "'बूढ़े': 1\n",
      "'देखा': 1\n",
      "'बंदूक': 1\n",
      "'निकाली': 1\n",
      "'मारकर': 1\n",
      "'गिरा': 1\n",
      "'सीख': 1\n",
      "'मूर्खतापूर्ण': 1\n",
      "'चीज़ें': 1\n",
      "'बुलशिट': 1\n",
      "'ऊंचाई': 1\n",
      "'टिकने': 1\n",
      "'देतीं': 1\n",
      "'व्यर्थ': 1\n",
      "'भावनात्मक': 1\n",
      "'जुटा': 1\n",
      "'टिकती': 1\n",
      "'मौसम': 1\n",
      "'नीचे': 1\n",
      "'ला': 1\n",
      "'स्टॉक': 1\n",
      "'मार्केट': 1\n",
      "'ढेर': 1\n",
      "'अपेक्षा': 1\n",
      "'जीना': 1\n",
      "'बुरा': 1\n",
      "'गुलाम': 1\n",
      "'अनिश्चित': 1\n",
      "'हालत': 1\n",
      "'रहेगा': 1\n",
      "'दूसरा': 1\n",
      "'मूलभूत': 1\n",
      "'परिवर्तन': 1\n",
      "'दिशा': 1\n",
      "'उकसाया': 1\n",
      "'प्रेरित': 1\n",
      "'नादानी': 1\n",
      "'उकसाव': 1\n",
      "'इस्तेमाल': 1\n",
      "'असली': 1\n",
      "'आती': 1\n",
      "'पढ़': 1\n",
      "'लिखावट': 1\n",
      "'उंगली': 1\n",
      "'इशारा': 1\n",
      "'कीजिए': 1\n",
      "'प्रतिबिंब': 1\n",
      "'सोचिए': 1\n",
      "'याद': 1\n",
      "'प्रकाश': 1\n",
      "'गिर': 1\n",
      "'परावर्तित': 1\n",
      "'आंखों': 1\n",
      "'लेंस': 1\n",
      "'अंदर': 1\n",
      "'रेटिना': 1\n",
      "'उल्टी': 1\n",
      "'छवि': 1\n",
      "'बना': 1\n",
      "'रोशनी': 1\n",
      "'अंधेरा': 1\n",
      "'सभी': 1\n",
      "'छूता': 1\n",
      "'लग': 1\n",
      "'संवेदना': 1\n",
      "'सीमित': 1\n",
      "'इंसानी': 1\n",
      "'प्रतिशत': 1\n",
      "'स्वनिर्मित': 1\n",
      "'विचार': 1\n",
      "'भावनाएं': 1\n",
      "'बनाई': 1\n",
      "'उन्हें': 1\n",
      "'मनचाहे': 1\n",
      "'गढ़': 1\n",
      "'अल्कोहल': 1\n",
      "'बूंद': 1\n",
      "'सेवन': 1\n",
      "'किए': 1\n",
      "'मदहोश': 1\n",
      "'इज़रायल': 1\n",
      "'राफेल': 1\n",
      "'मैकोलम': 1\n",
      "'शोध': 1\n",
      "'दल': 1\n",
      "'परियोजना': 1\n",
      "'शुरु': 1\n",
      "'जिसमें': 1\n",
      "'आखिरकार': 1\n",
      "'‘आनंद': 1\n",
      "'अणु’': 1\n",
      "'प्रथक': 1\n",
      "'शब्दों': 1\n",
      "'मस्तिष्क': 1\n",
      "'भांग': 1\n",
      "'ग्राही': 1\n",
      "'कोशिकाएं': 1\n",
      "'मादक': 1\n",
      "'पदार्थ': 1\n",
      "'सक्षम': 1\n",
      "'खुमारी': 1\n",
      "'संस्कृत': 1\n",
      "'शब्द': 1\n",
      "'विशेष': 1\n",
      "'‘आनंदामाइड’': 1\n",
      "'निष्कर्ष': 1\n",
      "'निकाल': 1\n",
      "'रासायनिकता': 1\n",
      "'द्वारा': 1\n",
      "'योग': 1\n",
      "'पता': 1\n",
      "'अस्तित्व': 1\n",
      "'मौजूद': 1\n",
      "'हूँ': 1\n",
      "'आयाम': 1\n",
      "'जागरूक': 1\n",
      "'सक्रिय': 1\n",
      "'सांस': 1\n",
      "'लेना': 1\n",
      "'जबरदस्त': 1\n",
      "'ध्यान': 1\n",
      "'इच्छुक': 1\n",
      "'समझ': 1\n",
      "'लाना': 1\n"
     ]
    }
   ],
   "source": [
    "# Get the most common words\n",
    "most_common_words = word_freq.most_common()\n",
    "print(\"The most common words:\")\n",
    "for word, frequency in most_common_words:\n",
    "    print(f\"'{word}': {frequency}\")"
   ]
  },
  {
   "cell_type": "code",
   "execution_count": 15,
   "id": "20be4bf2",
   "metadata": {
    "colab": {
     "base_uri": "https://localhost:8080/"
    },
    "id": "20be4bf2",
    "outputId": "d23bacd7-b3e9-4f34-f0c1-91b5fe49029b"
   },
   "outputs": [
    {
     "data": {
      "text/plain": [
       "['START अपने भीतर मुड़ना ही एकमात्र समाधान हैसद्गुरु की नवीनतम पुस्तक ‘इनर इंजीनरिंग’ से लिए गए इस अंश में सद्गुरु हमें स्थायी रूप से खुशहाली का अनुभव करने के एकमात्र तरीके से परिचित कराते हैं। END',\n",
       " 'START सद्गुरु आपने अपनी जिंदगी में अब तक हर चीज बस एक चीज की तलाश में की है। END',\n",
       " 'START चाहे आपने बेहतर करियर खोजा हो कारोबार शुरू किया हो पैसे कमाए हों या फिर परिवार को पालापोसा हो यह सब आपने इसलिए किया क्योंकि आप बस एक साधारण सी चीज चाहते थेः खुशी। END',\n",
       " 'START लेकिन रास्ते में कहीं न कहीं जीवन उलझ गया। END',\n",
       " 'START अगर आप इस धरती पर किसी दूसरे जीव के रूप में पैदा हुए होते तो वह बहुत सरल होता। END']"
      ]
     },
     "execution_count": 15,
     "metadata": {},
     "output_type": "execute_result"
    }
   ],
   "source": [
    "append_start_token[:5]"
   ]
  },
  {
   "cell_type": "markdown",
   "id": "5462a7e5",
   "metadata": {
    "id": "5462a7e5"
   },
   "source": [
    "## Ngrams:\n",
    "\n",
    "We use the Counter class from Python to count the number of times pairs of words (bigrams), triples of words (trigrams), and so on appear in the text. We also use the %time magic command to measure how long the code takes to run.\n",
    "\n",
    "The code prints the 10 most common pairs, triples, and so on, along with their counts. This is useful for finding patterns and relationships between words in the text."
   ]
  },
  {
   "cell_type": "code",
   "execution_count": 16,
   "id": "971cebf8",
   "metadata": {
    "colab": {
     "base_uri": "https://localhost:8080/"
    },
    "id": "971cebf8",
    "outputId": "161cc2cf-864d-49e4-e11c-dd235cc657dd"
   },
   "outputs": [
    {
     "name": "stdout",
     "output_type": "stream",
     "text": [
      "CPU times: user 2.56 ms, sys: 134 µs, total: 2.69 ms\n",
      "Wall time: 2.73 ms\n"
     ]
    },
    {
     "data": {
      "text/plain": [
       "[(('है', 'कि'), 17),\n",
       " (('के', 'लिए'), 14),\n",
       " (('है', 'तो'), 11),\n",
       " (('सकते', 'हैं'), 9),\n",
       " (('हम', 'उसे'), 8),\n",
       " (('कहते', 'हैं।'), 8),\n",
       " (('हैं।', 'अगर'), 8),\n",
       " (('हैं', 'कि'), 8),\n",
       " (('तो', 'हम'), 7),\n",
       " (('रहे', 'हैं'), 7)]"
      ]
     },
     "execution_count": 16,
     "metadata": {},
     "output_type": "execute_result"
    }
   ],
   "source": [
    "%%time\n",
    "from collections import Counter\n",
    "from nltk import ngrams\n",
    "bigram_counts = Counter(ngrams(text.split(), 2))\n",
    "bigram_counts.most_common(10)"
   ]
  },
  {
   "cell_type": "code",
   "execution_count": 17,
   "id": "d7169300",
   "metadata": {
    "colab": {
     "base_uri": "https://localhost:8080/"
    },
    "id": "d7169300",
    "outputId": "31558243-c86f-4817-bb5f-56a6991c6e8f"
   },
   "outputs": [
    {
     "name": "stdout",
     "output_type": "stream",
     "text": [
      "CPU times: user 1.87 ms, sys: 208 µs, total: 2.08 ms\n",
      "Wall time: 2.09 ms\n"
     ]
    },
    {
     "data": {
      "text/plain": [
       "[(('है', 'कि'), 17),\n",
       " (('के', 'लिए'), 14),\n",
       " (('है', 'तो'), 11),\n",
       " (('सकते', 'हैं'), 9),\n",
       " (('हम', 'उसे'), 8),\n",
       " (('कहते', 'हैं।'), 8),\n",
       " (('हैं।', 'अगर'), 8),\n",
       " (('हैं', 'कि'), 8),\n",
       " (('तो', 'हम'), 7),\n",
       " (('रहे', 'हैं'), 7)]"
      ]
     },
     "execution_count": 17,
     "metadata": {},
     "output_type": "execute_result"
    }
   ],
   "source": [
    "%%time\n",
    "import collections\n",
    "def ngrams(text, n=2):\n",
    "    return zip(*[text[i:] for i in range(n)])\n",
    "bigram_counts = collections.Counter(ngrams(text.split(), 2))\n",
    "bigram_counts.most_common(10)"
   ]
  },
  {
   "cell_type": "code",
   "execution_count": 18,
   "id": "8b73bcd9",
   "metadata": {
    "colab": {
     "base_uri": "https://localhost:8080/"
    },
    "id": "8b73bcd9",
    "outputId": "0a45df94-b2ee-424e-fe1a-f075f48e0df2"
   },
   "outputs": [
    {
     "data": {
      "text/plain": [
       "[(('तो', 'हम', 'उसे'), 7),\n",
       " (('है', 'तो', 'हम'), 6),\n",
       " (('कहते', 'हैं।', 'अगर'), 6),\n",
       " (('यह', 'है', 'कि'), 5),\n",
       " (('के', 'रूप', 'में'), 4),\n",
       " (('बहुत', 'सुखद', 'बन'), 4),\n",
       " (('है', 'कि', 'आप'), 4),\n",
       " (('इस', 'धरती', 'पर'), 3),\n",
       " (('कर', 'सकते', 'हैं'), 3),\n",
       " (('करने', 'के', 'लिए'), 3)]"
      ]
     },
     "execution_count": 18,
     "metadata": {},
     "output_type": "execute_result"
    }
   ],
   "source": [
    "trigram_counts = Counter(ngrams(text.split(), 3))\n",
    "trigram_counts.most_common(10)"
   ]
  },
  {
   "cell_type": "code",
   "execution_count": 19,
   "id": "6f852533",
   "metadata": {
    "colab": {
     "base_uri": "https://localhost:8080/"
    },
    "id": "6f852533",
    "outputId": "215caa91-d5bd-40dc-94af-3dce46501579"
   },
   "outputs": [
    {
     "data": {
      "text/plain": [
       "[(('है', 'तो', 'हम', 'उसे'), 6),\n",
       " (('अगर', 'वह', 'बहुत', 'सुखद'), 3),\n",
       " (('वह', 'बहुत', 'सुखद', 'बन'), 3),\n",
       " (('सुखद', 'बन', 'जाता', 'है'), 3),\n",
       " (('बन', 'जाता', 'है', 'तो'), 3),\n",
       " (('की', 'कोशिश', 'कर', 'रहे'), 3),\n",
       " (('बाहर', 'निकलने', 'का', 'रास्ता'), 3),\n",
       " (('हैं।', 'लेकिन', 'जब', 'आप'), 2),\n",
       " (('हैं।', 'ऐसा', 'क्यों', 'है'), 2),\n",
       " (('कहते', 'हैं।', 'अगर', 'वह'), 2)]"
      ]
     },
     "execution_count": 19,
     "metadata": {},
     "output_type": "execute_result"
    }
   ],
   "source": [
    "quadgram_counts = Counter(ngrams(text.replace('&', 'i').split(), 4))\n",
    "quadgram_counts.most_common(10)"
   ]
  },
  {
   "cell_type": "code",
   "execution_count": 20,
   "id": "13dd96c2",
   "metadata": {
    "colab": {
     "base_uri": "https://localhost:8080/"
    },
    "id": "13dd96c2",
    "outputId": "3218bfe0-7f96-495f-a60b-441010de47a2"
   },
   "outputs": [
    {
     "data": {
      "text/plain": [
       "[(('अगर', 'वह', 'बहुत', 'सुखद', 'बन'), 3),\n",
       " (('सुखद', 'बन', 'जाता', 'है', 'तो'), 3),\n",
       " (('कहते', 'हैं।', 'अगर', 'वह', 'बहुत'), 2),\n",
       " (('हैं।', 'अगर', 'वह', 'बहुत', 'सुखद'), 2),\n",
       " (('वह', 'बहुत', 'सुखद', 'बन', 'जाता'), 2),\n",
       " (('बहुत', 'सुखद', 'बन', 'जाता', 'है'), 2),\n",
       " (('बन', 'जाता', 'है', 'तो', 'हम'), 2),\n",
       " (('जाता', 'है', 'तो', 'हम', 'उसे'), 2),\n",
       " (('की', 'कोशिश', 'कर', 'रहे', 'हों'), 2),\n",
       " (('हैं', 'लेकिन', 'समस्या', 'यह', 'है'), 2)]"
      ]
     },
     "execution_count": 20,
     "metadata": {},
     "output_type": "execute_result"
    }
   ],
   "source": [
    "pentagram_counts = Counter(ngrams(text.split(), 5))\n",
    "pentagram_counts.most_common(10)"
   ]
  },
  {
   "cell_type": "code",
   "execution_count": 21,
   "id": "2d0c2ac3",
   "metadata": {
    "colab": {
     "base_uri": "https://localhost:8080/"
    },
    "id": "2d0c2ac3",
    "outputId": "9ab2640a-4f41-4167-b6d6-62329565c7ce"
   },
   "outputs": [
    {
     "data": {
      "text/plain": [
       "[(('कहते', 'हैं।', 'अगर', 'वह', 'बहुत', 'सुखद'), 2),\n",
       " (('हैं।', 'अगर', 'वह', 'बहुत', 'सुखद', 'बन'), 2),\n",
       " (('अगर', 'वह', 'बहुत', 'सुखद', 'बन', 'जाता'), 2),\n",
       " (('वह', 'बहुत', 'सुखद', 'बन', 'जाता', 'है'), 2),\n",
       " (('बहुत', 'सुखद', 'बन', 'जाता', 'है', 'तो'), 2),\n",
       " (('सुखद', 'बन', 'जाता', 'है', 'तो', 'हम'), 2),\n",
       " (('बन', 'जाता', 'है', 'तो', 'हम', 'उसे'), 2),\n",
       " (('हैं', 'लेकिन', 'समस्या', 'यह', 'है', 'कि'), 2),\n",
       " (('अपने', 'भीतर', 'मुड़ना', 'ही', 'एकमात्र', 'समाधान'), 1),\n",
       " (('भीतर', 'मुड़ना', 'ही', 'एकमात्र', 'समाधान', 'हैसद्गुरु'), 1)]"
      ]
     },
     "execution_count": 21,
     "metadata": {},
     "output_type": "execute_result"
    }
   ],
   "source": [
    "hexagram_counts = Counter(ngrams(text.split(), 6))\n",
    "hexagram_counts.most_common(10)"
   ]
  },
  {
   "cell_type": "code",
   "execution_count": 22,
   "id": "2a337a70",
   "metadata": {
    "colab": {
     "base_uri": "https://localhost:8080/"
    },
    "id": "2a337a70",
    "outputId": "5ba96686-6f0a-4d82-e748-4e3a3c169bd3"
   },
   "outputs": [
    {
     "data": {
      "text/plain": [
       "[(('कहते', 'हैं।', 'अगर', 'वह', 'बहुत', 'सुखद', 'बन'), 2),\n",
       " (('हैं।', 'अगर', 'वह', 'बहुत', 'सुखद', 'बन', 'जाता'), 2),\n",
       " (('अगर', 'वह', 'बहुत', 'सुखद', 'बन', 'जाता', 'है'), 2),\n",
       " (('वह', 'बहुत', 'सुखद', 'बन', 'जाता', 'है', 'तो'), 2),\n",
       " (('बहुत', 'सुखद', 'बन', 'जाता', 'है', 'तो', 'हम'), 2),\n",
       " (('सुखद', 'बन', 'जाता', 'है', 'तो', 'हम', 'उसे'), 2),\n",
       " (('अपने', 'भीतर', 'मुड़ना', 'ही', 'एकमात्र', 'समाधान', 'हैसद्गुरु'), 1),\n",
       " (('भीतर', 'मुड़ना', 'ही', 'एकमात्र', 'समाधान', 'हैसद्गुरु', 'की'), 1),\n",
       " (('मुड़ना', 'ही', 'एकमात्र', 'समाधान', 'हैसद्गुरु', 'की', 'नवीनतम'), 1),\n",
       " (('ही', 'एकमात्र', 'समाधान', 'हैसद्गुरु', 'की', 'नवीनतम', 'पुस्तक'), 1)]"
      ]
     },
     "execution_count": 22,
     "metadata": {},
     "output_type": "execute_result"
    }
   ],
   "source": [
    "heptagram_counts = Counter(ngrams(text.split(), 7))\n",
    "heptagram_counts.most_common(10)"
   ]
  },
  {
   "cell_type": "code",
   "execution_count": 23,
   "id": "321944d5",
   "metadata": {
    "colab": {
     "base_uri": "https://localhost:8080/"
    },
    "id": "321944d5",
    "outputId": "0f3d9e7f-75b9-40a5-f386-fb352e7d26eb"
   },
   "outputs": [
    {
     "data": {
      "text/plain": [
       "[(('कहते', 'हैं।', 'अगर', 'वह', 'बहुत', 'सुखद', 'बन', 'जाता'), 2),\n",
       " (('हैं।', 'अगर', 'वह', 'बहुत', 'सुखद', 'बन', 'जाता', 'है'), 2),\n",
       " (('अगर', 'वह', 'बहुत', 'सुखद', 'बन', 'जाता', 'है', 'तो'), 2),\n",
       " (('वह', 'बहुत', 'सुखद', 'बन', 'जाता', 'है', 'तो', 'हम'), 2),\n",
       " (('बहुत', 'सुखद', 'बन', 'जाता', 'है', 'तो', 'हम', 'उसे'), 2),\n",
       " (('अपने', 'भीतर', 'मुड़ना', 'ही', 'एकमात्र', 'समाधान', 'हैसद्गुरु', 'की'), 1),\n",
       " (('भीतर', 'मुड़ना', 'ही', 'एकमात्र', 'समाधान', 'हैसद्गुरु', 'की', 'नवीनतम'),\n",
       "  1),\n",
       " (('मुड़ना', 'ही', 'एकमात्र', 'समाधान', 'हैसद्गुरु', 'की', 'नवीनतम', 'पुस्तक'),\n",
       "  1),\n",
       " (('ही', 'एकमात्र', 'समाधान', 'हैसद्गुरु', 'की', 'नवीनतम', 'पुस्तक', '‘इनर'),\n",
       "  1),\n",
       " (('एकमात्र',\n",
       "   'समाधान',\n",
       "   'हैसद्गुरु',\n",
       "   'की',\n",
       "   'नवीनतम',\n",
       "   'पुस्तक',\n",
       "   '‘इनर',\n",
       "   'इंजीनरिंग’'),\n",
       "  1)]"
      ]
     },
     "execution_count": 23,
     "metadata": {},
     "output_type": "execute_result"
    }
   ],
   "source": [
    "octagram_counts = Counter(ngrams(text.split(), 8))\n",
    "octagram_counts.most_common(10)"
   ]
  },
  {
   "cell_type": "code",
   "execution_count": 24,
   "id": "396ef274",
   "metadata": {
    "colab": {
     "base_uri": "https://localhost:8080/"
    },
    "id": "396ef274",
    "outputId": "ccfe7825-d92c-40ed-aa4d-82470083dc62"
   },
   "outputs": [
    {
     "data": {
      "text/plain": [
       "[(('कहते', 'हैं।', 'अगर', 'वह', 'बहुत', 'सुखद', 'बन', 'जाता', 'है'), 2),\n",
       " (('हैं।', 'अगर', 'वह', 'बहुत', 'सुखद', 'बन', 'जाता', 'है', 'तो'), 2),\n",
       " (('अगर', 'वह', 'बहुत', 'सुखद', 'बन', 'जाता', 'है', 'तो', 'हम'), 2),\n",
       " (('वह', 'बहुत', 'सुखद', 'बन', 'जाता', 'है', 'तो', 'हम', 'उसे'), 2),\n",
       " (('अपने',\n",
       "   'भीतर',\n",
       "   'मुड़ना',\n",
       "   'ही',\n",
       "   'एकमात्र',\n",
       "   'समाधान',\n",
       "   'हैसद्गुरु',\n",
       "   'की',\n",
       "   'नवीनतम'),\n",
       "  1),\n",
       " (('भीतर',\n",
       "   'मुड़ना',\n",
       "   'ही',\n",
       "   'एकमात्र',\n",
       "   'समाधान',\n",
       "   'हैसद्गुरु',\n",
       "   'की',\n",
       "   'नवीनतम',\n",
       "   'पुस्तक'),\n",
       "  1),\n",
       " (('मुड़ना',\n",
       "   'ही',\n",
       "   'एकमात्र',\n",
       "   'समाधान',\n",
       "   'हैसद्गुरु',\n",
       "   'की',\n",
       "   'नवीनतम',\n",
       "   'पुस्तक',\n",
       "   '‘इनर'),\n",
       "  1),\n",
       " (('ही',\n",
       "   'एकमात्र',\n",
       "   'समाधान',\n",
       "   'हैसद्गुरु',\n",
       "   'की',\n",
       "   'नवीनतम',\n",
       "   'पुस्तक',\n",
       "   '‘इनर',\n",
       "   'इंजीनरिंग’'),\n",
       "  1),\n",
       " (('एकमात्र',\n",
       "   'समाधान',\n",
       "   'हैसद्गुरु',\n",
       "   'की',\n",
       "   'नवीनतम',\n",
       "   'पुस्तक',\n",
       "   '‘इनर',\n",
       "   'इंजीनरिंग’',\n",
       "   'से'),\n",
       "  1),\n",
       " (('समाधान',\n",
       "   'हैसद्गुरु',\n",
       "   'की',\n",
       "   'नवीनतम',\n",
       "   'पुस्तक',\n",
       "   '‘इनर',\n",
       "   'इंजीनरिंग’',\n",
       "   'से',\n",
       "   'लिए'),\n",
       "  1)]"
      ]
     },
     "execution_count": 24,
     "metadata": {},
     "output_type": "execute_result"
    }
   ],
   "source": [
    "eneagram_counts = Counter(ngrams(text.split(), 9))\n",
    "eneagram_counts.most_common(10)"
   ]
  },
  {
   "cell_type": "code",
   "execution_count": 25,
   "id": "a512958d",
   "metadata": {
    "colab": {
     "base_uri": "https://localhost:8080/"
    },
    "id": "a512958d",
    "outputId": "d5f7509d-21de-4013-d95e-3698e8aa63c2"
   },
   "outputs": [
    {
     "data": {
      "text/plain": [
       "[(('कहते', 'हैं।', 'अगर', 'वह', 'बहुत', 'सुखद', 'बन', 'जाता', 'है', 'तो'), 2),\n",
       " (('हैं।', 'अगर', 'वह', 'बहुत', 'सुखद', 'बन', 'जाता', 'है', 'तो', 'हम'), 2),\n",
       " (('अगर', 'वह', 'बहुत', 'सुखद', 'बन', 'जाता', 'है', 'तो', 'हम', 'उसे'), 2),\n",
       " (('अपने',\n",
       "   'भीतर',\n",
       "   'मुड़ना',\n",
       "   'ही',\n",
       "   'एकमात्र',\n",
       "   'समाधान',\n",
       "   'हैसद्गुरु',\n",
       "   'की',\n",
       "   'नवीनतम',\n",
       "   'पुस्तक'),\n",
       "  1),\n",
       " (('भीतर',\n",
       "   'मुड़ना',\n",
       "   'ही',\n",
       "   'एकमात्र',\n",
       "   'समाधान',\n",
       "   'हैसद्गुरु',\n",
       "   'की',\n",
       "   'नवीनतम',\n",
       "   'पुस्तक',\n",
       "   '‘इनर'),\n",
       "  1),\n",
       " (('मुड़ना',\n",
       "   'ही',\n",
       "   'एकमात्र',\n",
       "   'समाधान',\n",
       "   'हैसद्गुरु',\n",
       "   'की',\n",
       "   'नवीनतम',\n",
       "   'पुस्तक',\n",
       "   '‘इनर',\n",
       "   'इंजीनरिंग’'),\n",
       "  1),\n",
       " (('ही',\n",
       "   'एकमात्र',\n",
       "   'समाधान',\n",
       "   'हैसद्गुरु',\n",
       "   'की',\n",
       "   'नवीनतम',\n",
       "   'पुस्तक',\n",
       "   '‘इनर',\n",
       "   'इंजीनरिंग’',\n",
       "   'से'),\n",
       "  1),\n",
       " (('एकमात्र',\n",
       "   'समाधान',\n",
       "   'हैसद्गुरु',\n",
       "   'की',\n",
       "   'नवीनतम',\n",
       "   'पुस्तक',\n",
       "   '‘इनर',\n",
       "   'इंजीनरिंग’',\n",
       "   'से',\n",
       "   'लिए'),\n",
       "  1),\n",
       " (('समाधान',\n",
       "   'हैसद्गुरु',\n",
       "   'की',\n",
       "   'नवीनतम',\n",
       "   'पुस्तक',\n",
       "   '‘इनर',\n",
       "   'इंजीनरिंग’',\n",
       "   'से',\n",
       "   'लिए',\n",
       "   'गए'),\n",
       "  1),\n",
       " (('हैसद्गुरु',\n",
       "   'की',\n",
       "   'नवीनतम',\n",
       "   'पुस्तक',\n",
       "   '‘इनर',\n",
       "   'इंजीनरिंग’',\n",
       "   'से',\n",
       "   'लिए',\n",
       "   'गए',\n",
       "   'इस'),\n",
       "  1)]"
      ]
     },
     "execution_count": 25,
     "metadata": {},
     "output_type": "execute_result"
    }
   ],
   "source": [
    "decagram_counts = Counter(ngrams(text.split(), 10))\n",
    "decagram_counts.most_common(10)"
   ]
  },
  {
   "cell_type": "markdown",
   "id": "0a0ea86c",
   "metadata": {},
   "source": [
    "### Creating the training dataset of corpus"
   ]
  },
  {
   "cell_type": "code",
   "execution_count": 26,
   "id": "0fde2ec4",
   "metadata": {
    "colab": {
     "base_uri": "https://localhost:8080/",
     "height": 137
    },
    "id": "0fde2ec4",
    "outputId": "576b2b56-b483-45f4-ee98-0da6bc8f8d0b"
   },
   "outputs": [
    {
     "data": {
      "text/plain": [
       "'अपने भीतर मुड़ना ही एकमात्र समाधान हैसद्गुरु की नवीनतम पुस्तक ‘इनर इंजीनरिंग’ से लिए गए इस अंश में सद्गुरु हमें स्थायी रूप से खुशहाली का अनुभव करने के एकमात्र तरीके से परिचित कराते हैं। सद्गुरु आपने अपनी जिंदगी में अब तक हर चीज बस एक चीज की तलाश में की है। चाहे आपने बेहतर करियर खोजा हो कारोबार शुरू किया हो पैसे कमाए हों या फिर परिवार को पालापोसा हो यह सब आपने इसलिए किया क्योंकि आप बस एक साधारण सी चीज चाहते थेः खुशी। लेकिन रास्ते में कहीं न कहीं जीवन उलझ गया।   अगर आप इस धरती पर किसी दूसरे जीव के रूप में पैदा हुए होते तो वह बहुत सरल होता। आपकी जरूरतें सिर्फ शारीरिक होतीं। पेट भर खाना मिल जाए तो वह एक बहुत शानदार दिन कहलाता। अपने कुत्ते या अपनी बिल्ली पर गौर कीजिएः जिस पल उनका पेट भर जाता है वे काफी शांतिमय होते हैं।   लेकिन जब आप इस दुनिया में एक इंसान के रूप में आते हैं तो चीजें बदल जाती हैं। खाली पेट की एक ही समस्या हैः भूख। लेकिन अगर पेट भरा हुआ हो तो सैकड़ों समस्याएं हैं जब सवाल हमारे जीवनसंरक्षण का होता है तो वह हमारे जीवन का एक बड़ा मुद्दा होता है। लेकिन जिस पल इस मुद्दे का ख्याल रख '"
      ]
     },
     "execution_count": 26,
     "metadata": {},
     "output_type": "execute_result"
    }
   ],
   "source": [
    "text[0:1000]"
   ]
  },
  {
   "cell_type": "code",
   "execution_count": 27,
   "id": "f4f17fca",
   "metadata": {
    "id": "f4f17fca"
   },
   "outputs": [],
   "source": [
    "import re"
   ]
  },
  {
   "cell_type": "markdown",
   "id": "a3795a95",
   "metadata": {
    "id": "a3795a95"
   },
   "source": [
    "### Extract the first word from each sentence\n",
    "\n",
    "This code breaks each sentence into words using spaces. Then, it takes the first word of each sentence and puts it in a list called first_words. Later, we will find the most common first word and how often it is used to start a sentence."
   ]
  },
  {
   "cell_type": "code",
   "execution_count": 28,
   "id": "e9f96a1b",
   "metadata": {
    "id": "e9f96a1b"
   },
   "outputs": [],
   "source": [
    "# Extract the first word from each sentence\n",
    "first_words = [sentence.split()[0] for sentence in sentences]"
   ]
  },
  {
   "cell_type": "code",
   "execution_count": 29,
   "id": "5ea5b3c1",
   "metadata": {
    "colab": {
     "base_uri": "https://localhost:8080/"
    },
    "id": "5ea5b3c1",
    "outputId": "9e0d4ec4-679c-496b-9496-7258c0131769"
   },
   "outputs": [
    {
     "name": "stdout",
     "output_type": "stream",
     "text": [
      "The most common first words in sentences:\n",
      "'अगर': 13\n",
      "'लेकिन': 7\n",
      "'आप': 7\n",
      "'किसी': 4\n",
      "'एक': 4\n",
      "'तो': 4\n",
      "'अपने': 3\n",
      "'आज': 3\n",
      "'ऐसा': 3\n",
      "'जब': 3\n",
      "'और': 3\n",
      "'फिर': 3\n",
      "'वह': 3\n",
      "'’': 3\n",
      "'वे': 2\n",
      "'सबसे': 2\n",
      "'इसके': 2\n",
      "'बस': 2\n",
      "'अब': 2\n",
      "'सिर्फ': 2\n",
      "'अभी': 2\n",
      "'पीड़ा': 2\n",
      "'सद्गुरु': 1\n",
      "'चाहे': 1\n",
      "'आपकी': 1\n",
      "'पेट': 1\n",
      "'खाली': 1\n",
      "'सौ': 1\n",
      "'हम': 1\n",
      "'हमने': 1\n",
      "'खुशहाली': 1\n",
      "'यह': 1\n",
      "'दूसरों': 1\n",
      "'वही': 1\n",
      "'इंसानइंसान': 1\n",
      "'नींद': 1\n",
      "'उसने': 1\n",
      "'कम': 1\n",
      "'मानवीय': 1\n",
      "'परिणाम': 1\n",
      "'सीधेसीधे': 1\n",
      "'हमें': 1\n",
      "'खुद': 1\n",
      "'बैल': 1\n",
      "'खेत': 1\n",
      "'दो': 1\n",
      "'ये': 1\n",
      "'पूरी': 1\n",
      "'कहानी': 1\n",
      "'मौसम': 1\n",
      "'स्टॉक': 1\n",
      "'होने': 1\n",
      "'आपको': 1\n",
      "'मानव': 1\n",
      "'इंसान': 1\n",
      "'क्या': 1\n",
      "'हर': 1\n",
      "'रोशनी': 1\n",
      "'पूरा': 1\n",
      "'सारे': 1\n",
      "'साधारण': 1\n",
      "'बिना': 1\n",
      "'इससे': 1\n",
      "'शांति': 1\n",
      "'असल': 1\n",
      "'योग': 1\n",
      "'आंतरिक': 1\n",
      "'मैं': 1\n",
      "'समझ': 1\n",
      "'क्लेश': 1\n"
     ]
    }
   ],
   "source": [
    "# Extract the first word from each sentence\n",
    "first_words = [sentence.split()[0] for sentence in sentences]\n",
    "\n",
    "# Count the frequency of each first word\n",
    "word_freq = nltk.FreqDist(first_words)\n",
    "\n",
    "# Get the most common first words\n",
    "most_common_first_words = word_freq.most_common()\n",
    "print(\"The most common first words in sentences:\")\n",
    "for word, frequency in most_common_first_words:\n",
    "    print(f\"'{word}': {frequency}\")"
   ]
  },
  {
   "cell_type": "markdown",
   "id": "39e104d6",
   "metadata": {
    "id": "39e104d6"
   },
   "source": [
    "# Preparing training data\n",
    "\n",
    "In this code, we are preparing training data for a sequence-to-sequence model. We are using X_train and y_train to represent input sequences and corresponding target sequences."
   ]
  },
  {
   "cell_type": "code",
   "execution_count": 30,
   "id": "39a3de04",
   "metadata": {
    "id": "39a3de04"
   },
   "outputs": [],
   "source": [
    "#X_train = [[sentence_start_token] for sent,times in first_word_counts if sent != 'o.']\n",
    "#y_train = [sent for sent in first_word_counts if sent != 'o.']\n",
    "X_train = [[sentence_start_token] for sent in first_words if sent != 'मीरा।']\n",
    "y_train = [[sent] for sent in first_words if sent != 'मीरा।']"
   ]
  },
  {
   "cell_type": "code",
   "execution_count": 31,
   "id": "87681776",
   "metadata": {
    "id": "87681776"
   },
   "outputs": [],
   "source": [
    "X_train = [item for sublist in X_train for item in sublist]\n",
    "y_train = [item for sublist in y_train for item in sublist]"
   ]
  },
  {
   "cell_type": "code",
   "execution_count": 32,
   "id": "7af0cfe6",
   "metadata": {
    "colab": {
     "base_uri": "https://localhost:8080/"
    },
    "id": "7af0cfe6",
    "outputId": "a4842328-cfe1-42ea-f0f3-823b6b1751f2"
   },
   "outputs": [
    {
     "data": {
      "text/plain": [
       "['START',\n",
       " 'START',\n",
       " 'START',\n",
       " 'START',\n",
       " 'START',\n",
       " 'START',\n",
       " 'START',\n",
       " 'START',\n",
       " 'START',\n",
       " 'START']"
      ]
     },
     "execution_count": 32,
     "metadata": {},
     "output_type": "execute_result"
    }
   ],
   "source": [
    "X_train[0:10]"
   ]
  },
  {
   "cell_type": "code",
   "execution_count": 33,
   "id": "fa2b2833",
   "metadata": {
    "colab": {
     "base_uri": "https://localhost:8080/"
    },
    "id": "fa2b2833",
    "outputId": "62fe763e-914a-42d9-f7ef-3ee3cb5359c4"
   },
   "outputs": [
    {
     "name": "stdout",
     "output_type": "stream",
     "text": [
      "['अपने', 'सद्गुरु', 'चाहे', 'लेकिन', 'अगर', 'आपकी', 'पेट', 'अपने', 'लेकिन', 'खाली', 'लेकिन', 'लेकिन', 'किसी', 'आज', 'आप', 'आप', 'सौ', 'हम', 'हमने', 'अगर', 'ऐसा', 'खुशहाली', 'अगर', 'अगर', 'अगर', 'अगर', 'अगर', 'अगर', 'अगर', 'आप', 'जब', 'जब', 'अगर', 'लेकिन', 'वे', 'वे', 'और', 'सबसे', 'यह', 'आज', 'लेकिन', 'दूसरों', 'जब', 'एक', 'इसके', 'तो', 'सबसे', 'ऐसा', 'बस', 'अब', 'वही', 'तो', 'इंसानइंसान', 'तो', 'सिर्फ', 'अपने', 'किसी', 'नींद', 'उसने', 'फिर', 'वह', 'वह', 'फिर', 'कम', 'अभी', 'मानवीय', 'आप', 'परिणाम', 'बस', 'सीधेसीधे', 'किसी', 'लेकिन', 'हमें', 'खुद', 'किसी', 'बैल', 'खेत', 'अब', '’', 'दो', '’', 'ये', 'पूरी', '’', 'और', 'एक', 'वह', 'एक', 'कहानी', 'मौसम', 'स्टॉक', 'और', 'होने', 'फिर', 'आपको', 'मानव', 'पीड़ा', 'इंसान', 'आप', 'अभी', 'आप', 'क्या', 'तो', 'आप', 'हर', 'रोशनी', 'अगर', 'पूरा', 'सारे', 'अगर', 'आज', 'एक', 'साधारण', 'ऐसा', 'बिना', 'इससे', 'शांति', 'असल', 'योग', 'आंतरिक', 'मैं', 'अगर', 'इसके', 'समझ', 'क्लेश', 'पीड़ा', 'सिर्फ']\n"
     ]
    }
   ],
   "source": [
    "print(y_train)"
   ]
  },
  {
   "cell_type": "code",
   "execution_count": 34,
   "id": "f7f22437",
   "metadata": {
    "colab": {
     "base_uri": "https://localhost:8080/"
    },
    "id": "f7f22437",
    "outputId": "2a5e08f8-aec9-433e-8c60-bdfe752cdc3e"
   },
   "outputs": [
    {
     "data": {
      "text/plain": [
       "(127, 127)"
      ]
     },
     "execution_count": 34,
     "metadata": {},
     "output_type": "execute_result"
    }
   ],
   "source": [
    "len(X_train), len(y_train)"
   ]
  },
  {
   "cell_type": "markdown",
   "id": "700ec415",
   "metadata": {
    "id": "700ec415"
   },
   "source": [
    "### Shuffling our training data:\n",
    "\n",
    "This Python function, fisher_yates, randomly mixes two arrays, arr1 and arr2, in the same order. This means that the elements in the two arrays stay paired up after the shuffle. This is useful for randomizing the order of elements while keeping track of which elements go together."
   ]
  },
  {
   "cell_type": "code",
   "execution_count": 35,
   "id": "4f4e9236",
   "metadata": {
    "id": "4f4e9236"
   },
   "outputs": [],
   "source": [
    "import random\n",
    "\n",
    "def fisher_yates (arr1, arr2):\n",
    "\n",
    "    # We will Start from the last element\n",
    "    # and swap one by one.\n",
    "    n = len(arr1)\n",
    "    if n != len(arr2):\n",
    "        return None\n",
    "\n",
    "    for i in range(n - 1, 0, -1):\n",
    "\n",
    "        # Pick a random index from 0 to i\n",
    "        j = random.randint(0, i)\n",
    "        #print(i, j)\n",
    "\n",
    "        # Swap arr[i] with the element at random index\n",
    "        arr1[i], arr1[j] = arr1[j], arr1[i]\n",
    "        arr2[i], arr2[j] = arr2[j], arr2[i]\n",
    "\n",
    "    return arr1, arr2"
   ]
  },
  {
   "cell_type": "code",
   "execution_count": 36,
   "id": "2dfee5b4",
   "metadata": {
    "colab": {
     "base_uri": "https://localhost:8080/"
    },
    "id": "2dfee5b4",
    "outputId": "e1936024-7938-4df9-b54a-26d5f6877516"
   },
   "outputs": [
    {
     "data": {
      "text/plain": [
       "(127, 127)"
      ]
     },
     "execution_count": 36,
     "metadata": {},
     "output_type": "execute_result"
    }
   ],
   "source": [
    "X_train, y_train = fisher_yates(X_train, y_train)\n",
    "len(X_train), len(y_train)"
   ]
  },
  {
   "cell_type": "code",
   "execution_count": 37,
   "id": "359989ce",
   "metadata": {
    "colab": {
     "base_uri": "https://localhost:8080/"
    },
    "id": "359989ce",
    "outputId": "72a21af8-b1fb-4f1c-d457-93539c93ec4e"
   },
   "outputs": [
    {
     "name": "stdout",
     "output_type": "stream",
     "text": [
      "['आंतरिक', 'यह', 'अगर', 'अगर', 'आज', 'बिना', 'सबसे', 'किसी', 'रोशनी', 'खुद', 'लेकिन', 'सारे', 'सौ', 'कम', 'अगर', 'सद्गुरु', 'ऐसा', 'अगर', 'आप', 'पूरा', 'आज', 'लेकिन', 'इससे', 'अगर', 'खेत', 'वह', 'वे', 'किसी', 'आप', 'दो', 'उसने', 'सबसे', 'अगर', '’', 'अगर', 'पीड़ा', 'परिणाम', 'आज', 'अगर', 'अब', 'और', 'फिर', 'मौसम', '’', 'आप', 'फिर', 'इसके', 'असल', 'लेकिन', 'अगर', 'इंसानइंसान', 'मानवीय', 'लेकिन', 'पीड़ा', 'मानव', 'आप', 'जब', 'फिर', 'लेकिन', 'जब', 'लेकिन', 'अपने', 'वह', 'किसी', 'अगर', 'तो', 'तो', 'एक', 'और', 'नींद', 'एक', 'बैल', 'सिर्फ', 'वे', 'स्टॉक', 'सीधेसीधे', 'पेट', 'बस', 'शांति', 'इंसान', 'आपको', 'क्या', 'योग', 'आप', 'अगर', 'मैं', 'अभी', 'हम', 'एक', 'एक', 'अब', 'आप', 'वह', 'बस', 'और', 'हर', 'इसके', 'तो', 'अपने', '’', 'पूरी', 'क्लेश', 'तो', 'कहानी', 'होने', 'अभी', 'समझ', 'हमें', 'अगर', 'लेकिन', 'दूसरों', 'अपने', 'जब', 'आपकी', 'ऐसा', 'अगर', 'वही', 'ये', 'खुशहाली', 'हमने', 'आप', 'ऐसा', 'चाहे', 'सिर्फ', 'साधारण', 'किसी', 'खाली']\n"
     ]
    }
   ],
   "source": [
    "print(y_train)"
   ]
  },
  {
   "cell_type": "markdown",
   "id": "a4596860",
   "metadata": {
    "id": "a4596860"
   },
   "source": [
    "The code below assumes that `X_train` and `y_train` contain words that are present in the `word_to_index` mapping. \n",
    "If any word is not found in the mapping, it will be excluded from `X_tokens` and `y_tokens` lists."
   ]
  },
  {
   "cell_type": "code",
   "execution_count": 38,
   "id": "99bf37e3",
   "metadata": {
    "id": "99bf37e3"
   },
   "outputs": [],
   "source": [
    "X_tokens = [[word_to_index[symbol]] for symbol,word in zip(X_train, y_train) if word in word_to_index]\n",
    "y_tokens = [[word_to_index[word]] for symbol,word in zip(X_train, y_train) if word in word_to_index]"
   ]
  },
  {
   "cell_type": "code",
   "execution_count": 39,
   "id": "2f30b81e",
   "metadata": {
    "colab": {
     "base_uri": "https://localhost:8080/"
    },
    "id": "2f30b81e",
    "outputId": "584cbb1a-2793-4bea-c205-ad6b958abea1"
   },
   "outputs": [
    {
     "data": {
      "text/plain": [
       "[[0],\n",
       " [0],\n",
       " [0],\n",
       " [0],\n",
       " [0],\n",
       " [0],\n",
       " [0],\n",
       " [0],\n",
       " [0],\n",
       " [0],\n",
       " [0],\n",
       " [0],\n",
       " [0],\n",
       " [0],\n",
       " [0],\n",
       " [0],\n",
       " [0],\n",
       " [0],\n",
       " [0],\n",
       " [0],\n",
       " [0],\n",
       " [0],\n",
       " [0],\n",
       " [0],\n",
       " [0],\n",
       " [0],\n",
       " [0],\n",
       " [0],\n",
       " [0],\n",
       " [0],\n",
       " [0],\n",
       " [0],\n",
       " [0],\n",
       " [0],\n",
       " [0],\n",
       " [0],\n",
       " [0],\n",
       " [0],\n",
       " [0],\n",
       " [0],\n",
       " [0],\n",
       " [0],\n",
       " [0],\n",
       " [0],\n",
       " [0],\n",
       " [0],\n",
       " [0],\n",
       " [0],\n",
       " [0],\n",
       " [0],\n",
       " [0],\n",
       " [0],\n",
       " [0],\n",
       " [0],\n",
       " [0],\n",
       " [0],\n",
       " [0],\n",
       " [0],\n",
       " [0],\n",
       " [0],\n",
       " [0],\n",
       " [0],\n",
       " [0],\n",
       " [0],\n",
       " [0],\n",
       " [0],\n",
       " [0],\n",
       " [0],\n",
       " [0],\n",
       " [0],\n",
       " [0],\n",
       " [0],\n",
       " [0],\n",
       " [0],\n",
       " [0],\n",
       " [0],\n",
       " [0],\n",
       " [0],\n",
       " [0],\n",
       " [0],\n",
       " [0],\n",
       " [0],\n",
       " [0],\n",
       " [0],\n",
       " [0],\n",
       " [0],\n",
       " [0],\n",
       " [0],\n",
       " [0],\n",
       " [0],\n",
       " [0],\n",
       " [0],\n",
       " [0],\n",
       " [0],\n",
       " [0],\n",
       " [0],\n",
       " [0],\n",
       " [0],\n",
       " [0],\n",
       " [0],\n",
       " [0],\n",
       " [0],\n",
       " [0],\n",
       " [0],\n",
       " [0],\n",
       " [0],\n",
       " [0],\n",
       " [0],\n",
       " [0],\n",
       " [0],\n",
       " [0],\n",
       " [0],\n",
       " [0],\n",
       " [0],\n",
       " [0],\n",
       " [0],\n",
       " [0],\n",
       " [0],\n",
       " [0],\n",
       " [0],\n",
       " [0],\n",
       " [0],\n",
       " [0],\n",
       " [0],\n",
       " [0],\n",
       " [0],\n",
       " [0]]"
      ]
     },
     "execution_count": 39,
     "metadata": {},
     "output_type": "execute_result"
    }
   ],
   "source": [
    "X_tokens"
   ]
  },
  {
   "cell_type": "code",
   "execution_count": 40,
   "id": "ef25201b",
   "metadata": {
    "id": "ef25201b"
   },
   "outputs": [],
   "source": [
    "X_train = X_tokens\n",
    "y_train = y_tokens"
   ]
  },
  {
   "cell_type": "code",
   "execution_count": 41,
   "id": "1ce29c1a",
   "metadata": {
    "colab": {
     "base_uri": "https://localhost:8080/"
    },
    "id": "1ce29c1a",
    "outputId": "d8c820d6-20cc-4d85-a34a-5bc67f48cb7a"
   },
   "outputs": [
    {
     "data": {
      "text/plain": [
       "(127, 127)"
      ]
     },
     "execution_count": 41,
     "metadata": {},
     "output_type": "execute_result"
    }
   ],
   "source": [
    "len(X_train), len(y_train)"
   ]
  },
  {
   "cell_type": "code",
   "execution_count": 42,
   "id": "8cb3dd55",
   "metadata": {
    "colab": {
     "base_uri": "https://localhost:8080/"
    },
    "id": "8cb3dd55",
    "outputId": "11b9f5f4-78a4-4b52-a9fb-4ed06441b008",
    "scrolled": true
   },
   "outputs": [
    {
     "data": {
      "text/plain": [
       "([[0], [0], [0], [0], [0]], [[332], [61], [78], [78], [147]])"
      ]
     },
     "execution_count": 42,
     "metadata": {},
     "output_type": "execute_result"
    }
   ],
   "source": [
    "X_train[0:5], y_train[0:5]"
   ]
  },
  {
   "cell_type": "markdown",
   "id": "a54149e1",
   "metadata": {
    "id": "a54149e1"
   },
   "source": [
    "## frequency distribution of our ngrams for different values of n.\n",
    "This code counts how often different groups of words (called n-grams) appear in the text. It does this for different group sizes (n-values). This information can be used to understand how the text is structured and how words are used together."
   ]
  },
  {
   "cell_type": "code",
   "execution_count": 43,
   "id": "80ad639c",
   "metadata": {
    "colab": {
     "base_uri": "https://localhost:8080/"
    },
    "id": "80ad639c",
    "outputId": "8eaeaff2-0fa1-44a1-f2b9-da31f9070d44"
   },
   "outputs": [
    {
     "name": "stdout",
     "output_type": "stream",
     "text": [
      "ngram- 2 length: 1952\n",
      "ngram- 3 length: 2309\n",
      "ngram- 4 length: 2396\n",
      "ngram- 5 length: 2420\n",
      "ngram- 6 length: 2424\n",
      "ngram- 7 length: 2425\n",
      "ngram- 8 length: 2425\n",
      "ngram- 9 length: 2425\n",
      "ngram- 10 length: 2425\n",
      "ngram- 11 length: 2425\n",
      "ngram- 12 length: 2425\n",
      "ngram- 13 length: 2425\n",
      "ngram- 14 length: 2424\n",
      "ngram- 15 length: 2423\n",
      "ngram- 16 length: 2422\n",
      "ngram- 17 length: 2421\n",
      "ngram- 18 length: 2420\n",
      "ngram- 19 length: 2419\n",
      "ngram- 20 length: 2418\n"
     ]
    }
   ],
   "source": [
    "ngrams_up_to_20 = []\n",
    "for i in range(2, 21):\n",
    "    ngram_counts = Counter(ngrams(text.split(), i))\n",
    "    print('ngram-', i, 'length:', len(ngram_counts))\n",
    "    ngrams_up_to_20.append(ngram_counts)"
   ]
  },
  {
   "cell_type": "code",
   "execution_count": 44,
   "id": "f8f36eb7",
   "metadata": {
    "colab": {
     "base_uri": "https://localhost:8080/"
    },
    "id": "f8f36eb7",
    "outputId": "f427b800-6aeb-4eb4-bb68-d41d6cd9c2b5"
   },
   "outputs": [
    {
     "data": {
      "text/plain": [
       "[(('है', 'कि'), 17),\n",
       " (('के', 'लिए'), 14),\n",
       " (('है', 'तो'), 11),\n",
       " (('सकते', 'हैं'), 9),\n",
       " (('हम', 'उसे'), 8),\n",
       " (('कहते', 'हैं।'), 8),\n",
       " (('हैं।', 'अगर'), 8),\n",
       " (('हैं', 'कि'), 8),\n",
       " (('तो', 'हम'), 7),\n",
       " (('रहे', 'हैं'), 7)]"
      ]
     },
     "execution_count": 44,
     "metadata": {},
     "output_type": "execute_result"
    }
   ],
   "source": [
    "ngrams_up_to_20[0].most_common(10)"
   ]
  },
  {
   "cell_type": "code",
   "execution_count": 45,
   "id": "c79d4101",
   "metadata": {
    "colab": {
     "base_uri": "https://localhost:8080/"
    },
    "id": "c79d4101",
    "outputId": "396d5ff3-2c5d-459d-9ad0-b69062905230"
   },
   "outputs": [
    {
     "data": {
      "text/plain": [
       "[(('तो', 'हम', 'उसे'), 7),\n",
       " (('है', 'तो', 'हम'), 6),\n",
       " (('कहते', 'हैं।', 'अगर'), 6),\n",
       " (('यह', 'है', 'कि'), 5),\n",
       " (('के', 'रूप', 'में'), 4),\n",
       " (('बहुत', 'सुखद', 'बन'), 4),\n",
       " (('है', 'कि', 'आप'), 4),\n",
       " (('इस', 'धरती', 'पर'), 3),\n",
       " (('कर', 'सकते', 'हैं'), 3),\n",
       " (('करने', 'के', 'लिए'), 3)]"
      ]
     },
     "execution_count": 45,
     "metadata": {},
     "output_type": "execute_result"
    }
   ],
   "source": [
    "ngrams_up_to_20[1].most_common(10)"
   ]
  },
  {
   "cell_type": "code",
   "execution_count": 46,
   "id": "cbea0546",
   "metadata": {
    "colab": {
     "base_uri": "https://localhost:8080/"
    },
    "id": "cbea0546",
    "outputId": "ff941e76-648e-46d1-f04e-f106e04c1613",
    "scrolled": true
   },
   "outputs": [
    {
     "data": {
      "text/plain": [
       "[(('है', 'तो', 'हम', 'उसे'), 6),\n",
       " (('अगर', 'वह', 'बहुत', 'सुखद'), 3),\n",
       " (('वह', 'बहुत', 'सुखद', 'बन'), 3),\n",
       " (('सुखद', 'बन', 'जाता', 'है'), 3),\n",
       " (('बन', 'जाता', 'है', 'तो'), 3),\n",
       " (('की', 'कोशिश', 'कर', 'रहे'), 3),\n",
       " (('बाहर', 'निकलने', 'का', 'रास्ता'), 3),\n",
       " (('हैं।', 'लेकिन', 'जब', 'आप'), 2),\n",
       " (('हैं।', 'ऐसा', 'क्यों', 'है'), 2),\n",
       " (('कहते', 'हैं।', 'अगर', 'वह'), 2)]"
      ]
     },
     "execution_count": 46,
     "metadata": {},
     "output_type": "execute_result"
    }
   ],
   "source": [
    "ngrams_up_to_20[2].most_common(10)"
   ]
  },
  {
   "cell_type": "code",
   "execution_count": 47,
   "id": "2d73c178",
   "metadata": {
    "colab": {
     "base_uri": "https://localhost:8080/"
    },
    "id": "2d73c178",
    "outputId": "673efa99-273d-4d6b-95ed-6a2ec894d7eb"
   },
   "outputs": [
    {
     "data": {
      "text/plain": [
       "(('है', 'कि'), 'है', 'कि')"
      ]
     },
     "execution_count": 47,
     "metadata": {},
     "output_type": "execute_result"
    }
   ],
   "source": [
    "bigrams_to_learn = bigram_counts.most_common(100)\n",
    "bigrams_to_learn[0][0], bigrams_to_learn[0][0][0], bigrams_to_learn[0][0][1]"
   ]
  },
  {
   "cell_type": "code",
   "execution_count": 48,
   "id": "4d49a9ce",
   "metadata": {
    "colab": {
     "base_uri": "https://localhost:8080/"
    },
    "id": "4d49a9ce",
    "outputId": "5e8a5800-dea2-4b68-f4ae-bb2d74051463"
   },
   "outputs": [
    {
     "data": {
      "text/plain": [
       "(1952,\n",
       " [(('है', 'कि'), 17),\n",
       "  (('के', 'लिए'), 14),\n",
       "  (('है', 'तो'), 11),\n",
       "  (('सकते', 'हैं'), 9),\n",
       "  (('हम', 'उसे'), 8),\n",
       "  (('कहते', 'हैं।'), 8),\n",
       "  (('हैं।', 'अगर'), 8),\n",
       "  (('हैं', 'कि'), 8),\n",
       "  (('तो', 'हम'), 7),\n",
       "  (('रहे', 'हैं'), 7),\n",
       "  (('अपने', 'भीतर'), 6),\n",
       "  (('हैं', 'तो'), 6),\n",
       "  (('रहा', 'है'), 6),\n",
       "  (('के', 'साथ'), 6),\n",
       "  (('हैं', 'लेकिन'), 6),\n",
       "  (('कि', 'आप'), 6),\n",
       "  (('कर', 'रहे'), 6),\n",
       "  (('रूप', 'से'), 5),\n",
       "  (('हर', 'चीज'), 5),\n",
       "  (('जब', 'आप'), 5),\n",
       "  (('की', 'एक'), 5),\n",
       "  (('होता', 'है।'), 5),\n",
       "  (('हैं।', 'आप'), 5),\n",
       "  (('नहीं', 'है'), 5),\n",
       "  (('सुखद', 'बन'), 5),\n",
       "  (('यह', 'है'), 5),\n",
       "  (('की', 'जरूरत'), 5),\n",
       "  (('रहे', 'हैं।'), 5),\n",
       "  (('करने', 'के'), 4),\n",
       "  (('धरती', 'पर'), 4),\n",
       "  (('के', 'रूप'), 4),\n",
       "  (('रूप', 'में'), 4),\n",
       "  (('तो', 'वह'), 4),\n",
       "  (('वह', 'बहुत'), 4),\n",
       "  (('जाता', 'है'), 4),\n",
       "  (('होते', 'हैं।'), 4),\n",
       "  (('कर', 'सकते'), 4),\n",
       "  (('है।', 'अगर'), 4),\n",
       "  (('बहुत', 'सुखद'), 4),\n",
       "  (('आनंद', 'या'), 4),\n",
       "  (('है', 'और'), 4),\n",
       "  (('तो', 'आप'), 4),\n",
       "  (('नहीं', 'है।'), 4),\n",
       "  (('रहे', 'हों'), 4),\n",
       "  (('आपके', 'भीतर'), 4),\n",
       "  (('कि', 'यह'), 4),\n",
       "  (('डाल', 'तक'), 4),\n",
       "  (('सकता', 'है'), 4),\n",
       "  (('बस', 'एक'), 3),\n",
       "  (('अगर', 'आप'), 3),\n",
       "  (('आप', 'इस'), 3),\n",
       "  (('इस', 'धरती'), 3),\n",
       "  (('एक', 'बहुत'), 3),\n",
       "  (('हैं।', 'लेकिन'), 3),\n",
       "  (('में', 'एक'), 3),\n",
       "  (('एक', 'ही'), 3),\n",
       "  (('सकते', 'हैं।'), 3),\n",
       "  (('भी', 'नहीं'), 3),\n",
       "  (('की', 'सबसे'), 3),\n",
       "  (('करते', 'हैं'), 3),\n",
       "  (('क्यों', 'है'), 3),\n",
       "  (('नहीं', 'किया'), 3),\n",
       "  (('करता', 'है'), 3),\n",
       "  (('अगर', 'वह'), 3),\n",
       "  (('बन', 'जाता'), 3),\n",
       "  (('अगर', 'आपकी'), 3),\n",
       "  (('की', 'बात'), 3),\n",
       "  (('लिए', 'एक'), 3),\n",
       "  (('से', 'बाहर'), 3),\n",
       "  (('हैं', 'और'), 3),\n",
       "  (('दुनिया', 'के'), 3),\n",
       "  (('आप', 'अपने'), 3),\n",
       "  (('है।', 'तो'), 3),\n",
       "  (('सकता', 'है।'), 3),\n",
       "  (('जीवन', 'ऊर्जा'), 3),\n",
       "  (('तरह', 'की'), 3),\n",
       "  (('की', 'कोशिश'), 3),\n",
       "  (('कोशिश', 'कर'), 3),\n",
       "  (('सोचते', 'हैं'), 3),\n",
       "  (('है', 'लेकिन'), 3),\n",
       "  (('है', 'वह'), 3),\n",
       "  (('आप', 'पूरी'), 3),\n",
       "  (('रहा', 'था'), 3),\n",
       "  (('तीतर', 'ने'), 3),\n",
       "  (('ने', 'कहा'), 3),\n",
       "  (('तक', 'पहुंच'), 3),\n",
       "  (('किस्म', 'की'), 3),\n",
       "  (('बाहर', 'निकलने'), 3),\n",
       "  (('निकलने', 'का'), 3),\n",
       "  (('का', 'रास्ता'), 3),\n",
       "  (('या', 'परमानंद'), 3),\n",
       "  (('की', 'केमेस्ट्री'), 3),\n",
       "  (('ही', 'एकमात्र'), 2),\n",
       "  (('‘इनर', 'इंजीनरिंग’'), 2),\n",
       "  (('तरीके', 'से'), 2),\n",
       "  (('अब', 'तक'), 2),\n",
       "  (('एक', 'चीज'), 2),\n",
       "  (('की', 'है।'), 2),\n",
       "  (('किया', 'हो'), 2),\n",
       "  (('हों', 'या'), 2),\n",
       "  (('परिवार', 'को'), 2),\n",
       "  (('क्योंकि', 'आप'), 2),\n",
       "  (('एक', 'साधारण'), 2),\n",
       "  (('बहुत', 'सरल'), 2),\n",
       "  (('पेट', 'भर'), 2),\n",
       "  (('जाए', 'तो'), 2),\n",
       "  (('वह', 'एक'), 2),\n",
       "  (('जिस', 'पल'), 2),\n",
       "  (('लेकिन', 'जब'), 2),\n",
       "  (('दुनिया', 'में'), 2),\n",
       "  (('एक', 'इंसान'), 2),\n",
       "  (('इंसान', 'के'), 2),\n",
       "  (('हैं', 'जब'), 2),\n",
       "  (('होता', 'है'), 2),\n",
       "  (('है।', 'आज'), 2),\n",
       "  (('है।', 'आप'), 2),\n",
       "  (('आप', 'घर'), 2),\n",
       "  (('बिना', 'भी'), 2),\n",
       "  (('भी', 'यह'), 2),\n",
       "  (('यह', 'काम'), 2),\n",
       "  (('नहीं', 'कर'), 2),\n",
       "  (('को', 'ठीक'), 2),\n",
       "  (('ठीक', 'करने'), 2),\n",
       "  (('अपनी', 'ओर'), 2),\n",
       "  (('हैं।', 'ऐसा'), 2),\n",
       "  (('ऐसा', 'क्यों'), 2),\n",
       "  (('अगर', 'यह'), 2),\n",
       "  (('काम', 'नहीं'), 2),\n",
       "  (('क्या', 'यह'), 2),\n",
       "  (('यह', 'देखने'), 2),\n",
       "  (('कि', 'क्या'), 2),\n",
       "  (('है', 'हम'), 2),\n",
       "  (('किया', 'है'), 2),\n",
       "  (('साथ', 'और'), 2),\n",
       "  (('तौर', 'पर'), 2),\n",
       "  (('क्या', 'है'), 2),\n",
       "  (('है', 'एक'), 2),\n",
       "  (('प्रसन्नता', 'की'), 2),\n",
       "  (('अगर', 'आपका'), 2),\n",
       "  (('आपका', 'शरीर'), 2),\n",
       "  (('उसे', 'शांति'), 2),\n",
       "  (('सुखद', 'बनती'), 2),\n",
       "  (('कहते', 'हैं'), 2),\n",
       "  (('बन', 'जाती'), 2),\n",
       "  (('जाती', 'है'), 2),\n",
       "  (('आपकी', 'जीवन'), 2),\n",
       "  (('खोज', 'रहे'), 2),\n",
       "  (('तो', 'उसे'), 2),\n",
       "  (('नाम', 'दिया'), 2),\n",
       "  (('चाहते', 'हैं'), 2),\n",
       "  (('आप', 'क्या'), 2),\n",
       "  (('मुख्य', 'रूप'), 2),\n",
       "  (('मानव', 'अनुभव'), 2),\n",
       "  (('की', 'प्रसन्नता'), 2),\n",
       "  (('प्रसन्नता', 'और'), 2),\n",
       "  (('में', 'आप'), 2),\n",
       "  (('कितनी', 'बार'), 2),\n",
       "  (('आप', 'चौबीस'), 2),\n",
       "  (('चौबीस', 'घंटे'), 2),\n",
       "  (('आपके', 'साथ'), 2),\n",
       "  (('एक', 'दिन'), 2),\n",
       "  (('शांति', 'या'), 2),\n",
       "  (('या', 'आनंद'), 2),\n",
       "  (('जाते', 'हैं'), 2),\n",
       "  (('है।', 'और'), 2),\n",
       "  (('और', 'उसके'), 2),\n",
       "  (('जरूरत', 'नहीं'), 2),\n",
       "  (('आप', 'बाहर'), 2),\n",
       "  (('हैं', 'आप'), 2),\n",
       "  (('लगता', 'है'), 2),\n",
       "  (('है', 'आपको'), 2),\n",
       "  (('है', 'जब'), 2),\n",
       "  (('से', 'अपने'), 2),\n",
       "  (('होने', 'का'), 2),\n",
       "  (('लिए', 'किसी'), 2),\n",
       "  (('महसूस', 'कर'), 2),\n",
       "  (('हों', 'तो'), 2),\n",
       "  (('और', 'एक'), 2),\n",
       "  (('है।', 'इसके'), 2),\n",
       "  (('शरीर', 'और'), 2),\n",
       "  (('और', 'मन'), 2),\n",
       "  (('किया', 'है।'), 2),\n",
       "  (('हासिल', 'करने'), 2),\n",
       "  (('होना', 'होगा।'), 2),\n",
       "  (('वैज्ञानिक', 'प्रमाण'), 2),\n",
       "  (('प्रमाण', 'हैं'), 2),\n",
       "  (('हो', 'सकती'), 2),\n",
       "  (('बस', 'आंतरिक'), 2),\n",
       "  (('किया', 'जा'), 2),\n",
       "  (('जा', 'सकता'), 2),\n",
       "  (('अवस्थाओं', 'में'), 2),\n",
       "  (('अगर', 'आपके'), 2),\n",
       "  (('या', 'क्लेश'), 2),\n",
       "  (('के', 'बीच'), 2),\n",
       "  (('खुशी', 'ही'), 2),\n",
       "  (('में', 'है'), 2),\n",
       "  (('सिर्फ', 'एक'), 2),\n",
       "  (('चीज', 'जो'), 2),\n",
       "  (('जो', 'आपके'), 2),\n",
       "  (('और', 'आपकी'), 2),\n",
       "  (('खुशहाली', 'के'), 2),\n",
       "  (('है', 'आपने'), 2),\n",
       "  (('विचारों', 'और'), 2),\n",
       "  (('और', 'भावनाओं'), 2),\n",
       "  (('भावनाओं', 'को'), 2),\n",
       "  (('बाहर', 'से'), 2),\n",
       "  (('सपने', 'को'), 2),\n",
       "  (('आप', 'चाहते'), 2),\n",
       "  (('चाहते', 'हैं।'), 2),\n",
       "  (('किसी', 'दिन'), 2),\n",
       "  (('दिन', 'एक'), 2),\n",
       "  (('आपका', 'सपना'), 2),\n",
       "  (('कम', 'से'), 2),\n",
       "  (('से', 'कम'), 2),\n",
       "  (('कम', 'आपके'), 2),\n",
       "  (('को', 'तो'), 2),\n",
       "  (('आपके', 'मन'), 2),\n",
       "  (('मन', 'मुताबिक'), 2),\n",
       "  (('होना', 'चाहिए'), 2),\n",
       "  (('नहीं', 'भी'), 2),\n",
       "  (('मानवीय', 'प्रणाली'), 2),\n",
       "  (('प्रणाली', 'को'), 2),\n",
       "  (('लेकिन', 'समस्या'), 2),\n",
       "  (('समस्या', 'यह'), 2),\n",
       "  (('और', 'फिर'), 2),\n",
       "  (('किसी', 'तरह'), 2),\n",
       "  (('जरूरत', 'है'), 2),\n",
       "  (('जब', 'तक'), 2),\n",
       "  (('सही', 'चीजें'), 2),\n",
       "  (('चीजें', 'नहीं'), 2),\n",
       "  (('खुद', 'को'), 2),\n",
       "  (('और', 'तीतर'), 2),\n",
       "  (('पर', 'एक'), 2),\n",
       "  (('सबसे', 'ऊंची'), 2),\n",
       "  (('ऊंची', 'डाल'), 2),\n",
       "  (('पहली', 'डाल'), 2),\n",
       "  (('बैल', 'ने'), 2),\n",
       "  (('तीतर', 'को'), 2),\n",
       "  (('ले', 'जा'), 2),\n",
       "  (('आप', 'खुद'), 2),\n",
       "  (('हर', 'किस्म'), 2),\n",
       "  (('कर', 'सकता'), 2),\n",
       "  (('कि', 'ऐसा'), 2),\n",
       "  (('बाहरी', 'स्थितियों'), 2),\n",
       "  (('भीतर', 'है।'), 2),\n",
       "  (('पीड़ा', 'या'), 2),\n",
       "  (('या', 'सुख'), 2),\n",
       "  (('वेदना', 'या'), 2),\n",
       "  (('कहां', 'देखते'), 2),\n",
       "  (('देखते', 'हैं'), 2),\n",
       "  (('देख', 'रहे'), 2),\n",
       "  (('क्या', 'आपको'), 2),\n",
       "  (('फिर', 'से'), 2),\n",
       "  (('असल', 'में'), 2),\n",
       "  (('अपने', 'ही'), 2),\n",
       "  (('को', 'अनुभव'), 2),\n",
       "  (('अनुभव', 'कर'), 2),\n",
       "  (('बिना', 'किसी'), 2),\n",
       "  (('और', 'वह'), 2),\n",
       "  (('एक', 'खास'), 2),\n",
       "  (('केमेस्ट्री', 'है।'), 2),\n",
       "  (('मत', 'खोजिए।'), 2),\n",
       "  (('भीतर', 'मुड़ना'), 1),\n",
       "  (('मुड़ना', 'ही'), 1),\n",
       "  (('एकमात्र', 'समाधान'), 1),\n",
       "  (('समाधान', 'हैसद्गुरु'), 1),\n",
       "  (('हैसद्गुरु', 'की'), 1),\n",
       "  (('की', 'नवीनतम'), 1),\n",
       "  (('नवीनतम', 'पुस्तक'), 1),\n",
       "  (('पुस्तक', '‘इनर'), 1),\n",
       "  (('इंजीनरिंग’', 'से'), 1),\n",
       "  (('से', 'लिए'), 1),\n",
       "  (('लिए', 'गए'), 1),\n",
       "  (('गए', 'इस'), 1),\n",
       "  (('इस', 'अंश'), 1),\n",
       "  (('अंश', 'में'), 1),\n",
       "  (('में', 'सद्गुरु'), 1),\n",
       "  (('सद्गुरु', 'हमें'), 1),\n",
       "  (('हमें', 'स्थायी'), 1),\n",
       "  (('स्थायी', 'रूप'), 1),\n",
       "  (('से', 'खुशहाली'), 1),\n",
       "  (('खुशहाली', 'का'), 1),\n",
       "  (('का', 'अनुभव'), 1),\n",
       "  (('अनुभव', 'करने'), 1),\n",
       "  (('के', 'एकमात्र'), 1),\n",
       "  (('एकमात्र', 'तरीके'), 1),\n",
       "  (('से', 'परिचित'), 1),\n",
       "  (('परिचित', 'कराते'), 1),\n",
       "  (('कराते', 'हैं।'), 1),\n",
       "  (('हैं।', 'सद्गुरु'), 1),\n",
       "  (('सद्गुरु', 'आपने'), 1),\n",
       "  (('आपने', 'अपनी'), 1),\n",
       "  (('अपनी', 'जिंदगी'), 1),\n",
       "  (('जिंदगी', 'में'), 1),\n",
       "  (('में', 'अब'), 1),\n",
       "  (('तक', 'हर'), 1),\n",
       "  (('चीज', 'बस'), 1),\n",
       "  (('चीज', 'की'), 1),\n",
       "  (('की', 'तलाश'), 1),\n",
       "  (('तलाश', 'में'), 1),\n",
       "  (('में', 'की'), 1),\n",
       "  (('है।', 'चाहे'), 1),\n",
       "  (('चाहे', 'आपने'), 1),\n",
       "  (('आपने', 'बेहतर'), 1),\n",
       "  (('बेहतर', 'करियर'), 1),\n",
       "  (('करियर', 'खोजा'), 1),\n",
       "  (('खोजा', 'हो'), 1),\n",
       "  (('हो', 'कारोबार'), 1),\n",
       "  (('कारोबार', 'शुरू'), 1),\n",
       "  (('शुरू', 'किया'), 1),\n",
       "  (('हो', 'पैसे'), 1),\n",
       "  (('पैसे', 'कमाए'), 1),\n",
       "  (('कमाए', 'हों'), 1),\n",
       "  (('या', 'फिर'), 1),\n",
       "  (('फिर', 'परिवार'), 1),\n",
       "  (('को', 'पालापोसा'), 1),\n",
       "  (('पालापोसा', 'हो'), 1),\n",
       "  (('हो', 'यह'), 1),\n",
       "  (('यह', 'सब'), 1),\n",
       "  (('सब', 'आपने'), 1),\n",
       "  (('आपने', 'इसलिए'), 1),\n",
       "  (('इसलिए', 'किया'), 1),\n",
       "  (('किया', 'क्योंकि'), 1),\n",
       "  (('आप', 'बस'), 1),\n",
       "  (('साधारण', 'सी'), 1),\n",
       "  (('सी', 'चीज'), 1),\n",
       "  (('चीज', 'चाहते'), 1),\n",
       "  (('चाहते', 'थेः'), 1),\n",
       "  (('थेः', 'खुशी।'), 1),\n",
       "  (('खुशी।', 'लेकिन'), 1),\n",
       "  (('लेकिन', 'रास्ते'), 1),\n",
       "  (('रास्ते', 'में'), 1),\n",
       "  (('में', 'कहीं'), 1),\n",
       "  (('कहीं', 'न'), 1),\n",
       "  (('न', 'कहीं'), 1),\n",
       "  (('कहीं', 'जीवन'), 1),\n",
       "  (('जीवन', 'उलझ'), 1),\n",
       "  (('उलझ', 'गया।'), 1),\n",
       "  (('गया।', 'अगर'), 1),\n",
       "  (('पर', 'किसी'), 1),\n",
       "  (('किसी', 'दूसरे'), 1),\n",
       "  (('दूसरे', 'जीव'), 1),\n",
       "  (('जीव', 'के'), 1),\n",
       "  (('में', 'पैदा'), 1),\n",
       "  (('पैदा', 'हुए'), 1),\n",
       "  (('हुए', 'होते'), 1),\n",
       "  (('होते', 'तो'), 1),\n",
       "  (('सरल', 'होता।'), 1),\n",
       "  (('होता।', 'आपकी'), 1),\n",
       "  (('आपकी', 'जरूरतें'), 1),\n",
       "  (('जरूरतें', 'सिर्फ'), 1),\n",
       "  (('सिर्फ', 'शारीरिक'), 1),\n",
       "  (('शारीरिक', 'होतीं।'), 1),\n",
       "  (('होतीं।', 'पेट'), 1),\n",
       "  (('भर', 'खाना'), 1),\n",
       "  (('खाना', 'मिल'), 1),\n",
       "  (('मिल', 'जाए'), 1),\n",
       "  (('बहुत', 'शानदार'), 1),\n",
       "  (('शानदार', 'दिन'), 1),\n",
       "  (('दिन', 'कहलाता।'), 1),\n",
       "  (('कहलाता।', 'अपने'), 1),\n",
       "  (('अपने', 'कुत्ते'), 1),\n",
       "  (('कुत्ते', 'या'), 1),\n",
       "  (('या', 'अपनी'), 1),\n",
       "  (('अपनी', 'बिल्ली'), 1),\n",
       "  (('बिल्ली', 'पर'), 1),\n",
       "  (('पर', 'गौर'), 1),\n",
       "  (('गौर', 'कीजिएः'), 1),\n",
       "  (('कीजिएः', 'जिस'), 1),\n",
       "  (('पल', 'उनका'), 1),\n",
       "  (('उनका', 'पेट'), 1),\n",
       "  (('भर', 'जाता'), 1),\n",
       "  (('है', 'वे'), 1),\n",
       "  (('वे', 'काफी'), 1),\n",
       "  (('काफी', 'शांतिमय'), 1),\n",
       "  (('शांतिमय', 'होते'), 1),\n",
       "  (('इस', 'दुनिया'), 1),\n",
       "  (('में', 'आते'), 1),\n",
       "  (('आते', 'हैं'), 1),\n",
       "  (('तो', 'चीजें'), 1),\n",
       "  (('चीजें', 'बदल'), 1),\n",
       "  (('बदल', 'जाती'), 1),\n",
       "  (('जाती', 'हैं।'), 1),\n",
       "  (('हैं।', 'खाली'), 1),\n",
       "  (('खाली', 'पेट'), 1),\n",
       "  (('पेट', 'की'), 1),\n",
       "  (('ही', 'समस्या'), 1),\n",
       "  (('समस्या', 'हैः'), 1),\n",
       "  (('हैः', 'भूख।'), 1),\n",
       "  (('भूख।', 'लेकिन'), 1),\n",
       "  (('लेकिन', 'अगर'), 1),\n",
       "  (('अगर', 'पेट'), 1),\n",
       "  (('पेट', 'भरा'), 1),\n",
       "  (('भरा', 'हुआ'), 1),\n",
       "  (('हुआ', 'हो'), 1),\n",
       "  (('हो', 'तो'), 1),\n",
       "  (('तो', 'सैकड़ों'), 1),\n",
       "  (('सैकड़ों', 'समस्याएं'), 1),\n",
       "  (('समस्याएं', 'हैं'), 1),\n",
       "  (('जब', 'सवाल'), 1),\n",
       "  (('सवाल', 'हमारे'), 1),\n",
       "  (('हमारे', 'जीवनसंरक्षण'), 1),\n",
       "  (('जीवनसंरक्षण', 'का'), 1),\n",
       "  (('का', 'होता'), 1),\n",
       "  (('वह', 'हमारे'), 1),\n",
       "  (('हमारे', 'जीवन'), 1),\n",
       "  (('जीवन', 'का'), 1),\n",
       "  (('का', 'एक'), 1),\n",
       "  (('एक', 'बड़ा'), 1),\n",
       "  (('बड़ा', 'मुद्दा'), 1),\n",
       "  (('मुद्दा', 'होता'), 1),\n",
       "  (('है।', 'लेकिन'), 1),\n",
       "  (('लेकिन', 'जिस'), 1),\n",
       "  (('पल', 'इस'), 1),\n",
       "  (('इस', 'मुद्दे'), 1),\n",
       "  (('मुद्दे', 'का'), 1),\n",
       "  (('का', 'ख्याल'), 1),\n",
       "  (('ख्याल', 'रख'), 1),\n",
       "  (('रख', 'लिया'), 1),\n",
       "  (('लिया', 'जाए'), 1),\n",
       "  (('तो', 'उसके'), 1),\n",
       "  (('उसके', 'कोई'), 1),\n",
       "  (('कोई', 'मायने'), 1),\n",
       "  (('मायने', 'नहीं'), 1),\n",
       "  (('नहीं', 'लगते।'), 1),\n",
       "  (('लगते।', 'किसी'), 1),\n",
       "  (('किसी', 'कारण'), 1),\n",
       "  (('कारण', 'से'), 1),\n",
       "  (('से', 'एक'), 1),\n",
       "  (('लिए', 'जीवन'), 1),\n",
       "  (('जीवन', 'बस'), 1),\n",
       "  (('बस', 'जीवनसंरक्षण'), 1),\n",
       "  (('जीवनसंरक्षण', 'पर'), 1),\n",
       "  (('पर', 'खत्म'), 1),\n",
       "  (('खत्म', 'नहीं'), 1),\n",
       "  (('नहीं', 'होता'), 1),\n",
       "  (('है', 'जीवनसंरक्षण'), 1),\n",
       "  (('जीवनसंरक्षण', 'से'), 1),\n",
       "  (('से', 'जीवन'), 1),\n",
       "  (('जीवन', 'शुरू'), 1),\n",
       "  (('शुरू', 'होता'), 1),\n",
       "  (('आज', 'लोगों'), 1),\n",
       "  (('लोगों', 'की'), 1),\n",
       "  (('एक', 'पीढ़ी'), 1),\n",
       "  (('पीढ़ी', 'के'), 1),\n",
       "  (('में', 'हमारी'), 1),\n",
       "  (('हमारी', 'जीवनसंरक्षण'), 1),\n",
       "  (('जीवनसंरक्षण', 'प्रक्रिया'), 1),\n",
       "  (('प्रक्रिया', 'पहले'), 1),\n",
       "  (('पहले', 'से'), 1),\n",
       "  (('से', 'कहीं'), 1),\n",
       "  (('कहीं', 'बेहतर'), 1),\n",
       "  (('बेहतर', 'नियोजित'), 1),\n",
       "  (('नियोजित', 'है।'), 1),\n",
       "  (('आप', 'एक'), 1),\n",
       "  (('एक', 'सुपरमार्केट'), 1),\n",
       "  (('सुपरमार्केट', 'जाकर'), 1),\n",
       "  (('जाकर', 'अपनी'), 1),\n",
       "  (('अपनी', 'पूरे'), 1),\n",
       "  (('पूरे', 'साल'), 1),\n",
       "  (('साल', 'की'), 1),\n",
       "  (('की', 'जरूरतों'), 1),\n",
       "  (('जरूरतों', 'की'), 1),\n",
       "  (('की', 'चीजें'), 1),\n",
       "  (('चीजें', 'खरीद'), 1),\n",
       "  (('खरीद', 'सकते'), 1),\n",
       "  (('घर', 'से'), 1),\n",
       "  (('से', 'निकले'), 1),\n",
       "  (('निकले', 'बिना'), 1),\n",
       "  (('काम', 'कर'), 1),\n",
       "  (('हैं', 'मानव'), 1),\n",
       "  (('मानव', 'इतिहास'), 1),\n",
       "  (('इतिहास', 'में'), 1),\n",
       "  (('में', 'इससे'), 1),\n",
       "  (('इससे', 'पहले'), 1),\n",
       "  (('पहले', 'यह'), 1),\n",
       "  (('यह', 'कभी'), 1),\n",
       "  (('कभी', 'संभव'), 1),\n",
       "  (('संभव', 'नहीं'), 1),\n",
       "  (('नहीं', 'था।'), 1),\n",
       "  (('था।', 'सौ'), 1),\n",
       "  (('सौ', 'साल'), 1),\n",
       "  (('साल', 'पहले'), 1),\n",
       "  (('पहले', 'जो'), 1),\n",
       "  (('जो', 'चीजें'), 1),\n",
       "  (('चीजें', 'राजामहाराजा'), 1),\n",
       "  (('राजामहाराजा', 'भी'), 1),\n",
       "  (('सकते', 'थे'), 1),\n",
       "  (('थे', 'आज'), 1),\n",
       "  (('आज', 'आम'), 1),\n",
       "  (('आम', 'नागरिक'), 1),\n",
       "  (('नागरिक', 'की'), 1),\n",
       "  (('की', 'पहुंच'), 1),\n",
       "  (('पहुंच', 'में'), 1),\n",
       "  (('में', 'हैं।'), 1),\n",
       "  (('हैं।', 'हम'), 1),\n",
       "  (('हम', 'इस'), 1),\n",
       "  (('पर', 'रहने'), 1),\n",
       "  (('रहने', 'वाली'), 1),\n",
       "  (('वाली', 'अब'), 1),\n",
       "  (('तक', 'की'), 1),\n",
       "  (('सबसे', 'आरामदेह'), 1),\n",
       "  (('आरामदेह', 'पीढ़ी'), 1),\n",
       "  (('पीढ़ी', 'हैं।'), 1),\n",
       "  (('हैं।', 'हमने'), 1),\n",
       "  (('हमने', 'बाहरी'), 1),\n",
       "  (('बाहरी', 'माहौल'), 1),\n",
       "  (('माहौल', 'को'), 1),\n",
       "  (('लिए', 'अपनी'), 1),\n",
       "  (('ओर', 'से'), 1),\n",
       "  (('से', 'बेहतरीन'), 1),\n",
       "  (('बेहतरीन', 'कोशिश'), 1),\n",
       "  (('कोशिश', 'की'), 1),\n",
       "  (('अगर', 'हम'), 1),\n",
       "  (('हम', 'इसे'), 1),\n",
       "  (('इसे', 'और'), 1),\n",
       "  (('और', 'ज्यादा'), 1),\n",
       "  (('ज्यादा', 'ठीक'), 1),\n",
       "  (('ठीक', 'करते'), 1),\n",
       "  (('तो', 'धरती'), 1),\n",
       "  (('धरती', 'ही'), 1),\n",
       "  (('ही', 'नहीं'), 1),\n",
       "  (('नहीं', 'बचेगी'), 1),\n",
       "  (('बचेगी', 'लेकिन'), 1),\n",
       "  (('लेकिन', 'हम'), 1),\n",
       "  (('हम', 'निश्चित'), 1),\n",
       "  (('निश्चित', 'रूप'), 1),\n",
       "  (('से', 'यह'), 1),\n",
       "  (('यह', 'नहीं'), 1),\n",
       "  (('नहीं', 'कह'), 1),\n",
       "  (('कह', 'सकते'), 1),\n",
       "  (('सकते', 'कि'), 1),\n",
       "  (('कि', 'हम'), 1),\n",
       "  (('हम', 'अपने'), 1),\n",
       "  (('अपने', 'पुरखों'), 1),\n",
       "  (('पुरखों', 'से'), 1),\n",
       "  (('से', 'ज्यादा'), 1),\n",
       "  (('ज्यादा', 'खुश'), 1),\n",
       "  (('खुश', 'ज्यादा'), 1),\n",
       "  (('ज्यादा', 'प्रेममय'), 1),\n",
       "  (('प्रेममय', 'या'), 1),\n",
       "  (('या', 'ज्यादा'), 1),\n",
       "  (('ज्यादा', 'शांत'), 1),\n",
       "  (('शांत', 'हैं।'), 1),\n",
       "  (('है', 'अगर'), 1),\n",
       "  (('कर', 'रहा'), 1),\n",
       "  (('तो', 'क्या'), 1),\n",
       "  (('देखने', 'का'), 1),\n",
       "  (('का', 'समय'), 1),\n",
       "  (('समय', 'नहीं'), 1),\n",
       "  (('क्या', 'गलत'), 1),\n",
       "  (('गलत', 'है'), 1),\n",
       "  (('हम', 'कोई'), 1),\n",
       "  (('कोई', 'ऐसी'), 1),\n",
       "  (('ऐसी', 'चीज'), 1),\n",
       "  (('चीज', 'करते'), 1),\n",
       "  (('करते', 'रहना'), 1),\n",
       "  (('रहना', 'कैसे'), 1),\n",
       "  (('कैसे', 'जारी'), 1),\n",
       "  (('जारी', 'रख'), 1),\n",
       "  (('रख', 'सकते'), 1),\n",
       "  (('हैं', 'जिसने'), 1),\n",
       "  (('जिसने', 'हजार'), 1),\n",
       "  (('हजार', 'साल'), 1),\n",
       "  (('साल', 'से'), 1),\n",
       "  (('से', 'काम'), 1),\n",
       "  (('हम', 'उन'), 1),\n",
       "  (('उन', 'योजनाओं'), 1),\n",
       "  (('योजनाओं', 'के'), 1),\n",
       "  (('और', 'कितने'), 1),\n",
       "  (('कितने', 'समय'), 1),\n",
       "  (('समय', 'तक'), 1),\n",
       "  (('तक', 'जीने'), 1),\n",
       "  (('जीने', 'वाले'), 1),\n",
       "  (('वाले', 'हैं'), 1),\n",
       "  (('हैं', 'जिन्होंने'), 1),\n",
       "  (('जिन्होंने', 'साफ'), 1),\n",
       "  (('साफ', 'तौर'), 1),\n",
       "  (('पर', 'अपना'), 1),\n",
       "  (('अपना', 'वादा'), 1),\n",
       "  (('वादा', 'पूरा'), 1),\n",
       "  (('पूरा', 'नहीं'), 1),\n",
       "  (('है', 'नजरिया'), 1),\n",
       "  (('नजरिया', 'बदलने'), 1),\n",
       "  (('बदलने', 'के'), 1),\n",
       "  (('लिए', 'यही'), 1),\n",
       "  (('यही', 'समय'), 1),\n",
       "  (('समय', 'है।'), 1),\n",
       "  (('है।', 'खुशहाली'), 1),\n",
       "  (('खुशहाली', 'क्या'), 1),\n",
       "  (('ही', 'सवाल'), 1),\n",
       "  (('सवाल', 'से'), 1),\n",
       "  (('से', 'शुरू'), 1),\n",
       "  (('शुरू', 'करते'), 1),\n",
       "  (('हैं', 'हम'), 1),\n",
       "  (('हम', 'खुशहाली'), 1),\n",
       "  (('खुशहाली', 'किसे'), 1),\n",
       "  (('किसे', 'मानते'), 1),\n",
       "  (('मानते', 'हैं'), 1),\n",
       "  (('हैं', 'बिलकुल'), 1),\n",
       "  (('बिलकुल', 'सीधे'), 1),\n",
       "  (('सीधे', 'तौर'), 1),\n",
       "  (('पर', 'खुशहाली'), 1),\n",
       "  (('खुशहाली', 'बस'), 1),\n",
       "  (('बस', 'अपने'), 1),\n",
       "  (('भीतर', 'प्रसन्नता'), 1),\n",
       "  (('एक', 'गहरी'), 1),\n",
       "  (('गहरी', 'भावना'), 1),\n",
       "  (('भावना', 'है।'), 1),\n",
       "  (('शरीर', 'सुखद'), 1),\n",
       "  (('सुखद', 'महसूस'), 1),\n",
       "  (('महसूस', 'करता'), 1),\n",
       "  (('उसे', 'स्वास्थ्य'), 1),\n",
       "  (('स्वास्थ्य', 'कहते'), 1),\n",
       "  (('उसे', 'सुख'), 1),\n",
       "  (('सुख', 'कहते'), 1),\n",
       "  (('आपका', 'मन'), 1),\n",
       "  (('मन', 'सुखद'), 1),\n",
       "  (('सुखद', 'बनता'), 1),\n",
       "  (('बनता', 'है'), 1),\n",
       "  (('शांति', 'कहते'), 1),\n",
       "  (('उसे', 'ख़ुशी'), 1),\n",
       "  (('ख़ुशी', 'कहते'), 1),\n",
       "  (('आपकी', 'भावना'), 1),\n",
       "  (('भावना', 'सुखद'), 1),\n",
       "  (('बनती', 'है'), 1),\n",
       "  (('उसे', 'प्रेम'), 1),\n",
       "  (('प्रेम', 'कहते'), 1),\n",
       "  (('हैं', 'अगर'), 1),\n",
       "  (('उसे', 'करुणा'), 1),\n",
       "  (('करुणा', 'कहते'), 1),\n",
       "  (('जीवन', 'ऊर्जाएं'), 1),\n",
       "  (('ऊर्जाएं', 'सुखद'), 1),\n",
       "  (('बनती', 'हैं'), 1),\n",
       "  (('उसे', 'आनंद'), 1),\n",
       "  (('आनंद', 'कहते'), 1),\n",
       "  (('अगर', 'वे'), 1),\n",
       "  (('वे', 'बहुत'), 1),\n",
       "  (('जाती', 'हैं'), 1),\n",
       "  (('हैं', 'ता'), 1),\n",
       "  (('ता', 'हम'), 1),\n",
       "  (('उसे', 'परमानंद'), 1),\n",
       "  (('परमानंद', 'कहते'), 1),\n",
       "  (('आप', 'पूरा'), 1),\n",
       "  (('पूरा', 'बस'), 1),\n",
       "  (('बस', 'यही'), 1),\n",
       "  (('यही', 'खोज'), 1),\n",
       "  (('हैं', 'भीतर'), 1),\n",
       "  (('भीतर', 'और'), 1),\n",
       "  (('और', 'बाहर'), 1),\n",
       "  (('बाहर', 'की'), 1),\n",
       "  (('की', 'प्रसन्नता।'), 1),\n",
       "  (('प्रसन्नता।', 'जब'), 1),\n",
       "  (('जब', 'प्रसन्नता'), 1),\n",
       "  (('प्रसन्नता', 'भीतर'), 1),\n",
       "  (('भीतर', 'होती'), 1),\n",
       "  (('होती', 'है'), 1),\n",
       "  (('शांति', 'आनंद'), 1),\n",
       "  (('या', 'खुशी'), 1),\n",
       "  (('खुशी', 'कहते'), 1),\n",
       "  (('हैं।', 'जब'), 1),\n",
       "  (('जब', 'आपके'), 1),\n",
       "  (('आपके', 'चारों'), 1),\n",
       "  (('चारों', 'ओर'), 1),\n",
       "  (('ओर', 'का'), 1),\n",
       "  (('का', 'माहौल'), 1),\n",
       "  (('माहौल', 'सुखद'), 1),\n",
       "  (('उसे', 'सफलता'), 1),\n",
       "  (('सफलता', 'का'), 1),\n",
       "  (('का', 'नाम'), 1),\n",
       "  (('दिया', 'जाता'), 1),\n",
       "  (('जाता', 'है।'), 1),\n",
       "  (('आपकी', 'इनमें'), 1),\n",
       "  (('इनमें', 'से'), 1),\n",
       "  (('से', 'किसी'), 1),\n",
       "  (('किसी', 'में'), 1),\n",
       "  (('में', 'भी'), 1),\n",
       "  (('भी', 'रुचि'), 1),\n",
       "  (('रुचि', 'नहीं'), 1),\n",
       "  (('और', 'आप'), 1),\n",
       "  (('आप', 'स्वर्ग'), 1),\n",
       "  (('स्वर्ग', 'जाना'), 1),\n",
       "  (('जाना', 'चाहते'), 1),\n",
       "  (('क्या', 'खोज'), 1),\n",
       "  (('हैं', 'बस'), 1),\n",
       "  (('बस', 'दूसरी'), 1),\n",
       "  (('दूसरी', 'दुनिया'), 1),\n",
       "  (('दुनिया', 'की'), 1),\n",
       "  (('की', 'सफलता'), 1),\n",
       "  (('सफलता', 'तो'), 1),\n",
       "  (('तो', 'मुख्य'), 1),\n",
       "  (('से', 'सारे'), 1),\n",
       "  (('सारे', 'मानव'), 1),\n",
       "  (('अनुभव', 'बदलते'), 1),\n",
       "  (('बदलते', 'स्तरों'), 1),\n",
       "  (('स्तरों', 'की'), 1),\n",
       "  (('और', 'अप्रसन्नता'), 1),\n",
       "  (('अप्रसन्नता', 'से'), 1),\n",
       "  (('से', 'आते'), 1),\n",
       "  (('आते', 'हैं।'), 1),\n",
       "  (('लेकिन', 'अपने'), 1),\n",
       "  (('अपने', 'जीवन'), 1),\n",
       "  (('जीवन', 'में'), 1),\n",
       "  (('आप', 'कितनी'), 1),\n",
       "  (('बार', 'पूरे'), 1),\n",
       "  (('पूरे', 'दिन'), 1),\n",
       "  (('दिन', 'भर'), 1),\n",
       "  (('भर', 'आनंदमय'), 1),\n",
       "  (('आनंदमय', 'रहे'), 1),\n",
       "  (('हैं', 'बिना'), 1),\n",
       "  (('बिना', 'एक'), 1),\n",
       "  (('एक', 'पल'), 1),\n",
       "  (('पल', 'की'), 1),\n",
       "  (('की', 'भी'), 1),\n",
       "  (('भी', 'चिंता'), 1),\n",
       "  (('चिंता', 'बेचैनी'), 1),\n",
       "  (('बेचैनी', 'चिढ़'), 1),\n",
       "  (('चिढ़', 'या'), 1),\n",
       "  (('या', 'तनाव'), 1),\n",
       "  (('तनाव', 'के'), 1),\n",
       "  (('के', 'कितनी'), 1),\n",
       "  (('बार', 'आप'), 1),\n",
       "  (('घंटे', 'के'), 1),\n",
       "  (('लिए', 'निरी'), 1),\n",
       "  (('निरी', 'प्रसन्नता'), 1),\n",
       "  (('और', 'पूरे'), 1),\n",
       "  (('पूरे', 'आनंद'), 1),\n",
       "  (('आनंद', 'में'), 1),\n",
       "  (('में', 'रहे'), 1),\n",
       "  (('हैं', 'पिछली'), 1),\n",
       "  (('पिछली', 'बार'), 1),\n",
       "  (('बार', 'आपके'), 1),\n",
       "  (('साथ', 'ऐसा'), 1),\n",
       "  (('ऐसा', 'कब'), 1),\n",
       "  (('कब', 'हुआ'), 1),\n",
       "  (('हुआ', 'था'), 1),\n",
       "  (('था', 'हैरानी'), 1),\n",
       "  (('हैरानी', 'की'), 1),\n",
       "  (('बात', 'यह'), 1),\n",
       "  (('कि', 'इस'), 1),\n",
       "  (('पर', 'ज्यादातर'), 1),\n",
       "  (('ज्यादातर', 'लोगों'), 1),\n",
       "  (('लोगों', 'के'), 1),\n",
       "  (('दिन', 'भी'), 1),\n",
       "  (('भी', 'ठीक'), 1),\n",
       "  (('ठीक', 'वैसा'), 1),\n",
       "  (('वैसा', 'नहीं'), 1),\n",
       "  (('नहीं', 'बीता'), 1),\n",
       "  (('बीता', 'है'), 1),\n",
       "  (('है', 'जैसा'), 1),\n",
       "  (('जैसा', 'वे'), 1),\n",
       "  (('वे', 'चाहते'), 1),\n",
       "  (('हैं', 'यकीनन'), 1),\n",
       "  (('यकीनन', 'ऐसा'), 1),\n",
       "  (('ऐसा', 'कोई'), 1),\n",
       "  (('कोई', 'भी'), 1),\n",
       "  (('है', 'जिसने'), 1),\n",
       "  (('जिसने', 'खुशी'), 1),\n",
       "  (('खुशी', 'शांति'), 1),\n",
       "  (('आनंद', 'अनुभव'), 1),\n",
       "  (('अनुभव', 'नहीं'), 1),\n",
       "  (('हो', 'लेकिन'), 1),\n",
       "  (('लेकिन', 'वह'), 1),\n",
       "  (('वह', 'हमेशा'), 1),\n",
       "  (('हमेशा', 'अस्थाई'), 1),\n",
       "  (('अस्थाई', 'होता'), 1),\n",
       "  (('है।', 'वे'), 1),\n",
       "  (('वे', 'उसे'), 1),\n",
       "  (('उसे', 'कायम'), 1),\n",
       "  (('कायम', 'नहीं'), 1),\n",
       "  (('नहीं', 'रख'), 1),\n",
       "  (('रख', 'पाते।'), 1),\n",
       "  (('पाते।', 'वे'), 1),\n",
       "  (('वे', 'वहां'), 1),\n",
       "  (('वहां', 'पहुंच'), 1),\n",
       "  (('पहुंच', 'तो'), 1),\n",
       "  (('तो', 'जाते'), 1),\n",
       "  (('लेकिन', 'फिर'), 1),\n",
       "  (('फिर', 'गिरते'), 1),\n",
       "  (('गिरते', 'रहते'), 1),\n",
       "  (('रहते', 'है।'), 1),\n",
       "  (('उसके', 'गिरने'), 1),\n",
       "  (('गिरने', 'के'), 1),\n",
       "  (('लिए', 'कोई'), 1),\n",
       "  (('कोई', 'भीषण'), 1),\n",
       "  (('भीषण', 'चीज'), 1),\n",
       "  (('चीज', 'होने'), 1),\n",
       "  (('होने', 'की'), 1),\n",
       "  (('है।', 'सबसे'), 1),\n",
       "  (('सबसे', 'साधारण'), 1),\n",
       "  (('साधारण', 'चीजें'), 1),\n",
       "  (('चीजें', 'लोगों'), 1),\n",
       "  (('लोगों', 'को'), 1),\n",
       "  (('को', 'संतुलन'), 1),\n",
       "  (('संतुलन', 'से'), 1),\n",
       "  (('बाहर', 'फेंक'), 1),\n",
       "  (('फेंक', 'देती'), 1),\n",
       "  (('देती', 'हैं'), 1),\n",
       "  (('और', 'बेतरतीब'), 1),\n",
       "  (('बेतरतीब', 'कर'), 1),\n",
       "  (('कर', 'देती'), 1),\n",
       "  (('देती', 'हैं।'), 1),\n",
       "  (('हैं।', 'यह'), 1),\n",
       "  (('यह', 'कुछ'), 1),\n",
       "  (('कुछ', 'ऐसा'), 1),\n",
       "  (('ऐसा', 'है।'), 1),\n",
       "  (('आज', 'आप'), 1),\n",
       "  (('बाहर', 'जाते'), 1),\n",
       "  (('और', 'कोई'), 1),\n",
       "  (('कोई', 'आपसे'), 1),\n",
       "  (('आपसे', 'कहता'), 1),\n",
       "  (('कहता', 'है'), 1),\n",
       "  (('आप', 'दुनिया'), 1),\n",
       "  (('के', 'सबसे'), 1),\n",
       "  (('सबसे', 'सुंदर'), 1),\n",
       "  (('सुंदर', 'व्यक्ति'), 1),\n",
       "  (('व्यक्ति', 'हैं'), 1),\n",
       "  (('आप', 'सातवें'), 1),\n",
       "  (('सातवें', 'आसमान'), 1),\n",
       "  (('आसमान', 'पर'), 1),\n",
       "  (('पर', 'तैरने'), 1),\n",
       "  (('तैरने', 'लगते'), 1),\n",
       "  (('लगते', 'हैं।'), 1),\n",
       "  (('घर', 'लौटते'), 1),\n",
       "  (('लौटते', 'हैं'), 1),\n",
       "  (('और', 'घर'), 1),\n",
       "  (('घर', 'के'), 1),\n",
       "  (('के', 'लोग'), 1),\n",
       "  (('लोग', 'आपको'), 1),\n",
       "  (('आपको', 'बताते'), 1),\n",
       "  (('बताते', 'हैं'), 1),\n",
       "  (('आप', 'वाकई'), 1),\n",
       "  (('वाकई', 'कौन'), 1),\n",
       "  (('कौन', 'हैं'), 1),\n",
       "  (('हैं', 'हर'), 1),\n",
       "  (('चीज', 'चकनाचूर'), 1),\n",
       "  (('चकनाचूर', 'हो'), 1),\n",
       "  (('हो', 'जाती'), 1),\n",
       "  (('है', 'क्या'), 1),\n",
       "  (('यह', 'जानापहचाना'), 1),\n",
       "  (('जानापहचाना', 'लगता'), 1),\n",
       "  (('आपको', 'अपने'), 1),\n",
       "  (('भीतर', 'प्रसन्न'), 1),\n",
       "  (('प्रसन्न', 'रहने'), 1),\n",
       "  (('रहने', 'की'), 1),\n",
       "  (('जरूरत', 'क्यों'), 1),\n",
       "  (('आप', 'प्रसन्नता'), 1),\n",
       "  (('एक', 'आंतरिक'), 1),\n",
       "  (('आंतरिक', 'अवस्था'), 1),\n",
       "  (('अवस्था', 'में'), 1),\n",
       "  (('में', 'होते'), 1),\n",
       "  (('होते', 'हैं'), 1),\n",
       "  (('हैं', 'तब'), 1),\n",
       "  (('तब', 'आप'), 1),\n",
       "  (('आप', 'स्वाभाविक'), 1),\n",
       "  (('स्वाभाविक', 'रूप'), 1),\n",
       "  (('अपने', 'आसपास'), 1),\n",
       "  (('आसपास', 'हर'), 1),\n",
       "  (('हर', 'किसी'), 1),\n",
       "  (('किसी', 'के'), 1),\n",
       "  (('और', 'हर'), 1),\n",
       "  (('चीज', 'के'), 1),\n",
       "  (('साथ', 'मधुर'), 1),\n",
       "  (('मधुर', 'होते'), 1),\n",
       "  (('हैं।', 'दूसरों'), 1),\n",
       "  (('दूसरों', 'के'), 1),\n",
       "  (('साथ', 'अच्छे'), 1),\n",
       "  (('अच्छे', 'होने'), 1),\n",
       "  (('का', 'निर्देश'), 1),\n",
       "  (('निर्देश', 'देने'), 1),\n",
       "  (('देने', 'के'), 1),\n",
       "  (('किसी', 'धर्मग्रंथ'), 1),\n",
       "  (('धर्मग्रंथ', 'या'), 1),\n",
       "  (('या', 'दर्शन'), 1),\n",
       "  (('दर्शन', 'की'), 1),\n",
       "  (('है।', 'जब'), 1),\n",
       "  (('भीतर', 'अच्छा'), 1),\n",
       "  (('अच्छा', 'महसूस'), 1),\n",
       "  (('वह', 'उसका'), 1),\n",
       "  (('उसका', 'स्वाभाविक'), 1),\n",
       "  (('स्वाभाविक', 'परिणाम'), 1),\n",
       "  (('परिणाम', 'है।'), 1),\n",
       "  (('है।', 'एक'), 1),\n",
       "  (('एक', 'शांत'), 1),\n",
       "  (('शांत', 'समाज'), 1),\n",
       "  (('समाज', 'और'), 1),\n",
       "  (('एक', 'आनंदमय'), 1),\n",
       "  (('आनंदमय', 'दुनिया'), 1),\n",
       "  (('दुनिया', 'बनाने'), 1),\n",
       "  (('बनाने', 'के'), 1),\n",
       "  (('लिए', 'आंतरिक'), 1),\n",
       "  (('आंतरिक', 'प्रसन्नता'), 1),\n",
       "  (('प्रसन्नता', 'एक'), 1),\n",
       "  (('एक', 'अचूक'), 1),\n",
       "  (('अचूक', 'बीमा'), 1),\n",
       "  (('बीमा', 'है।'), 1),\n",
       "  (('इसके', 'अलावा'), 1),\n",
       "  (('अलावा', 'दुनिया'), 1),\n",
       "  (('में', 'आपकी'), 1),\n",
       "  (('आपकी', 'सफलता'), 1),\n",
       "  (('सफलता', 'मुख्य'), 1),\n",
       "  (('से', 'इस'), 1),\n",
       "  (('इस', 'पर'), 1),\n",
       "  (('पर', 'निर्भर'), 1),\n",
       "  (('निर्भर', 'करती'), 1),\n",
       "  (('करती', 'है'), 1),\n",
       "  (('कि', 'आपने'), 1),\n",
       "  (('आपने', 'शरीर'), 1),\n",
       "  (('मन', 'के'), 1),\n",
       "  (('के', 'कौशल'), 1),\n",
       "  (('कौशल', 'का'), 1),\n",
       "  (('का', 'कितने'), 1),\n",
       "  (('कितने', 'अच्छे'), 1),\n",
       "  (('अच्छे', 'से'), 1),\n",
       "  (('से', 'उपयोग'), 1),\n",
       "  (('उपयोग', 'किया'), 1),\n",
       "  (('तो', 'सफलता'), 1),\n",
       "  (('सफलता', 'हासिल'), 1),\n",
       "  (('लिए', 'प्रसन्नता'), 1),\n",
       "  (('प्रसन्नता', 'को'), 1),\n",
       "  (('को', 'आपके'), 1),\n",
       "  (('भीतर', 'एक'), 1),\n",
       "  (('एक', 'बुनियादी'), 1),\n",
       "  (('बुनियादी', 'गुण'), 1),\n",
       "  (('गुण', 'होना'), 1),\n",
       "  (('होगा।', 'सबसे'), 1),\n",
       "  (('सबसे', 'बढ़कर'), 1),\n",
       "  (('बढ़कर', 'आज'), 1),\n",
       "  (('आज', 'इसके'), 1),\n",
       "  (('इसके', 'पर्याप्त'), 1),\n",
       "  (('पर्याप्त', 'मेडिकल'), 1),\n",
       "  (('मेडिकल', 'और'), 1),\n",
       "  (('और', 'वैज्ञानिक'), 1),\n",
       "  (('कि', 'आपका'), 1),\n",
       "  (('मन', 'अपने'), 1),\n",
       "  (('अपने', 'बेहतरीन'), 1),\n",
       "  (('बेहतरीन', 'स्तर'), 1),\n",
       "  (('स्तर', 'पर'), 1),\n",
       "  (('पर', 'तब'), 1),\n",
       "  (('तब', 'काम'), 1),\n",
       "  (('काम', 'करते'), 1),\n",
       "  (('आप', 'प्रसन्न'), 1),\n",
       "  (('प्रसन्न', 'हों।'), 1),\n",
       "  (('हों।', 'ऐसा'), 1),\n",
       "  (('ऐसा', 'कहा'), 1),\n",
       "  (('कहा', 'गया'), 1),\n",
       "  (('गया', 'है'), 1),\n",
       "  (('कि', 'अगर'), 1),\n",
       "  (('घंटे', 'आनंदमय'), 1),\n",
       "  (('आनंदमय', 'रह'), 1),\n",
       "  (('रह', 'सकते'), 1),\n",
       "  (('तो', 'आपकी'), 1),\n",
       "  (('आपकी', 'बौद्धिक'), 1),\n",
       "  (('बौद्धिक', 'क्षमताएं'), 1),\n",
       "  (('क्षमताएं', 'लगभग'), 1),\n",
       "  (('लगभग', 'दुगनी'), 1),\n",
       "  (('दुगनी', 'हो'), 1),\n",
       "  (('सकती', 'हैं।'), 1),\n",
       "  (('हैं।', 'बस'), 1),\n",
       "  (('आंतरिक', 'झमेले'), 1),\n",
       "  (('झमेले', 'को'), 1),\n",
       "  (('को', 'ठिकाने'), 1),\n",
       "  (('ठिकाने', 'लगाने'), 1),\n",
       "  (('लगाने', 'और'), 1),\n",
       "  (('और', 'स्पष्टता'), 1),\n",
       "  (('स्पष्टता', 'को'), 1),\n",
       "  (('को', 'उजागर'), 1),\n",
       "  (('उजागर', 'होने'), 1),\n",
       "  (('होने', 'देने'), 1),\n",
       "  (('देने', 'से'), 1),\n",
       "  (('से', 'इसे'), 1),\n",
       "  (('इसे', 'हासिल'), 1),\n",
       "  (('हासिल', 'किया'), 1),\n",
       "  (('है।', 'अब'), 1),\n",
       "  (('अब', 'वह'), 1),\n",
       "  (('वह', 'जीवन'), 1),\n",
       "  (('ऊर्जा', 'जिसे'), 1),\n",
       "  (('जिसे', 'आप'), 1),\n",
       "  (('आप', '‘मैं’'), 1),\n",
       "  (('‘मैं’', 'कहते'), 1),\n",
       "  (('हैं', 'वह'), 1),\n",
       "  (('वह', 'कभी'), 1),\n",
       "  (('कभी', 'बहुत'), 1),\n",
       "  (('बहुत', 'प्रसन्न'), 1),\n",
       "  (('प्रसन्न', 'रहती'), 1),\n",
       "  (('रहती', 'है'), 1),\n",
       "  (('है', 'कभी'), 1),\n",
       "  (('कभी', 'दुखी'), 1),\n",
       "  (('दुखी', 'कभी'), 1),\n",
       "  (('कभी', 'शांत'), 1),\n",
       "  (('शांत', 'और'), 1),\n",
       "  (('और', 'कभी'), 1),\n",
       "  (('कभी', 'बेचैन'), 1),\n",
       "  (('बेचैन', 'रहती'), 1),\n",
       "  (('रहती', 'है।'), 1),\n",
       "  (('है।', 'वही'), 1),\n",
       "  (('वही', 'जीवन'), 1),\n",
       "  (('ऊर्जा', 'उन'), 1),\n",
       "  (('उन', 'सब'), 1),\n",
       "  (('सब', 'अवस्थाओं'), 1),\n",
       "  ...])"
      ]
     },
     "execution_count": 48,
     "metadata": {},
     "output_type": "execute_result"
    }
   ],
   "source": [
    "len(ngrams_up_to_20[0].most_common()), ngrams_up_to_20[0].most_common()"
   ]
  },
  {
   "cell_type": "code",
   "execution_count": 49,
   "id": "144fdcc8",
   "metadata": {
    "colab": {
     "base_uri": "https://localhost:8080/"
    },
    "id": "144fdcc8",
    "outputId": "21317120-d405-411d-ce50-a5c0ecacaac2"
   },
   "outputs": [
    {
     "data": {
      "text/plain": [
       "(262,\n",
       " [(('है', 'कि'), 17),\n",
       "  (('के', 'लिए'), 14),\n",
       "  (('है', 'तो'), 11),\n",
       "  (('सकते', 'हैं'), 9),\n",
       "  (('हम', 'उसे'), 8),\n",
       "  (('कहते', 'हैं।'), 8),\n",
       "  (('हैं।', 'अगर'), 8),\n",
       "  (('हैं', 'कि'), 8),\n",
       "  (('तो', 'हम'), 7),\n",
       "  (('रहे', 'हैं'), 7),\n",
       "  (('अपने', 'भीतर'), 6),\n",
       "  (('हैं', 'तो'), 6),\n",
       "  (('रहा', 'है'), 6),\n",
       "  (('के', 'साथ'), 6),\n",
       "  (('हैं', 'लेकिन'), 6),\n",
       "  (('कि', 'आप'), 6),\n",
       "  (('कर', 'रहे'), 6),\n",
       "  (('रूप', 'से'), 5),\n",
       "  (('हर', 'चीज'), 5),\n",
       "  (('जब', 'आप'), 5),\n",
       "  (('की', 'एक'), 5),\n",
       "  (('होता', 'है।'), 5),\n",
       "  (('हैं।', 'आप'), 5),\n",
       "  (('नहीं', 'है'), 5),\n",
       "  (('सुखद', 'बन'), 5),\n",
       "  (('यह', 'है'), 5),\n",
       "  (('की', 'जरूरत'), 5),\n",
       "  (('रहे', 'हैं।'), 5),\n",
       "  (('करने', 'के'), 4),\n",
       "  (('धरती', 'पर'), 4),\n",
       "  (('के', 'रूप'), 4),\n",
       "  (('रूप', 'में'), 4),\n",
       "  (('तो', 'वह'), 4),\n",
       "  (('वह', 'बहुत'), 4),\n",
       "  (('जाता', 'है'), 4),\n",
       "  (('होते', 'हैं।'), 4),\n",
       "  (('कर', 'सकते'), 4),\n",
       "  (('है।', 'अगर'), 4),\n",
       "  (('बहुत', 'सुखद'), 4),\n",
       "  (('आनंद', 'या'), 4),\n",
       "  (('है', 'और'), 4),\n",
       "  (('तो', 'आप'), 4),\n",
       "  (('नहीं', 'है।'), 4),\n",
       "  (('रहे', 'हों'), 4),\n",
       "  (('आपके', 'भीतर'), 4),\n",
       "  (('कि', 'यह'), 4),\n",
       "  (('डाल', 'तक'), 4),\n",
       "  (('सकता', 'है'), 4),\n",
       "  (('बस', 'एक'), 3),\n",
       "  (('अगर', 'आप'), 3),\n",
       "  (('आप', 'इस'), 3),\n",
       "  (('इस', 'धरती'), 3),\n",
       "  (('एक', 'बहुत'), 3),\n",
       "  (('हैं।', 'लेकिन'), 3),\n",
       "  (('में', 'एक'), 3),\n",
       "  (('एक', 'ही'), 3),\n",
       "  (('सकते', 'हैं।'), 3),\n",
       "  (('भी', 'नहीं'), 3),\n",
       "  (('की', 'सबसे'), 3),\n",
       "  (('करते', 'हैं'), 3),\n",
       "  (('क्यों', 'है'), 3),\n",
       "  (('नहीं', 'किया'), 3),\n",
       "  (('करता', 'है'), 3),\n",
       "  (('अगर', 'वह'), 3),\n",
       "  (('बन', 'जाता'), 3),\n",
       "  (('अगर', 'आपकी'), 3),\n",
       "  (('की', 'बात'), 3),\n",
       "  (('लिए', 'एक'), 3),\n",
       "  (('से', 'बाहर'), 3),\n",
       "  (('हैं', 'और'), 3),\n",
       "  (('दुनिया', 'के'), 3),\n",
       "  (('आप', 'अपने'), 3),\n",
       "  (('है।', 'तो'), 3),\n",
       "  (('सकता', 'है।'), 3),\n",
       "  (('जीवन', 'ऊर्जा'), 3),\n",
       "  (('तरह', 'की'), 3),\n",
       "  (('की', 'कोशिश'), 3),\n",
       "  (('कोशिश', 'कर'), 3),\n",
       "  (('सोचते', 'हैं'), 3),\n",
       "  (('है', 'लेकिन'), 3),\n",
       "  (('है', 'वह'), 3),\n",
       "  (('आप', 'पूरी'), 3),\n",
       "  (('रहा', 'था'), 3),\n",
       "  (('तीतर', 'ने'), 3),\n",
       "  (('ने', 'कहा'), 3),\n",
       "  (('तक', 'पहुंच'), 3),\n",
       "  (('किस्म', 'की'), 3),\n",
       "  (('बाहर', 'निकलने'), 3),\n",
       "  (('निकलने', 'का'), 3),\n",
       "  (('का', 'रास्ता'), 3),\n",
       "  (('या', 'परमानंद'), 3),\n",
       "  (('की', 'केमेस्ट्री'), 3),\n",
       "  (('ही', 'एकमात्र'), 2),\n",
       "  (('‘इनर', 'इंजीनरिंग’'), 2),\n",
       "  (('तरीके', 'से'), 2),\n",
       "  (('अब', 'तक'), 2),\n",
       "  (('एक', 'चीज'), 2),\n",
       "  (('की', 'है।'), 2),\n",
       "  (('किया', 'हो'), 2),\n",
       "  (('हों', 'या'), 2),\n",
       "  (('परिवार', 'को'), 2),\n",
       "  (('क्योंकि', 'आप'), 2),\n",
       "  (('एक', 'साधारण'), 2),\n",
       "  (('बहुत', 'सरल'), 2),\n",
       "  (('पेट', 'भर'), 2),\n",
       "  (('जाए', 'तो'), 2),\n",
       "  (('वह', 'एक'), 2),\n",
       "  (('जिस', 'पल'), 2),\n",
       "  (('लेकिन', 'जब'), 2),\n",
       "  (('दुनिया', 'में'), 2),\n",
       "  (('एक', 'इंसान'), 2),\n",
       "  (('इंसान', 'के'), 2),\n",
       "  (('हैं', 'जब'), 2),\n",
       "  (('होता', 'है'), 2),\n",
       "  (('है।', 'आज'), 2),\n",
       "  (('है।', 'आप'), 2),\n",
       "  (('आप', 'घर'), 2),\n",
       "  (('बिना', 'भी'), 2),\n",
       "  (('भी', 'यह'), 2),\n",
       "  (('यह', 'काम'), 2),\n",
       "  (('नहीं', 'कर'), 2),\n",
       "  (('को', 'ठीक'), 2),\n",
       "  (('ठीक', 'करने'), 2),\n",
       "  (('अपनी', 'ओर'), 2),\n",
       "  (('हैं।', 'ऐसा'), 2),\n",
       "  (('ऐसा', 'क्यों'), 2),\n",
       "  (('अगर', 'यह'), 2),\n",
       "  (('काम', 'नहीं'), 2),\n",
       "  (('क्या', 'यह'), 2),\n",
       "  (('यह', 'देखने'), 2),\n",
       "  (('कि', 'क्या'), 2),\n",
       "  (('है', 'हम'), 2),\n",
       "  (('किया', 'है'), 2),\n",
       "  (('साथ', 'और'), 2),\n",
       "  (('तौर', 'पर'), 2),\n",
       "  (('क्या', 'है'), 2),\n",
       "  (('है', 'एक'), 2),\n",
       "  (('प्रसन्नता', 'की'), 2),\n",
       "  (('अगर', 'आपका'), 2),\n",
       "  (('आपका', 'शरीर'), 2),\n",
       "  (('उसे', 'शांति'), 2),\n",
       "  (('सुखद', 'बनती'), 2),\n",
       "  (('कहते', 'हैं'), 2),\n",
       "  (('बन', 'जाती'), 2),\n",
       "  (('जाती', 'है'), 2),\n",
       "  (('आपकी', 'जीवन'), 2),\n",
       "  (('खोज', 'रहे'), 2),\n",
       "  (('तो', 'उसे'), 2),\n",
       "  (('नाम', 'दिया'), 2),\n",
       "  (('चाहते', 'हैं'), 2),\n",
       "  (('आप', 'क्या'), 2),\n",
       "  (('मुख्य', 'रूप'), 2),\n",
       "  (('मानव', 'अनुभव'), 2),\n",
       "  (('की', 'प्रसन्नता'), 2),\n",
       "  (('प्रसन्नता', 'और'), 2),\n",
       "  (('में', 'आप'), 2),\n",
       "  (('कितनी', 'बार'), 2),\n",
       "  (('आप', 'चौबीस'), 2),\n",
       "  (('चौबीस', 'घंटे'), 2),\n",
       "  (('आपके', 'साथ'), 2),\n",
       "  (('एक', 'दिन'), 2),\n",
       "  (('शांति', 'या'), 2),\n",
       "  (('या', 'आनंद'), 2),\n",
       "  (('जाते', 'हैं'), 2),\n",
       "  (('है।', 'और'), 2),\n",
       "  (('और', 'उसके'), 2),\n",
       "  (('जरूरत', 'नहीं'), 2),\n",
       "  (('आप', 'बाहर'), 2),\n",
       "  (('हैं', 'आप'), 2),\n",
       "  (('लगता', 'है'), 2),\n",
       "  (('है', 'आपको'), 2),\n",
       "  (('है', 'जब'), 2),\n",
       "  (('से', 'अपने'), 2),\n",
       "  (('होने', 'का'), 2),\n",
       "  (('लिए', 'किसी'), 2),\n",
       "  (('महसूस', 'कर'), 2),\n",
       "  (('हों', 'तो'), 2),\n",
       "  (('और', 'एक'), 2),\n",
       "  (('है।', 'इसके'), 2),\n",
       "  (('शरीर', 'और'), 2),\n",
       "  (('और', 'मन'), 2),\n",
       "  (('किया', 'है।'), 2),\n",
       "  (('हासिल', 'करने'), 2),\n",
       "  (('होना', 'होगा।'), 2),\n",
       "  (('वैज्ञानिक', 'प्रमाण'), 2),\n",
       "  (('प्रमाण', 'हैं'), 2),\n",
       "  (('हो', 'सकती'), 2),\n",
       "  (('बस', 'आंतरिक'), 2),\n",
       "  (('किया', 'जा'), 2),\n",
       "  (('जा', 'सकता'), 2),\n",
       "  (('अवस्थाओं', 'में'), 2),\n",
       "  (('अगर', 'आपके'), 2),\n",
       "  (('या', 'क्लेश'), 2),\n",
       "  (('के', 'बीच'), 2),\n",
       "  (('खुशी', 'ही'), 2),\n",
       "  (('में', 'है'), 2),\n",
       "  (('सिर्फ', 'एक'), 2),\n",
       "  (('चीज', 'जो'), 2),\n",
       "  (('जो', 'आपके'), 2),\n",
       "  (('और', 'आपकी'), 2),\n",
       "  (('खुशहाली', 'के'), 2),\n",
       "  (('है', 'आपने'), 2),\n",
       "  (('विचारों', 'और'), 2),\n",
       "  (('और', 'भावनाओं'), 2),\n",
       "  (('भावनाओं', 'को'), 2),\n",
       "  (('बाहर', 'से'), 2),\n",
       "  (('सपने', 'को'), 2),\n",
       "  (('आप', 'चाहते'), 2),\n",
       "  (('चाहते', 'हैं।'), 2),\n",
       "  (('किसी', 'दिन'), 2),\n",
       "  (('दिन', 'एक'), 2),\n",
       "  (('आपका', 'सपना'), 2),\n",
       "  (('कम', 'से'), 2),\n",
       "  (('से', 'कम'), 2),\n",
       "  (('कम', 'आपके'), 2),\n",
       "  (('को', 'तो'), 2),\n",
       "  (('आपके', 'मन'), 2),\n",
       "  (('मन', 'मुताबिक'), 2),\n",
       "  (('होना', 'चाहिए'), 2),\n",
       "  (('नहीं', 'भी'), 2),\n",
       "  (('मानवीय', 'प्रणाली'), 2),\n",
       "  (('प्रणाली', 'को'), 2),\n",
       "  (('लेकिन', 'समस्या'), 2),\n",
       "  (('समस्या', 'यह'), 2),\n",
       "  (('और', 'फिर'), 2),\n",
       "  (('किसी', 'तरह'), 2),\n",
       "  (('जरूरत', 'है'), 2),\n",
       "  (('जब', 'तक'), 2),\n",
       "  (('सही', 'चीजें'), 2),\n",
       "  (('चीजें', 'नहीं'), 2),\n",
       "  (('खुद', 'को'), 2),\n",
       "  (('और', 'तीतर'), 2),\n",
       "  (('पर', 'एक'), 2),\n",
       "  (('सबसे', 'ऊंची'), 2),\n",
       "  (('ऊंची', 'डाल'), 2),\n",
       "  (('पहली', 'डाल'), 2),\n",
       "  (('बैल', 'ने'), 2),\n",
       "  (('तीतर', 'को'), 2),\n",
       "  (('ले', 'जा'), 2),\n",
       "  (('आप', 'खुद'), 2),\n",
       "  (('हर', 'किस्म'), 2),\n",
       "  (('कर', 'सकता'), 2),\n",
       "  (('कि', 'ऐसा'), 2),\n",
       "  (('बाहरी', 'स्थितियों'), 2),\n",
       "  (('भीतर', 'है।'), 2),\n",
       "  (('पीड़ा', 'या'), 2),\n",
       "  (('या', 'सुख'), 2),\n",
       "  (('वेदना', 'या'), 2),\n",
       "  (('कहां', 'देखते'), 2),\n",
       "  (('देखते', 'हैं'), 2),\n",
       "  (('देख', 'रहे'), 2),\n",
       "  (('क्या', 'आपको'), 2),\n",
       "  (('फिर', 'से'), 2),\n",
       "  (('असल', 'में'), 2),\n",
       "  (('अपने', 'ही'), 2),\n",
       "  (('को', 'अनुभव'), 2),\n",
       "  (('अनुभव', 'कर'), 2),\n",
       "  (('बिना', 'किसी'), 2),\n",
       "  (('और', 'वह'), 2),\n",
       "  (('एक', 'खास'), 2),\n",
       "  (('केमेस्ट्री', 'है।'), 2),\n",
       "  (('मत', 'खोजिए।'), 2)])"
      ]
     },
     "execution_count": 49,
     "metadata": {},
     "output_type": "execute_result"
    }
   ],
   "source": [
    "l = list(filter(lambda x: 1 < int(x[1]), ngrams_up_to_20[0].most_common()))\n",
    "len(l), l"
   ]
  },
  {
   "cell_type": "markdown",
   "id": "47119bb6",
   "metadata": {
    "id": "47119bb6"
   },
   "source": [
    "The `remove_periods` function help us to clean the n-grams. It examines n-grams to determine whether any of the words within them contain characters such as '।', '’', or '‘'. This function is designed to exclude n-grams with these characters when analyzing text. It will return `True` for n-grams that don't contain those characters and `False` for n-grams that do."
   ]
  },
  {
   "cell_type": "code",
   "execution_count": 50,
   "id": "c676caac",
   "metadata": {
    "id": "c676caac"
   },
   "outputs": [],
   "source": [
    "def remove_periods(ngram):\n",
    "    for wrd in ngram[0]:\n",
    "        if '।' in wrd or \"’\" in wrd or \"‘\" in wrd:\n",
    "            return False\n",
    "    return True"
   ]
  },
  {
   "cell_type": "markdown",
   "id": "18f13020",
   "metadata": {
    "id": "18f13020"
   },
   "source": [
    "`my_filter` takes a list of n-grams (groups of words). First, it keeps only the n-grams that appear more than once in the text. Then, it removes any n-grams that contain characters like '।', '’', or '‘'. So, the result is a list of n-grams that meet these two rules."
   ]
  },
  {
   "cell_type": "code",
   "execution_count": 51,
   "id": "dae0a025",
   "metadata": {
    "id": "dae0a025"
   },
   "outputs": [],
   "source": [
    "def my_filter(ngrams):\n",
    "    return filter(remove_periods, list(filter(lambda x: 1 < int(x[1]), ngrams)))"
   ]
  },
  {
   "cell_type": "markdown",
   "id": "da666a97",
   "metadata": {
    "id": "da666a97"
   },
   "source": [
    "These `X_train_example` and `y_train_example` lists represent training data for the language model, where each element in these lists contains the index of a word in the vocabulary."
   ]
  },
  {
   "cell_type": "code",
   "execution_count": 52,
   "id": "3a08cdec",
   "metadata": {
    "id": "3a08cdec"
   },
   "outputs": [],
   "source": [
    "bigrams_to_learn = ngrams_up_to_20[0]\n",
    "X_train_example = [[word_to_index[sent[0][0]]] for sent in my_filter(bigrams_to_learn.most_common())\n",
    "                  if sent[0][0] in word_to_index and sent[0][1] in word_to_index]\n",
    "y_train_example = [[word_to_index[sent[0][1]]] for sent in my_filter(bigrams_to_learn.most_common())\n",
    "                  if sent[0][0] in word_to_index and sent[0][1] in word_to_index]"
   ]
  },
  {
   "cell_type": "code",
   "execution_count": 53,
   "id": "8acdffc9",
   "metadata": {
    "colab": {
     "base_uri": "https://localhost:8080/"
    },
    "id": "8acdffc9",
    "outputId": "34c3bfae-96b9-4c43-feaf-83a413466fb7"
   },
   "outputs": [
    {
     "data": {
      "text/plain": [
       "([[44], [27], [44], [160], [180], [31], [87], [261], [1], [31]],\n",
       " [[199], [14], [87], [31], [244], [199], [180], [31], [2], [87]])"
      ]
     },
     "execution_count": 53,
     "metadata": {},
     "output_type": "execute_result"
    }
   ],
   "source": [
    "X_train_example[0:10], y_train_example[0:10]"
   ]
  },
  {
   "cell_type": "code",
   "execution_count": 54,
   "id": "92ef632d",
   "metadata": {
    "colab": {
     "base_uri": "https://localhost:8080/"
    },
    "id": "92ef632d",
    "outputId": "a79b1ea1-199e-454f-df2a-41fc5fc19d2a"
   },
   "outputs": [
    {
     "data": {
      "text/plain": [
       "(237, 237)"
      ]
     },
     "execution_count": 54,
     "metadata": {},
     "output_type": "execute_result"
    }
   ],
   "source": [
    "len(X_train_example), len(y_train_example)"
   ]
  },
  {
   "cell_type": "code",
   "execution_count": 55,
   "id": "f9b6a74a",
   "metadata": {
    "colab": {
     "base_uri": "https://localhost:8080/"
    },
    "id": "f9b6a74a",
    "outputId": "c7857daf-b67e-4875-8731-aba07f5a1a0d"
   },
   "outputs": [
    {
     "data": {
      "text/plain": [
       "[('तो', 'हम', 'उसे'),\n",
       " ('है', 'तो', 'हम'),\n",
       " ('यह', 'है', 'कि'),\n",
       " ('के', 'रूप', 'में'),\n",
       " ('बहुत', 'सुखद', 'बन'),\n",
       " ('है', 'कि', 'आप'),\n",
       " ('इस', 'धरती', 'पर'),\n",
       " ('कर', 'सकते', 'हैं'),\n",
       " ('करने', 'के', 'लिए'),\n",
       " ('अगर', 'वह', 'बहुत'),\n",
       " ('वह', 'बहुत', 'सुखद'),\n",
       " ('सुखद', 'बन', 'जाता'),\n",
       " ('बन', 'जाता', 'है'),\n",
       " ('जाता', 'है', 'तो'),\n",
       " ('के', 'लिए', 'एक'),\n",
       " ('कर', 'रहे', 'हों'),\n",
       " ('सकते', 'हैं', 'लेकिन'),\n",
       " ('की', 'कोशिश', 'कर'),\n",
       " ('कोशिश', 'कर', 'रहे'),\n",
       " ('सोचते', 'हैं', 'कि'),\n",
       " ('डाल', 'तक', 'पहुंच'),\n",
       " ('बाहर', 'निकलने', 'का'),\n",
       " ('निकलने', 'का', 'रास्ता'),\n",
       " ('लेकिन', 'जब', 'आप'),\n",
       " ('एक', 'इंसान', 'के'),\n",
       " ('को', 'ठीक', 'करने'),\n",
       " ('ऐसा', 'क्यों', 'है'),\n",
       " ('नहीं', 'है', 'कि'),\n",
       " ('नहीं', 'किया', 'है'),\n",
       " ('के', 'साथ', 'और'),\n",
       " ('क्या', 'है', 'एक'),\n",
       " ('प्रसन्नता', 'की', 'एक'),\n",
       " ('सुखद', 'बन', 'जाती'),\n",
       " ('खोज', 'रहे', 'हैं'),\n",
       " ('है', 'तो', 'उसे'),\n",
       " ('हैं', 'तो', 'आप'),\n",
       " ('तो', 'आप', 'क्या'),\n",
       " ('मुख्य', 'रूप', 'से'),\n",
       " ('आप', 'चौबीस', 'घंटे'),\n",
       " ('भी', 'नहीं', 'है'),\n",
       " ('शांति', 'या', 'आनंद'),\n",
       " ('की', 'जरूरत', 'नहीं'),\n",
       " ('के', 'लिए', 'किसी'),\n",
       " ('शरीर', 'और', 'मन'),\n",
       " ('प्रमाण', 'हैं', 'कि'),\n",
       " ('किया', 'जा', 'सकता'),\n",
       " ('आनंद', 'या', 'क्लेश'),\n",
       " ('हैं', 'कि', 'यह'),\n",
       " ('चीज', 'जो', 'आपके'),\n",
       " ('विचारों', 'और', 'भावनाओं'),\n",
       " ('और', 'भावनाओं', 'को'),\n",
       " ('किसी', 'दिन', 'एक'),\n",
       " ('कम', 'से', 'कम'),\n",
       " ('से', 'कम', 'आपके'),\n",
       " ('आपके', 'मन', 'मुताबिक'),\n",
       " ('हैं', 'लेकिन', 'समस्या'),\n",
       " ('लेकिन', 'समस्या', 'यह'),\n",
       " ('समस्या', 'यह', 'है'),\n",
       " ('की', 'जरूरत', 'है'),\n",
       " ('जरूरत', 'है', 'कि'),\n",
       " ('सही', 'चीजें', 'नहीं'),\n",
       " ('दुनिया', 'के', 'साथ'),\n",
       " ('तीतर', 'ने', 'कहा'),\n",
       " ('सबसे', 'ऊंची', 'डाल'),\n",
       " ('ऊंची', 'डाल', 'तक'),\n",
       " ('पहली', 'डाल', 'तक'),\n",
       " ('हर', 'किस्म', 'की'),\n",
       " ('है', 'कि', 'यह'),\n",
       " ('पीड़ा', 'या', 'सुख'),\n",
       " ('वेदना', 'या', 'परमानंद'),\n",
       " ('कहां', 'देखते', 'हैं'),\n",
       " ('को', 'अनुभव', 'कर'),\n",
       " ('अनुभव', 'कर', 'रहे'),\n",
       " ('है', 'और', 'वह'),\n",
       " ('सकते', 'हैं', 'कि'),\n",
       " ('तरह', 'की', 'केमेस्ट्री')]"
      ]
     },
     "execution_count": 55,
     "metadata": {},
     "output_type": "execute_result"
    }
   ],
   "source": [
    "trigrams_to_learn = ngrams_up_to_20[1].copy()\n",
    "[sent[0] for sent in my_filter(trigrams_to_learn.most_common())]"
   ]
  },
  {
   "cell_type": "markdown",
   "id": "3b1c4e7d",
   "metadata": {
    "id": "3b1c4e7d"
   },
   "source": [
    "This code adds more training data to the existing X_train_example and y_train_example lists. The new training data is based on the trigrams in the trigrams_to_learn list. The code extracts sequences of word indices from these trigrams for both input and output.\n",
    "\n",
    "The my_filter function is used to select and list the trigrams that meet specific conditions."
   ]
  },
  {
   "cell_type": "code",
   "execution_count": 56,
   "id": "af7a41f4",
   "metadata": {
    "id": "af7a41f4"
   },
   "outputs": [],
   "source": [
    "X_train_example.extend([[word_to_index[w] for w in sent[0][:-1]] for sent in my_filter(trigrams_to_learn.most_common())\n",
    "               if all([w in word_to_index for w in sent[0]])])\n",
    "y_train_example.extend([[word_to_index[w] for w in sent[0][1:]] for sent in my_filter(trigrams_to_learn.most_common())\n",
    "               if all([w in word_to_index for w in sent[0]])])"
   ]
  },
  {
   "cell_type": "code",
   "execution_count": 57,
   "id": "878d7fdc",
   "metadata": {
    "colab": {
     "base_uri": "https://localhost:8080/"
    },
    "id": "878d7fdc",
    "outputId": "2a1ab7fa-75e9-4c3d-f7d3-ed2371902e90"
   },
   "outputs": [
    {
     "data": {
      "text/plain": [
       "(313, 313)"
      ]
     },
     "execution_count": 57,
     "metadata": {},
     "output_type": "execute_result"
    }
   ],
   "source": [
    "len(X_train_example), len(y_train_example)"
   ]
  },
  {
   "cell_type": "code",
   "execution_count": 58,
   "id": "6b31977d",
   "metadata": {
    "colab": {
     "base_uri": "https://localhost:8080/"
    },
    "id": "6b31977d",
    "outputId": "27adedac-7aa5-4c02-e02e-e71791354cd9"
   },
   "outputs": [
    {
     "data": {
      "text/plain": [
       "([], [])"
      ]
     },
     "execution_count": 58,
     "metadata": {},
     "output_type": "execute_result"
    }
   ],
   "source": [
    "X_train_example[1575:1585], y_train_example[1575:1585]"
   ]
  },
  {
   "cell_type": "markdown",
   "id": "e2dfed3d",
   "metadata": {
    "id": "e2dfed3d"
   },
   "source": [
    "This code prepares training data using pairs of words (called bigrams) from the ngrams_up_to_20[0] list. Once the training data is created, the code mixes up the order of the elements in the X_train_2 and y_train_2 lists using the Fisher-Yates shuffle."
   ]
  },
  {
   "cell_type": "code",
   "execution_count": 59,
   "id": "90978538",
   "metadata": {
    "id": "90978538"
   },
   "outputs": [],
   "source": [
    "bigrams_to_learn = ngrams_up_to_20[0]\n",
    "X_train_2 = [[word_to_index[sent[0][0]]] for sent in my_filter(bigrams_to_learn.most_common())\n",
    "                  if sent[0][0] in word_to_index and sent[0][1] in word_to_index]\n",
    "y_train_2 = [[word_to_index[sent[0][1]]] for sent in my_filter(bigrams_to_learn.most_common())\n",
    "                  if sent[0][0] in word_to_index and sent[0][1] in word_to_index]\n",
    "X_train_2, y_train_2 = fisher_yates(X_train_2, y_train_2)"
   ]
  },
  {
   "cell_type": "code",
   "execution_count": 60,
   "id": "720feb12",
   "metadata": {
    "colab": {
     "base_uri": "https://localhost:8080/"
    },
    "id": "720feb12",
    "outputId": "b721ae4f-d94e-4d1d-80b1-7e55a0402fbf"
   },
   "outputs": [
    {
     "data": {
      "text/plain": [
       "(237, 237)"
      ]
     },
     "execution_count": 60,
     "metadata": {},
     "output_type": "execute_result"
    }
   ],
   "source": [
    "len(X_train_2), len(y_train_2)"
   ]
  },
  {
   "cell_type": "code",
   "execution_count": 61,
   "id": "85625a73",
   "metadata": {
    "colab": {
     "base_uri": "https://localhost:8080/"
    },
    "id": "85625a73",
    "outputId": "f037992b-7d19-419b-aef4-0ea6b04dbc0e"
   },
   "outputs": [
    {
     "data": {
      "text/plain": [
       "([[389], [239], [22], [164], [163], [59], [195], [249], [186], [246]],\n",
       " [[18], [424], [18], [61], [81], [25], [31], [451], [599], [31]])"
      ]
     },
     "execution_count": 61,
     "metadata": {},
     "output_type": "execute_result"
    }
   ],
   "source": [
    "X_train_2[0:10], y_train_2[0:10]"
   ]
  },
  {
   "cell_type": "code",
   "execution_count": 62,
   "id": "54432edb",
   "metadata": {
    "colab": {
     "base_uri": "https://localhost:8080/"
    },
    "id": "54432edb",
    "outputId": "31fafc29-2039-4561-e6f3-78558dce38b6"
   },
   "outputs": [
    {
     "data": {
      "text/plain": [
       "(237, 237)"
      ]
     },
     "execution_count": 62,
     "metadata": {},
     "output_type": "execute_result"
    }
   ],
   "source": [
    "len(X_train_2), len(y_train_2)"
   ]
  },
  {
   "cell_type": "code",
   "execution_count": 63,
   "id": "dd62fe28",
   "metadata": {
    "colab": {
     "base_uri": "https://localhost:8080/"
    },
    "id": "dd62fe28",
    "outputId": "055bf98a-1216-4f5a-d0ef-d8aec271442b"
   },
   "outputs": [
    {
     "data": {
      "text/plain": [
       "([[389], [239], [22], [164], [163], [59], [195], [249], [186], [246]],\n",
       " [[18], [424], [18], [61], [81], [25], [31], [451], [599], [31]])"
      ]
     },
     "execution_count": 63,
     "metadata": {},
     "output_type": "execute_result"
    }
   ],
   "source": [
    "X_train_2[0:10], y_train_2[0:10]"
   ]
  },
  {
   "cell_type": "code",
   "execution_count": 64,
   "id": "33d914a7",
   "metadata": {
    "colab": {
     "base_uri": "https://localhost:8080/"
    },
    "id": "33d914a7",
    "outputId": "61261d35-4dc1-46af-b94f-bc70fbc08723"
   },
   "outputs": [
    {
     "data": {
      "text/plain": [
       "([[0], [0], [0], [0], [0], [0], [0], [0], [0], [0]],\n",
       " [[332], [61], [78], [78], [147], [163], [183], [81], [647], [509]],\n",
       " 127,\n",
       " 127)"
      ]
     },
     "execution_count": 64,
     "metadata": {},
     "output_type": "execute_result"
    }
   ],
   "source": [
    "X_train[0:10], y_train[0:10], len(X_train), len(y_train)"
   ]
  },
  {
   "cell_type": "code",
   "execution_count": 65,
   "id": "593f9875",
   "metadata": {
    "id": "593f9875"
   },
   "outputs": [],
   "source": [
    "X_train.extend(X_train_2)\n",
    "y_train.extend(y_train_2)"
   ]
  },
  {
   "cell_type": "code",
   "execution_count": 66,
   "id": "55551e4d",
   "metadata": {
    "colab": {
     "base_uri": "https://localhost:8080/"
    },
    "id": "55551e4d",
    "outputId": "8c9f8cc3-9074-4bbb-f96a-9e3cde48b5b8"
   },
   "outputs": [
    {
     "data": {
      "text/plain": [
       "(364, 364)"
      ]
     },
     "execution_count": 66,
     "metadata": {},
     "output_type": "execute_result"
    }
   ],
   "source": [
    "len(X_train), len(y_train)"
   ]
  },
  {
   "cell_type": "code",
   "execution_count": 67,
   "id": "d631a9b7",
   "metadata": {
    "colab": {
     "base_uri": "https://localhost:8080/"
    },
    "id": "d631a9b7",
    "outputId": "1348e7c8-1219-45ae-ff07-39bc0bc574d6"
   },
   "outputs": [
    {
     "data": {
      "text/plain": [
       "[([26], [27]),\n",
       " ([91], [44]),\n",
       " ([206], [44]),\n",
       " ([303], [31]),\n",
       " ([193], [514]),\n",
       " ([0], [42]),\n",
       " ([0], [37]),\n",
       " ([0], [23]),\n",
       " ([199], [65]),\n",
       " ([0], [92])]"
      ]
     },
     "execution_count": 67,
     "metadata": {},
     "output_type": "execute_result"
    }
   ],
   "source": [
    "random.sample(list(zip(X_train, y_train)), 10)"
   ]
  },
  {
   "cell_type": "code",
   "execution_count": 68,
   "id": "46617bc7",
   "metadata": {
    "colab": {
     "base_uri": "https://localhost:8080/"
    },
    "id": "46617bc7",
    "outputId": "7c535bc5-9fd1-4572-ad14-5950bf3da274"
   },
   "outputs": [
    {
     "data": {
      "text/plain": [
       "[(('तो', 'हम', 'उसे'), 7),\n",
       " (('है', 'तो', 'हम'), 6),\n",
       " (('कहते', 'हैं।', 'अगर'), 6),\n",
       " (('यह', 'है', 'कि'), 5),\n",
       " (('के', 'रूप', 'में'), 4),\n",
       " (('बहुत', 'सुखद', 'बन'), 4),\n",
       " (('है', 'कि', 'आप'), 4),\n",
       " (('इस', 'धरती', 'पर'), 3),\n",
       " (('कर', 'सकते', 'हैं'), 3),\n",
       " (('करने', 'के', 'लिए'), 3)]"
      ]
     },
     "execution_count": 68,
     "metadata": {},
     "output_type": "execute_result"
    }
   ],
   "source": [
    "ngrams_to_learn = ngrams_up_to_20[1]\n",
    "ngrams_to_learn.most_common(10)"
   ]
  },
  {
   "cell_type": "code",
   "execution_count": 69,
   "id": "c99e1c46",
   "metadata": {
    "colab": {
     "base_uri": "https://localhost:8080/"
    },
    "id": "c99e1c46",
    "outputId": "5abba739-6d5b-431a-97f3-e0f929fee295"
   },
   "outputs": [
    {
     "data": {
      "text/plain": [
       "[('तो', 'हम', 'उसे'),\n",
       " ('है', 'तो', 'हम'),\n",
       " ('यह', 'है', 'कि'),\n",
       " ('के', 'रूप', 'में'),\n",
       " ('बहुत', 'सुखद', 'बन'),\n",
       " ('है', 'कि', 'आप'),\n",
       " ('इस', 'धरती', 'पर'),\n",
       " ('कर', 'सकते', 'हैं'),\n",
       " ('करने', 'के', 'लिए')]"
      ]
     },
     "execution_count": 69,
     "metadata": {},
     "output_type": "execute_result"
    }
   ],
   "source": [
    "[sent[0] for sent in my_filter(ngrams_to_learn.most_common(10))]"
   ]
  },
  {
   "cell_type": "code",
   "execution_count": 70,
   "id": "194fb81c",
   "metadata": {
    "colab": {
     "base_uri": "https://localhost:8080/"
    },
    "id": "194fb81c",
    "outputId": "219bff9f-05d3-475f-cbc7-8de4b2ecd586"
   },
   "outputs": [
    {
     "data": {
      "text/plain": [
       "[('तो', 'हम'),\n",
       " ('है', 'तो'),\n",
       " ('यह', 'है'),\n",
       " ('के', 'रूप'),\n",
       " ('बहुत', 'सुखद'),\n",
       " ('है', 'कि'),\n",
       " ('इस', 'धरती'),\n",
       " ('कर', 'सकते'),\n",
       " ('करने', 'के')]"
      ]
     },
     "execution_count": 70,
     "metadata": {},
     "output_type": "execute_result"
    }
   ],
   "source": [
    "[sent[0][:-1] for sent in my_filter(ngrams_to_learn.most_common(10))]"
   ]
  },
  {
   "cell_type": "code",
   "execution_count": 71,
   "id": "e3598a5a",
   "metadata": {
    "colab": {
     "base_uri": "https://localhost:8080/"
    },
    "id": "e3598a5a",
    "outputId": "559b6796-789d-42f4-8277-a6cc4005edb4"
   },
   "outputs": [
    {
     "data": {
      "text/plain": [
       "[('हम', 'उसे'),\n",
       " ('तो', 'हम'),\n",
       " ('है', 'कि'),\n",
       " ('रूप', 'में'),\n",
       " ('सुखद', 'बन'),\n",
       " ('कि', 'आप'),\n",
       " ('धरती', 'पर'),\n",
       " ('सकते', 'हैं'),\n",
       " ('के', 'लिए')]"
      ]
     },
     "execution_count": 71,
     "metadata": {},
     "output_type": "execute_result"
    }
   ],
   "source": [
    "[sent[0][1:] for sent in my_filter(ngrams_to_learn.most_common(10))]"
   ]
  },
  {
   "cell_type": "code",
   "execution_count": 72,
   "id": "600d0f12",
   "metadata": {
    "colab": {
     "base_uri": "https://localhost:8080/"
    },
    "id": "600d0f12",
    "outputId": "a23021ac-2384-4aa7-ba08-f2fee1e5ec54"
   },
   "outputs": [
    {
     "data": {
      "text/plain": [
       "[[87, 180, 244],\n",
       " [44, 87, 180],\n",
       " [61, 44, 199],\n",
       " [27, 22, 18],\n",
       " [89, 241, 247],\n",
       " [44, 199, 65],\n",
       " [16, 79, 80],\n",
       " [166, 160, 31],\n",
       " [26, 27, 14]]"
      ]
     },
     "execution_count": 72,
     "metadata": {},
     "output_type": "execute_result"
    }
   ],
   "source": [
    "[[word_to_index[w] for w in sent[0]] for sent in my_filter(ngrams_to_learn.most_common(10))\n",
    "    if all([w in word_to_index for w in sent[0]])]"
   ]
  },
  {
   "cell_type": "code",
   "execution_count": 73,
   "id": "e43ba9ab",
   "metadata": {
    "colab": {
     "base_uri": "https://localhost:8080/"
    },
    "id": "e43ba9ab",
    "outputId": "03505d7b-6fd6-4ab3-82f5-87d4719261d4"
   },
   "outputs": [
    {
     "data": {
      "text/plain": [
       "[[87, 180],\n",
       " [44, 87],\n",
       " [61, 44],\n",
       " [27, 22],\n",
       " [89, 241],\n",
       " [44, 199],\n",
       " [16, 79],\n",
       " [166, 160],\n",
       " [26, 27]]"
      ]
     },
     "execution_count": 73,
     "metadata": {},
     "output_type": "execute_result"
    }
   ],
   "source": [
    "X_train_2 = [[word_to_index[w] for w in sent[0][:-1]] for sent in my_filter(ngrams_to_learn.most_common(10))\n",
    "    if all([w in word_to_index for w in sent[0]])]\n",
    "X_train_2"
   ]
  },
  {
   "cell_type": "markdown",
   "id": "0525578d",
   "metadata": {
    "id": "0525578d"
   },
   "source": [
    "The code further modifies the `y_train_2` variable to contain the indices of words in the second position of a trigram for a subset of the most common trigrams."
   ]
  },
  {
   "cell_type": "code",
   "execution_count": 74,
   "id": "f70b983e",
   "metadata": {
    "colab": {
     "base_uri": "https://localhost:8080/"
    },
    "id": "f70b983e",
    "outputId": "fac47d92-38e9-4dad-ec7b-c2a79f80298a"
   },
   "outputs": [
    {
     "data": {
      "text/plain": [
       "[[180, 244],\n",
       " [87, 180],\n",
       " [44, 199],\n",
       " [22, 18],\n",
       " [241, 247],\n",
       " [199, 65],\n",
       " [79, 80],\n",
       " [160, 31],\n",
       " [27, 14]]"
      ]
     },
     "execution_count": 74,
     "metadata": {},
     "output_type": "execute_result"
    }
   ],
   "source": [
    "y_train_2 = [[word_to_index[w] for w in sent[0][1:]] for sent in my_filter(ngrams_to_learn.most_common(10))\n",
    "    if all([w in word_to_index for w in sent[0]])]\n",
    "y_train_2"
   ]
  },
  {
   "cell_type": "code",
   "execution_count": 75,
   "id": "8c1da5ca",
   "metadata": {
    "colab": {
     "base_uri": "https://localhost:8080/"
    },
    "id": "8c1da5ca",
    "outputId": "4ba62a7c-ee95-4f52-8def-7c7b236abeb6"
   },
   "outputs": [
    {
     "data": {
      "text/plain": [
       "([[16, 79], [27, 22], [241, 247], [193, 415], [8, 309]],\n",
       " [[79, 80], [22, 18], [247, 122], [415, 59], [309, 143]],\n",
       " 76,\n",
       " 76)"
      ]
     },
     "execution_count": 75,
     "metadata": {},
     "output_type": "execute_result"
    }
   ],
   "source": [
    "X_train_2 = [[word_to_index[w] for w in sent[0][:-1]] for sent in my_filter(ngrams_to_learn.most_common())\n",
    "               if all([w in word_to_index for w in sent[0]])]\n",
    "y_train_2 = [[word_to_index[w] for w in sent[0][1:]] for sent in my_filter(ngrams_to_learn.most_common())\n",
    "               if all([w in word_to_index for w in sent[0]])]\n",
    "X_train_2, y_train_2 = fisher_yates(X_train_2, y_train_2)\n",
    "X_train_2[0:5], y_train_2[0:5], len(X_train_2), len(y_train_2)"
   ]
  },
  {
   "cell_type": "code",
   "execution_count": 76,
   "id": "7bc96cfc",
   "metadata": {
    "id": "7bc96cfc"
   },
   "outputs": [],
   "source": [
    "def my_filter(ngrams):\n",
    "    return filter(remove_periods, ngrams)"
   ]
  },
  {
   "cell_type": "markdown",
   "id": "bdb5f552",
   "metadata": {
    "id": "bdb5f552"
   },
   "source": [
    "We made several changes to the X_train_2 and y_train_2 training data. We limited the number of examples to 2000 and mixed up the order of the examples using the Fisher-Yates shuffle. Finally, we printed the first 5 elements and the lengths of both lists."
   ]
  },
  {
   "cell_type": "code",
   "execution_count": 77,
   "id": "710421dc",
   "metadata": {
    "colab": {
     "base_uri": "https://localhost:8080/"
    },
    "id": "710421dc",
    "outputId": "e4a4ff18-2c4f-47a0-ef10-f1e7787d799c"
   },
   "outputs": [
    {
     "data": {
      "text/plain": [
       "([[651, 44], [259, 458], [42, 82], [65, 143], [448, 18]],\n",
       " [[44, 324], [458, 649], [82, 393], [143, 469], [18, 174]],\n",
       " 1902,\n",
       " 1902)"
      ]
     },
     "execution_count": 77,
     "metadata": {},
     "output_type": "execute_result"
    }
   ],
   "source": [
    "X_train_2 = [[word_to_index[w] for w in sent[0][:-1]] for sent in my_filter(ngrams_to_learn.most_common())\n",
    "               if all([w in word_to_index for w in sent[0]])]\n",
    "y_train_2 = [[word_to_index[w] for w in sent[0][1:]] for sent in my_filter(ngrams_to_learn.most_common())\n",
    "               if all([w in word_to_index for w in sent[0]])]\n",
    "X_train_2 = X_train_2[:2000]\n",
    "y_train_2 = y_train_2[:2000]\n",
    "X_train_2, y_train_2 = fisher_yates(X_train_2, y_train_2)\n",
    "X_train_2[0:5], y_train_2[0:5], len(X_train_2), len(y_train_2)"
   ]
  },
  {
   "cell_type": "code",
   "execution_count": 78,
   "id": "1646e2ac",
   "metadata": {
    "colab": {
     "base_uri": "https://localhost:8080/"
    },
    "id": "1646e2ac",
    "outputId": "a6c0881c-1b1a-4406-db16-ff8c38248be2"
   },
   "outputs": [
    {
     "name": "stdout",
     "output_type": "stream",
     "text": [
      "[[87, 180], [44, 87], [61, 44], [27, 22], [89, 241]] [[180, 244], [87, 180], [44, 199], [22, 18], [241, 247]] 1902 1902\n"
     ]
    }
   ],
   "source": [
    "ngrams_to_learn = ngrams_up_to_20[1]\n",
    "X_train_2 = [[word_to_index[w] for w in sent[0][:-1]] for sent in my_filter(ngrams_to_learn.most_common())\n",
    "               if all([w in word_to_index for w in sent[0]])]\n",
    "y_train_2 = [[word_to_index[w] for w in sent[0][1:]] for sent in my_filter(ngrams_to_learn.most_common())\n",
    "               if all([w in word_to_index for w in sent[0]])]\n",
    "print(X_train_2[0:5], y_train_2[0:5], len(X_train_2), len(y_train_2))"
   ]
  },
  {
   "cell_type": "code",
   "execution_count": 79,
   "id": "a4f70f8e",
   "metadata": {
    "colab": {
     "base_uri": "https://localhost:8080/"
    },
    "id": "a4f70f8e",
    "outputId": "339fb065-0f60-4c22-a6d5-0dcd05b62622"
   },
   "outputs": [
    {
     "data": {
      "text/plain": [
       "33"
      ]
     },
     "execution_count": 79,
     "metadata": {},
     "output_type": "execute_result"
    }
   ],
   "source": [
    "word_to_index['END']"
   ]
  },
  {
   "cell_type": "markdown",
   "id": "0b391e0d",
   "metadata": {
    "id": "0b391e0d"
   },
   "source": [
    "This code finds and counts groups of three words (called trigrams) that come at the end of sentences. It does this by looking for the \"END\" token in the output data."
   ]
  },
  {
   "cell_type": "code",
   "execution_count": 80,
   "id": "ef2c1031",
   "metadata": {
    "colab": {
     "base_uri": "https://localhost:8080/"
    },
    "id": "ef2c1031",
    "outputId": "1563a598-6d3c-4d04-9540-84b8b9bd6553"
   },
   "outputs": [
    {
     "data": {
      "text/plain": [
       "(0, [])"
      ]
     },
     "execution_count": 80,
     "metadata": {},
     "output_type": "execute_result"
    }
   ],
   "source": [
    "def check_eos(trigram):\n",
    "    if trigram[1] == word_to_index['END']:\n",
    "          return True\n",
    "    return False\n",
    "\n",
    "trigrams_eos = list(filter(check_eos, y_train_2))\n",
    "len(trigrams_eos), trigrams_eos[0:5]"
   ]
  },
  {
   "cell_type": "markdown",
   "id": "9b5d773c",
   "metadata": {
    "id": "9b5d773c"
   },
   "source": [
    "### Adding sets of n-grams to the training data \n",
    "This code gathers and prepares training data from multiple groups of words (called n-grams) and adds it to the existing training data. This allows us to train the model on a larger dataset. The tqdm library shows a progress bar so we can track how long the code is taking to run."
   ]
  },
  {
   "cell_type": "code",
   "execution_count": 81,
   "id": "05b98414",
   "metadata": {
    "colab": {
     "base_uri": "https://localhost:8080/"
    },
    "id": "05b98414",
    "outputId": "814fb759-87e3-4cae-92c7-7ed8c4a669f0"
   },
   "outputs": [
    {
     "name": "stderr",
     "output_type": "stream",
     "text": [
      "100%|██████████| 18/18 [00:00<00:00, 83.68it/s] \n"
     ]
    }
   ],
   "source": [
    "from tqdm import tqdm\n",
    "for i in tqdm(range(1, len(ngrams_up_to_20))):\n",
    "    ngrams_to_learn = ngrams_up_to_20[i]\n",
    "    X_train_2 = [[word_to_index[w] for w in sent[0][:-1]] for sent in my_filter(ngrams_to_learn.most_common())\n",
    "                   if all([w in word_to_index for w in sent[0]])]\n",
    "    y_train_2 = [[word_to_index[w] for w in sent[0][1:]] for sent in my_filter(ngrams_to_learn.most_common())\n",
    "                   if all([w in word_to_index for w in sent[0]])]\n",
    "    X_train_2 = X_train_2[:2000]\n",
    "    y_train_2 = y_train_2[:2000]\n",
    "    X_train_2, y_train_2 = fisher_yates(X_train_2, y_train_2)\n",
    "    X_train.extend(X_train_2)\n",
    "    y_train.extend(y_train_2)"
   ]
  },
  {
   "cell_type": "markdown",
   "id": "b250e3a0",
   "metadata": {
    "id": "b250e3a0"
   },
   "source": [
    "This code is using the `random.sample` function to randomly sample 100 pairs of elements from the `X_train` and `y_train` lists, which are zipped together."
   ]
  },
  {
   "cell_type": "code",
   "execution_count": 82,
   "id": "9d4eb2e8",
   "metadata": {
    "colab": {
     "base_uri": "https://localhost:8080/"
    },
    "id": "9d4eb2e8",
    "outputId": "b78b95b3-e9e9-4665-adea-f1b0907adcee"
   },
   "outputs": [
    {
     "name": "stdout",
     "output_type": "stream",
     "text": [
      "[([658, 193], [193, 659]), ([585, 8, 586, 8, 587, 389, 18, 459, 380, 160, 31, 65, 509, 27, 14, 81, 393], [8, 586, 8, 587, 389, 18, 459, 380, 160, 31, 65, 509, 27, 14, 81, 393, 314]), ([8, 164, 282, 283, 284, 56, 285, 27, 279, 280, 65, 286, 287, 27, 14, 288], [164, 282, 283, 284, 56, 285, 27, 279, 280, 65, 286, 287, 27, 14, 288, 236]), ([214, 138, 160, 31, 215, 216, 157, 13, 165, 143, 52, 44], [138, 160, 31, 215, 216, 157, 13, 165, 143, 52, 44, 180]), ([180, 197, 22, 13, 61, 143, 198, 160, 199, 180, 1, 200, 13, 194, 201, 194], [197, 22, 13, 61, 143, 198, 160, 199, 180, 1, 200, 13, 194, 201, 194, 202]), ([165, 143, 166, 206, 44], [143, 166, 206, 44, 87]), ([351, 14, 41, 332, 462, 80], [14, 41, 332, 462, 80, 544]), ([412, 44, 88, 42, 66, 413, 44, 34, 1, 414, 193, 415, 59, 2, 27, 416], [44, 88, 42, 66, 413, 44, 34, 1, 414, 193, 415, 59, 2, 27, 416, 262]), ([236, 2, 263, 44, 87, 244, 251, 257, 56], [2, 263, 44, 87, 244, 251, 257, 56, 70]), ([671, 672, 193, 140, 673, 674, 527, 42, 675, 676, 8, 677], [672, 193, 140, 673, 674, 527, 42, 675, 676, 8, 677, 678]), ([87, 180, 244, 254, 246, 31, 78, 88, 89], [180, 244, 254, 246, 31, 78, 88, 89, 241]), ([87, 180, 244, 254, 246, 31, 78, 88, 89, 241, 247, 122, 44, 87, 180, 244, 255], [180, 244, 254, 246, 31, 78, 88, 89, 241, 247, 122, 44, 87, 180, 244, 255, 246]), ([65, 140, 650, 59, 25, 166, 261, 31, 71, 413, 61, 44, 199, 65, 1], [140, 650, 59, 25, 166, 261, 31, 71, 413, 61, 44, 199, 65, 1, 4]), ([253, 44, 87, 180, 244, 254, 246, 31, 78], [44, 87, 180, 244, 254, 246, 31, 78, 88]), ([78, 88, 89, 241, 247, 112, 44, 87, 180, 244, 252], [88, 89, 241, 247, 112, 44, 87, 180, 244, 252, 246]), ([61, 44, 199, 323, 298, 257, 59, 262, 13, 357], [44, 199, 323, 298, 257, 59, 262, 13, 357, 26]), ([48, 49, 50, 51, 52, 49, 53, 54, 55, 56, 57, 58, 59, 60, 49, 61, 62], [49, 50, 51, 52, 49, 53, 54, 55, 56, 57, 58, 59, 60, 49, 61, 62, 34]), ([193, 415, 59, 2, 27, 416, 262, 13], [415, 59, 2, 27, 416, 262, 13, 340]), ([87, 274, 22, 13, 275, 167], [274, 22, 13, 275, 167, 25]), ([182, 568, 80, 569], [568, 80, 569, 206]), ([31, 87, 65, 1, 679, 59, 16, 393, 711, 166, 160, 31, 199, 66, 712, 713, 4, 714], [87, 65, 1, 679, 59, 16, 393, 711, 166, 160, 31, 199, 66, 712, 713, 4, 714, 248]), ([651, 44], [44, 324]), ([206, 44, 87, 207, 61, 208, 24, 209, 143, 44, 199, 207, 210], [44, 87, 207, 61, 208, 24, 209, 143, 44, 199, 207, 210, 44]), ([81, 393, 180, 409, 31, 199, 186, 497, 59, 188, 26, 13], [393, 180, 409, 31, 199, 186, 497, 59, 188, 26, 13, 2]), ([80, 293, 148, 27, 14, 42, 103, 164, 188, 294, 143, 295, 44, 296, 113], [293, 148, 27, 14, 42, 103, 164, 188, 294, 143, 295, 44, 296, 113, 68]), ([261, 31, 289], [31, 289, 280]), ([557, 8], [8, 292]), ([228, 41, 231, 260, 261, 31, 2, 193], [41, 231, 260, 261, 31, 2, 193, 262]), ([114, 598, 44, 116, 38, 239, 332, 75, 186, 599, 24, 600, 44, 88, 601, 602], [598, 44, 116, 38, 239, 332, 75, 186, 599, 24, 600, 44, 88, 601, 602, 18]), ([612, 193, 613], [193, 613, 264]), ([25, 26, 27, 5], [26, 27, 5, 28]), ([296, 113, 68, 31, 297, 204, 141, 164, 143, 44, 215, 70, 251, 56, 257, 25, 143], [113, 68, 31, 297, 204, 141, 164, 143, 44, 215, 70, 251, 56, 257, 25, 143, 52]), ([56, 35, 106, 80, 107, 108, 109, 110], [35, 106, 80, 107, 108, 109, 110, 111]), ([588, 160, 31, 71, 124, 61], [160, 31, 71, 124, 61, 44]), ([27, 693, 694, 257, 27, 613, 80], [693, 694, 257, 27, 613, 80, 16]), ([283, 284, 56, 285, 27, 279, 280, 65], [284, 56, 285, 27, 279, 280, 65, 286]), ([635, 636, 206, 44, 637, 49, 206, 44, 92, 638, 27, 639, 13, 640, 380, 206, 44, 193], [636, 206, 44, 637, 49, 206, 44, 92, 638, 27, 639, 13, 640, 380, 206, 44, 193, 92]), ([324, 325, 31, 199, 65, 326, 327, 31, 39, 40, 328, 49, 122, 44], [325, 31, 199, 65, 326, 327, 31, 39, 40, 328, 49, 122, 44, 207]), ([147, 148, 8, 42], [148, 8, 42, 149]), ([409, 31, 199, 61, 411, 18, 44, 71, 39, 141, 70], [31, 199, 61, 411, 18, 44, 71, 39, 141, 70, 4]), ([238, 241, 253, 44, 87], [241, 253, 44, 87, 180]), ([185, 186, 187, 59, 188, 26, 27, 14, 35, 189, 13, 190, 191], [186, 187, 59, 188, 26, 27, 14, 35, 189, 13, 190, 191, 8]), ([513, 516, 517, 206, 172, 193], [516, 517, 206, 172, 193, 514]), ([31, 180, 23, 232, 233, 31, 234, 235, 225], [180, 23, 232, 233, 31, 234, 235, 225, 80]), ([244, 254, 246], [254, 246, 31]), ([22, 13, 61, 143, 198, 160, 199, 180, 1, 200, 13, 194, 201, 194, 202, 56], [13, 61, 143, 198, 160, 199, 180, 1, 200, 13, 194, 201, 194, 202, 56, 194]), ([44, 42, 608, 609, 610, 18], [42, 608, 609, 610, 18, 42]), ([44, 199, 323, 298, 257, 59, 262, 13, 357, 26, 8, 191, 166], [199, 323, 298, 257, 59, 262, 13, 357, 26, 8, 191, 166, 261]), ([42, 110, 8], [110, 8, 164]), ([160, 31], [31, 199]), ([585, 8, 586, 8, 587, 389, 18, 459], [8, 586, 8, 587, 389, 18, 459, 380]), ([14, 288], [288, 236]), ([100, 101, 87, 88], [101, 87, 88, 42]), ([1, 105, 56, 35, 106, 80, 107, 108, 109, 110, 111, 97, 98, 112, 44, 113, 114, 115], [105, 56, 35, 106, 80, 107, 108, 109, 110, 111, 97, 98, 112, 44, 113, 114, 115, 86]), ([8, 42, 149, 27, 22, 18, 150, 133, 151, 152, 13, 73], [42, 149, 27, 22, 18, 150, 133, 151, 152, 13, 73, 46]), ([481, 272, 279, 482, 483, 44], [272, 279, 482, 483, 44, 61]), ([140, 650, 59, 25, 166, 261, 31, 71, 413, 61, 44, 199, 65, 1, 4, 650, 18], [650, 59, 25, 166, 261, 31, 71, 413, 61, 44, 199, 65, 1, 4, 650, 18, 530]), ([335, 687], [687, 688]), ([147, 16, 292, 24, 365, 366, 44, 199, 664, 8], [16, 292, 24, 365, 366, 44, 199, 664, 8, 42]), ([31, 334, 65, 335, 22, 13, 1, 336, 39, 81, 27, 219, 193, 39], [334, 65, 335, 22, 13, 1, 336, 39, 81, 27, 219, 193, 39, 40]), ([44, 199, 174, 40, 39, 485, 486, 487, 488, 482, 489, 13], [199, 174, 40, 39, 485, 486, 487, 488, 482, 489, 13, 243]), ([31, 234, 235, 225, 80, 23, 41, 1, 2, 236], [234, 235, 225, 80, 23, 41, 1, 2, 236, 8]), ([262, 303, 31, 193, 141, 315, 316, 44, 199, 65, 117], [303, 31, 193, 141, 315, 316, 44, 199, 65, 117, 27]), ([80, 81, 82, 83, 27, 22, 18, 84, 85, 86, 87], [81, 82, 83, 27, 22, 18, 84, 85, 86, 87, 88]), ([13, 61, 143, 198, 160], [61, 143, 198, 160, 199]), ([13, 61, 143, 198, 160, 199, 180, 1, 200, 13, 194, 201, 194], [61, 143, 198, 160, 199, 180, 1, 200, 13, 194, 201, 194, 202]), ([31, 35, 627, 13, 628, 629, 199], [35, 627, 13, 628, 629, 199, 65]), ([27, 323, 324, 325], [323, 324, 325, 31]), ([42, 281, 117, 348, 27, 14, 332], [281, 117, 348, 27, 14, 332, 236]), ([87, 645, 18, 65], [645, 18, 65, 634]), ([574, 193, 514, 59, 575], [193, 514, 59, 575, 576]), ([199, 88, 434, 435, 59, 242], [88, 434, 435, 59, 242, 166]), ([193, 92, 23, 27, 402, 412, 44, 88], [92, 23, 27, 402, 412, 44, 88, 42]), ([92, 269, 13, 81, 18, 164, 270, 143, 44, 193, 65, 271, 272, 68, 31, 87], [269, 13, 81, 18, 164, 270, 143, 44, 193, 65, 271, 272, 68, 31, 87, 65]), ([173, 157, 152, 174, 120, 175, 164, 143, 166, 160, 176], [157, 152, 174, 120, 175, 164, 143, 166, 160, 176, 147]), ([360, 452, 78, 117, 264, 249, 451, 143, 164], [452, 78, 117, 264, 249, 451, 143, 164, 453]), ([641, 80, 42, 642, 643, 644, 206, 44], [80, 42, 642, 643, 644, 206, 44, 65]), ([78, 264, 390, 42, 391, 91, 199, 92, 75, 382], [264, 390, 42, 391, 91, 199, 92, 75, 382, 392]), ([215, 216, 157, 13, 165, 143, 52, 44, 180, 217, 218, 27, 219, 193, 220, 209, 38, 221], [216, 157, 13, 165, 143, 52, 44, 180, 217, 218, 27, 219, 193, 220, 209, 38, 221, 222]), ([116, 65], [65, 161]), ([281, 369], [369, 160]), ([206, 172, 426, 16, 570], [172, 426, 16, 570, 571]), ([59, 60], [60, 49]), ([65, 286, 287, 27, 14, 288], [286, 287, 27, 14, 288, 236]), ([467, 8, 183, 102, 468], [8, 183, 102, 468, 31]), ([199, 116], [116, 38]), ([136, 24, 137, 138, 139, 101, 87], [24, 137, 138, 139, 101, 87, 140]), ([674, 527, 42, 675, 676, 8, 677, 678, 167], [527, 42, 675, 676, 8, 677, 678, 167, 679]), ([193, 140, 673, 674, 527, 42, 675, 676, 8, 677, 678, 167, 679], [140, 673, 674, 527, 42, 675, 676, 8, 677, 678, 167, 679, 18]), ([61, 143, 198, 160, 199, 180, 1, 200, 13, 194, 201, 194, 202, 56, 194], [143, 198, 160, 199, 180, 1, 200, 13, 194, 201, 194, 202, 56, 194, 203]), ([143, 198, 160, 199, 180, 1, 200, 13, 194], [198, 160, 199, 180, 1, 200, 13, 194, 201]), ([88, 42, 66, 413, 44, 34, 1, 414, 193], [42, 66, 413, 44, 34, 1, 414, 193, 415]), ([157, 13, 165, 143, 52, 44, 180, 217, 218, 27, 219, 193, 220, 209, 38, 221, 222, 31], [13, 165, 143, 52, 44, 180, 217, 218, 27, 219, 193, 220, 209, 38, 221, 222, 31, 223]), ([264, 448, 18, 174, 449], [448, 18, 174, 449, 206]), ([31, 71, 413, 61, 44, 199, 65, 1, 4, 650], [71, 413, 61, 44, 199, 65, 1, 4, 650, 18]), ([8, 158, 8], [158, 8, 120]), ([44, 199, 116, 38, 180, 504, 120, 143, 195, 334, 38, 132, 219, 504, 120, 143, 505, 61, 94], [199, 116, 38, 180, 504, 120, 143, 195, 334, 38, 132, 219, 504, 120, 143, 505, 61, 94, 186]), ([205, 44, 684, 430, 199, 204, 63], [44, 684, 430, 199, 204, 63, 44]), ([140, 306, 27, 14, 141, 307, 40, 308], [306, 27, 14, 141, 307, 40, 308, 8]), ([195, 31, 180, 23, 232, 233, 31, 234, 235, 225, 80], [31, 180, 23, 232, 233, 31, 234, 235, 225, 80, 23])]\n"
     ]
    }
   ],
   "source": [
    "print(random.sample(list(zip(X_train, y_train)), 100))"
   ]
  },
  {
   "cell_type": "code",
   "execution_count": 83,
   "id": "1ba9a08b",
   "metadata": {
    "colab": {
     "base_uri": "https://localhost:8080/"
    },
    "id": "1ba9a08b",
    "outputId": "843a9174-cf44-4599-bfda-44a2896008da"
   },
   "outputs": [
    {
     "data": {
      "text/plain": [
       "(20503, 20503)"
      ]
     },
     "execution_count": 83,
     "metadata": {},
     "output_type": "execute_result"
    }
   ],
   "source": [
    "len(X_train), len(y_train)"
   ]
  },
  {
   "cell_type": "code",
   "execution_count": 84,
   "id": "61959952",
   "metadata": {
    "colab": {
     "base_uri": "https://localhost:8080/"
    },
    "id": "61959952",
    "outputId": "7edee7ab-8321-4598-808e-893da82a0d6e"
   },
   "outputs": [
    {
     "data": {
      "text/plain": [
       "127"
      ]
     },
     "execution_count": 84,
     "metadata": {},
     "output_type": "execute_result"
    }
   ],
   "source": [
    "len(tokenized_conversation)"
   ]
  },
  {
   "cell_type": "code",
   "execution_count": 85,
   "id": "38df5479",
   "metadata": {
    "colab": {
     "base_uri": "https://localhost:8080/"
    },
    "id": "38df5479",
    "outputId": "902635be-9c46-4ff9-d371-4a00a9fa33a0"
   },
   "outputs": [
    {
     "data": {
      "text/plain": [
       "['START',\n",
       " 'मानवीय',\n",
       " 'प्रणाली',\n",
       " 'धरती',\n",
       " 'पर',\n",
       " 'सबसे',\n",
       " 'परिष्कृत',\n",
       " 'भौतिक',\n",
       " 'रूप',\n",
       " 'है',\n",
       " '।',\n",
       " 'END']"
      ]
     },
     "execution_count": 85,
     "metadata": {},
     "output_type": "execute_result"
    }
   ],
   "source": [
    "tokenized_conversation[65]"
   ]
  },
  {
   "cell_type": "code",
   "execution_count": 86,
   "id": "8f0712ee",
   "metadata": {
    "colab": {
     "base_uri": "https://localhost:8080/"
    },
    "id": "8f0712ee",
    "outputId": "294fe869-0114-4b67-ecf7-2ac5aff616f3"
   },
   "outputs": [
    {
     "data": {
      "text/plain": [
       "[0,\n",
       " 87,\n",
       " 78,\n",
       " 264,\n",
       " 390,\n",
       " 42,\n",
       " 391,\n",
       " 91,\n",
       " 199,\n",
       " 92,\n",
       " 75,\n",
       " 382,\n",
       " 392,\n",
       " 393,\n",
       " 8,\n",
       " 394,\n",
       " 395,\n",
       " 87,\n",
       " 65,\n",
       " 207,\n",
       " 396,\n",
       " 257,\n",
       " 56,\n",
       " 397,\n",
       " 236,\n",
       " 56,\n",
       " 278,\n",
       " 398,\n",
       " 399,\n",
       " 400,\n",
       " 44,\n",
       " 32,\n",
       " 33]"
      ]
     },
     "execution_count": 86,
     "metadata": {},
     "output_type": "execute_result"
    }
   ],
   "source": [
    "[[word_to_index[w] for w in sent] for sent in tokenized_conversation if all([w in word_to_index for w in sent])][51]"
   ]
  },
  {
   "cell_type": "code",
   "execution_count": 87,
   "id": "c0ad2cad",
   "metadata": {
    "id": "c0ad2cad"
   },
   "outputs": [],
   "source": [
    "X_train_full_sentences = [[word_to_index[w] for w in sent[:-1]] for sent in tokenized_conversation\n",
    "                         if all([w in word_to_index for w in sent])]\n",
    "y_train_full_sentences = [[word_to_index[w] for w in sent[1:]] for sent in tokenized_conversation\n",
    "                         if all([w in word_to_index for w in sent])]"
   ]
  },
  {
   "cell_type": "code",
   "execution_count": 88,
   "id": "9ed1edc7",
   "metadata": {
    "colab": {
     "base_uri": "https://localhost:8080/"
    },
    "id": "9ed1edc7",
    "outputId": "29d36b5c-4b46-4cf7-c678-b7af2cb58ed3"
   },
   "outputs": [
    {
     "name": "stdout",
     "output_type": "stream",
     "text": [
      "[[0, 1, 2, 3, 4, 5, 6, 7, 8, 9, 10, 11, 12, 13, 14, 15, 16, 17, 18, 19, 20, 21, 22, 13, 23, 24, 25, 26, 27, 5, 28, 13, 29, 30, 31, 32], [0, 19, 34, 35, 36, 18, 37, 38, 39, 40, 41, 42, 40, 8, 43, 18, 8, 44, 32], [0, 45, 34, 46, 47, 48, 49, 50, 51, 52, 49, 53, 54, 55, 56, 57, 58, 59, 60, 49, 61, 62, 34, 63, 52, 64, 65, 41, 42, 66, 67, 40, 68, 69, 70, 32], [0, 71, 72, 18, 73, 74, 73, 75, 76, 77, 32], [0, 78, 65, 16, 79, 80, 81, 82, 83, 27, 22, 18, 84, 85, 86, 87, 88, 89, 90, 91, 32]] [[1, 2, 3, 4, 5, 6, 7, 8, 9, 10, 11, 12, 13, 14, 15, 16, 17, 18, 19, 20, 21, 22, 13, 23, 24, 25, 26, 27, 5, 28, 13, 29, 30, 31, 32, 33], [19, 34, 35, 36, 18, 37, 38, 39, 40, 41, 42, 40, 8, 43, 18, 8, 44, 32, 33], [45, 34, 46, 47, 48, 49, 50, 51, 52, 49, 53, 54, 55, 56, 57, 58, 59, 60, 49, 61, 62, 34, 63, 52, 64, 65, 41, 42, 66, 67, 40, 68, 69, 70, 32, 33], [71, 72, 18, 73, 74, 73, 75, 76, 77, 32, 33], [78, 65, 16, 79, 80, 81, 82, 83, 27, 22, 18, 84, 85, 86, 87, 88, 89, 90, 91, 32, 33]]\n"
     ]
    }
   ],
   "source": [
    "print(X_train_full_sentences[0:5], y_train_full_sentences[0:5])"
   ]
  },
  {
   "cell_type": "code",
   "execution_count": 89,
   "id": "15dc60ec",
   "metadata": {
    "colab": {
     "base_uri": "https://localhost:8080/"
    },
    "id": "15dc60ec",
    "outputId": "e6891bb9-7219-45ce-8c44-534ddf67b572"
   },
   "outputs": [
    {
     "name": "stdout",
     "output_type": "stream",
     "text": [
      "['START', 'तो', 'अगर', 'आपके', 'पास', 'एक', 'विकल्प', 'होता', 'कि', 'आपकी', 'जीवन', 'ऊर्जा', 'किस', 'तरह', 'की', 'अभिव्यक्ति', 'पाए', 'तो', 'आप', 'क्या', 'चुनते', 'आनंद', 'या', 'क्लेश', 'प्रसन्नता', 'या', 'अप्रसन्नता', 'इसका', 'उत्तर', 'स्पष्ट', 'है', '।', 'END'] ['END', '।', 'है', 'स्पष्ट', 'उत्तर', 'इसका', 'अप्रसन्नता', 'या', 'प्रसन्नता', 'क्लेश', 'या', 'आनंद', 'चुनते', 'क्या', 'आप', 'तो', 'पाए', 'अभिव्यक्ति', 'की', 'तरह', 'किस', 'ऊर्जा', 'जीवन', 'आपकी', 'कि', 'होता', 'विकल्प', 'एक', 'पास', 'आपके', 'अगर', 'तो', 'START']\n"
     ]
    }
   ],
   "source": [
    "print(tokenized_conversation[51], tokenized_conversation[51][::-1])"
   ]
  },
  {
   "cell_type": "code",
   "execution_count": 90,
   "id": "e9937204",
   "metadata": {
    "colab": {
     "base_uri": "https://localhost:8080/"
    },
    "id": "e9937204",
    "outputId": "805da226-f952-4ddf-8ec3-d51d18337c93"
   },
   "outputs": [
    {
     "data": {
      "text/plain": [
       "127"
      ]
     },
     "execution_count": 90,
     "metadata": {},
     "output_type": "execute_result"
    }
   ],
   "source": [
    "len(tokenized_conversation)"
   ]
  },
  {
   "cell_type": "code",
   "execution_count": 91,
   "id": "17ffde8f",
   "metadata": {
    "colab": {
     "base_uri": "https://localhost:8080/"
    },
    "id": "17ffde8f",
    "outputId": "bf5aaa49-7d30-4cfa-810b-b75892bfd3cd"
   },
   "outputs": [
    {
     "name": "stdout",
     "output_type": "stream",
     "text": [
      "[['START', 'इंसानइंसान', 'के', 'बीच', 'तरीके', 'बदल', 'सकते', 'हैं', 'लेकिन', 'चाहे', 'आप', 'पैसा', 'कमाने', 'की', 'कोशिश', 'कर', 'रहे', 'हों', 'शराब', 'पी', 'रहे', 'हों', 'या', 'स्वर्ग', 'जाने', 'की', 'कोशिश', 'कर', 'रहे', 'हों', 'खुशी', 'ही', 'एकमात्र', 'लक्ष्य', 'है', '।', 'END'], ['START', 'अपने', 'भीतर', 'मुड़ना', 'ही', 'एकमात्र', 'समाधान', 'हैसद्गुरु', 'की', 'नवीनतम', 'पुस्तक', '‘इनर', 'इंजीनरिंग’', 'से', 'लिए', 'गए', 'इस', 'अंश', 'में', 'सद्गुरु', 'हमें', 'स्थायी', 'रूप', 'से', 'खुशहाली', 'का', 'अनुभव', 'करने', 'के', 'एकमात्र', 'तरीके', 'से', 'परिचित', 'कराते', 'हैं', '।', 'END'], ['START', 'खेत', 'के', 'किनारे', 'पर', 'एक', 'बड़े', 'पेड़', 'को', 'देखकर', 'तीतर', 'ने', 'कहा', '‘आह', 'एक', 'समय', 'था', 'जब', 'मैं', 'उस', 'पेड़', 'की', 'सबसे', 'ऊंची', 'डाल', 'तक', 'उड़', 'सकता', 'था', '।', 'END'], ['START', 'यह', 'कुछ', 'ऐसा', 'है', '।', 'END'], ['START', 'आप', 'घर', 'से', 'निकले', 'बिना', 'भी', 'यह', 'काम', 'कर', 'सकते', 'हैं', 'मानव', 'इतिहास', 'में', 'इससे', 'पहले', 'यह', 'कभी', 'संभव', 'नहीं', 'था', '।', 'END'], ['START', 'तो', 'कुछ', 'लोग', 'सोचते', 'हैं', 'कि', 'यह', 'शराब', 'में', 'है', 'जबकि', 'दूसरे', 'सोचते', 'हैं', 'कि', 'यह', 'ईश्वर', 'में', 'है', 'लेकिन', 'हर', 'कोई', 'खुशी', 'ही', 'खोज', 'रहा', 'है', '।', 'END'], ['START', 'इससे', 'हम', 'निष्कर्ष', 'निकाल', 'सकते', 'हैं', 'कि', 'खुशी', 'बस', 'एक', 'खास', 'तरह', 'की', 'केमेस्ट्री', 'रासायनिकता', 'है', '।', 'END'], ['START', 'अभी', 'आप', 'इसे', 'पढ़', 'रहे', 'हैं', '।', 'END'], ['START', 'पेट', 'भर', 'खाना', 'मिल', 'जाए', 'तो', 'वह', 'एक', 'बहुत', 'शानदार', 'दिन', 'कहलाता', '।', 'END'], ['START', 'ऐसा', 'क्यों', 'है', 'उन्होंने', 'पाया', 'कि', 'ऐसा', 'इसलिए', 'है', 'क्योंकि', 'शरीर', 'स्वयं', 'का', 'मादक', 'पदार्थ', 'बनाने', 'में', 'सक्षम', 'है', '।', 'END'], ['START', 'पीड़ा', 'या', 'सुख', 'आनंद', 'या', 'क्लेश', 'वेदना', 'या', 'परमानंद', 'सिर्फ', 'आपके', 'भीतर', 'होते', 'हैं', '।', 'END'], ['START', 'अगर', 'आप', 'जागरूक', 'हैं', 'तो', 'आप', 'अपने', 'सिस्टम', 'को', 'इस', 'तरह', 'सक्रिय', 'कर', 'सकते', 'हैं', 'कि', 'साधारण', 'सांस', 'लेना', 'ही', 'जबरदस्त', 'सुख', 'होता', 'है', '।', 'END'], ['START', 'तो', 'सफलता', 'हासिल', 'करने', 'के', 'लिए', 'प्रसन्नता', 'को', 'आपके', 'भीतर', 'एक', 'बुनियादी', 'गुण', 'होना', 'होगा', '।', 'END'], ['START', 'अगर', 'आप', 'इस', 'धरती', 'पर', 'किसी', 'दूसरे', 'जीव', 'के', 'रूप', 'में', 'पैदा', 'हुए', 'होते', 'तो', 'वह', 'बहुत', 'सरल', 'होता', '।', 'END'], ['START', 'अगर', 'कोई', 'अभी', 'आपका', 'हाथ', 'छूता', 'है', 'आपको', 'लग', 'सकता', 'है', 'कि', 'आप', 'उसके', 'हाथ', 'को', 'अनुभव', 'कर', 'रहे', 'हैं', 'लेकिन', 'सच्चाई', 'यह', 'है', 'कि', 'आप', 'अपने', 'ही', 'हाथ', 'में', 'उस', 'संवेदना', 'को', 'अनुभव', 'कर', 'रहे', 'हैं', '।', 'END'], ['START', 'लेकिन', 'अगर', 'पेट', 'भरा', 'हुआ', 'हो', 'तो', 'सैकड़ों', 'समस्याएं', 'हैं', 'जब', 'सवाल', 'हमारे', 'जीवनसंरक्षण', 'का', 'होता', 'है', 'तो', 'वह', 'हमारे', 'जीवन', 'का', 'एक', 'बड़ा', 'मुद्दा', 'होता', 'है', '।', 'END'], ['START', 'अगर', 'हम', 'इसे', 'और', 'ज्यादा', 'ठीक', 'करते', 'हैं', 'तो', 'धरती', 'ही', 'नहीं', 'बचेगी', 'लेकिन', 'हम', 'निश्चित', 'रूप', 'से', 'यह', 'नहीं', 'कह', 'सकते', 'कि', 'हम', 'अपने', 'पुरखों', 'से', 'ज्यादा', 'खुश', 'ज्यादा', 'प्रेममय', 'या', 'ज्यादा', 'शांत', 'हैं', '।', 'END'], ['START', 'साधारण', 'शब्दों', 'में', 'उन्होंने', 'खोजा', 'कि', 'मानव', 'मस्तिष्क', 'में', 'भांग', 'की', 'स्वाभाविक', 'ग्राही', 'कोशिकाएं', 'होती', 'हैं', '।', 'END'], ['START', 'बस', 'आजीविका', 'कमाना', 'बच्चे', 'पैदा', 'करना', 'परिवार', 'को', 'चलाना', 'और', 'फिर', 'एक', 'दिन', 'मर', 'जाना', 'कितनी', 'बड़ी', 'चुनौती', 'है', 'यह', 'कितने', 'अचरज', 'की', 'बात', 'है', 'कि', 'जो', 'चीज', 'हर', 'कीड़ा', 'कीट', 'पशु', 'पक्षी', 'बड़ी', 'सहजता', 'से', 'करता', 'है', 'बस', 'उसे', 'करने', 'में', 'इंसान', 'कितना', 'संघर्ष', 'करते', 'हैं', '।', 'END'], ['START', 'ऐसा', 'कहा', 'गया', 'है', 'कि', 'अगर', 'आप', 'चौबीस', 'घंटे', 'आनंदमय', 'रह', 'सकते', 'हैं', 'तो', 'आपकी', 'बौद्धिक', 'क्षमताएं', 'लगभग', 'दुगनी', 'हो', 'सकती', 'हैं', '।', 'END']]\n"
     ]
    }
   ],
   "source": [
    "print(random.sample(tokenized_conversation, 20))"
   ]
  },
  {
   "cell_type": "markdown",
   "id": "d63773c9",
   "metadata": {
    "id": "d63773c9"
   },
   "source": [
    "This code works with a dataset of sentences that have been broken into words. It generates variations of sentences by taking the last i words of a sentence (where i can be from 3 to 19). The code then randomly selects 65 sentences from the dataset and takes the last i words of each sentence. Finally, it prints 10 of these sequences at random."
   ]
  },
  {
   "cell_type": "code",
   "execution_count": 92,
   "id": "d2b6d469",
   "metadata": {
    "colab": {
     "base_uri": "https://localhost:8080/"
    },
    "id": "d2b6d469",
    "outputId": "958e6111-70f1-4049-ea97-a014f6e1b002"
   },
   "outputs": [
    {
     "name": "stdout",
     "output_type": "stream",
     "text": [
      "[['START', 'दो', 'सप्ताह', 'में', 'ही', 'तुम', 'सबसे', 'ऊपर', 'पहुंच', 'जाओगे', '।', 'END'], ['में', 'रहेगा', '।', 'END'], ['पर', 'गौर', 'कीजिएः', 'जिस', 'पल', 'उनका', 'पेट', 'भर', 'जाता', 'है', 'वे', 'काफी', 'शांतिमय', 'होते', 'हैं', '।', 'END'], ['भीतर', 'अनुभव', 'किया', 'है', '।', 'END'], ['होगा', '।', 'END'], ['है', '।', 'END'], ['कहते', 'हैं', '।', 'END'], ['START', 'स्टॉक', 'मार्केट', 'इसे', 'चकनाचूर', 'कर', 'सकता', 'है', '।', 'END'], ['होते', 'हैं', '।', 'END'], ['तरीका', 'नहीं', 'है', '।', 'END']]\n"
     ]
    }
   ],
   "source": [
    "import random\n",
    "last_n_words = []\n",
    "for i in range(3, 20):\n",
    "    tokenized_sentences_400 = random.sample(list(tokenized_conversation), 65)\n",
    "    for s in tokenized_sentences_400:\n",
    "        last_n_words.append(s[::-1][:i][::-1])\n",
    "\n",
    "print(random.sample(last_n_words, 10))"
   ]
  },
  {
   "cell_type": "code",
   "execution_count": 93,
   "id": "49ad2b84",
   "metadata": {
    "colab": {
     "base_uri": "https://localhost:8080/"
    },
    "id": "49ad2b84",
    "outputId": "d67d7472-c050-4532-afaf-0ddc361e6c08"
   },
   "outputs": [
    {
     "data": {
      "text/plain": [
       "1105"
      ]
     },
     "execution_count": 93,
     "metadata": {},
     "output_type": "execute_result"
    }
   ],
   "source": [
    "len(last_n_words)"
   ]
  },
  {
   "cell_type": "code",
   "execution_count": 94,
   "id": "84f4248e",
   "metadata": {
    "id": "84f4248e"
   },
   "outputs": [],
   "source": [
    "X_train_eos = [[word_to_index[w] for w in sent[:-1]] for sent in last_n_words\n",
    "                         if all([w in word_to_index for w in sent])]\n",
    "y_train_eos = [[word_to_index[w] for w in sent[1:]] for sent in last_n_words\n",
    "                         if all([w in word_to_index for w in sent])]"
   ]
  },
  {
   "cell_type": "code",
   "execution_count": 95,
   "id": "7532004a",
   "metadata": {
    "colab": {
     "base_uri": "https://localhost:8080/"
    },
    "id": "7532004a",
    "outputId": "f5117a9c-b410-4b7b-eb61-9c9834495026"
   },
   "outputs": [
    {
     "data": {
      "text/plain": [
       "(1105, 1105)"
      ]
     },
     "execution_count": 95,
     "metadata": {},
     "output_type": "execute_result"
    }
   ],
   "source": [
    "len(X_train_eos), len(y_train_eos)"
   ]
  },
  {
   "cell_type": "code",
   "execution_count": 96,
   "id": "f8fcb122",
   "metadata": {
    "colab": {
     "base_uri": "https://localhost:8080/"
    },
    "id": "f8fcb122",
    "outputId": "c8ec9d4d-4429-4f27-af78-e06fd6a47615"
   },
   "outputs": [
    {
     "name": "stdout",
     "output_type": "stream",
     "text": [
      "[[44, 32], [31, 32], [44, 32], [44, 32], [31, 32], [603, 32], [77, 32], [144, 32], [31, 32], [425, 32]] [[32, 33], [32, 33], [32, 33], [32, 33], [32, 33], [32, 33], [32, 33], [32, 33], [32, 33], [32, 33]]\n"
     ]
    }
   ],
   "source": [
    "print(X_train_eos[0:10], y_train_eos[0:10] )"
   ]
  },
  {
   "cell_type": "code",
   "execution_count": 97,
   "id": "3308d0ab",
   "metadata": {
    "colab": {
     "base_uri": "https://localhost:8080/"
    },
    "id": "3308d0ab",
    "outputId": "1d547f40-70d8-4a08-daa1-bb827d200b3a"
   },
   "outputs": [
    {
     "name": "stdout",
     "output_type": "stream",
     "text": [
      "[[81, 393, 314, 23, 588, 160, 31, 71, 124, 61, 44, 199, 61, 589, 143, 44, 32], [27, 693, 694, 257, 27, 613, 80, 16, 695, 696, 59, 697, 267, 268, 77, 44, 32], [0, 116, 236, 2, 263, 44, 87, 244, 251, 257, 56, 70, 246, 31, 32], [0, 539, 89, 561, 85, 514, 527, 545, 99, 51, 52, 32], [22, 13, 1, 336, 39, 81, 27, 219, 193, 39, 40, 27, 219, 337, 86, 31, 32], [44, 42, 608, 609, 610, 18, 42, 89, 90, 611, 4, 262, 606, 24, 607, 44, 32], [0, 97, 98, 99, 100, 101, 87, 88, 42, 89, 102, 103, 104, 32], [0, 65, 42, 154, 155, 35, 156, 157, 8, 158, 8, 120, 159, 160, 31, 32], [0, 78, 239, 249, 241, 250, 44, 87, 180, 244, 251, 246, 31, 32], [0, 78, 239, 240, 241, 242, 243, 44, 87, 180, 244, 245, 246, 31, 32]] [[393, 314, 23, 588, 160, 31, 71, 124, 61, 44, 199, 61, 589, 143, 44, 32, 33], [693, 694, 257, 27, 613, 80, 16, 695, 696, 59, 697, 267, 268, 77, 44, 32, 33], [116, 236, 2, 263, 44, 87, 244, 251, 257, 56, 70, 246, 31, 32, 33], [539, 89, 561, 85, 514, 527, 545, 99, 51, 52, 32, 33], [13, 1, 336, 39, 81, 27, 219, 193, 39, 40, 27, 219, 337, 86, 31, 32, 33], [42, 608, 609, 610, 18, 42, 89, 90, 611, 4, 262, 606, 24, 607, 44, 32, 33], [97, 98, 99, 100, 101, 87, 88, 42, 89, 102, 103, 104, 32, 33], [65, 42, 154, 155, 35, 156, 157, 8, 158, 8, 120, 159, 160, 31, 32, 33], [78, 239, 249, 241, 250, 44, 87, 180, 244, 251, 246, 31, 32, 33], [78, 239, 240, 241, 242, 243, 44, 87, 180, 244, 245, 246, 31, 32, 33]]\n"
     ]
    }
   ],
   "source": [
    "print(X_train_eos[1000:1010], y_train_eos[1000:1010])"
   ]
  },
  {
   "cell_type": "code",
   "execution_count": 98,
   "id": "5ba3e531",
   "metadata": {
    "colab": {
     "base_uri": "https://localhost:8080/"
    },
    "id": "5ba3e531",
    "outputId": "d7425c1e-34bc-4d5c-a922-f41b9ccc6f25"
   },
   "outputs": [
    {
     "data": {
      "text/plain": [
       "(20503, 20503)"
      ]
     },
     "execution_count": 98,
     "metadata": {},
     "output_type": "execute_result"
    }
   ],
   "source": [
    "len(X_train), len(y_train)"
   ]
  },
  {
   "cell_type": "code",
   "execution_count": 99,
   "id": "91c17f3d",
   "metadata": {
    "id": "91c17f3d"
   },
   "outputs": [],
   "source": [
    "X_train.extend(X_train_eos)\n",
    "y_train.extend(y_train_eos)"
   ]
  },
  {
   "cell_type": "code",
   "execution_count": 100,
   "id": "216784ff",
   "metadata": {
    "colab": {
     "base_uri": "https://localhost:8080/"
    },
    "id": "216784ff",
    "outputId": "d9d817cf-6cb8-4b9e-bb37-8892acfbdefe"
   },
   "outputs": [
    {
     "data": {
      "text/plain": [
       "(21608, 21608)"
      ]
     },
     "execution_count": 100,
     "metadata": {},
     "output_type": "execute_result"
    }
   ],
   "source": [
    "len(X_train), len(y_train)"
   ]
  },
  {
   "cell_type": "code",
   "execution_count": 101,
   "id": "24e38c8c-e3b3-458f-9870-7cb8fdea05b7",
   "metadata": {
    "colab": {
     "base_uri": "https://localhost:8080/"
    },
    "id": "24e38c8c-e3b3-458f-9870-7cb8fdea05b7",
    "outputId": "1cc73019-1af7-40de-b66e-c3a06ba6fcad"
   },
   "outputs": [
    {
     "data": {
      "text/plain": [
       "21608"
      ]
     },
     "execution_count": 101,
     "metadata": {},
     "output_type": "execute_result"
    }
   ],
   "source": [
    "len(X_train)"
   ]
  },
  {
   "cell_type": "code",
   "execution_count": 102,
   "id": "a9477c68",
   "metadata": {
    "id": "a9477c68"
   },
   "outputs": [],
   "source": [
    "from tensorflow.keras.preprocessing.sequence import pad_sequences\n",
    "\n",
    "# Determine the length of the longest sequence\n",
    "max_seq_length = max(len(sequence) for sequence in X_train)\n",
    "\n",
    "# Pad all sequences to the length of the longest one\n",
    "X_train_padded = pad_sequences(X_train, maxlen=max_seq_length, padding='post')\n",
    "y_train_padded = pad_sequences(y_train, maxlen=max_seq_length, padding='post')\n",
    "\n",
    "# Now you can safely convert to NumPy arrays\n",
    "X_train2 = np.array(X_train_padded)\n",
    "y_train2 = np.array(y_train_padded)\n"
   ]
  },
  {
   "cell_type": "code",
   "execution_count": 103,
   "id": "b71ca05a",
   "metadata": {
    "colab": {
     "base_uri": "https://localhost:8080/"
    },
    "id": "b71ca05a",
    "outputId": "ba6b48d8-92d5-418a-98fe-793bf6d277e5"
   },
   "outputs": [
    {
     "data": {
      "text/plain": [
       "((21608, 19), (21608, 19))"
      ]
     },
     "execution_count": 103,
     "metadata": {},
     "output_type": "execute_result"
    }
   ],
   "source": [
    "X_train2.shape, y_train2.shape"
   ]
  },
  {
   "cell_type": "code",
   "execution_count": 104,
   "id": "09dd21b9",
   "metadata": {
    "colab": {
     "base_uri": "https://localhost:8080/"
    },
    "id": "09dd21b9",
    "outputId": "91ca5a68-e168-46fd-e172-a2f4a4c6c394"
   },
   "outputs": [
    {
     "name": "stdout",
     "output_type": "stream",
     "text": [
      "[(array([156, 103,   0,   0,   0,   0,   0,   0,   0,   0,   0,   0,   0,\n",
      "         0,   0,   0,   0,   0,   0], dtype=int32), array([103,  98,   0,   0,   0,   0,   0,   0,   0,   0,   0,   0,   0,\n",
      "         0,   0,   0,   0,   0,   0], dtype=int32)), (array([240, 193, 249,  27, 355,  24, 220,   0,   0,   0,   0,   0,   0,\n",
      "         0,   0,   0,   0,   0,   0], dtype=int32), array([193, 249,  27, 355,  24, 220, 339,   0,   0,   0,   0,   0,   0,\n",
      "         0,   0,   0,   0,   0,   0], dtype=int32)), (array([165, 143, 166, 206,  44,  87, 207,  61, 208,  24, 209, 143,   0,\n",
      "         0,   0,   0,   0,   0,   0], dtype=int32), array([143, 166, 206,  44,  87, 207,  61, 208,  24, 209, 143,  44,   0,\n",
      "         0,   0,   0,   0,   0,   0], dtype=int32)), (array([244, 252,   0,   0,   0,   0,   0,   0,   0,   0,   0,   0,   0,\n",
      "         0,   0,   0,   0,   0,   0], dtype=int32), array([252, 246,   0,   0,   0,   0,   0,   0,   0,   0,   0,   0,   0,\n",
      "         0,   0,   0,   0,   0,   0], dtype=int32)), (array([ 55, 405, 406, 261,  55,  56, 271,   0,   0,   0,   0,   0,   0,\n",
      "         0,   0,   0,   0,   0,   0], dtype=int32), array([405, 406, 261,  55,  56, 271, 407,   0,   0,   0,   0,   0,   0,\n",
      "         0,   0,   0,   0,   0,   0], dtype=int32)), (array([401,  27, 402,  28,   0,   0,   0,   0,   0,   0,   0,   0,   0,\n",
      "         0,   0,   0,   0,   0,   0], dtype=int32), array([ 27, 402,  28, 121,   0,   0,   0,   0,   0,   0,   0,   0,   0,\n",
      "         0,   0,   0,   0,   0,   0], dtype=int32)), (array([161, 322,  31, 193, 161,  27, 323, 324, 325,  31, 199,  65, 326,\n",
      "         0,   0,   0,   0,   0,   0], dtype=int32), array([322,  31, 193, 161,  27, 323, 324, 325,  31, 199,  65, 326, 327,\n",
      "         0,   0,   0,   0,   0,   0], dtype=int32)), (array([ 31, 199,   0,   0,   0,   0,   0,   0,   0,   0,   0,   0,   0,\n",
      "         0,   0,   0,   0,   0,   0], dtype=int32), array([199,  65,   0,   0,   0,   0,   0,   0,   0,   0,   0,   0,   0,\n",
      "         0,   0,   0,   0,   0,   0], dtype=int32)), (array([60, 49, 61, 62, 34,  0,  0,  0,  0,  0,  0,  0,  0,  0,  0,  0,  0,\n",
      "        0,  0], dtype=int32), array([49, 61, 62, 34, 63,  0,  0,  0,  0,  0,  0,  0,  0,  0,  0,  0,  0,\n",
      "        0,  0], dtype=int32)), (array([ 18, 459, 380, 160,  31,  65, 509,  27,  14,  81, 393, 314,  23,\n",
      "       588, 160,  31,  71, 124,  61], dtype=int32), array([459, 380, 160,  31,  65, 509,  27,  14,  81, 393, 314,  23, 588,\n",
      "       160,  31,  71, 124,  61,  44], dtype=int32))]\n"
     ]
    }
   ],
   "source": [
    "print(random.sample(list(zip(X_train2, y_train2)), 10))"
   ]
  },
  {
   "cell_type": "code",
   "execution_count": 105,
   "id": "3edc57b6",
   "metadata": {
    "colab": {
     "base_uri": "https://localhost:8080/"
    },
    "id": "3edc57b6",
    "outputId": "2cc0df91-e119-455f-cca6-475346a3e309"
   },
   "outputs": [
    {
     "data": {
      "text/plain": [
       "720"
      ]
     },
     "execution_count": 105,
     "metadata": {},
     "output_type": "execute_result"
    }
   ],
   "source": [
    "vocabulary_size"
   ]
  },
  {
   "cell_type": "code",
   "execution_count": 109,
   "id": "30a87dc3",
   "metadata": {
    "id": "30a87dc3"
   },
   "outputs": [],
   "source": [
    "#We only need t perform this step once.\n",
    "# pip install gensim"
   ]
  },
  {
   "cell_type": "code",
   "execution_count": 110,
   "id": "60bcaee9",
   "metadata": {
    "colab": {
     "base_uri": "https://localhost:8080/"
    },
    "id": "60bcaee9",
    "outputId": "86b94919-0fe7-452b-b1d1-1f22ebb6b1ef"
   },
   "outputs": [
    {
     "data": {
      "text/plain": [
       "720"
      ]
     },
     "execution_count": 110,
     "metadata": {},
     "output_type": "execute_result"
    }
   ],
   "source": [
    "vocabulary_size"
   ]
  },
  {
   "cell_type": "code",
   "execution_count": 111,
   "id": "8aa88d9b",
   "metadata": {
    "colab": {
     "base_uri": "https://localhost:8080/"
    },
    "id": "8aa88d9b",
    "outputId": "2383dfeb-0f95-4352-8b62-98fdf48b3493"
   },
   "outputs": [
    {
     "data": {
      "text/plain": [
       "720"
      ]
     },
     "execution_count": 111,
     "metadata": {},
     "output_type": "execute_result"
    }
   ],
   "source": [
    "len(most_common_words)"
   ]
  },
  {
   "cell_type": "markdown",
   "id": "902ac94f",
   "metadata": {
    "id": "902ac94f"
   },
   "source": [
    "This code loads a pre-trained FastText word embedding model and extracts word vectors from it. The embeddings_index dictionary can be used to look up word vectors for specific words later on. You can download the pre-trained FastText model from https://fasttext.cc/docs/en/english-vectors.html"
   ]
  },
  {
   "cell_type": "code",
   "execution_count": 112,
   "id": "cX_Sne1Qhwpe",
   "metadata": {
    "colab": {
     "base_uri": "https://localhost:8080/"
    },
    "id": "cX_Sne1Qhwpe",
    "outputId": "1b85204f-3b74-41f1-af83-3e8dfe55d234"
   },
   "outputs": [
    {
     "name": "stdout",
     "output_type": "stream",
     "text": [
      "FastText word vectors downloaded and unzipped to: cc.hi.300.vec\n"
     ]
    }
   ],
   "source": [
    "import os\n",
    "import gzip\n",
    "import shutil\n",
    "import requests\n",
    "\n",
    "# Specify the URL for the FastText word vectors\n",
    "fasttext_url = 'https://dl.fbaipublicfiles.com/fasttext/vectors-crawl/cc.hi.300.vec.gz'\n",
    "\n",
    "# Specify the file paths for downloading and unzipping\n",
    "download_path = 'cc.hi.300.vec.gz'\n",
    "unzipped_path = 'cc.hi.300.vec'\n",
    "\n",
    "# Download the FastText word vectors file\n",
    "response = requests.get(fasttext_url, stream=True)\n",
    "with open(download_path, 'wb') as file:\n",
    "    for chunk in response.iter_content(chunk_size=1024):\n",
    "        if chunk:\n",
    "            file.write(chunk)\n",
    "\n",
    "# Unzip the downloaded file\n",
    "with gzip.open(download_path, 'rb') as f_in, open(unzipped_path, 'wb') as f_out:\n",
    "    shutil.copyfileobj(f_in, f_out)\n",
    "\n",
    "# Clean up: Remove the gzipped file\n",
    "os.remove(download_path)\n",
    "\n",
    "print(f'FastText word vectors downloaded and unzipped to: {unzipped_path}')\n"
   ]
  },
  {
   "cell_type": "code",
   "execution_count": 113,
   "id": "c5749676",
   "metadata": {
    "colab": {
     "base_uri": "https://localhost:8080/"
    },
    "id": "c5749676",
    "outputId": "67ed53af-9996-4b18-9aa0-d7c67190fbdf"
   },
   "outputs": [
    {
     "name": "stdout",
     "output_type": "stream",
     "text": [
      "Found 1876653 word vectors.\n"
     ]
    }
   ],
   "source": [
    "import os\n",
    "from gensim.models import KeyedVectors\n",
    "\n",
    "# Path to the downloaded FastText model file\n",
    "fasttext_model_path = r\"cc.hi.300.vec\"\n",
    "\n",
    "# Initialize the FastText model\n",
    "fasttext_model = KeyedVectors.load_word2vec_format(fasttext_model_path)\n",
    "\n",
    "# Initialize a dictionary to store word vectors\n",
    "embeddings_index = {}\n",
    "\n",
    "# Iterate through the words in the FastText model\n",
    "for word in fasttext_model.index_to_key:\n",
    "    embeddings_index[word] = fasttext_model[word]\n",
    "\n",
    "print('Found %s word vectors.' % len(embeddings_index))"
   ]
  },
  {
   "cell_type": "code",
   "execution_count": 114,
   "id": "96b57da3",
   "metadata": {
    "id": "96b57da3"
   },
   "outputs": [],
   "source": [
    "embedding_dim = 300\n",
    "\n",
    "embedding_matrix = np.zeros((vocabulary_size, embedding_dim))\n",
    "for word, i in most_common_words:\n",
    "    embedding_vector = embeddings_index.get(word)\n",
    "    if i < vocabulary_size:\n",
    "        if embedding_vector is not None:\n",
    "            embedding_matrix[i] = embedding_vector"
   ]
  },
  {
   "cell_type": "markdown",
   "id": "d2ba469a",
   "metadata": {
    "id": "d2ba469a"
   },
   "source": [
    "The embedding_matrix variable contains vectors that represent the words in our vocabulary. These vectors were created using the pre-trained FastText model."
   ]
  },
  {
   "cell_type": "code",
   "execution_count": 115,
   "id": "f7516840",
   "metadata": {
    "colab": {
     "base_uri": "https://localhost:8080/"
    },
    "id": "f7516840",
    "outputId": "27de772a-378f-437a-a144-ff198aacfc91"
   },
   "outputs": [
    {
     "data": {
      "text/plain": [
       "(720, 300)"
      ]
     },
     "execution_count": 115,
     "metadata": {},
     "output_type": "execute_result"
    }
   ],
   "source": [
    "embedding_matrix.shape"
   ]
  },
  {
   "cell_type": "code",
   "execution_count": 116,
   "id": "b804a994",
   "metadata": {
    "colab": {
     "base_uri": "https://localhost:8080/"
    },
    "id": "b804a994",
    "outputId": "854c732a-98d0-4e55-fef3-3197daa304dc"
   },
   "outputs": [
    {
     "data": {
      "text/plain": [
       "('खोजा', 2)"
      ]
     },
     "execution_count": 116,
     "metadata": {},
     "output_type": "execute_result"
    }
   ],
   "source": [
    "most_common_words[200]"
   ]
  },
  {
   "cell_type": "code",
   "execution_count": 117,
   "id": "eecd7e93",
   "metadata": {
    "colab": {
     "base_uri": "https://localhost:8080/"
    },
    "id": "eecd7e93",
    "outputId": "194144dc-494c-476f-8594-a27a902ed9e2"
   },
   "outputs": [
    {
     "data": {
      "text/plain": [
       "array([-3.39000002e-02, -6.72999993e-02,  3.89999989e-03,  6.01999983e-02,\n",
       "       -1.31000001e-02, -3.80000006e-03,  4.76000011e-02, -1.97999999e-02,\n",
       "       -6.58999979e-02,  1.75000001e-02,  5.42000011e-02, -2.06000004e-02,\n",
       "        9.20000020e-03,  2.30000000e-02,  3.15999985e-02, -8.39999970e-03,\n",
       "        1.21500000e-01, -3.80000006e-03,  2.19999999e-03,  7.98000023e-02,\n",
       "        1.89999994e-02, -9.30000003e-03,  1.77999996e-02, -6.00000005e-03,\n",
       "        2.16000006e-02,  3.33999991e-02, -1.18000004e-02, -2.38000005e-02,\n",
       "        2.83000004e-02, -8.99999961e-03, -2.00000009e-03, -2.91000009e-02,\n",
       "        4.80999984e-02,  8.60000029e-03,  1.43099993e-01,  3.40999998e-02,\n",
       "        3.80000006e-03, -7.59999976e-02,  6.66000023e-02, -5.53999990e-02,\n",
       "       -3.48000005e-02,  2.43999995e-02, -3.10999993e-02, -3.48000005e-02,\n",
       "        1.54999997e-02,  3.64999995e-02,  1.27999997e-02,  4.94999997e-02,\n",
       "        3.29000019e-02, -1.17700003e-01,  7.10000005e-03, -2.38000005e-02,\n",
       "        1.57999992e-02,  5.31000011e-02, -1.70000002e-03, -1.79999997e-03,\n",
       "        2.31999997e-02, -5.46000004e-02, -7.66000003e-02, -4.74000014e-02,\n",
       "        1.84000004e-02,  8.16000029e-02, -2.00999994e-02, -1.48999998e-02,\n",
       "       -1.95000004e-02, -1.39999995e-03, -5.79000004e-02, -9.74000022e-02,\n",
       "       -1.74000002e-02, -3.35000008e-02,  4.71000001e-02, -5.44000007e-02,\n",
       "        7.41000026e-02,  3.81000005e-02, -4.94000018e-02,  2.17000004e-02,\n",
       "        4.34999987e-02,  1.31000001e-02,  4.23000008e-02,  3.11999992e-02,\n",
       "       -2.10999995e-02,  4.08999994e-02,  2.29000002e-02,  5.33999987e-02,\n",
       "        8.50000046e-03, -1.15000000e-02, -4.87000011e-02,  1.02000004e-02,\n",
       "        9.70999971e-02, -2.42799997e-01,  2.48000007e-02, -5.79999993e-03,\n",
       "        1.61000006e-02,  5.04000001e-02, -3.95000018e-02, -4.71000001e-02,\n",
       "        2.47000009e-02,  4.83999997e-02, -3.02000009e-02, -5.33000007e-02,\n",
       "        1.07000005e-02, -3.66999991e-02, -6.30000001e-03,  1.26000000e-02,\n",
       "       -3.26000005e-02,  6.15999997e-02, -2.41999999e-02, -1.87999997e-02,\n",
       "       -3.90999988e-02, -6.93999976e-02, -5.33999987e-02,  1.42000001e-02,\n",
       "        1.54999997e-02, -5.71000017e-02,  8.60000029e-03, -6.23000003e-02,\n",
       "       -1.05800003e-01,  4.14000005e-02,  7.32999966e-02,  2.81000007e-02,\n",
       "       -4.52000014e-02,  6.94999993e-02, -2.60000001e-03,  2.89999996e-03,\n",
       "        5.51999994e-02,  4.32000011e-02, -1.31000001e-02, -1.75000001e-02,\n",
       "        2.98999995e-02, -4.89000008e-02,  1.90999992e-02, -8.60000029e-03,\n",
       "       -4.50999998e-02,  1.98999997e-02,  2.93000005e-02, -1.94000006e-02,\n",
       "        1.63000003e-02, -9.49999969e-03,  1.29000004e-02, -5.37000000e-02,\n",
       "        1.05999997e-02, -2.63999999e-02, -2.30000005e-03, -7.41000026e-02,\n",
       "        8.79999995e-03, -4.39000018e-02, -5.20000001e-03, -4.52999994e-02,\n",
       "        2.96000000e-02,  4.65000011e-02,  6.69999979e-03, -6.00000028e-04,\n",
       "       -3.55999991e-02,  2.84000002e-02,  4.19000015e-02,  4.05000001e-02,\n",
       "        1.09999999e-03,  2.62000002e-02, -8.20000004e-03,  1.73000004e-02,\n",
       "       -2.96000000e-02,  1.38999997e-02,  1.64999999e-02, -1.51000004e-02,\n",
       "        2.03000009e-02, -6.17000014e-02,  5.79999993e-03, -8.99999985e-04,\n",
       "       -1.44999996e-02,  3.99999991e-02,  8.00000038e-03,  4.60000001e-02,\n",
       "       -3.29000019e-02, -2.04000007e-02,  3.40000005e-03,  3.68000008e-02,\n",
       "        6.97999969e-02,  5.97999990e-02, -5.81000000e-02,  8.99000019e-02,\n",
       "       -1.30000000e-03,  1.20200001e-01,  2.85999998e-02, -5.55000007e-02,\n",
       "       -1.88999996e-02,  1.04999999e-02,  3.44000012e-02,  4.03000005e-02,\n",
       "       -2.12999992e-02, -1.42000001e-02, -2.54999995e-02, -9.25000012e-02,\n",
       "       -3.48000005e-02,  5.86999990e-02,  9.70000029e-03,  3.59000005e-02,\n",
       "       -1.20000006e-03, -3.40000005e-03,  6.49000034e-02, -2.89999996e-03,\n",
       "       -5.71999997e-02, -3.86999995e-02,  3.64000015e-02, -7.30000017e-03,\n",
       "       -9.39999986e-03, -2.66999993e-02, -6.23999983e-02, -2.72000004e-02,\n",
       "        2.80000009e-02,  3.57000008e-02, -6.19000010e-02, -2.80000009e-02,\n",
       "       -3.00000014e-04, -4.63999994e-02,  2.89999992e-02, -6.27999976e-02,\n",
       "        4.28999998e-02,  3.95000018e-02, -5.88999987e-02,  5.02999984e-02,\n",
       "       -4.34000008e-02, -6.80000009e-03, -4.06999998e-02, -7.50000030e-02,\n",
       "       -2.00999994e-02,  1.15999999e-02, -2.40000002e-02, -1.50000001e-03,\n",
       "       -5.79999983e-02, -6.39999984e-03,  6.80999979e-02,  9.20000020e-03,\n",
       "        7.99999982e-02, -4.58999984e-02, -1.29000004e-02, -1.32999998e-02,\n",
       "       -2.59000007e-02, -2.97999997e-02,  1.41000003e-02, -6.23999983e-02,\n",
       "       -7.20999986e-02,  2.00000009e-03,  3.97999994e-02, -1.88999996e-02,\n",
       "       -4.91999984e-02, -1.14000002e-02, -3.28000002e-02, -2.17000004e-02,\n",
       "       -3.83000001e-02, -6.15000017e-02, -9.10000037e-03,  2.69000009e-02,\n",
       "        1.13000004e-02, -7.85000026e-02, -2.07000002e-02, -4.80000004e-02,\n",
       "       -6.06999993e-02,  1.11599997e-01,  6.30000010e-02, -3.31999995e-02,\n",
       "       -4.67000008e-02,  5.31999990e-02, -8.10000021e-03, -2.49000005e-02,\n",
       "        2.74999999e-02, -1.46000003e-02, -1.65999997e-02, -2.09999997e-02,\n",
       "        2.94000003e-02, -5.66000007e-02,  3.46999988e-02,  1.17299996e-01,\n",
       "        1.54999997e-02, -3.57000008e-02, -2.91000009e-02, -7.32000023e-02,\n",
       "        9.89999995e-03,  1.97000001e-02,  2.72000004e-02,  1.40000004e-02,\n",
       "        4.39000018e-02, -1.52000003e-02,  1.18000004e-02, -8.43999982e-02,\n",
       "        1.47000002e-02, -1.67999994e-02,  7.07999989e-02, -3.81000005e-02,\n",
       "        3.77999991e-02,  2.05000006e-02,  5.90999983e-02,  3.46999988e-02,\n",
       "       -2.11999994e-02, -2.98999995e-02,  6.81999996e-02, -1.09999999e-03,\n",
       "       -9.99999975e-05,  5.29000014e-02,  5.07000014e-02, -5.13000004e-02])"
      ]
     },
     "execution_count": 117,
     "metadata": {},
     "output_type": "execute_result"
    }
   ],
   "source": [
    "embedding_matrix[12]"
   ]
  },
  {
   "cell_type": "markdown",
   "id": "3d67d3b0",
   "metadata": {
    "id": "3d67d3b0"
   },
   "source": [
    "The find_closest_embeddings function takes a word vector as input and returns a list of words from our vocabulary, sorted by how similar they are to the input word vector. The similarity is calculated using the Euclidean distance between the vectors. This function can be used to find words in our vocabulary that are semantically similar to the input word, based on how their vectors are represented."
   ]
  },
  {
   "cell_type": "code",
   "execution_count": 118,
   "id": "ebb1c3a1",
   "metadata": {
    "id": "ebb1c3a1"
   },
   "outputs": [],
   "source": [
    "from scipy import spatial\n",
    "\n",
    "def find_closest_embeddings(embedding):\n",
    "    return sorted(embeddings_index.keys(), key=lambda word: spatial.distance.euclidean(embeddings_index[word], embedding))"
   ]
  },
  {
   "cell_type": "code",
   "execution_count": 119,
   "id": "b6c5f2fb",
   "metadata": {
    "colab": {
     "base_uri": "https://localhost:8080/"
    },
    "id": "b6c5f2fb",
    "outputId": "3be19c50-30c0-42f7-f7a7-4b3fc9951da6"
   },
   "outputs": [
    {
     "data": {
      "text/plain": [
       "['दानवता', 'हैमानवता', 'विश्वमानवता', 'अमानवता', 'महामानवता']"
      ]
     },
     "execution_count": 119,
     "metadata": {},
     "output_type": "execute_result"
    }
   ],
   "source": [
    "find_closest_embeddings(embeddings_index[\"मानवता\"])[1:6]"
   ]
  },
  {
   "cell_type": "code",
   "execution_count": 120,
   "id": "2735bd2f",
   "metadata": {
    "colab": {
     "base_uri": "https://localhost:8080/"
    },
    "id": "2735bd2f",
    "outputId": "b5a28501-6ddd-4166-b3d9-96a352a60b80"
   },
   "outputs": [
    {
     "name": "stdout",
     "output_type": "stream",
     "text": [
      "['पास', 'विकल्प', 'समानो', 'अपीले', 'सैंडबॉक्स', 'लगेतो', 'लगताएक', 'राष्ट््रीय', 'समूचित', 'डिपोर्ट']\n"
     ]
    }
   ],
   "source": [
    "print(find_closest_embeddings(\n",
    "    embeddings_index[\"पास\"] - embeddings_index[\"एक\"] + embeddings_index[\"विकल्प\"]\n",
    ")[:10])"
   ]
  },
  {
   "cell_type": "markdown",
   "id": "6e841500",
   "metadata": {
    "id": "6e841500"
   },
   "source": [
    "This code uses a technique called t-Distributed Stochastic Neighbor Embedding (t-SNE) to reduce the number of dimensions in the data. This helps us to understand how the data points are related to each other."
   ]
  },
  {
   "cell_type": "code",
   "execution_count": 121,
   "id": "4328a44d",
   "metadata": {
    "id": "4328a44d"
   },
   "outputs": [],
   "source": [
    "from sklearn.manifold import TSNE\n",
    "tsne = TSNE(n_components=3, random_state=0)"
   ]
  },
  {
   "cell_type": "code",
   "execution_count": 122,
   "id": "d5bec7db",
   "metadata": {
    "id": "d5bec7db"
   },
   "outputs": [],
   "source": [
    "words =  list(embeddings_index.keys())[:500]\n",
    "vectors = [embeddings_index[word] for word in words]"
   ]
  },
  {
   "cell_type": "code",
   "execution_count": 123,
   "id": "08c4a72e",
   "metadata": {
    "id": "08c4a72e",
    "scrolled": true
   },
   "outputs": [],
   "source": [
    "# Only need to perform this step once\n",
    "# pip install plotly"
   ]
  },
  {
   "cell_type": "code",
   "execution_count": 124,
   "id": "ddc23db5",
   "metadata": {
    "id": "ddc23db5",
    "scrolled": true
   },
   "outputs": [],
   "source": [
    "import plotly.express as px"
   ]
  },
  {
   "cell_type": "code",
   "execution_count": 125,
   "id": "abec4e05",
   "metadata": {
    "colab": {
     "base_uri": "https://localhost:8080/"
    },
    "id": "abec4e05",
    "outputId": "bf1eec5d-d09f-4e38-a0c9-6976410979e5"
   },
   "outputs": [
    {
     "data": {
      "text/plain": [
       "(720, 300)"
      ]
     },
     "execution_count": 125,
     "metadata": {},
     "output_type": "execute_result"
    }
   ],
   "source": [
    "vocabulary_size, embedding_dim"
   ]
  },
  {
   "cell_type": "code",
   "execution_count": 126,
   "id": "986cd5b6",
   "metadata": {
    "colab": {
     "base_uri": "https://localhost:8080/"
    },
    "id": "986cd5b6",
    "outputId": "3d92401f-1ce5-432d-e2fc-1c3577b3f136"
   },
   "outputs": [
    {
     "data": {
      "text/plain": [
       "array([150, 133,   0,   0,   0,   0,   0,   0,   0,   0,   0,   0,   0,\n",
       "         0,   0,   0,   0,   0,   0], dtype=int32)"
      ]
     },
     "execution_count": 126,
     "metadata": {},
     "output_type": "execute_result"
    }
   ],
   "source": [
    "y_train2[1000]"
   ]
  },
  {
   "cell_type": "markdown",
   "id": "7f226ef1",
   "metadata": {},
   "source": [
    "### building, compiling, and training a recurrent neural network (RNN) "
   ]
  },
  {
   "cell_type": "code",
   "execution_count": 127,
   "id": "720227d9-7e48-4060-8275-3bb58c142431",
   "metadata": {
    "colab": {
     "base_uri": "https://localhost:8080/"
    },
    "id": "720227d9-7e48-4060-8275-3bb58c142431",
    "outputId": "f998dbcd-d05f-466d-ed1a-e8ea2a3ae051"
   },
   "outputs": [
    {
     "name": "stdout",
     "output_type": "stream",
     "text": [
      "Epoch 1/20\n",
      "169/169 [==============================] - 103s 583ms/step - loss: 2.7381 - accuracy: 0.5727\n",
      "Epoch 2/20\n",
      "169/169 [==============================] - 76s 451ms/step - loss: 1.0630 - accuracy: 0.8091\n",
      "Epoch 3/20\n",
      "169/169 [==============================] - 88s 524ms/step - loss: 0.2781 - accuracy: 0.9450\n",
      "Epoch 4/20\n",
      "169/169 [==============================] - 82s 487ms/step - loss: 0.1740 - accuracy: 0.9569\n",
      "Epoch 5/20\n",
      "169/169 [==============================] - 71s 421ms/step - loss: 0.1440 - accuracy: 0.9593\n",
      "Epoch 6/20\n",
      "169/169 [==============================] - 79s 467ms/step - loss: 0.1311 - accuracy: 0.9599\n",
      "Epoch 7/20\n",
      "169/169 [==============================] - 74s 437ms/step - loss: 0.1246 - accuracy: 0.9602\n",
      "Epoch 8/20\n",
      "169/169 [==============================] - 71s 420ms/step - loss: 0.1209 - accuracy: 0.9600\n",
      "Epoch 9/20\n",
      "169/169 [==============================] - 74s 438ms/step - loss: 0.1183 - accuracy: 0.9602\n",
      "Epoch 10/20\n",
      "169/169 [==============================] - 75s 441ms/step - loss: 0.1166 - accuracy: 0.9600\n",
      "Epoch 11/20\n",
      "169/169 [==============================] - 81s 478ms/step - loss: 0.1158 - accuracy: 0.9598\n",
      "Epoch 12/20\n",
      "169/169 [==============================] - 75s 443ms/step - loss: 0.1152 - accuracy: 0.9598\n",
      "Epoch 13/20\n",
      "169/169 [==============================] - 72s 430ms/step - loss: 0.1149 - accuracy: 0.9602\n",
      "Epoch 14/20\n",
      "169/169 [==============================] - 71s 422ms/step - loss: 0.1145 - accuracy: 0.9599\n",
      "Epoch 15/20\n",
      "169/169 [==============================] - 72s 426ms/step - loss: 0.1138 - accuracy: 0.9600\n",
      "Epoch 16/20\n",
      "169/169 [==============================] - 73s 435ms/step - loss: 0.1141 - accuracy: 0.9598\n",
      "Epoch 17/20\n",
      "169/169 [==============================] - 77s 455ms/step - loss: 0.1138 - accuracy: 0.9599\n",
      "Epoch 18/20\n",
      "169/169 [==============================] - 82s 488ms/step - loss: 0.1139 - accuracy: 0.9598\n",
      "Epoch 19/20\n",
      "169/169 [==============================] - 83s 490ms/step - loss: 0.1138 - accuracy: 0.9598\n",
      "Epoch 20/20\n",
      "169/169 [==============================] - 80s 476ms/step - loss: 0.1136 - accuracy: 0.9600\n"
     ]
    },
    {
     "data": {
      "text/plain": [
       "<keras.src.callbacks.History at 0x35d969be0>"
      ]
     },
     "execution_count": 127,
     "metadata": {},
     "output_type": "execute_result"
    }
   ],
   "source": [
    "import tensorflow as tf\n",
    "from tensorflow.keras.models import Sequential\n",
    "from tensorflow.keras.layers import Embedding, SimpleRNN, Dense\n",
    "\n",
    "vocab_size = 1030\n",
    "embedding_dim = 300\n",
    "max_length = 19\n",
    "\n",
    "# Define the RNN model architecture\n",
    "model = Sequential([\n",
    "    Embedding(vocab_size, embedding_dim, input_length=max_length),\n",
    "    SimpleRNN(units=500, return_sequences=True),\n",
    "    Dense(vocab_size, activation='softmax')\n",
    "])\n",
    "\n",
    "# Compile the model\n",
    "model.compile(optimizer='adam', loss='sparse_categorical_crossentropy', metrics=['accuracy'])\n",
    "\n",
    "model.fit(X_train2, y_train2, batch_size=128, epochs=20)"
   ]
  },
  {
   "cell_type": "code",
   "execution_count": 128,
   "id": "80f9fcfb",
   "metadata": {},
   "outputs": [
    {
     "name": "stdout",
     "output_type": "stream",
     "text": [
      "Model: \"sequential\"\n",
      "_________________________________________________________________\n",
      " Layer (type)                Output Shape              Param #   \n",
      "=================================================================\n",
      " embedding (Embedding)       (None, 19, 300)           309000    \n",
      "                                                                 \n",
      " simple_rnn (SimpleRNN)      (None, 19, 500)           400500    \n",
      "                                                                 \n",
      " dense (Dense)               (None, 19, 1030)          516030    \n",
      "                                                                 \n",
      "=================================================================\n",
      "Total params: 1225530 (4.68 MB)\n",
      "Trainable params: 1225530 (4.68 MB)\n",
      "Non-trainable params: 0 (0.00 Byte)\n",
      "_________________________________________________________________\n"
     ]
    }
   ],
   "source": [
    "model.summary()"
   ]
  },
  {
   "cell_type": "markdown",
   "id": "5d614995",
   "metadata": {},
   "source": [
    "Generating sentences using a trained language model. It uses a pre-trained model to predict the next words in a sequence, sampling from the model's output to create coherent sentences."
   ]
  },
  {
   "cell_type": "code",
   "execution_count": 129,
   "id": "a51385fb-d063-460f-9d7d-5c7250e18047",
   "metadata": {
    "colab": {
     "base_uri": "https://localhost:8080/"
    },
    "id": "a51385fb-d063-460f-9d7d-5c7250e18047",
    "outputId": "17013274-239c-4568-a652-cee04309745c"
   },
   "outputs": [
    {
     "name": "stdout",
     "output_type": "stream",
     "text": [
      "1/1 [==============================] - 1s 1s/step\n",
      "1/1 [==============================] - 0s 82ms/step\n",
      "1/1 [==============================] - 0s 85ms/step\n",
      "1/1 [==============================] - 0s 90ms/step\n",
      "1/1 [==============================] - 0s 66ms/step\n",
      "1/1 [==============================] - 0s 54ms/step\n",
      "1/1 [==============================] - 0s 47ms/step\n",
      "1/1 [==============================] - 0s 55ms/step\n",
      "1/1 [==============================] - 0s 71ms/step\n",
      "1/1 [==============================] - 0s 93ms/step\n",
      "1/1 [==============================] - 0s 79ms/step\n",
      "1/1 [==============================] - 0s 67ms/step\n",
      "1/1 [==============================] - 0s 77ms/step\n",
      "1/1 [==============================] - 0s 99ms/step\n",
      "1/1 [==============================] - 0s 126ms/step\n",
      "1/1 [==============================] - 0s 79ms/step\n",
      "1/1 [==============================] - 0s 68ms/step\n",
      "1/1 [==============================] - 0s 56ms/step\n",
      "1/1 [==============================] - 0s 59ms/step\n",
      "उसने सपने का हम होती किसी । तो । एक अनुभव क्या पैदा भीतर अपने तो पूरा कहानी\n",
      "1/1 [==============================] - 0s 67ms/step\n",
      "1/1 [==============================] - 0s 62ms/step\n",
      "1/1 [==============================] - 0s 61ms/step\n",
      "1/1 [==============================] - 0s 63ms/step\n",
      "1/1 [==============================] - 0s 70ms/step\n",
      "1/1 [==============================] - 0s 84ms/step\n",
      "1/1 [==============================] - 0s 100ms/step\n",
      "1/1 [==============================] - 0s 81ms/step\n",
      "1/1 [==============================] - 0s 64ms/step\n",
      "1/1 [==============================] - 0s 66ms/step\n",
      "1/1 [==============================] - 0s 54ms/step\n",
      "1/1 [==============================] - 0s 54ms/step\n",
      "1/1 [==============================] - 0s 56ms/step\n",
      "1/1 [==============================] - 0s 61ms/step\n",
      "1/1 [==============================] - 0s 62ms/step\n",
      "1/1 [==============================] - 0s 61ms/step\n",
      "1/1 [==============================] - 0s 62ms/step\n",
      "1/1 [==============================] - 0s 67ms/step\n",
      "1/1 [==============================] - 0s 92ms/step\n",
      "हर है अपने किया अपने है लेकिन हैं अपने मानव सफलता तो से वे आपको सकते तो अपने\n",
      "1/1 [==============================] - 0s 112ms/step\n",
      "1/1 [==============================] - 0s 93ms/step\n",
      "1/1 [==============================] - 0s 70ms/step\n",
      "1/1 [==============================] - 0s 64ms/step\n",
      "1/1 [==============================] - 0s 56ms/step\n",
      "1/1 [==============================] - 0s 55ms/step\n",
      "1/1 [==============================] - 0s 66ms/step\n",
      "1/1 [==============================] - 0s 60ms/step\n",
      "1/1 [==============================] - 0s 59ms/step\n",
      "1/1 [==============================] - 0s 78ms/step\n",
      "1/1 [==============================] - 0s 80ms/step\n",
      "1/1 [==============================] - 0s 89ms/step\n",
      "1/1 [==============================] - 0s 92ms/step\n",
      "1/1 [==============================] - 0s 77ms/step\n",
      "1/1 [==============================] - 0s 67ms/step\n",
      "1/1 [==============================] - 0s 53ms/step\n",
      "1/1 [==============================] - 0s 48ms/step\n",
      "1/1 [==============================] - 0s 48ms/step\n",
      "1/1 [==============================] - 0s 43ms/step\n",
      "1/1 [==============================] - 0s 42ms/step\n",
      "1/1 [==============================] - 0s 48ms/step\n",
      "से का उसने चाहे और जाती बदलने को मानवता तो भीतर तो से कम एक एक स्थितियों किसी\n",
      "1/1 [==============================] - 0s 54ms/step\n",
      "1/1 [==============================] - 0s 57ms/step\n",
      "1/1 [==============================] - 0s 57ms/step\n",
      "1/1 [==============================] - 0s 58ms/step\n",
      "1/1 [==============================] - 0s 53ms/step\n",
      "1/1 [==============================] - 0s 49ms/step\n",
      "1/1 [==============================] - 0s 47ms/step\n",
      "1/1 [==============================] - 0s 48ms/step\n",
      "1/1 [==============================] - 0s 46ms/step\n",
      "1/1 [==============================] - 0s 50ms/step\n",
      "1/1 [==============================] - 0s 53ms/step\n",
      "1/1 [==============================] - 0s 54ms/step\n",
      "1/1 [==============================] - 0s 48ms/step\n",
      "1/1 [==============================] - 0s 49ms/step\n",
      "1/1 [==============================] - 0s 49ms/step\n",
      "1/1 [==============================] - 0s 54ms/step\n",
      "1/1 [==============================] - 0s 53ms/step\n",
      "1/1 [==============================] - 0s 54ms/step\n",
      "1/1 [==============================] - 0s 58ms/step\n",
      "रहा है रहा है फिर लेकिन एक देखो पूरी से पूरी अपने अपने वे सफलता कि असल हम\n",
      "1/1 [==============================] - 0s 50ms/step\n",
      "1/1 [==============================] - 0s 50ms/step\n",
      "1/1 [==============================] - 0s 47ms/step\n",
      "1/1 [==============================] - 0s 45ms/step\n",
      "1/1 [==============================] - 0s 44ms/step\n",
      "1/1 [==============================] - 0s 42ms/step\n",
      "1/1 [==============================] - 0s 50ms/step\n",
      "1/1 [==============================] - 0s 51ms/step\n",
      "1/1 [==============================] - 0s 56ms/step\n",
      "1/1 [==============================] - 0s 61ms/step\n",
      "1/1 [==============================] - 0s 51ms/step\n",
      "1/1 [==============================] - 0s 51ms/step\n",
      "1/1 [==============================] - 0s 43ms/step\n",
      "1/1 [==============================] - 0s 41ms/step\n",
      "1/1 [==============================] - 0s 47ms/step\n",
      "1/1 [==============================] - 0s 41ms/step\n",
      "1/1 [==============================] - 0s 40ms/step\n",
      "1/1 [==============================] - 0s 42ms/step\n",
      "1/1 [==============================] - 0s 40ms/step\n",
      "खाना पूरा से पखवाड़े आधार वे हैं कम उसने पूरी का तो तो लेकिन लिए जाती सबसे वह\n",
      "1/1 [==============================] - 0s 38ms/step\n",
      "1/1 [==============================] - 0s 39ms/step\n",
      "1/1 [==============================] - 0s 35ms/step\n",
      "1/1 [==============================] - 0s 37ms/step\n",
      "1/1 [==============================] - 0s 35ms/step\n",
      "1/1 [==============================] - 0s 37ms/step\n",
      "1/1 [==============================] - 0s 45ms/step\n",
      "1/1 [==============================] - 0s 43ms/step\n",
      "1/1 [==============================] - 0s 44ms/step\n",
      "1/1 [==============================] - 0s 50ms/step\n",
      "1/1 [==============================] - 0s 70ms/step\n",
      "1/1 [==============================] - 0s 98ms/step\n",
      "1/1 [==============================] - 0s 72ms/step\n",
      "1/1 [==============================] - 0s 57ms/step\n",
      "1/1 [==============================] - 0s 47ms/step\n",
      "1/1 [==============================] - 0s 48ms/step\n",
      "1/1 [==============================] - 0s 47ms/step\n",
      "1/1 [==============================] - 0s 47ms/step\n",
      "1/1 [==============================] - 0s 46ms/step\n",
      "गया वे गया का तो खुद अपने अपने हैं तो है प्रणाली का रहा है प्रणाली अपने से\n",
      "1/1 [==============================] - 0s 53ms/step\n",
      "1/1 [==============================] - 0s 50ms/step\n",
      "1/1 [==============================] - 0s 47ms/step\n",
      "1/1 [==============================] - 0s 51ms/step\n",
      "1/1 [==============================] - 0s 55ms/step\n",
      "1/1 [==============================] - 0s 56ms/step\n",
      "1/1 [==============================] - 0s 61ms/step\n",
      "1/1 [==============================] - 0s 55ms/step\n",
      "1/1 [==============================] - 0s 57ms/step\n",
      "1/1 [==============================] - 0s 47ms/step\n",
      "1/1 [==============================] - 0s 48ms/step\n",
      "1/1 [==============================] - 0s 44ms/step\n",
      "1/1 [==============================] - 0s 46ms/step\n",
      "1/1 [==============================] - 0s 46ms/step\n",
      "1/1 [==============================] - 0s 46ms/step\n",
      "1/1 [==============================] - 0s 44ms/step\n",
      "1/1 [==============================] - 0s 41ms/step\n",
      "1/1 [==============================] - 0s 45ms/step\n",
      "1/1 [==============================] - 0s 45ms/step\n",
      "वे अपने आज पूरी असल एक को आपकी मैं किसी आपकी पूरी मानवता चाहे अपने कौन पूरी किसे\n",
      "1/1 [==============================] - 0s 45ms/step\n",
      "1/1 [==============================] - 0s 45ms/step\n",
      "1/1 [==============================] - 0s 46ms/step\n",
      "1/1 [==============================] - 0s 46ms/step\n",
      "1/1 [==============================] - 0s 46ms/step\n",
      "1/1 [==============================] - 0s 41ms/step\n",
      "1/1 [==============================] - 0s 46ms/step\n",
      "1/1 [==============================] - 0s 48ms/step\n",
      "1/1 [==============================] - 0s 44ms/step\n",
      "1/1 [==============================] - 0s 45ms/step\n",
      "1/1 [==============================] - 0s 46ms/step\n",
      "1/1 [==============================] - 0s 43ms/step\n"
     ]
    },
    {
     "name": "stdout",
     "output_type": "stream",
     "text": [
      "1/1 [==============================] - 0s 46ms/step\n",
      "1/1 [==============================] - 0s 45ms/step\n",
      "1/1 [==============================] - 0s 47ms/step\n",
      "1/1 [==============================] - 0s 39ms/step\n",
      "1/1 [==============================] - 0s 39ms/step\n",
      "तो वैसा सफलता आपको जाती कर आज वे से अभी । भीतर वह है सप्ताह कमाए\n",
      "1/1 [==============================] - 0s 38ms/step\n",
      "1/1 [==============================] - 0s 40ms/step\n",
      "1/1 [==============================] - 0s 45ms/step\n",
      "1/1 [==============================] - 0s 45ms/step\n",
      "1/1 [==============================] - 0s 45ms/step\n",
      "1/1 [==============================] - 0s 42ms/step\n",
      "1/1 [==============================] - 0s 42ms/step\n",
      "1/1 [==============================] - 0s 40ms/step\n",
      "1/1 [==============================] - 0s 40ms/step\n",
      "1/1 [==============================] - 0s 39ms/step\n",
      "1/1 [==============================] - 0s 38ms/step\n",
      "1/1 [==============================] - 0s 41ms/step\n",
      "1/1 [==============================] - 0s 46ms/step\n",
      "1/1 [==============================] - 0s 46ms/step\n",
      "1/1 [==============================] - 0s 47ms/step\n",
      "1/1 [==============================] - 0s 48ms/step\n",
      "1/1 [==============================] - 0s 46ms/step\n",
      "1/1 [==============================] - 0s 41ms/step\n",
      "1/1 [==============================] - 0s 42ms/step\n",
      "तो हम और वे भीतर एक अपने अपने यह किसी के भीतर अपने हम और एक पूरी सद्गुरु\n"
     ]
    }
   ],
   "source": [
    "import numpy as np\n",
    "from tensorflow.keras.preprocessing.sequence import pad_sequences\n",
    "\n",
    "def generate_sentence_tf(model, sentence_start_token, sentence_end_token, unknown_token, word_to_index, index_to_word, senten_max_length):\n",
    "    new_sentence = [word_to_index[sentence_start_token]]\n",
    "    start_token_index = word_to_index[sentence_start_token]\n",
    "\n",
    "    while not new_sentence[-1] == word_to_index[sentence_end_token] and len(new_sentence) < senten_max_length:\n",
    "        padded_sentence = pad_sequences([new_sentence], maxlen=19, padding='post')\n",
    "        next_word_probs = model.predict(padded_sentence)[0]\n",
    "\n",
    "        # Set the probability of the start token to 0 for this and all subsequent predictions\n",
    "        next_word_probs[:, start_token_index] = 0\n",
    "\n",
    "        # Renormalize probabilities to sum to 1 after modifying the 'start' token probability\n",
    "        next_word_probs /= np.sum(next_word_probs, axis=1, keepdims=True)\n",
    "\n",
    "        # Sample a word from the probability distribution\n",
    "        sampled_word = np.random.choice(range(len(next_word_probs[-1])), p=next_word_probs[-1])\n",
    "\n",
    "        # Avoid sampling unknown or start token by setting their probabilities to 0 and renormalizing\n",
    "        while sampled_word in [word_to_index[unknown_token], start_token_index]:\n",
    "            next_word_probs[-1][sampled_word] = 0\n",
    "            next_word_probs[-1] /= np.sum(next_word_probs[-1])\n",
    "            sampled_word = np.random.choice(range(len(next_word_probs[-1])), p=next_word_probs[-1])\n",
    "\n",
    "        new_sentence.append(sampled_word)\n",
    "\n",
    "    sentence_str = [index_to_word[x] for x in new_sentence[1:-1]]  # Exclude the start token\n",
    "    return sentence_str\n",
    "\n",
    "\n",
    "num_sentences = 10\n",
    "senten_min_length = 7\n",
    "senten_max_length = 20\n",
    "\n",
    "for i in range(num_sentences):\n",
    "    sent = generate_sentence_tf(model, sentence_start_token, sentence_end_token, unknown_token, word_to_index, index_to_word, senten_max_length)\n",
    "    if len(sent) >= senten_min_length:\n",
    "        print(\" \".join(sent))"
   ]
  },
  {
   "cell_type": "code",
   "execution_count": null,
   "id": "e2999f51",
   "metadata": {},
   "outputs": [],
   "source": []
  }
 ],
 "metadata": {
  "colab": {
   "provenance": []
  },
  "kernelspec": {
   "display_name": "Python 3",
   "language": "python",
   "name": "python3"
  },
  "language_info": {
   "codemirror_mode": {
    "name": "ipython",
    "version": 3
   },
   "file_extension": ".py",
   "mimetype": "text/x-python",
   "name": "python",
   "nbconvert_exporter": "python",
   "pygments_lexer": "ipython3",
   "version": "3.8.18"
  }
 },
 "nbformat": 4,
 "nbformat_minor": 5
}
